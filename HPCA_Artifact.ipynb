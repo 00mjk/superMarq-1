{
 "cells": [
  {
   "cell_type": "code",
   "execution_count": 22,
   "id": "418ef713-b115-4a53-8fa9-2932cebed376",
   "metadata": {},
   "outputs": [],
   "source": [
    "import collections\n",
    "\n",
    "import supermarq\n",
    "import cirq\n",
    "import matplotlib.pyplot as plt"
   ]
  },
  {
   "cell_type": "markdown",
   "id": "a7b84245-fa44-409b-8c68-4cf2951a8557",
   "metadata": {},
   "source": [
    "# Introduction"
   ]
  },
  {
   "cell_type": "code",
   "execution_count": 9,
   "id": "af0b8674-4531-43f4-ba29-30d6ded92653",
   "metadata": {},
   "outputs": [],
   "source": [
    "def noisy_simulation(circuit: cirq.Circuit, p: float) -> collections.Counter:\n",
    "    \"\"\"\n",
    "    Simulate the given circuit under a depolarizing noise model where every\n",
    "    gate operation has the chance of depolarizing the qubit with probability p.\n",
    "    \"\"\"\n",
    "    \n",
    "    shots = 1000\n",
    "    result = cirq.Simulator().run(circuit.with_noise(cirq.depolarize(p=p)),\n",
    "                                  repetitions=shots)\n",
    "\n",
    "    num_measured_qubits = []\n",
    "    for _, op in circuit.findall_operations(cirq.is_measurement):\n",
    "        num_measured_qubits.append(len(op.qubits))\n",
    "    raw_counts = result.multi_measurement_histogram(keys=result.measurements.keys())\n",
    "\n",
    "    # cirq.Result.multi_measurement_histogram returns a collection.Counter object\n",
    "    # where the keys are tuples of integers and the values are the shot counts.\n",
    "    # The integers in the keys indicate the bitstring result of each set of measurement tags.\n",
    "    counts: Dict[str, float] = collections.defaultdict(float)\n",
    "    for key, val in raw_counts.items():\n",
    "        bit_list = []\n",
    "        for int_tag, num_bits in zip(key, num_measured_qubits):\n",
    "            bit_list.extend(cirq.value.big_endian_int_to_bits(int_tag, bit_count=num_bits))\n",
    "        counts[\"\".join([str(b) for b in bit_list])] = val / shots\n",
    "\n",
    "    return collections.Counter(counts)"
   ]
  },
  {
   "cell_type": "markdown",
   "id": "c2e7335f-49e1-4ec5-a0d6-e85987e69de1",
   "metadata": {
    "tags": []
   },
   "source": [
    "# Benchmarks"
   ]
  },
  {
   "cell_type": "markdown",
   "id": "bc8e93ca-957d-42c6-963a-5678a7585c30",
   "metadata": {
    "tags": []
   },
   "source": [
    "## GHZ"
   ]
  },
  {
   "cell_type": "code",
   "execution_count": 10,
   "id": "e53b03f5-43ab-4e65-af36-3b3e605a155d",
   "metadata": {},
   "outputs": [],
   "source": [
    "# Create the benchmark object\n",
    "num_qubits = 5\n",
    "ghz = supermarq.ghz.GHZ(num_qubits)"
   ]
  },
  {
   "cell_type": "code",
   "execution_count": 11,
   "id": "ddef09f1-4c6b-4fc7-8c68-feceb966b978",
   "metadata": {},
   "outputs": [
    {
     "name": "stdout",
     "output_type": "stream",
     "text": [
      "0: ───H───@───────────────M───\n",
      "          │               │\n",
      "1: ───────X───@───────────M───\n",
      "              │           │\n",
      "2: ───────────X───@───────M───\n",
      "                  │       │\n",
      "3: ───────────────X───@───M───\n",
      "                      │   │\n",
      "4: ───────────────────X───M───\n"
     ]
    }
   ],
   "source": [
    "# Generate the circuit\n",
    "ghz_circuit = ghz.circuit()\n",
    "print(ghz_circuit)"
   ]
  },
  {
   "cell_type": "code",
   "execution_count": 16,
   "id": "9a30a0a2-cf88-418a-9893-173c7f69a23e",
   "metadata": {},
   "outputs": [],
   "source": [
    "# Noisy simulation\n",
    "sim_results = []\n",
    "for error_prob in [0.0, 0.005, 0.02]:\n",
    "    sim_results.append((error_prob, noisy_simulation(ghz_circuit, p=error_prob)))"
   ]
  },
  {
   "cell_type": "code",
   "execution_count": 20,
   "id": "edf3686d-33ae-494b-9623-7ce07d49e806",
   "metadata": {},
   "outputs": [],
   "source": [
    "# Evaluate the benchmark score function\n",
    "scores = []\n",
    "for error_prob, counts in sim_results:\n",
    "    scores.append((error_prob, ghz.score(counts)))"
   ]
  },
  {
   "cell_type": "code",
   "execution_count": 29,
   "id": "e85405f5-a4a9-4489-8f4f-e81d3847c0aa",
   "metadata": {},
   "outputs": [
    {
     "data": {
      "image/png": "[encoded data removed]",
      "text/plain": [
       "<Figure size 900x600 with 1 Axes>"
      ]
     },
     "metadata": {
      "needs_background": "light"
     },
     "output_type": "display_data"
    }
   ],
   "source": [
    "# Plot the results\n",
    "fig, ax = plt.subplots(dpi=150)\n",
    "width = 0.1\n",
    "\n",
    "for i, (error_prob, score) in enumerate(scores):\n",
    "    x = width * i\n",
    "    ax.bar(x, score, width=width, label=f'{error_prob * 100:.1f}%', align='edge')\n",
    "\n",
    "ax.legend()\n",
    "ax.set_title('GHZ Scores')\n",
    "ax.get_xaxis().set_visible(False)"
   ]
  },
  {
   "cell_type": "markdown",
   "id": "58543da4-57d5-46f4-82fd-b2993514bd64",
   "metadata": {},
   "source": [
    "## Mermin-Bell"
   ]
  },
  {
   "cell_type": "code",
   "execution_count": 32,
   "id": "299dc0a8-dd5a-45e2-8d86-93f202f1fac0",
   "metadata": {},
   "outputs": [],
   "source": [
    "# Create the benchmark object\n",
    "num_qubits = 3\n",
    "merminbell = supermarq.mermin_bell.MerminBell(num_qubits)"
   ]
  },
  {
   "cell_type": "code",
   "execution_count": 33,
   "id": "2c300327-a84c-4937-b621-cd78009a6fe9",
   "metadata": {},
   "outputs": [
    {
     "name": "stdout",
     "output_type": "stream",
     "text": [
      "0: ───Rx(-0.5π)───@───────────@───────X───X───S───@───H───────M───\n",
      "                  │           │       │   │       │           │\n",
      "1: ───────────────X───@───H───┼───@───┼───@───────@───S───H───M───\n",
      "                      │       │   │   │                       │\n",
      "2: ───────────────────X───H───X───X───@───S───H───────────────M───\n"
     ]
    }
   ],
   "source": [
    "# Generate the circuit\n",
    "mb_circuit = merminbell.circuit()\n",
    "print(mb_circuit)"
   ]
  },
  {
   "cell_type": "code",
   "execution_count": 34,
   "id": "36da3f3b-013e-416f-9949-4ff25c9f1562",
   "metadata": {},
   "outputs": [],
   "source": [
    "# Noisy simulation\n",
    "sim_results = []\n",
    "for error_prob in [0.0, 0.005, 0.02]:\n",
    "    sim_results.append((error_prob, noisy_simulation(mb_circuit, p=error_prob)))"
   ]
  },
  {
   "cell_type": "code",
   "execution_count": 35,
   "id": "9391ad8a-0217-462e-9fc4-8b4ae1e57453",
   "metadata": {},
   "outputs": [
    {
     "name": "stdout",
     "output_type": "stream",
     "text": [
      "<mermin_op> = 4.0\n",
      "<mermin_op> = 3.284\n",
      "<mermin_op> = 1.9840000000000004\n"
     ]
    }
   ],
   "source": [
    "# Evaluate the benchmark score function\n",
    "scores = []\n",
    "for error_prob, counts in sim_results:\n",
    "    scores.append((error_prob, merminbell.score(counts)))"
   ]
  },
  {
   "cell_type": "code",
   "execution_count": 36,
   "id": "ab3e3a34-fbb1-4925-99c0-cc74f93be35d",
   "metadata": {},
   "outputs": [
    {
     "data": {
      "image/png": "[encoded data removed]",
      "text/plain": [
       "<Figure size 900x600 with 1 Axes>"
      ]
     },
     "metadata": {
      "needs_background": "light"
     },
     "output_type": "display_data"
    }
   ],
   "source": [
    "# Plot the results\n",
    "fig, ax = plt.subplots(dpi=150)\n",
    "width = 0.1\n",
    "\n",
    "for i, (error_prob, score) in enumerate(scores):\n",
    "    x = width * i\n",
    "    ax.bar(x, score, width=width, label=f'{error_prob * 100:.1f}%', align='edge')\n",
    "\n",
    "ax.legend()\n",
    "ax.set_title('Mermin-Bell Scores')\n",
    "ax.get_xaxis().set_visible(False)"
   ]
  },
  {
   "cell_type": "markdown",
   "id": "15fde745-754d-4217-8eae-db3872dfb70d",
   "metadata": {},
   "source": [
    "## Bit Code"
   ]
  },
  {
   "cell_type": "markdown",
   "id": "580920fc-82f0-46b8-bf2c-4b5ea4e78690",
   "metadata": {},
   "source": [
    "## Phase Code"
   ]
  },
  {
   "cell_type": "markdown",
   "id": "d9182cc9-7ae0-41cd-9464-9aa145a393e7",
   "metadata": {},
   "source": [
    "## VQE"
   ]
  },
  {
   "cell_type": "markdown",
   "id": "f61ff065-4b9b-4341-85c6-75200a69d371",
   "metadata": {},
   "source": [
    "## Hamiltonian Simulation"
   ]
  },
  {
   "cell_type": "markdown",
   "id": "cbefbc14-da84-4bdc-b4b3-901a46017fce",
   "metadata": {},
   "source": [
    "## Fermionic-SWAP QAOA"
   ]
  },
  {
   "cell_type": "markdown",
   "id": "8d8db022-a9d6-4146-8b5a-0a1f54495726",
   "metadata": {},
   "source": [
    "## Vanilla QAOA"
   ]
  },
  {
   "cell_type": "code",
   "execution_count": null,
   "id": "6e7bbe1c-fab2-4d01-aa57-bc0028fc36f8",
   "metadata": {},
   "outputs": [],
   "source": []
  }
 ],
 "metadata": {
  "kernelspec": {
   "display_name": "Python 3 (ipykernel)",
   "language": "python",
   "name": "python3"
  },
  "language_info": {
   "codemirror_mode": {
    "name": "ipython",
    "version": 3
   },
   "file_extension": ".py",
   "mimetype": "text/x-python",
   "name": "python",
   "nbconvert_exporter": "python",
   "pygments_lexer": "ipython3",
   "version": "3.8.10"
  }
 },
 "nbformat": 4,
 "nbformat_minor": 5
}
