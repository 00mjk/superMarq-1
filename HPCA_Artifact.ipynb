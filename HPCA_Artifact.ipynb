{
 "cells": [
  {
   "cell_type": "code",
   "execution_count": 1,
   "id": "418ef713-b115-4a53-8fa9-2932cebed376",
   "metadata": {},
   "outputs": [],
   "source": [
    "import collections\n",
    "\n",
    "import supermarq\n",
    "import cirq\n",
    "import matplotlib.pyplot as plt"
   ]
  },
  {
   "cell_type": "markdown",
   "id": "a7b84245-fa44-409b-8c68-4cf2951a8557",
   "metadata": {},
   "source": [
    "# Introduction"
   ]
  },
  {
   "cell_type": "code",
   "execution_count": 2,
   "id": "af0b8674-4531-43f4-ba29-30d6ded92653",
   "metadata": {},
   "outputs": [],
   "source": [
    "def noisy_simulation(circuit: cirq.Circuit, p: float) -> collections.Counter:\n",
    "    \"\"\"\n",
    "    Simulate the given circuit under a depolarizing noise model where every\n",
    "    gate operation has the chance of depolarizing the qubit with probability p.\n",
    "    \"\"\"\n",
    "    \n",
    "    shots = 1000\n",
    "    result = cirq.Simulator().run(circuit.with_noise(cirq.depolarize(p=p)),\n",
    "                                  repetitions=shots)\n",
    "\n",
    "    num_measured_qubits = []\n",
    "    for _, op in circuit.findall_operations(cirq.is_measurement):\n",
    "        num_measured_qubits.append(len(op.qubits))\n",
    "    raw_counts = result.multi_measurement_histogram(keys=result.measurements.keys())\n",
    "\n",
    "    # cirq.Result.multi_measurement_histogram returns a collection.Counter object\n",
    "    # where the keys are tuples of integers and the values are the shot counts.\n",
    "    # The integers in the keys indicate the bitstring result of each set of measurement tags.\n",
    "    counts: Dict[str, float] = collections.defaultdict(float)\n",
    "    for key, val in raw_counts.items():\n",
    "        bit_list = []\n",
    "        for int_tag, num_bits in zip(key, num_measured_qubits):\n",
    "            bit_list.extend(cirq.value.big_endian_int_to_bits(int_tag, bit_count=num_bits))\n",
    "        counts[\"\".join([str(b) for b in bit_list])] = val / shots\n",
    "\n",
    "    return collections.Counter(counts)"
   ]
  },
  {
   "cell_type": "markdown",
   "id": "c2e7335f-49e1-4ec5-a0d6-e85987e69de1",
   "metadata": {
    "tags": []
   },
   "source": [
    "# Benchmarks"
   ]
  },
  {
   "cell_type": "markdown",
   "id": "bc8e93ca-957d-42c6-963a-5678a7585c30",
   "metadata": {
    "tags": []
   },
   "source": [
    "## GHZ"
   ]
  },
  {
   "cell_type": "code",
   "execution_count": 13,
   "id": "386b1734-5d8c-4dac-b8bc-5c6375745132",
   "metadata": {},
   "outputs": [
    {
     "data": {
      "text/plain": [
       "\u001b[0;31mInit signature:\u001b[0m \u001b[0msupermarq\u001b[0m\u001b[0;34m.\u001b[0m\u001b[0mghz\u001b[0m\u001b[0;34m.\u001b[0m\u001b[0mGHZ\u001b[0m\u001b[0;34m(\u001b[0m\u001b[0mn\u001b[0m\u001b[0;34m:\u001b[0m \u001b[0mint\u001b[0m\u001b[0;34m)\u001b[0m \u001b[0;34m->\u001b[0m \u001b[0;32mNone\u001b[0m\u001b[0;34m\u001b[0m\u001b[0;34m\u001b[0m\u001b[0m\n",
       "\u001b[0;31mDocstring:\u001b[0m     \n",
       "Represents the GHZ state preparation benchmark parameterized\n",
       "by the number of qubits n.\n",
       "\n",
       "Device performance is based on the Hellinger fidelity between\n",
       "the experimental and ideal probability distributions.\n",
       "\u001b[0;31mFile:\u001b[0m           ~/Workspace/SuperTech/SupermarQ_HPCA_Artifact/supermarq/benchmarks/ghz.py\n",
       "\u001b[0;31mType:\u001b[0m           type\n",
       "\u001b[0;31mSubclasses:\u001b[0m     \n"
      ]
     },
     "metadata": {},
     "output_type": "display_data"
    }
   ],
   "source": [
    "supermarq.ghz.GHZ?"
   ]
  },
  {
   "cell_type": "code",
   "execution_count": 14,
   "id": "e53b03f5-43ab-4e65-af36-3b3e605a155d",
   "metadata": {},
   "outputs": [
    {
     "name": "stdout",
     "output_type": "stream",
     "text": [
      "0: ───H───@───────────────M───\n",
      "          │               │\n",
      "1: ───────X───@───────────M───\n",
      "              │           │\n",
      "2: ───────────X───@───────M───\n",
      "                  │       │\n",
      "3: ───────────────X───@───M───\n",
      "                      │   │\n",
      "4: ───────────────────X───M───\n"
     ]
    }
   ],
   "source": [
    "# Create the benchmark object and circuit\n",
    "num_qubits = 5\n",
    "ghz = supermarq.ghz.GHZ(num_qubits)\n",
    "ghz_circuit = ghz.circuit()\n",
    "print(ghz_circuit)"
   ]
  },
  {
   "cell_type": "code",
   "execution_count": 17,
   "id": "9a30a0a2-cf88-418a-9893-173c7f69a23e",
   "metadata": {},
   "outputs": [
    {
     "name": "stdout",
     "output_type": "stream",
     "text": [
      "With 0.0% error probability, GHZ score = 0.9999\n",
      "With 0.5% error probability, GHZ score = 0.9260\n",
      "With 2.0% error probability, GHZ score = 0.7295\n"
     ]
    }
   ],
   "source": [
    "# Perform noisy simulation and evaluate the benchmark score function\n",
    "ghz_scores = []\n",
    "for error_prob in [0.0, 0.005, 0.02]:\n",
    "    counts = noisy_simulation(ghz_circuit, p=error_prob)\n",
    "    score = ghz.score(counts)\n",
    "    ghz_scores.append((error_prob, score))\n",
    "    print(f'With {error_prob*100:.1f}% error probability, GHZ score = {score:.4f}')"
   ]
  },
  {
   "cell_type": "code",
   "execution_count": 18,
   "id": "e85405f5-a4a9-4489-8f4f-e81d3847c0aa",
   "metadata": {},
   "outputs": [
    {
     "data": {
      "image/png": "[encoded data removed]",
      "text/plain": [
       "<Figure size 900x600 with 1 Axes>"
      ]
     },
     "metadata": {
      "needs_background": "light"
     },
     "output_type": "display_data"
    }
   ],
   "source": [
    "# Plot the results\n",
    "fig, ax = plt.subplots(dpi=150)\n",
    "width = 0.1\n",
    "\n",
    "for i, (error_prob, score) in enumerate(ghz_scores):\n",
    "    x = width * i\n",
    "    ax.bar(x, score, width=width, label=f'{error_prob * 100:.1f}%', align='edge')\n",
    "\n",
    "ax.legend()\n",
    "ax.set_title('GHZ Scores')\n",
    "ax.get_xaxis().set_visible(False)"
   ]
  },
  {
   "cell_type": "markdown",
   "id": "58543da4-57d5-46f4-82fd-b2993514bd64",
   "metadata": {},
   "source": [
    "## Mermin-Bell"
   ]
  },
  {
   "cell_type": "code",
   "execution_count": 23,
   "id": "34d0a973-179d-4b8b-beed-1d7afe7dd796",
   "metadata": {},
   "outputs": [
    {
     "data": {
      "text/plain": [
       "\u001b[0;31mInit signature:\u001b[0m \u001b[0msupermarq\u001b[0m\u001b[0;34m.\u001b[0m\u001b[0mmermin_bell\u001b[0m\u001b[0;34m.\u001b[0m\u001b[0mMerminBell\u001b[0m\u001b[0;34m(\u001b[0m\u001b[0mnum_qubits\u001b[0m\u001b[0;34m:\u001b[0m \u001b[0mint\u001b[0m\u001b[0;34m)\u001b[0m \u001b[0;34m->\u001b[0m \u001b[0;32mNone\u001b[0m\u001b[0;34m\u001b[0m\u001b[0;34m\u001b[0m\u001b[0m\n",
       "\u001b[0;31mDocstring:\u001b[0m     \n",
       "The Mermin-Bell benchmark is a test of a quantum computer's ability\n",
       "to exploit purely quantum phenomemna such as superposition and entanglement.\n",
       "It is based on the famous Bell-inequality tests of locality.\n",
       "\n",
       "Performance is based on a QPU's ability to prepare a GHZ state and measure\n",
       "the Mermin operator.\n",
       "\u001b[0;31mFile:\u001b[0m           ~/Workspace/SuperTech/SupermarQ_HPCA_Artifact/supermarq/benchmarks/mermin_bell.py\n",
       "\u001b[0;31mType:\u001b[0m           type\n",
       "\u001b[0;31mSubclasses:\u001b[0m     \n"
      ]
     },
     "metadata": {},
     "output_type": "display_data"
    }
   ],
   "source": [
    "supermarq.mermin_bell.MerminBell?"
   ]
  },
  {
   "cell_type": "code",
   "execution_count": 19,
   "id": "299dc0a8-dd5a-45e2-8d86-93f202f1fac0",
   "metadata": {},
   "outputs": [
    {
     "name": "stdout",
     "output_type": "stream",
     "text": [
      "0: ───Rx(-0.5π)───@───────────@───────X───X───S───@───H───────M───\n",
      "                  │           │       │   │       │           │\n",
      "1: ───────────────X───@───H───┼───@───┼───@───────@───S───H───M───\n",
      "                      │       │   │   │                       │\n",
      "2: ───────────────────X───H───X───X───@───S───H───────────────M───\n"
     ]
    }
   ],
   "source": [
    "# Create the benchmark object and circuit\n",
    "num_qubits = 3\n",
    "merminbell = supermarq.mermin_bell.MerminBell(num_qubits)\n",
    "mb_circuit = merminbell.circuit()\n",
    "print(mb_circuit)"
   ]
  },
  {
   "cell_type": "code",
   "execution_count": 20,
   "id": "36da3f3b-013e-416f-9949-4ff25c9f1562",
   "metadata": {},
   "outputs": [
    {
     "name": "stdout",
     "output_type": "stream",
     "text": [
      "<mermin_op> = 4.0\n",
      "With 0.0% error probability, MerminBell score = 1.0000\n",
      "<mermin_op> = 3.34\n",
      "With 0.5% error probability, MerminBell score = 0.9175\n",
      "<mermin_op> = 2.02\n",
      "With 2.0% error probability, MerminBell score = 0.7525\n"
     ]
    }
   ],
   "source": [
    "# Perform noisy simulation and evaluate the benchmark score function\n",
    "merminbell_scores = []\n",
    "for error_prob in [0.0, 0.005, 0.02]:\n",
    "    counts = noisy_simulation(mb_circuit, p=error_prob)\n",
    "    score = merminbell.score(counts)\n",
    "    merminbell_scores.append((error_prob, score))\n",
    "    print(f'With {error_prob*100:.1f}% error probability, MerminBell score = {score:.4f}')"
   ]
  },
  {
   "cell_type": "code",
   "execution_count": 21,
   "id": "ab3e3a34-fbb1-4925-99c0-cc74f93be35d",
   "metadata": {},
   "outputs": [
    {
     "data": {
      "image/png": "[encoded data removed]",
      "text/plain": [
       "<Figure size 900x600 with 1 Axes>"
      ]
     },
     "metadata": {
      "needs_background": "light"
     },
     "output_type": "display_data"
    }
   ],
   "source": [
    "# Plot the results\n",
    "fig, ax = plt.subplots(dpi=150)\n",
    "width = 0.1\n",
    "\n",
    "for i, (error_prob, score) in enumerate(merminbell_scores):\n",
    "    \n",
    "    x = width * i\n",
    "    ax.bar(x, score, width=width, label=f'{error_prob * 100:.1f}%', align='edge')\n",
    "\n",
    "ax.legend()\n",
    "ax.set_title('Mermin-Bell Scores')\n",
    "ax.get_xaxis().set_visible(False)"
   ]
  },
  {
   "cell_type": "markdown",
   "id": "15fde745-754d-4217-8eae-db3872dfb70d",
   "metadata": {},
   "source": [
    "## Bit Code"
   ]
  },
  {
   "cell_type": "code",
   "execution_count": 24,
   "id": "3228e70c-07ab-4b5c-a234-1c57f944775a",
   "metadata": {},
   "outputs": [
    {
     "data": {
      "text/plain": [
       "\u001b[0;31mInit signature:\u001b[0m\n",
       "\u001b[0msupermarq\u001b[0m\u001b[0;34m.\u001b[0m\u001b[0mbit_code\u001b[0m\u001b[0;34m.\u001b[0m\u001b[0mBitCode\u001b[0m\u001b[0;34m(\u001b[0m\u001b[0;34m\u001b[0m\n",
       "\u001b[0;34m\u001b[0m    \u001b[0mnum_data_qubits\u001b[0m\u001b[0;34m:\u001b[0m \u001b[0mint\u001b[0m\u001b[0;34m,\u001b[0m\u001b[0;34m\u001b[0m\n",
       "\u001b[0;34m\u001b[0m    \u001b[0mnum_rounds\u001b[0m\u001b[0;34m:\u001b[0m \u001b[0mint\u001b[0m\u001b[0;34m,\u001b[0m\u001b[0;34m\u001b[0m\n",
       "\u001b[0;34m\u001b[0m    \u001b[0mbit_state\u001b[0m\u001b[0;34m:\u001b[0m \u001b[0mList\u001b[0m\u001b[0;34m[\u001b[0m\u001b[0mint\u001b[0m\u001b[0;34m]\u001b[0m \u001b[0;34m=\u001b[0m \u001b[0;34m[\u001b[0m\u001b[0;36m0\u001b[0m\u001b[0;34m,\u001b[0m \u001b[0;36m1\u001b[0m\u001b[0;34m,\u001b[0m \u001b[0;36m0\u001b[0m\u001b[0;34m]\u001b[0m\u001b[0;34m,\u001b[0m\u001b[0;34m\u001b[0m\n",
       "\u001b[0;34m\u001b[0m\u001b[0;34m)\u001b[0m \u001b[0;34m->\u001b[0m \u001b[0;32mNone\u001b[0m\u001b[0;34m\u001b[0m\u001b[0;34m\u001b[0m\u001b[0m\n",
       "\u001b[0;31mDocstring:\u001b[0m     \n",
       "Creates a circuit for syndrome measurement in a bit-flip error correcting code.\n",
       "\n",
       "Args:\n",
       "- num_data: The number of data qubits\n",
       "- num_rounds: The number of measurement rounds\n",
       "- bit_state: A list denoting the state to initialize each data qubit to.\n",
       "\n",
       "returns a cirq circuit for the bit-flip error correcting code\n",
       "\u001b[0;31mFile:\u001b[0m           ~/Workspace/SuperTech/SupermarQ_HPCA_Artifact/supermarq/benchmarks/bit_code.py\n",
       "\u001b[0;31mType:\u001b[0m           type\n",
       "\u001b[0;31mSubclasses:\u001b[0m     \n"
      ]
     },
     "metadata": {},
     "output_type": "display_data"
    }
   ],
   "source": [
    "supermarq.bit_code.BitCode?"
   ]
  },
  {
   "cell_type": "code",
   "execution_count": 22,
   "id": "ae31e9ab-0ef5-413f-8c84-cf29a2339b2c",
   "metadata": {},
   "outputs": [
    {
     "name": "stdout",
     "output_type": "stream",
     "text": [
      "0: ───@─────────────────────────@─────────────────────────────────────────────────────M───\n",
      "      │                         │                                                     │\n",
      "1: ───X───X───M('mcm1_0')───R───X─────────────X───M('mcm1_1')───R─────────────────────M───\n",
      "          │                                   │                                       │\n",
      "2: ───X───@───@───────────────────────────────@───@───────────────────────────────────M───\n",
      "              │                                   │                                   │\n",
      "3: ───────────X─────────────X───M('mcm3_0')───R───X─────────────X───M('mcm3_1')───R───M───\n",
      "                            │                                   │                     │\n",
      "4: ─────────────────────────@───────────────────────────────────@─────────────────────M───\n"
     ]
    }
   ],
   "source": [
    "# Create the benchmark object and circuit\n",
    "num_data_qubits = 3\n",
    "num_rounds = 2\n",
    "bit_state = [0, 1, 0]\n",
    "bitcode = supermarq.bit_code.BitCode(num_data_qubits, num_rounds, bit_state)\n",
    "bitcode_circuit = bitcode.circuit()\n",
    "print(bitcode_circuit)"
   ]
  },
  {
   "cell_type": "code",
   "execution_count": 5,
   "id": "940631e4-9b21-429f-bd41-5a553d9c1760",
   "metadata": {},
   "outputs": [
    {
     "name": "stdout",
     "output_type": "stream",
     "text": [
      "With 0.0% error probability, BitCode score = 1.0\n",
      "With 0.5% error probability, BitCode score = 0.8719999999999999\n",
      "With 2.0% error probability, BitCode score = 0.5549999999999998\n"
     ]
    }
   ],
   "source": [
    "# Perform noisy simulation and evaluate the benchmark score function\n",
    "bitcode_scores = []\n",
    "for error_prob in [0.0, 0.005, 0.02]:\n",
    "    counts = noisy_simulation(bitcode_circuit, p=error_prob)\n",
    "    score = bitcode.score(counts)\n",
    "    bitcode_scores.append((error_prob, score))\n",
    "    print(f'With {error_prob*100:.1f}% error probability, BitCode score = {score:.4f}')"
   ]
  },
  {
   "cell_type": "code",
   "execution_count": 6,
   "id": "bca719c6-b63e-4231-b131-3ca30ca8a17e",
   "metadata": {},
   "outputs": [
    {
     "data": {
      "image/png": "[encoded data removed]",
      "text/plain": [
       "<Figure size 900x600 with 1 Axes>"
      ]
     },
     "metadata": {
      "needs_background": "light"
     },
     "output_type": "display_data"
    }
   ],
   "source": [
    "# Plot the results\n",
    "fig, ax = plt.subplots(dpi=150)\n",
    "width = 0.1\n",
    "\n",
    "for i, (error_prob, score) in enumerate(bitcode_scores):\n",
    "    \n",
    "    x = width * i\n",
    "    ax.bar(x, score, width=width, label=f'{error_prob * 100:.1f}%', align='edge')\n",
    "\n",
    "ax.legend()\n",
    "ax.set_title('Bit Code Scores')\n",
    "ax.get_xaxis().set_visible(False)"
   ]
  },
  {
   "cell_type": "markdown",
   "id": "580920fc-82f0-46b8-bf2c-4b5ea4e78690",
   "metadata": {},
   "source": [
    "## Phase Code"
   ]
  },
  {
   "cell_type": "code",
   "execution_count": 25,
   "id": "c1546c4e-cae5-4a2d-9ede-3d6cc6f4e8b2",
   "metadata": {},
   "outputs": [
    {
     "data": {
      "text/plain": [
       "\u001b[0;31mInit signature:\u001b[0m\n",
       "\u001b[0msupermarq\u001b[0m\u001b[0;34m.\u001b[0m\u001b[0mphase_code\u001b[0m\u001b[0;34m.\u001b[0m\u001b[0mPhaseCode\u001b[0m\u001b[0;34m(\u001b[0m\u001b[0;34m\u001b[0m\n",
       "\u001b[0;34m\u001b[0m    \u001b[0mnum_data_qubits\u001b[0m\u001b[0;34m:\u001b[0m \u001b[0mint\u001b[0m\u001b[0;34m,\u001b[0m\u001b[0;34m\u001b[0m\n",
       "\u001b[0;34m\u001b[0m    \u001b[0mnum_rounds\u001b[0m\u001b[0;34m:\u001b[0m \u001b[0mint\u001b[0m\u001b[0;34m,\u001b[0m\u001b[0;34m\u001b[0m\n",
       "\u001b[0;34m\u001b[0m    \u001b[0mphase_state\u001b[0m\u001b[0;34m:\u001b[0m \u001b[0mList\u001b[0m\u001b[0;34m[\u001b[0m\u001b[0mint\u001b[0m\u001b[0;34m]\u001b[0m \u001b[0;34m=\u001b[0m \u001b[0;34m[\u001b[0m\u001b[0;36m0\u001b[0m\u001b[0;34m,\u001b[0m \u001b[0;36m1\u001b[0m\u001b[0;34m,\u001b[0m \u001b[0;36m0\u001b[0m\u001b[0;34m]\u001b[0m\u001b[0;34m,\u001b[0m\u001b[0;34m\u001b[0m\n",
       "\u001b[0;34m\u001b[0m\u001b[0;34m)\u001b[0m \u001b[0;34m->\u001b[0m \u001b[0;32mNone\u001b[0m\u001b[0;34m\u001b[0m\u001b[0;34m\u001b[0m\u001b[0m\n",
       "\u001b[0;31mDocstring:\u001b[0m     \n",
       "Creates a circuit for syndrome measurement in a phase-flip error\n",
       "correcting code.\n",
       "\n",
       "Args:\n",
       "- num_data: The number of data qubits\n",
       "- num_rounds: The number of measurement rounds\n",
       "- phase_state: A list denoting the state to initialize each data\n",
       "               qubit to. Currently just + or - states. 0 -> +, 1 -> -\n",
       "\n",
       "returns a cirq circuit for the phase-flip error correcting code\n",
       "\u001b[0;31mFile:\u001b[0m           ~/Workspace/SuperTech/SupermarQ_HPCA_Artifact/supermarq/benchmarks/phase_code.py\n",
       "\u001b[0;31mType:\u001b[0m           type\n",
       "\u001b[0;31mSubclasses:\u001b[0m     \n"
      ]
     },
     "metadata": {},
     "output_type": "display_data"
    }
   ],
   "source": [
    "supermarq.phase_code.PhaseCode?"
   ]
  },
  {
   "cell_type": "code",
   "execution_count": 3,
   "id": "f18a5ebe-61d6-4ed0-b000-5db8bc9fe5f6",
   "metadata": {},
   "outputs": [
    {
     "name": "stdout",
     "output_type": "stream",
     "text": [
      "0: ───H───H───@───H───H───────────────────────────────────@───H───────────────────────────────────────────M───\n",
      "              │                                           │                                               │\n",
      "1: ───H───────@───@───H───M('mcm1_0')───R───H─────────────@───@───H───M('mcm1_1')───R─────────────────────M───\n",
      "                  │                                           │                                           │\n",
      "2: ───X───H───H───@───@───H─────────────H─────────────────────@───@───H───────────────────────────────────M───\n",
      "                      │                                           │                                       │\n",
      "3: ───H───────────────@───@─────────────H───M('mcm3_0')───R───H───@───@─────────────H───M('mcm3_1')───R───M───\n",
      "                          │                                           │                                   │\n",
      "4: ───H───H───────────────@─────────────H───H─────────────────────────@─────────────H─────────────────────M───\n"
     ]
    }
   ],
   "source": [
    "# Create the benchmark object and circuit\n",
    "num_data_qubits = 3\n",
    "num_rounds = 2\n",
    "phase_state = [0, 1, 0]\n",
    "phasecode = supermarq.phase_code.PhaseCode(num_data_qubits, num_rounds, phase_state)\n",
    "phasecode_circuit = phasecode.circuit()\n",
    "print(phasecode_circuit)"
   ]
  },
  {
   "cell_type": "code",
   "execution_count": 4,
   "id": "e8bcb1da-826b-4d6f-8b73-9dca74241332",
   "metadata": {},
   "outputs": [
    {
     "name": "stdout",
     "output_type": "stream",
     "text": [
      "With 0.0% error probability, PhaseCode score = 0.9976\n",
      "With 0.5% error probability, PhaseCode score = 0.8251\n",
      "With 2.0% error probability, PhaseCode score = 0.4795\n"
     ]
    }
   ],
   "source": [
    "# Perform noisy simulation and evaluate the benchmark score function\n",
    "phasecode_scores = []\n",
    "for error_prob in [0.0, 0.005, 0.02]:\n",
    "    counts = noisy_simulation(phasecode_circuit, p=error_prob)\n",
    "    score = phasecode.score(counts)\n",
    "    phasecode_scores.append((error_prob, score))\n",
    "    print(f'With {error_prob*100:.1f}% error probability, PhaseCode score = {score:.4f}')"
   ]
  },
  {
   "cell_type": "code",
   "execution_count": 5,
   "id": "413f0023-77a1-4c18-a444-aafbff52ed2e",
   "metadata": {},
   "outputs": [
    {
     "data": {
      "image/png": "[encoded data removed]",
      "text/plain": [
       "<Figure size 900x600 with 1 Axes>"
      ]
     },
     "metadata": {
      "needs_background": "light"
     },
     "output_type": "display_data"
    }
   ],
   "source": [
    "# Plot the results\n",
    "fig, ax = plt.subplots(dpi=150)\n",
    "width = 0.1\n",
    "\n",
    "for i, (error_prob, score) in enumerate(phasecode_scores):\n",
    "    \n",
    "    x = width * i\n",
    "    ax.bar(x, score, width=width, label=f'{error_prob * 100:.1f}%', align='edge')\n",
    "\n",
    "ax.legend()\n",
    "ax.set_title('Phase Code Scores')\n",
    "ax.get_xaxis().set_visible(False)"
   ]
  },
  {
   "cell_type": "markdown",
   "id": "d9182cc9-7ae0-41cd-9464-9aa145a393e7",
   "metadata": {},
   "source": [
    "## VQE"
   ]
  },
  {
   "cell_type": "code",
   "execution_count": 8,
   "id": "ac6fcc8d-2edd-4c29-b4df-1ab386505005",
   "metadata": {},
   "outputs": [
    {
     "data": {
      "text/plain": [
       "\u001b[0;31mInit signature:\u001b[0m \u001b[0msupermarq\u001b[0m\u001b[0;34m.\u001b[0m\u001b[0mvqe_proxy\u001b[0m\u001b[0;34m.\u001b[0m\u001b[0mVQEProxy\u001b[0m\u001b[0;34m(\u001b[0m\u001b[0mnum_qubits\u001b[0m\u001b[0;34m:\u001b[0m \u001b[0mint\u001b[0m\u001b[0;34m,\u001b[0m \u001b[0mnum_layers\u001b[0m\u001b[0;34m:\u001b[0m \u001b[0mint\u001b[0m \u001b[0;34m=\u001b[0m \u001b[0;36m1\u001b[0m\u001b[0;34m)\u001b[0m \u001b[0;34m->\u001b[0m \u001b[0;32mNone\u001b[0m\u001b[0;34m\u001b[0m\u001b[0;34m\u001b[0m\u001b[0m\n",
       "\u001b[0;31mDocstring:\u001b[0m     \n",
       "Proxy benchmark of a full VQE application that targets a single iteration\n",
       "of the whole variational optimization.\n",
       "\n",
       "The benchmark is parameterized by the number of qubits, n. For each value of\n",
       "n, we classically optimize the ansatz, sample 3 iterations near convergence,\n",
       "and use the sampled parameters to execute the corresponding circuits on the\n",
       "QPU. We take the measured energies from these experiments and average their\n",
       "values and compute a score based on how closely the experimental results are\n",
       "to the noiseless values.\n",
       "\u001b[0;31mFile:\u001b[0m           ~/Workspace/SuperTech/SupermarQ_HPCA_Artifact/supermarq/benchmarks/vqe_proxy.py\n",
       "\u001b[0;31mType:\u001b[0m           type\n",
       "\u001b[0;31mSubclasses:\u001b[0m     \n"
      ]
     },
     "metadata": {},
     "output_type": "display_data"
    }
   ],
   "source": [
    "supermarq.vqe_proxy.VQEProxy?"
   ]
  },
  {
   "cell_type": "code",
   "execution_count": 10,
   "id": "04d404d5-c09a-488e-aa7b-3b86b62b36f4",
   "metadata": {},
   "outputs": [
    {
     "name": "stdout",
     "output_type": "stream",
     "text": [
      "Z basis circuit\n",
      "0: ───Ry(0.31π)────Rz(0.178π)───@───Ry(-1.54π)───Rz(-1.86π)───Ry(-0.139π)───Rz(-0.679π)────────────────@───Ry(-1.4π)───Rz(-1.87π)─────────────────M───\n",
      "                                │                                                                      │                                          │\n",
      "1: ───Ry(1.21π)────Rz(1.8π)─────X───@────────────Ry(0.923π)───Rz(-0.544π)───Ry(-1.7π)─────Rz(0.264π)───X───@───────────Ry(0.916π)───Rz(0.471π)────M───\n",
      "                                    │                                                                      │                                      │\n",
      "2: ───Ry(0.124π)───Rz(0.03π)────────X────────────Ry(1.14π)────Rz(1.94π)─────Ry(0.143π)────Rz(0.792π)───────X───────────Ry(0.771π)───Rz(-0.403π)───M───\n",
      "X basis circuit\n",
      "0: ───Ry(0.31π)────Rz(0.178π)───@───Ry(-1.54π)───Rz(-1.86π)───Ry(-0.139π)───Rz(-0.679π)────────────────@───Ry(-1.4π)───Rz(-1.87π)───H─────────────────M───\n",
      "                                │                                                                      │                                              │\n",
      "1: ───Ry(1.21π)────Rz(1.8π)─────X───@────────────Ry(0.923π)───Rz(-0.544π)───Ry(-1.7π)─────Rz(0.264π)───X───@───────────Ry(0.916π)───Rz(0.471π)────H───M───\n",
      "                                    │                                                                      │                                          │\n",
      "2: ───Ry(0.124π)───Rz(0.03π)────────X────────────Ry(1.14π)────Rz(1.94π)─────Ry(0.143π)────Rz(0.792π)───────X───────────Ry(0.771π)───Rz(-0.403π)───H───M───\n"
     ]
    }
   ],
   "source": [
    "# Create the benchmark object and circuit\n",
    "num_qubits = 3\n",
    "num_layers = 2\n",
    "vqe = supermarq.vqe_proxy.VQEProxy(num_qubits, num_layers)\n",
    "vqe_circuit = vqe.circuit()\n",
    "print('Z basis circuit:')\n",
    "print(vqe_circuit[0])\n",
    "print('\\nX basis circuit:')\n",
    "print(vqe_circuit[1])"
   ]
  },
  {
   "cell_type": "code",
   "execution_count": 11,
   "id": "389936d8-9a64-44bf-bca8-16b0a43c7f9c",
   "metadata": {},
   "outputs": [
    {
     "name": "stdout",
     "output_type": "stream",
     "text": [
      "With 0.0% error probability, VQE score = 0.9975\n",
      "With 0.5% error probability, VQE score = 0.9327\n",
      "With 2.0% error probability, VQE score = 0.7551\n"
     ]
    }
   ],
   "source": [
    "# Perform noisy simulation and evaluate the benchmark score function\n",
    "vqe_scores = []\n",
    "for error_prob in [0.0, 0.005, 0.02]:\n",
    "    z_counts = noisy_simulation(vqe_circuit[0], p=error_prob)\n",
    "    x_counts = noisy_simulation(vqe_circuit[1], p=error_prob)\n",
    "    score = vqe.score([z_counts, x_counts])\n",
    "    vqe_scores.append((error_prob, score))\n",
    "    print(f'With {error_prob*100:.1f}% error probability, VQE score = {score:.4f}')"
   ]
  },
  {
   "cell_type": "code",
   "execution_count": 12,
   "id": "ca2c2998-a30c-4bfa-9324-1a0cd84ca11f",
   "metadata": {},
   "outputs": [
    {
     "data": {
      "image/png": "[encoded data removed]",
      "text/plain": [
       "<Figure size 900x600 with 1 Axes>"
      ]
     },
     "metadata": {
      "needs_background": "light"
     },
     "output_type": "display_data"
    }
   ],
   "source": [
    "# Plot the results\n",
    "fig, ax = plt.subplots(dpi=150)\n",
    "width = 0.1\n",
    "\n",
    "for i, (error_prob, score) in enumerate(vqe_scores):\n",
    "    \n",
    "    x = width * i\n",
    "    ax.bar(x, score, width=width, label=f'{error_prob * 100:.1f}%', align='edge')\n",
    "\n",
    "ax.legend()\n",
    "ax.set_title('VQE Scores')\n",
    "ax.get_xaxis().set_visible(False)"
   ]
  },
  {
   "cell_type": "markdown",
   "id": "f61ff065-4b9b-4341-85c6-75200a69d371",
   "metadata": {},
   "source": [
    "## Hamiltonian Simulation"
   ]
  },
  {
   "cell_type": "code",
   "execution_count": 26,
   "id": "5699e7aa-2140-4918-bac3-91f48b24b3e0",
   "metadata": {},
   "outputs": [
    {
     "data": {
      "text/plain": [
       "\u001b[0;31mInit signature:\u001b[0m\n",
       "\u001b[0msupermarq\u001b[0m\u001b[0;34m.\u001b[0m\u001b[0mhamiltonian_simulation\u001b[0m\u001b[0;34m.\u001b[0m\u001b[0mHamiltonianSimulation\u001b[0m\u001b[0;34m(\u001b[0m\u001b[0;34m\u001b[0m\n",
       "\u001b[0;34m\u001b[0m    \u001b[0mnum_qubits\u001b[0m\u001b[0;34m:\u001b[0m \u001b[0mint\u001b[0m\u001b[0;34m,\u001b[0m\u001b[0;34m\u001b[0m\n",
       "\u001b[0;34m\u001b[0m    \u001b[0mtime_step\u001b[0m\u001b[0;34m:\u001b[0m \u001b[0mint\u001b[0m\u001b[0;34m,\u001b[0m\u001b[0;34m\u001b[0m\n",
       "\u001b[0;34m\u001b[0m    \u001b[0mtotal_time\u001b[0m\u001b[0;34m:\u001b[0m \u001b[0mint\u001b[0m\u001b[0;34m,\u001b[0m\u001b[0;34m\u001b[0m\n",
       "\u001b[0;34m\u001b[0m\u001b[0;34m)\u001b[0m \u001b[0;34m->\u001b[0m \u001b[0;32mNone\u001b[0m\u001b[0;34m\u001b[0m\u001b[0;34m\u001b[0m\u001b[0m\n",
       "\u001b[0;31mDocstring:\u001b[0m     \n",
       "Quantum benchmark focused on the ability to simulate 1D\n",
       "Transverse Field Ising Models (TFIM) of variable length.\n",
       "\n",
       "Device performance is based on how closely the experimentally obtained\n",
       "average magnetization (along the Z-axis) matches the noiseless value.\n",
       "Since the 1D TFIM is efficiently simulatable with classical algorithms,\n",
       "computing the noiseless average magnetization remains scalable over a large\n",
       "range of benchmark sizes.\n",
       "\u001b[0;31mInit docstring:\u001b[0m\n",
       "Args:\n",
       "num_qubits: int\n",
       "    Size of the TFIM chain, equivalent to the number of qubits.\n",
       "time_step: int\n",
       "    Size of the timestep in attoseconds.\n",
       "total_time:\n",
       "    Total simulation time of the TFIM chain in attoseconds.\n",
       "\u001b[0;31mFile:\u001b[0m           ~/Workspace/SuperTech/SupermarQ_HPCA_Artifact/supermarq/benchmarks/hamiltonian_simulation.py\n",
       "\u001b[0;31mType:\u001b[0m           type\n",
       "\u001b[0;31mSubclasses:\u001b[0m     \n"
      ]
     },
     "metadata": {},
     "output_type": "display_data"
    }
   ],
   "source": [
    "supermarq.hamiltonian_simulation.HamiltonianSimulation?"
   ]
  },
  {
   "cell_type": "code",
   "execution_count": 27,
   "id": "ad6e56e9-69ce-4da3-bd1a-c31aa7abe2db",
   "metadata": {},
   "outputs": [
    {
     "name": "stdout",
     "output_type": "stream",
     "text": [
      "0: ───H───Rz(-0.75π)───H───@───────────────@───H───Rz(-0.749π)───H─────────────────────────@───────────────@───────────────────────M───\n",
      "                           │               │                                               │               │                       │\n",
      "1: ───H───Rz(-0.75π)───H───X───Rz(-0.5π)───X───@─────────────────@───H───Rz(-0.749π)───H───X───Rz(-0.5π)───X───@───────────────@───M───\n",
      "                                               │                 │                                             │               │   │\n",
      "2: ───H───Rz(-0.75π)───H───────────────────────X───Rz(-0.5π)─────X───H───Rz(-0.749π)───H───────────────────────X───Rz(-0.5π)───X───M───\n"
     ]
    }
   ],
   "source": [
    "# Create the benchmark object and circuit\n",
    "num_qubits = 3\n",
    "time_step = 1\n",
    "total_time = 2\n",
    "hamsim = supermarq.hamiltonian_simulation.HamiltonianSimulation(num_qubits, time_step, total_time)\n",
    "hamsim_circuit = hamsim.circuit()\n",
    "print(hamsim_circuit)"
   ]
  },
  {
   "cell_type": "code",
   "execution_count": 28,
   "id": "b570ecfa-7157-4162-bdc7-791806bf1382",
   "metadata": {},
   "outputs": [
    {
     "name": "stdout",
     "output_type": "stream",
     "text": [
      "With 0.0% error probability, Hamiltonian Simulation score = 0.9806\n",
      "With 0.5% error probability, Hamiltonian Simulation score = 0.9501\n",
      "With 2.0% error probability, Hamiltonian Simulation score = 0.8618\n"
     ]
    }
   ],
   "source": [
    "# Perform noisy simulation and evaluate the benchmark score function\n",
    "hamsim_scores = []\n",
    "for error_prob in [0.0, 0.005, 0.02]:\n",
    "    counts = noisy_simulation(hamsim_circuit, p=error_prob)\n",
    "    score = hamsim.score(counts)\n",
    "    hamsim_scores.append((error_prob, score))\n",
    "    print(f'With {error_prob*100:.1f}% error probability, Hamiltonian Simulation score = {score:.4f}')"
   ]
  },
  {
   "cell_type": "code",
   "execution_count": 29,
   "id": "7703aca0-d964-42a8-a4f0-07c98599cee3",
   "metadata": {},
   "outputs": [
    {
     "data": {
      "image/png": "[encoded data removed]",
      "text/plain": [
       "<Figure size 900x600 with 1 Axes>"
      ]
     },
     "metadata": {
      "needs_background": "light"
     },
     "output_type": "display_data"
    }
   ],
   "source": [
    "# Plot the results\n",
    "fig, ax = plt.subplots(dpi=150)\n",
    "width = 0.1\n",
    "\n",
    "for i, (error_prob, score) in enumerate(hamsim_scores):\n",
    "    \n",
    "    x = width * i\n",
    "    ax.bar(x, score, width=width, label=f'{error_prob * 100:.1f}%', align='edge')\n",
    "\n",
    "ax.legend()\n",
    "ax.set_title('Hamiltonian Simulation Scores')\n",
    "ax.get_xaxis().set_visible(False)"
   ]
  },
  {
   "cell_type": "markdown",
   "id": "cbefbc14-da84-4bdc-b4b3-901a46017fce",
   "metadata": {},
   "source": [
    "## Fermionic-SWAP QAOA"
   ]
  },
  {
   "cell_type": "code",
   "execution_count": 30,
   "id": "53475bcd-2be0-4244-8293-6fac754764cf",
   "metadata": {},
   "outputs": [
    {
     "data": {
      "text/plain": [
       "\u001b[0;31mInit signature:\u001b[0m \u001b[0msupermarq\u001b[0m\u001b[0;34m.\u001b[0m\u001b[0mqaoa_fermionic_swap_proxy\u001b[0m\u001b[0;34m.\u001b[0m\u001b[0mQAOAFermionicSwapProxy\u001b[0m\u001b[0;34m(\u001b[0m\u001b[0mnum_qubits\u001b[0m\u001b[0;34m:\u001b[0m \u001b[0mint\u001b[0m\u001b[0;34m)\u001b[0m \u001b[0;34m->\u001b[0m \u001b[0;32mNone\u001b[0m\u001b[0;34m\u001b[0m\u001b[0;34m\u001b[0m\u001b[0m\n",
       "\u001b[0;31mDocstring:\u001b[0m     \n",
       "Proxy of a full Quantum Approximate Optimization Algorithm\n",
       "(QAOA) benchmark. The benchmark targets MaxCut on a Sherrington-Kirkpatrick model.\n",
       "\n",
       "Device performance is given by the Hellinger fidelity between the experimental\n",
       "output distribution and the true distribution obtained via scalable, classical\n",
       "simulation.\n",
       "\u001b[0;31mFile:\u001b[0m           ~/Workspace/SuperTech/SupermarQ_HPCA_Artifact/supermarq/benchmarks/qaoa_fermionic_swap_proxy.py\n",
       "\u001b[0;31mType:\u001b[0m           type\n",
       "\u001b[0;31mSubclasses:\u001b[0m     \n"
      ]
     },
     "metadata": {},
     "output_type": "display_data"
    }
   ],
   "source": [
    "supermarq.qaoa_fermionic_swap_proxy.QAOAFermionicSwapProxy?"
   ]
  },
  {
   "cell_type": "code",
   "execution_count": 31,
   "id": "388b42aa-4a34-499b-8fe4-15dbf5f4978d",
   "metadata": {},
   "outputs": [
    {
     "name": "stdout",
     "output_type": "stream",
     "text": [
      "0: ───H───@───────────────X───@───────────────────────────@────────────────────────X───@───Rx(0.196π)───M───\n",
      "          │               │   │                           │                        │   │                │\n",
      "1: ───H───X───Rz(-1.2π)───@───X───@───────────────X───@───X────────────Rz(-1.2π)───@───X───Rx(0.196π)───M───\n",
      "                                  │               │   │                                                 │\n",
      "2: ───H───────────────────────────X───Rz(-1.2π)───@───X───Rx(0.196π)────────────────────────────────────M───\n"
     ]
    }
   ],
   "source": [
    "# Create the benchmark object and circuit\n",
    "num_qubits = 3\n",
    "fermionic_qaoa = supermarq.qaoa_fermionic_swap_proxy.QAOAFermionicSwapProxy(num_qubits)\n",
    "fqaoa_circuit = fermionic_qaoa.circuit()\n",
    "print(fqaoa_circuit)"
   ]
  },
  {
   "cell_type": "code",
   "execution_count": 32,
   "id": "8adf571a-c2a9-4b94-a086-f6c45ec3d2d4",
   "metadata": {},
   "outputs": [
    {
     "name": "stdout",
     "output_type": "stream",
     "text": [
      "With 0.0% error probability, Fermionic QAOA score = 1.0000\n",
      "With 0.5% error probability, Fermionic QAOA score = 0.9400\n",
      "With 2.0% error probability, Fermionic QAOA score = 0.7640\n"
     ]
    }
   ],
   "source": [
    "# Perform noisy simulation and evaluate the benchmark score function\n",
    "fqaoa_scores = []\n",
    "for error_prob in [0.0, 0.005, 0.02]:\n",
    "    counts = noisy_simulation(fqaoa_circuit, p=error_prob)\n",
    "    score = fermionic_qaoa.score(counts)\n",
    "    fqaoa_scores.append((error_prob, score))\n",
    "    print(f'With {error_prob*100:.1f}% error probability, Fermionic SWAP QAOA score = {score:.4f}')"
   ]
  },
  {
   "cell_type": "code",
   "execution_count": 33,
   "id": "dd7ae23a-ac3c-4c74-814c-1654dd3a4b96",
   "metadata": {},
   "outputs": [
    {
     "data": {
      "image/png": "[encoded data removed]",
      "text/plain": [
       "<Figure size 900x600 with 1 Axes>"
      ]
     },
     "metadata": {
      "needs_background": "light"
     },
     "output_type": "display_data"
    }
   ],
   "source": [
    "# Plot the results\n",
    "fig, ax = plt.subplots(dpi=150)\n",
    "width = 0.1\n",
    "\n",
    "for i, (error_prob, score) in enumerate(fqaoa_scores):\n",
    "    \n",
    "    x = width * i\n",
    "    ax.bar(x, score, width=width, label=f'{error_prob * 100:.1f}%', align='edge')\n",
    "\n",
    "ax.legend()\n",
    "ax.set_title('Fermionic SWAP QAOA Scores')\n",
    "ax.get_xaxis().set_visible(False)"
   ]
  },
  {
   "cell_type": "markdown",
   "id": "8d8db022-a9d6-4146-8b5a-0a1f54495726",
   "metadata": {},
   "source": [
    "## Vanilla QAOA"
   ]
  },
  {
   "cell_type": "code",
   "execution_count": 34,
   "id": "6e7bbe1c-fab2-4d01-aa57-bc0028fc36f8",
   "metadata": {},
   "outputs": [
    {
     "data": {
      "text/plain": [
       "\u001b[0;31mInit signature:\u001b[0m \u001b[0msupermarq\u001b[0m\u001b[0;34m.\u001b[0m\u001b[0mqaoa_vanilla_proxy\u001b[0m\u001b[0;34m.\u001b[0m\u001b[0mQAOAVanillaProxy\u001b[0m\u001b[0;34m(\u001b[0m\u001b[0mnum_qubits\u001b[0m\u001b[0;34m:\u001b[0m \u001b[0mint\u001b[0m\u001b[0;34m)\u001b[0m \u001b[0;34m->\u001b[0m \u001b[0;32mNone\u001b[0m\u001b[0;34m\u001b[0m\u001b[0;34m\u001b[0m\u001b[0m\n",
       "\u001b[0;31mDocstring:\u001b[0m     \n",
       "Proxy of a full Quantum Approximate Optimization Algorithm\n",
       "(QAOA) benchmark. The benchmark targets MaxCut on a Sherrington-Kirkpatrick model.\n",
       "Device performance is given by the Hellinger fidelity between the experimental\n",
       "output distribution and the true distribution obtained via scalable, classical\n",
       "simulation.\n",
       "\u001b[0;31mFile:\u001b[0m           ~/Workspace/SuperTech/SupermarQ_HPCA_Artifact/supermarq/benchmarks/qaoa_vanilla_proxy.py\n",
       "\u001b[0;31mType:\u001b[0m           type\n",
       "\u001b[0;31mSubclasses:\u001b[0m     \n"
      ]
     },
     "metadata": {},
     "output_type": "display_data"
    }
   ],
   "source": [
    "supermarq.qaoa_vanilla_proxy.QAOAVanillaProxy?"
   ]
  },
  {
   "cell_type": "code",
   "execution_count": 35,
   "id": "28c073b4-5b6b-41db-9e16-ccc2bf0c1a58",
   "metadata": {},
   "outputs": [
    {
     "name": "stdout",
     "output_type": "stream",
     "text": [
      "                                                      ┌───────────┐\n",
      "0: ───H─────────────────────────@─────────────────@────@───────────────────────────@───Rx(0.637π)───M───\n",
      "                                │                 │    │                           │                │\n",
      "1: ───H───@─────────────────@───X───Rz(-0.637π)───X────┼Rx(0.637π)─────────────────┼────────────────M───\n",
      "          │                 │                          │                           │                │\n",
      "2: ───H───X───Rz(-0.637π)───X──────────────────────────X──────────────Rz(0.637π)───X───Rx(0.637π)───M───\n",
      "                                                      └───────────┘\n"
     ]
    }
   ],
   "source": [
    "# Create the benchmark object and circuit\n",
    "num_qubits = 3\n",
    "vanilla_qaoa = supermarq.qaoa_vanilla_proxy.QAOAVanillaProxy(num_qubits)\n",
    "vqaoa_circuit = vanilla_qaoa.circuit()\n",
    "print(vqaoa_circuit)"
   ]
  },
  {
   "cell_type": "code",
   "execution_count": null,
   "id": "2278b13d-5653-4eca-8537-ce25f1137704",
   "metadata": {},
   "outputs": [],
   "source": [
    "# Perform noisy simulation and evaluate the benchmark score function\n",
    "vqaoa_scores = []\n",
    "for error_prob in [0.0, 0.005, 0.02]:\n",
    "    counts = noisy_simulation(vqaoa_circuit, p=error_prob)\n",
    "    score = vanilla_qaoa.score(counts)\n",
    "    vqaoa_scores.append((error_prob, score))\n",
    "    print(f'With {error_prob*100:.1f}% error probability, Vanilla QAOA score = {score:.4f}')"
   ]
  },
  {
   "cell_type": "code",
   "execution_count": null,
   "id": "555c0ca7-e0c9-42fa-93bf-5557d9f5d9f6",
   "metadata": {},
   "outputs": [],
   "source": [
    "# Plot the results\n",
    "fig, ax = plt.subplots(dpi=150)\n",
    "width = 0.1\n",
    "\n",
    "for i, (error_prob, score) in enumerate(vqaoa_scores):\n",
    "    \n",
    "    x = width * i\n",
    "    ax.bar(x, score, width=width, label=f'{error_prob * 100:.1f}%', align='edge')\n",
    "\n",
    "ax.legend()\n",
    "ax.set_title('Vanilla QAOA Scores')\n",
    "ax.get_xaxis().set_visible(False)"
   ]
  },
  {
   "cell_type": "code",
   "execution_count": null,
   "id": "aed28feb-aef1-4f24-aa11-a0715a45a8d0",
   "metadata": {},
   "outputs": [],
   "source": []
  }
 ],
 "metadata": {
  "kernelspec": {
   "display_name": "Python 3 (ipykernel)",
   "language": "python",
   "name": "python3"
  },
  "language_info": {
   "codemirror_mode": {
    "name": "ipython",
    "version": 3
   },
   "file_extension": ".py",
   "mimetype": "text/x-python",
   "name": "python",
   "nbconvert_exporter": "python",
   "pygments_lexer": "ipython3",
   "version": "3.8.10"
  }
 },
 "nbformat": 4,
 "nbformat_minor": 5
}
