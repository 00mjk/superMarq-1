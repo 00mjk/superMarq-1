{
 "cells": [
  {
   "cell_type": "code",
   "execution_count": 1,
   "id": "3d002ab2-3285-4164-8597-135914935e3a",
   "metadata": {},
   "outputs": [],
   "source": [
    "import cirq\n",
    "import cirq_superstaq\n",
    "import supermarq as sm\n",
    "import time\n",
    "import pickle"
   ]
  },
  {
   "cell_type": "code",
   "execution_count": 2,
   "id": "da2f225b-0875-4259-8cf7-add75889080a",
   "metadata": {},
   "outputs": [],
   "source": [
    "ornl_service = cirq_superstaq.Service(\n",
    "    remote_host=\"https://127.0.0.1:5000\",\n",
    "    api_key=\"\"\"ya29.a0ARrdaM8taiSjj8IUgpQaeBmKdgYRfPiZeCRGGDKZxeiaFeZ3driSTUGn-hvAVMzs8iTuWAa08lb4d4KhMa5aRDmtN7LIAXF-o9MuXOMX9KbUmxOKLgEBYJ5Kr51Sm4LDlVKEUJIJLEVRyBIez_4znsYfetpEAw\"\"\",\n",
    "    ibmq_token=\"70c3bf3be7eed9265577858ab058697602b7b831f742556d83594f3655fcd192de2160c2469f3432f1ac54263eb8eb38bf7b4d10519eaf2f420f72e0e3ec7f72\",\n",
    "    ibmq_hub=\"ibm-q-ornl\",\n",
    "    ibmq_group=\"ornl\",\n",
    "    ibmq_project=\"csc461\",\n",
    "    verbose=True,\n",
    ")\n",
    "\n",
    "supertech_service = cirq_superstaq.Service(\n",
    "    remote_host=\"https://127.0.0.1:5000\",\n",
    "    api_key=\"\"\"ya29.a0ARrdaM8taiSjj8IUgpQaeBmKdgYRfPiZeCRGGDKZxeiaFeZ3driSTUGn-hvAVMzs8iTuWAa08lb4d4KhMa5aRDmtN7LIAXF-o9MuXOMX9KbUmxOKLgEBYJ5Kr51Sm4LDlVKEUJIJLEVRyBIez_4znsYfetpEAw\"\"\",\n",
    "    ibmq_token=\"70c3bf3be7eed9265577858ab058697602b7b831f742556d83594f3655fcd192de2160c2469f3432f1ac54263eb8eb38bf7b4d10519eaf2f420f72e0e3ec7f72\",\n",
    "    ibmq_hub=\"ibm-q-startup\",\n",
    "    ibmq_group=\"super-tech-labs\",\n",
    "    ibmq_project=\"default\",\n",
    "    verbose=True,\n",
    ")"
   ]
  },
  {
   "cell_type": "code",
   "execution_count": 3,
   "id": "abab332e-5a50-4024-b67c-b49719ac6339",
   "metadata": {},
   "outputs": [],
   "source": [
    "ibm_shots = 2000\n",
    "rigetti_shots = 1000\n",
    "ionq_shots = 35"
   ]
  },
  {
   "cell_type": "markdown",
   "id": "c0325bc9-10a2-422d-9264-e882060c24aa",
   "metadata": {},
   "source": [
    "# GHZ benchmark\n",
    "## Submit jobs"
   ]
  },
  {
   "cell_type": "code",
   "execution_count": 14,
   "id": "9d61eaf4-3b35-4e3f-8e0d-1a599b6b09bb",
   "metadata": {
    "tags": []
   },
   "outputs": [],
   "source": [
    "ghz_jobs = []"
   ]
  },
  {
   "cell_type": "code",
   "execution_count": 141,
   "id": "fb316f32-ef7d-4fc4-a5d6-b62ca744406b",
   "metadata": {
    "scrolled": true,
    "tags": []
   },
   "outputs": [
    {
     "name": "stdout",
     "output_type": "stream",
     "text": [
      "Created 5-qubit ghz benchmark\n",
      "0: ───H───@───────────────M───\n",
      "          │               │\n",
      "1: ───────X───@───────────M───\n",
      "              │           │\n",
      "2: ───────────X───@───────M───\n",
      "                  │       │\n",
      "3: ───────────────X───@───M───\n",
      "                      │   │\n",
      "4: ───────────────────X───M───\n"
     ]
    },
    {
     "name": "stderr",
     "output_type": "stream",
     "text": [
      "/Users/teague/opt/miniconda3/envs/superEnv/lib/python3.8/site-packages/urllib3/connectionpool.py:1013: InsecureRequestWarning: Unverified HTTPS request is being made to host '127.0.0.1'. Adding certificate verification is strongly advised. See: https://urllib3.readthedocs.io/en/1.26.x/advanced-usage.html#ssl-warnings\n",
      "  warnings.warn(\n",
      "/Users/teague/opt/miniconda3/envs/superEnv/lib/python3.8/site-packages/urllib3/connectionpool.py:1013: InsecureRequestWarning: Unverified HTTPS request is being made to host '127.0.0.1'. Adding certificate verification is strongly advised. See: https://urllib3.readthedocs.io/en/1.26.x/advanced-usage.html#ssl-warnings\n",
      "  warnings.warn(\n"
     ]
    },
    {
     "name": "stdout",
     "output_type": "stream",
     "text": [
      "Created IBM job: ['ghz_5qubits_casablanca', <supermarq.benchmarks.ghz.GHZ object at 0x7f84f535ed30>, <cirq_superstaq.job.Job object at 0x7f84f489b6a0>, 0]\n"
     ]
    },
    {
     "name": "stderr",
     "output_type": "stream",
     "text": [
      "/Users/teague/opt/miniconda3/envs/superEnv/lib/python3.8/site-packages/urllib3/connectionpool.py:1013: InsecureRequestWarning: Unverified HTTPS request is being made to host '127.0.0.1'. Adding certificate verification is strongly advised. See: https://urllib3.readthedocs.io/en/1.26.x/advanced-usage.html#ssl-warnings\n",
      "  warnings.warn(\n",
      "/Users/teague/opt/miniconda3/envs/superEnv/lib/python3.8/site-packages/urllib3/connectionpool.py:1013: InsecureRequestWarning: Unverified HTTPS request is being made to host '127.0.0.1'. Adding certificate verification is strongly advised. See: https://urllib3.readthedocs.io/en/1.26.x/advanced-usage.html#ssl-warnings\n",
      "  warnings.warn(\n"
     ]
    },
    {
     "name": "stdout",
     "output_type": "stream",
     "text": [
      "Created IBM job: ['ghz_5qubits_guadalupe', <supermarq.benchmarks.ghz.GHZ object at 0x7f84f535ed30>, <cirq_superstaq.job.Job object at 0x7f84f535e280>, 0]\n"
     ]
    },
    {
     "name": "stderr",
     "output_type": "stream",
     "text": [
      "/Users/teague/opt/miniconda3/envs/superEnv/lib/python3.8/site-packages/urllib3/connectionpool.py:1013: InsecureRequestWarning: Unverified HTTPS request is being made to host '127.0.0.1'. Adding certificate verification is strongly advised. See: https://urllib3.readthedocs.io/en/1.26.x/advanced-usage.html#ssl-warnings\n",
      "  warnings.warn(\n",
      "/Users/teague/opt/miniconda3/envs/superEnv/lib/python3.8/site-packages/urllib3/connectionpool.py:1013: InsecureRequestWarning: Unverified HTTPS request is being made to host '127.0.0.1'. Adding certificate verification is strongly advised. See: https://urllib3.readthedocs.io/en/1.26.x/advanced-usage.html#ssl-warnings\n",
      "  warnings.warn(\n"
     ]
    },
    {
     "name": "stdout",
     "output_type": "stream",
     "text": [
      "Created IBM job: ['ghz_5qubits_montreal', <supermarq.benchmarks.ghz.GHZ object at 0x7f84f535ed30>, <cirq_superstaq.job.Job object at 0x7f84f587bfa0>, 0]\n"
     ]
    },
    {
     "name": "stderr",
     "output_type": "stream",
     "text": [
      "/Users/teague/opt/miniconda3/envs/superEnv/lib/python3.8/site-packages/urllib3/connectionpool.py:1013: InsecureRequestWarning: Unverified HTTPS request is being made to host '127.0.0.1'. Adding certificate verification is strongly advised. See: https://urllib3.readthedocs.io/en/1.26.x/advanced-usage.html#ssl-warnings\n",
      "  warnings.warn(\n",
      "/Users/teague/opt/miniconda3/envs/superEnv/lib/python3.8/site-packages/urllib3/connectionpool.py:1013: InsecureRequestWarning: Unverified HTTPS request is being made to host '127.0.0.1'. Adding certificate verification is strongly advised. See: https://urllib3.readthedocs.io/en/1.26.x/advanced-usage.html#ssl-warnings\n",
      "  warnings.warn(\n"
     ]
    },
    {
     "name": "stdout",
     "output_type": "stream",
     "text": [
      "Created IBM job: ['ghz_5qubits_mumbai', <supermarq.benchmarks.ghz.GHZ object at 0x7f84f535ed30>, <cirq_superstaq.job.Job object at 0x7f84f48ac070>, 0]\n"
     ]
    },
    {
     "name": "stderr",
     "output_type": "stream",
     "text": [
      "/Users/teague/opt/miniconda3/envs/superEnv/lib/python3.8/site-packages/urllib3/connectionpool.py:1013: InsecureRequestWarning: Unverified HTTPS request is being made to host '127.0.0.1'. Adding certificate verification is strongly advised. See: https://urllib3.readthedocs.io/en/1.26.x/advanced-usage.html#ssl-warnings\n",
      "  warnings.warn(\n",
      "/Users/teague/opt/miniconda3/envs/superEnv/lib/python3.8/site-packages/urllib3/connectionpool.py:1013: InsecureRequestWarning: Unverified HTTPS request is being made to host '127.0.0.1'. Adding certificate verification is strongly advised. See: https://urllib3.readthedocs.io/en/1.26.x/advanced-usage.html#ssl-warnings\n",
      "  warnings.warn(\n"
     ]
    },
    {
     "name": "stdout",
     "output_type": "stream",
     "text": [
      "Created IBM job: ['ghz_5qubits_toronto', <supermarq.benchmarks.ghz.GHZ object at 0x7f84f535ed30>, <cirq_superstaq.job.Job object at 0x7f84f587be80>, 0]\n"
     ]
    },
    {
     "name": "stderr",
     "output_type": "stream",
     "text": [
      "/Users/teague/opt/miniconda3/envs/superEnv/lib/python3.8/site-packages/urllib3/connectionpool.py:1013: InsecureRequestWarning: Unverified HTTPS request is being made to host '127.0.0.1'. Adding certificate verification is strongly advised. See: https://urllib3.readthedocs.io/en/1.26.x/advanced-usage.html#ssl-warnings\n",
      "  warnings.warn(\n",
      "/Users/teague/opt/miniconda3/envs/superEnv/lib/python3.8/site-packages/urllib3/connectionpool.py:1013: InsecureRequestWarning: Unverified HTTPS request is being made to host '127.0.0.1'. Adding certificate verification is strongly advised. See: https://urllib3.readthedocs.io/en/1.26.x/advanced-usage.html#ssl-warnings\n",
      "  warnings.warn(\n"
     ]
    },
    {
     "name": "stdout",
     "output_type": "stream",
     "text": [
      "Created IBM job: ['ghz_5qubits_lagos', <supermarq.benchmarks.ghz.GHZ object at 0x7f84f535ed30>, <cirq_superstaq.job.Job object at 0x7f84f5be0520>, 0]\n"
     ]
    },
    {
     "name": "stderr",
     "output_type": "stream",
     "text": [
      "/Users/teague/opt/miniconda3/envs/superEnv/lib/python3.8/site-packages/urllib3/connectionpool.py:1013: InsecureRequestWarning: Unverified HTTPS request is being made to host '127.0.0.1'. Adding certificate verification is strongly advised. See: https://urllib3.readthedocs.io/en/1.26.x/advanced-usage.html#ssl-warnings\n",
      "  warnings.warn(\n",
      "/Users/teague/opt/miniconda3/envs/superEnv/lib/python3.8/site-packages/urllib3/connectionpool.py:1013: InsecureRequestWarning: Unverified HTTPS request is being made to host '127.0.0.1'. Adding certificate verification is strongly advised. See: https://urllib3.readthedocs.io/en/1.26.x/advanced-usage.html#ssl-warnings\n",
      "  warnings.warn(\n"
     ]
    },
    {
     "name": "stdout",
     "output_type": "stream",
     "text": [
      "Created IBM job: ['ghz_5qubits_santiago', <supermarq.benchmarks.ghz.GHZ object at 0x7f84f535ed30>, <cirq_superstaq.job.Job object at 0x7f84f5338a30>, 0]\n"
     ]
    },
    {
     "name": "stderr",
     "output_type": "stream",
     "text": [
      "/Users/teague/opt/miniconda3/envs/superEnv/lib/python3.8/site-packages/urllib3/connectionpool.py:1013: InsecureRequestWarning: Unverified HTTPS request is being made to host '127.0.0.1'. Adding certificate verification is strongly advised. See: https://urllib3.readthedocs.io/en/1.26.x/advanced-usage.html#ssl-warnings\n",
      "  warnings.warn(\n",
      "/Users/teague/opt/miniconda3/envs/superEnv/lib/python3.8/site-packages/urllib3/connectionpool.py:1013: InsecureRequestWarning: Unverified HTTPS request is being made to host '127.0.0.1'. Adding certificate verification is strongly advised. See: https://urllib3.readthedocs.io/en/1.26.x/advanced-usage.html#ssl-warnings\n",
      "  warnings.warn(\n"
     ]
    },
    {
     "name": "stdout",
     "output_type": "stream",
     "text": [
      "Created AWS job: ['ghz_5qubits_aspen9', <supermarq.benchmarks.ghz.GHZ object at 0x7f84f535ed30>, <cirq_superstaq.job.Job object at 0x7f84f48a6a90>, 0]\n"
     ]
    },
    {
     "name": "stderr",
     "output_type": "stream",
     "text": [
      "/Users/teague/opt/miniconda3/envs/superEnv/lib/python3.8/site-packages/urllib3/connectionpool.py:1013: InsecureRequestWarning: Unverified HTTPS request is being made to host '127.0.0.1'. Adding certificate verification is strongly advised. See: https://urllib3.readthedocs.io/en/1.26.x/advanced-usage.html#ssl-warnings\n",
      "  warnings.warn(\n",
      "/Users/teague/opt/miniconda3/envs/superEnv/lib/python3.8/site-packages/urllib3/connectionpool.py:1013: InsecureRequestWarning: Unverified HTTPS request is being made to host '127.0.0.1'. Adding certificate verification is strongly advised. See: https://urllib3.readthedocs.io/en/1.26.x/advanced-usage.html#ssl-warnings\n",
      "  warnings.warn(\n"
     ]
    },
    {
     "name": "stdout",
     "output_type": "stream",
     "text": [
      "Created AWS job: ['ghz_5qubits_ionq', <supermarq.benchmarks.ghz.GHZ object at 0x7f84f535ed30>, <cirq_superstaq.job.Job object at 0x7f84f48a61c0>, 0]\n"
     ]
    }
   ],
   "source": [
    "# Run GHZ benchmarks\n",
    "for nq in [5]:\n",
    "    ghz = sm.ghz.GHZ(nq)\n",
    "    print(f'Created {nq}-qubit ghz benchmark')\n",
    "    print(ghz.circuit())\n",
    "\n",
    "    # ibmq_casablanca, 7 qubits\n",
    "    if nq <= 7:\n",
    "        ghz_jobs.append([\n",
    "            f'ghz_{nq}qubits_casablanca',\n",
    "            ghz,\n",
    "            ornl_service.create_job(circuit=ghz.circuit(), repetitions=ibm_shots, target=\"ibmq_casablanca\"),\n",
    "            0,\n",
    "        ])\n",
    "        print(\"Created IBM job:\", ghz_jobs[-1])\n",
    "\n",
    "    # ibmq_guadalupe, 16 qubits\n",
    "    if nq <= 16:\n",
    "        ghz_jobs.append([\n",
    "            f'ghz_{nq}qubits_guadalupe',\n",
    "            ghz,\n",
    "            ornl_service.create_job(circuit=ghz.circuit(), repetitions=ibm_shots, target=\"ibmq_guadalupe\"),\n",
    "            0,\n",
    "        ])\n",
    "        print(\"Created IBM job:\", ghz_jobs[-1])\n",
    "\n",
    "    # ibmq_montreal, 27 qubits\n",
    "    if nq <= 27:\n",
    "        ghz_jobs.append([\n",
    "            f'ghz_{nq}qubits_montreal',\n",
    "            ghz,\n",
    "            ornl_service.create_job(circuit=ghz.circuit(), repetitions=ibm_shots, target=\"ibmq_montreal\"),\n",
    "            0,\n",
    "        ])\n",
    "        print(\"Created IBM job:\", ghz_jobs[-1])\n",
    "        \n",
    "    # ibmq_mumbai, 27 qubits\n",
    "    if nq <= 27:\n",
    "        ghz_jobs.append([\n",
    "            f'ghz_{nq}qubits_mumbai',\n",
    "            ghz,\n",
    "            ornl_service.create_job(circuit=ghz.circuit(), repetitions=ibm_shots, target=\"ibmq_mumbai\"),\n",
    "            0,\n",
    "        ])\n",
    "        print(\"Created IBM job:\", ghz_jobs[-1])\n",
    "        \n",
    "    # ibmq_toronto, 27 qubits\n",
    "    if nq <= 27:\n",
    "        ghz_jobs.append([\n",
    "            f'ghz_{nq}qubits_toronto',\n",
    "            ghz,\n",
    "            ornl_service.create_job(circuit=ghz.circuit(), repetitions=ibm_shots, target=\"ibmq_toronto\"),\n",
    "            0,\n",
    "        ])\n",
    "        print(\"Created IBM job:\", ghz_jobs[-1])\n",
    "    \n",
    "    # ibmq_lagos, 7 qubits\n",
    "    if nq <= 7:\n",
    "        ghz_jobs.append([\n",
    "            f'ghz_{nq}qubits_lagos',\n",
    "            ghz,\n",
    "            supertech_service.create_job(circuit=ghz.circuit(), repetitions=ibm_shots, target=\"ibm_lagos\"),\n",
    "            0,\n",
    "        ])\n",
    "        print(\"Created IBM job:\", ghz_jobs[-1])\n",
    "        \n",
    "    # ibmq_santiago, 5 qubits\n",
    "    if nq <= 5:\n",
    "        ghz_jobs.append([\n",
    "            f'ghz_{nq}qubits_santiago',\n",
    "            ghz,\n",
    "            ornl_service.create_job(circuit=ghz.circuit(), repetitions=ibm_shots, target=\"ibmq_santiago\"),\n",
    "            0,\n",
    "        ])\n",
    "        print(\"Created IBM job:\", ghz_jobs[-1])\n",
    "\n",
    "    \n",
    "    # rigetti_aspen9, 32 qubits\n",
    "    if nq <= 32:\n",
    "        ghz_jobs.append([\n",
    "            f'ghz_{nq}qubits_aspen9',\n",
    "            ghz,\n",
    "            ornl_service.create_job(circuit=ghz.circuit(), repetitions=rigetti_shots, target=\"rigetti_aspen\"),\n",
    "            0,\n",
    "        ])\n",
    "        print(\"Created AWS job:\", ghz_jobs[-1])\n",
    "        \n",
    "    # ionq, 11 qubits\n",
    "    if nq <= 11:\n",
    "        ghz_jobs.append([\n",
    "            f'ghz_{nq}qubits_ionq',\n",
    "            ghz,\n",
    "            ornl_service.create_job(circuit=ghz.circuit(), repetitions=ionq_shots, target=\"ionq_ion\"),\n",
    "            0,\n",
    "        ])\n",
    "        print(\"Created AWS job:\", ghz_jobs[-1])"
   ]
  },
  {
   "cell_type": "markdown",
   "id": "5010c01c-650b-482c-b96e-5fab0d652a11",
   "metadata": {},
   "source": [
    "## Compute scores and store results"
   ]
  },
  {
   "cell_type": "code",
   "execution_count": 142,
   "id": "01b5571e-b840-411e-902a-e5aaefbc0daf",
   "metadata": {
    "scrolled": true,
    "tags": []
   },
   "outputs": [
    {
     "name": "stdout",
     "output_type": "stream",
     "text": [
      "Completed 76/101 jobs\n",
      "ghz_3qubits_casablanca, status: Done\n",
      "ghz_3qubits_guadalupe, status: Done\n",
      "ghz_3qubits_montreal, status: Done\n",
      "ghz_3qubits_toronto, status: Done\n",
      "ghz_3qubits_lagos, status: Done\n",
      "ghz_3qubits_santiago, status: Done\n",
      "ghz_3qubits_aspen9, status: Done\n",
      "ghz_3qubits_ionq, status: Done\n",
      "ghz_7qubits_casablanca, status: Done\n",
      "ghz_7qubits_guadalupe, status: Done\n",
      "ghz_7qubits_montreal, status: Done\n",
      "ghz_7qubits_toronto, status: Done\n",
      "ghz_7qubits_lagos, status: Done\n",
      "ghz_7qubits_aspen9, status: Done\n",
      "ghz_7qubits_ionq, status: Done\n",
      "ghz_11qubits_guadalupe, status: Done\n",
      "ghz_11qubits_montreal, status: Done\n",
      "ghz_11qubits_toronto, status: Done\n",
      "ghz_11qubits_aspen9, status: Done\n",
      "ghz_11qubits_ionq, status: Done\n",
      "ghz_3qubits_casablanca, status: Done\n",
      "ghz_3qubits_guadalupe, status: Done\n",
      "ghz_3qubits_montreal, status: Done\n",
      "ghz_3qubits_lagos, status: Done\n",
      "ghz_3qubits_santiago, status: Done\n",
      "ghz_3qubits_aspen9, status: Done\n",
      "ghz_3qubits_ionq, status: Done\n",
      "ghz_7qubits_casablanca, status: Done\n",
      "ghz_7qubits_guadalupe, status: Done\n",
      "ghz_7qubits_montreal, status: Done\n",
      "ghz_7qubits_lagos, status: Done\n",
      "ghz_7qubits_aspen9, status: Done\n",
      "ghz_7qubits_ionq, status: Done\n",
      "ghz_11qubits_guadalupe, status: Done\n",
      "ghz_11qubits_montreal, status: Done\n",
      "ghz_11qubits_aspen9, status: Done\n",
      "ghz_11qubits_ionq, status: Done\n",
      "ghz_3qubits_casablanca, status: Done\n",
      "ghz_3qubits_guadalupe, status: Done\n",
      "ghz_3qubits_montreal, status: Done\n",
      "ghz_3qubits_lagos, status: Done\n",
      "ghz_3qubits_santiago, status: Done\n",
      "ghz_3qubits_aspen9, status: Done\n",
      "ghz_3qubits_ionq, status: Done\n",
      "ghz_7qubits_casablanca, status: Done\n",
      "ghz_7qubits_guadalupe, status: Done\n",
      "ghz_7qubits_montreal, status: Done\n",
      "ghz_7qubits_lagos, status: Done\n",
      "ghz_7qubits_aspen9, status: Done\n",
      "ghz_7qubits_ionq, status: Done\n",
      "ghz_11qubits_guadalupe, status: Done\n",
      "ghz_11qubits_montreal, status: Done\n",
      "ghz_11qubits_aspen9, status: Done\n",
      "ghz_11qubits_ionq, status: Done\n",
      "ghz_3qubits_casablanca, status: Done\n",
      "ghz_3qubits_guadalupe, status: Done\n",
      "ghz_3qubits_montreal, status: Done\n"
     ]
    },
    {
     "name": "stderr",
     "output_type": "stream",
     "text": [
      "/Users/teague/opt/miniconda3/envs/superEnv/lib/python3.8/site-packages/urllib3/connectionpool.py:1013: InsecureRequestWarning: Unverified HTTPS request is being made to host '127.0.0.1'. Adding certificate verification is strongly advised. See: https://urllib3.readthedocs.io/en/1.26.x/advanced-usage.html#ssl-warnings\n",
      "  warnings.warn(\n"
     ]
    },
    {
     "name": "stdout",
     "output_type": "stream",
     "text": [
      "ghz_3qubits_mumbai, status: Queued\n",
      "ghz_3qubits_lagos, status: Done\n",
      "ghz_3qubits_santiago, status: Done\n",
      "ghz_3qubits_aspen9, status: Done\n",
      "ghz_3qubits_ionq, status: Done\n",
      "ghz_7qubits_casablanca, status: Done\n",
      "ghz_7qubits_guadalupe, status: Done\n",
      "ghz_7qubits_montreal, status: Done\n"
     ]
    },
    {
     "name": "stderr",
     "output_type": "stream",
     "text": [
      "/Users/teague/opt/miniconda3/envs/superEnv/lib/python3.8/site-packages/urllib3/connectionpool.py:1013: InsecureRequestWarning: Unverified HTTPS request is being made to host '127.0.0.1'. Adding certificate verification is strongly advised. See: https://urllib3.readthedocs.io/en/1.26.x/advanced-usage.html#ssl-warnings\n",
      "  warnings.warn(\n"
     ]
    },
    {
     "name": "stdout",
     "output_type": "stream",
     "text": [
      "ghz_7qubits_mumbai, status: Queued\n",
      "ghz_7qubits_lagos, status: Done\n",
      "ghz_7qubits_aspen9, status: Done\n",
      "ghz_7qubits_ionq, status: Done\n",
      "ghz_11qubits_guadalupe, status: Done\n",
      "ghz_11qubits_montreal, status: Done\n"
     ]
    },
    {
     "name": "stderr",
     "output_type": "stream",
     "text": [
      "/Users/teague/opt/miniconda3/envs/superEnv/lib/python3.8/site-packages/urllib3/connectionpool.py:1013: InsecureRequestWarning: Unverified HTTPS request is being made to host '127.0.0.1'. Adding certificate verification is strongly advised. See: https://urllib3.readthedocs.io/en/1.26.x/advanced-usage.html#ssl-warnings\n",
      "  warnings.warn(\n"
     ]
    },
    {
     "name": "stdout",
     "output_type": "stream",
     "text": [
      "ghz_11qubits_mumbai, status: Queued\n",
      "ghz_11qubits_aspen9, status: Done\n",
      "ghz_11qubits_ionq, status: Done\n"
     ]
    },
    {
     "name": "stderr",
     "output_type": "stream",
     "text": [
      "/Users/teague/opt/miniconda3/envs/superEnv/lib/python3.8/site-packages/urllib3/connectionpool.py:1013: InsecureRequestWarning: Unverified HTTPS request is being made to host '127.0.0.1'. Adding certificate verification is strongly advised. See: https://urllib3.readthedocs.io/en/1.26.x/advanced-usage.html#ssl-warnings\n",
      "  warnings.warn(\n"
     ]
    },
    {
     "name": "stdout",
     "output_type": "stream",
     "text": [
      "ghz_5qubits_casablanca, status: Queued\n",
      "ghz_5qubits_guadalupe, status: Done\n"
     ]
    },
    {
     "name": "stderr",
     "output_type": "stream",
     "text": [
      "/Users/teague/opt/miniconda3/envs/superEnv/lib/python3.8/site-packages/urllib3/connectionpool.py:1013: InsecureRequestWarning: Unverified HTTPS request is being made to host '127.0.0.1'. Adding certificate verification is strongly advised. See: https://urllib3.readthedocs.io/en/1.26.x/advanced-usage.html#ssl-warnings\n",
      "  warnings.warn(\n"
     ]
    },
    {
     "name": "stdout",
     "output_type": "stream",
     "text": [
      "ghz_5qubits_montreal, status: Queued\n"
     ]
    },
    {
     "name": "stderr",
     "output_type": "stream",
     "text": [
      "/Users/teague/opt/miniconda3/envs/superEnv/lib/python3.8/site-packages/urllib3/connectionpool.py:1013: InsecureRequestWarning: Unverified HTTPS request is being made to host '127.0.0.1'. Adding certificate verification is strongly advised. See: https://urllib3.readthedocs.io/en/1.26.x/advanced-usage.html#ssl-warnings\n",
      "  warnings.warn(\n"
     ]
    },
    {
     "name": "stdout",
     "output_type": "stream",
     "text": [
      "ghz_5qubits_mumbai, status: Queued\n",
      "ghz_5qubits_toronto, status: Done\n"
     ]
    },
    {
     "name": "stderr",
     "output_type": "stream",
     "text": [
      "/Users/teague/opt/miniconda3/envs/superEnv/lib/python3.8/site-packages/urllib3/connectionpool.py:1013: InsecureRequestWarning: Unverified HTTPS request is being made to host '127.0.0.1'. Adding certificate verification is strongly advised. See: https://urllib3.readthedocs.io/en/1.26.x/advanced-usage.html#ssl-warnings\n",
      "  warnings.warn(\n"
     ]
    },
    {
     "name": "stdout",
     "output_type": "stream",
     "text": [
      "ghz_5qubits_lagos, status: Done\n",
      "\tCounts: {'00000': 819, '00001': 15, '00010': 48, '00011': 79, '00100': 13, '00101': 4, '00110': 3, '00111': 7, '01000': 4, '01100': 3, '01101': 8, '01110': 2, '01111': 21, '10000': 21, '10010': 4, '10011': 1, '10100': 2, '10101': 3, '10110': 1, '10111': 5, '11000': 6, '11001': 4, '11010': 2, '11011': 6, '11100': 117, '11101': 212, '11110': 51, '11111': 539}\n",
      "\tScore: 0.6717051324106839\n",
      "ghz_5qubits_santiago, status: Done\n"
     ]
    },
    {
     "name": "stderr",
     "output_type": "stream",
     "text": [
      "/Users/teague/opt/miniconda3/envs/superEnv/lib/python3.8/site-packages/urllib3/connectionpool.py:1013: InsecureRequestWarning: Unverified HTTPS request is being made to host '127.0.0.1'. Adding certificate verification is strongly advised. See: https://urllib3.readthedocs.io/en/1.26.x/advanced-usage.html#ssl-warnings\n",
      "  warnings.warn(\n"
     ]
    },
    {
     "name": "stdout",
     "output_type": "stream",
     "text": [
      "ghz_5qubits_aspen9, status: Queued\n"
     ]
    },
    {
     "name": "stderr",
     "output_type": "stream",
     "text": [
      "/Users/teague/opt/miniconda3/envs/superEnv/lib/python3.8/site-packages/urllib3/connectionpool.py:1013: InsecureRequestWarning: Unverified HTTPS request is being made to host '127.0.0.1'. Adding certificate verification is strongly advised. See: https://urllib3.readthedocs.io/en/1.26.x/advanced-usage.html#ssl-warnings\n",
      "  warnings.warn(\n"
     ]
    },
    {
     "name": "stdout",
     "output_type": "stream",
     "text": [
      "ghz_5qubits_ionq, status: Queued\n"
     ]
    },
    {
     "name": "stderr",
     "output_type": "stream",
     "text": [
      "/Users/teague/opt/miniconda3/envs/superEnv/lib/python3.8/site-packages/urllib3/connectionpool.py:1013: InsecureRequestWarning: Unverified HTTPS request is being made to host '127.0.0.1'. Adding certificate verification is strongly advised. See: https://urllib3.readthedocs.io/en/1.26.x/advanced-usage.html#ssl-warnings\n",
      "  warnings.warn(\n"
     ]
    },
    {
     "name": "stdout",
     "output_type": "stream",
     "text": [
      "ghz_5qubits_casablanca, status: Queued\n",
      "ghz_5qubits_guadalupe, status: Done\n"
     ]
    },
    {
     "name": "stderr",
     "output_type": "stream",
     "text": [
      "/Users/teague/opt/miniconda3/envs/superEnv/lib/python3.8/site-packages/urllib3/connectionpool.py:1013: InsecureRequestWarning: Unverified HTTPS request is being made to host '127.0.0.1'. Adding certificate verification is strongly advised. See: https://urllib3.readthedocs.io/en/1.26.x/advanced-usage.html#ssl-warnings\n",
      "  warnings.warn(\n"
     ]
    },
    {
     "name": "stdout",
     "output_type": "stream",
     "text": [
      "ghz_5qubits_montreal, status: Queued\n"
     ]
    },
    {
     "name": "stderr",
     "output_type": "stream",
     "text": [
      "/Users/teague/opt/miniconda3/envs/superEnv/lib/python3.8/site-packages/urllib3/connectionpool.py:1013: InsecureRequestWarning: Unverified HTTPS request is being made to host '127.0.0.1'. Adding certificate verification is strongly advised. See: https://urllib3.readthedocs.io/en/1.26.x/advanced-usage.html#ssl-warnings\n",
      "  warnings.warn(\n"
     ]
    },
    {
     "name": "stdout",
     "output_type": "stream",
     "text": [
      "ghz_5qubits_mumbai, status: Queued\n",
      "ghz_5qubits_toronto, status: Done\n"
     ]
    },
    {
     "name": "stderr",
     "output_type": "stream",
     "text": [
      "/Users/teague/opt/miniconda3/envs/superEnv/lib/python3.8/site-packages/urllib3/connectionpool.py:1013: InsecureRequestWarning: Unverified HTTPS request is being made to host '127.0.0.1'. Adding certificate verification is strongly advised. See: https://urllib3.readthedocs.io/en/1.26.x/advanced-usage.html#ssl-warnings\n",
      "  warnings.warn(\n"
     ]
    },
    {
     "name": "stdout",
     "output_type": "stream",
     "text": [
      "ghz_5qubits_lagos, status: Done\n",
      "\tCounts: {'00000': 917, '00001': 13, '00010': 12, '00011': 14, '00100': 8, '00111': 9, '01000': 4, '01011': 2, '01110': 3, '01111': 27, '10000': 17, '10111': 18, '11000': 10, '11001': 1, '11010': 1, '11011': 10, '11100': 19, '11101': 9, '11110': 42, '11111': 864}\n",
      "\tScore: 0.8903028058556648\n"
     ]
    },
    {
     "name": "stderr",
     "output_type": "stream",
     "text": [
      "/Users/teague/opt/miniconda3/envs/superEnv/lib/python3.8/site-packages/urllib3/connectionpool.py:1013: InsecureRequestWarning: Unverified HTTPS request is being made to host '127.0.0.1'. Adding certificate verification is strongly advised. See: https://urllib3.readthedocs.io/en/1.26.x/advanced-usage.html#ssl-warnings\n",
      "  warnings.warn(\n"
     ]
    },
    {
     "name": "stdout",
     "output_type": "stream",
     "text": [
      "ghz_5qubits_santiago, status: Done\n",
      "\tCounts: {'00000': 939, '00001': 25, '00010': 4, '00011': 17, '00100': 7, '00111': 6, '01000': 5, '01011': 3, '01100': 2, '01101': 1, '01110': 3, '01111': 32, '10000': 12, '10101': 1, '10110': 4, '10111': 23, '11000': 15, '11001': 1, '11010': 2, '11011': 30, '11100': 9, '11101': 11, '11110': 33, '11111': 815}\n",
      "\tScore: 0.875902846355622\n"
     ]
    },
    {
     "name": "stderr",
     "output_type": "stream",
     "text": [
      "/Users/teague/opt/miniconda3/envs/superEnv/lib/python3.8/site-packages/urllib3/connectionpool.py:1013: InsecureRequestWarning: Unverified HTTPS request is being made to host '127.0.0.1'. Adding certificate verification is strongly advised. See: https://urllib3.readthedocs.io/en/1.26.x/advanced-usage.html#ssl-warnings\n",
      "  warnings.warn(\n"
     ]
    },
    {
     "name": "stdout",
     "output_type": "stream",
     "text": [
      "ghz_5qubits_aspen9, status: Queued\n"
     ]
    },
    {
     "name": "stderr",
     "output_type": "stream",
     "text": [
      "/Users/teague/opt/miniconda3/envs/superEnv/lib/python3.8/site-packages/urllib3/connectionpool.py:1013: InsecureRequestWarning: Unverified HTTPS request is being made to host '127.0.0.1'. Adding certificate verification is strongly advised. See: https://urllib3.readthedocs.io/en/1.26.x/advanced-usage.html#ssl-warnings\n",
      "  warnings.warn(\n"
     ]
    },
    {
     "name": "stdout",
     "output_type": "stream",
     "text": [
      "ghz_5qubits_ionq, status: Queued\n"
     ]
    },
    {
     "name": "stderr",
     "output_type": "stream",
     "text": [
      "/Users/teague/opt/miniconda3/envs/superEnv/lib/python3.8/site-packages/urllib3/connectionpool.py:1013: InsecureRequestWarning: Unverified HTTPS request is being made to host '127.0.0.1'. Adding certificate verification is strongly advised. See: https://urllib3.readthedocs.io/en/1.26.x/advanced-usage.html#ssl-warnings\n",
      "  warnings.warn(\n"
     ]
    },
    {
     "name": "stdout",
     "output_type": "stream",
     "text": [
      "ghz_5qubits_casablanca, status: Queued\n"
     ]
    },
    {
     "name": "stderr",
     "output_type": "stream",
     "text": [
      "/Users/teague/opt/miniconda3/envs/superEnv/lib/python3.8/site-packages/urllib3/connectionpool.py:1013: InsecureRequestWarning: Unverified HTTPS request is being made to host '127.0.0.1'. Adding certificate verification is strongly advised. See: https://urllib3.readthedocs.io/en/1.26.x/advanced-usage.html#ssl-warnings\n",
      "  warnings.warn(\n"
     ]
    },
    {
     "name": "stdout",
     "output_type": "stream",
     "text": [
      "ghz_5qubits_guadalupe, status: Done\n",
      "\tCounts: {'00000': 890, '00001': 13, '00010': 15, '00011': 29, '00100': 8, '00101': 1, '00110': 4, '00111': 15, '01000': 3, '01011': 3, '01100': 2, '01110': 3, '01111': 48, '10000': 12, '10001': 1, '10010': 1, '10100': 1, '10101': 1, '10110': 3, '10111': 41, '11000': 11, '11001': 5, '11010': 4, '11011': 35, '11100': 27, '11101': 38, '11110': 25, '11111': 761}\n",
      "\tScore: 0.8242381529278818\n"
     ]
    },
    {
     "name": "stderr",
     "output_type": "stream",
     "text": [
      "/Users/teague/opt/miniconda3/envs/superEnv/lib/python3.8/site-packages/urllib3/connectionpool.py:1013: InsecureRequestWarning: Unverified HTTPS request is being made to host '127.0.0.1'. Adding certificate verification is strongly advised. See: https://urllib3.readthedocs.io/en/1.26.x/advanced-usage.html#ssl-warnings\n",
      "  warnings.warn(\n"
     ]
    },
    {
     "name": "stdout",
     "output_type": "stream",
     "text": [
      "ghz_5qubits_montreal, status: Queued\n"
     ]
    },
    {
     "name": "stderr",
     "output_type": "stream",
     "text": [
      "/Users/teague/opt/miniconda3/envs/superEnv/lib/python3.8/site-packages/urllib3/connectionpool.py:1013: InsecureRequestWarning: Unverified HTTPS request is being made to host '127.0.0.1'. Adding certificate verification is strongly advised. See: https://urllib3.readthedocs.io/en/1.26.x/advanced-usage.html#ssl-warnings\n",
      "  warnings.warn(\n"
     ]
    },
    {
     "name": "stdout",
     "output_type": "stream",
     "text": [
      "ghz_5qubits_mumbai, status: Queued\n"
     ]
    },
    {
     "name": "stderr",
     "output_type": "stream",
     "text": [
      "/Users/teague/opt/miniconda3/envs/superEnv/lib/python3.8/site-packages/urllib3/connectionpool.py:1013: InsecureRequestWarning: Unverified HTTPS request is being made to host '127.0.0.1'. Adding certificate verification is strongly advised. See: https://urllib3.readthedocs.io/en/1.26.x/advanced-usage.html#ssl-warnings\n",
      "  warnings.warn(\n"
     ]
    },
    {
     "name": "stdout",
     "output_type": "stream",
     "text": [
      "ghz_5qubits_toronto, status: Done\n",
      "\tCounts: {'00000': 756, '00001': 11, '00010': 208, '00011': 20, '00100': 13, '00110': 6, '00111': 14, '01000': 9, '01001': 3, '01010': 1, '01011': 3, '01100': 3, '01101': 7, '01110': 4, '01111': 44, '10000': 38, '10001': 1, '10010': 6, '10011': 10, '10100': 4, '10101': 10, '10110': 1, '10111': 40, '11000': 13, '11001': 19, '11010': 3, '11011': 52, '11100': 16, '11101': 149, '11110': 19, '11111': 517}\n",
      "\tScore: 0.6308407868124074\n"
     ]
    },
    {
     "name": "stderr",
     "output_type": "stream",
     "text": [
      "/Users/teague/opt/miniconda3/envs/superEnv/lib/python3.8/site-packages/urllib3/connectionpool.py:1013: InsecureRequestWarning: Unverified HTTPS request is being made to host '127.0.0.1'. Adding certificate verification is strongly advised. See: https://urllib3.readthedocs.io/en/1.26.x/advanced-usage.html#ssl-warnings\n",
      "  warnings.warn(\n"
     ]
    },
    {
     "name": "stdout",
     "output_type": "stream",
     "text": [
      "ghz_5qubits_lagos, status: Queued\n"
     ]
    },
    {
     "name": "stderr",
     "output_type": "stream",
     "text": [
      "/Users/teague/opt/miniconda3/envs/superEnv/lib/python3.8/site-packages/urllib3/connectionpool.py:1013: InsecureRequestWarning: Unverified HTTPS request is being made to host '127.0.0.1'. Adding certificate verification is strongly advised. See: https://urllib3.readthedocs.io/en/1.26.x/advanced-usage.html#ssl-warnings\n",
      "  warnings.warn(\n"
     ]
    },
    {
     "name": "stdout",
     "output_type": "stream",
     "text": [
      "ghz_5qubits_santiago, status: Queued\n"
     ]
    },
    {
     "name": "stderr",
     "output_type": "stream",
     "text": [
      "/Users/teague/opt/miniconda3/envs/superEnv/lib/python3.8/site-packages/urllib3/connectionpool.py:1013: InsecureRequestWarning: Unverified HTTPS request is being made to host '127.0.0.1'. Adding certificate verification is strongly advised. See: https://urllib3.readthedocs.io/en/1.26.x/advanced-usage.html#ssl-warnings\n",
      "  warnings.warn(\n"
     ]
    },
    {
     "name": "stdout",
     "output_type": "stream",
     "text": [
      "ghz_5qubits_aspen9, status: Queued\n"
     ]
    },
    {
     "name": "stderr",
     "output_type": "stream",
     "text": [
      "/Users/teague/opt/miniconda3/envs/superEnv/lib/python3.8/site-packages/urllib3/connectionpool.py:1013: InsecureRequestWarning: Unverified HTTPS request is being made to host '127.0.0.1'. Adding certificate verification is strongly advised. See: https://urllib3.readthedocs.io/en/1.26.x/advanced-usage.html#ssl-warnings\n",
      "  warnings.warn(\n"
     ]
    },
    {
     "name": "stdout",
     "output_type": "stream",
     "text": [
      "ghz_5qubits_ionq, status: Queued\n"
     ]
    }
   ],
   "source": [
    "job_sum = sum([experiment[3] for experiment in ghz_jobs])\n",
    "if job_sum < len(ghz_jobs):\n",
    "    print(f'Completed {job_sum}/{len(ghz_jobs)} jobs')\n",
    "    for experiment in ghz_jobs:\n",
    "        name, benchmark, job, checked = experiment\n",
    "        status = job.status()\n",
    "        print(f'{name}, status: {status}')\n",
    "        if status == 'Done' and checked == 0:\n",
    "            try:\n",
    "                counts = job.counts()\n",
    "            except:\n",
    "                continue\n",
    "            score = benchmark.score(counts)\n",
    "            print('\\tCounts:', counts)\n",
    "            print('\\tScore:', score)\n",
    "            date = time.ctime().replace(' ', '-').replace(':', '-')\n",
    "            with open(f'benchmark_results/{name}_{date}.pickle', 'wb') as pklfile:\n",
    "                pickle.dump(\n",
    "                        {'name':name,\n",
    "                         'benchmark':benchmark,\n",
    "                         'job':job,\n",
    "                         'counts':counts,\n",
    "                         'score':score},\n",
    "                        pklfile)\n",
    "            experiment[3] = 1\n",
    "        elif status == 'Failed' and checked == 0:\n",
    "            experiment[3] = 1\n",
    "else:\n",
    "    print('All jobs completed')"
   ]
  },
  {
   "cell_type": "markdown",
   "id": "e6a8285b-6bb6-4308-9d8c-47567387f142",
   "metadata": {},
   "source": [
    "# Mermin-Bell benchmark\n",
    "## Submit jobs"
   ]
  },
  {
   "cell_type": "code",
   "execution_count": 17,
   "id": "9cf928b9-2878-4466-9a54-03a25d202166",
   "metadata": {
    "tags": []
   },
   "outputs": [],
   "source": [
    "merminbell_jobs = []"
   ]
  },
  {
   "cell_type": "code",
   "execution_count": 104,
   "id": "608db988-918b-4b92-9550-ef12f4fbd50f",
   "metadata": {
    "scrolled": true,
    "tags": []
   },
   "outputs": [
    {
     "name": "stdout",
     "output_type": "stream",
     "text": [
      "Created 3-qubit mermin-bell benchmark\n",
      "0: ───Rx(-0.5π)───@───────────@───────X───X───S───@───H───────M───\n",
      "                  │           │       │   │       │           │\n",
      "1: ───────────────X───@───H───┼───@───┼───@───────@───S───H───M───\n",
      "                      │       │   │   │                       │\n",
      "2: ───────────────────X───H───X───X───@───S───H───────────────M───\n"
     ]
    },
    {
     "name": "stderr",
     "output_type": "stream",
     "text": [
      "/Users/teague/opt/miniconda3/envs/superEnv/lib/python3.8/site-packages/urllib3/connectionpool.py:1013: InsecureRequestWarning: Unverified HTTPS request is being made to host '127.0.0.1'. Adding certificate verification is strongly advised. See: https://urllib3.readthedocs.io/en/1.26.x/advanced-usage.html#ssl-warnings\n",
      "  warnings.warn(\n",
      "/Users/teague/opt/miniconda3/envs/superEnv/lib/python3.8/site-packages/urllib3/connectionpool.py:1013: InsecureRequestWarning: Unverified HTTPS request is being made to host '127.0.0.1'. Adding certificate verification is strongly advised. See: https://urllib3.readthedocs.io/en/1.26.x/advanced-usage.html#ssl-warnings\n",
      "  warnings.warn(\n"
     ]
    },
    {
     "name": "stdout",
     "output_type": "stream",
     "text": [
      "Created IBM job: ['merminbell_3qubits_casablanca', <supermarq.benchmarks.mermin_bell.MerminBell object at 0x7f84f584dbe0>, <cirq_superstaq.job.Job object at 0x7f84f53233a0>, 0]\n"
     ]
    },
    {
     "name": "stderr",
     "output_type": "stream",
     "text": [
      "/Users/teague/opt/miniconda3/envs/superEnv/lib/python3.8/site-packages/urllib3/connectionpool.py:1013: InsecureRequestWarning: Unverified HTTPS request is being made to host '127.0.0.1'. Adding certificate verification is strongly advised. See: https://urllib3.readthedocs.io/en/1.26.x/advanced-usage.html#ssl-warnings\n",
      "  warnings.warn(\n",
      "/Users/teague/opt/miniconda3/envs/superEnv/lib/python3.8/site-packages/urllib3/connectionpool.py:1013: InsecureRequestWarning: Unverified HTTPS request is being made to host '127.0.0.1'. Adding certificate verification is strongly advised. See: https://urllib3.readthedocs.io/en/1.26.x/advanced-usage.html#ssl-warnings\n",
      "  warnings.warn(\n"
     ]
    },
    {
     "name": "stdout",
     "output_type": "stream",
     "text": [
      "Created IBM job: ['merminbell_3qubits_guadalupe', <supermarq.benchmarks.mermin_bell.MerminBell object at 0x7f84f584dbe0>, <cirq_superstaq.job.Job object at 0x7f84f48acbe0>, 0]\n"
     ]
    },
    {
     "name": "stderr",
     "output_type": "stream",
     "text": [
      "/Users/teague/opt/miniconda3/envs/superEnv/lib/python3.8/site-packages/urllib3/connectionpool.py:1013: InsecureRequestWarning: Unverified HTTPS request is being made to host '127.0.0.1'. Adding certificate verification is strongly advised. See: https://urllib3.readthedocs.io/en/1.26.x/advanced-usage.html#ssl-warnings\n",
      "  warnings.warn(\n",
      "/Users/teague/opt/miniconda3/envs/superEnv/lib/python3.8/site-packages/urllib3/connectionpool.py:1013: InsecureRequestWarning: Unverified HTTPS request is being made to host '127.0.0.1'. Adding certificate verification is strongly advised. See: https://urllib3.readthedocs.io/en/1.26.x/advanced-usage.html#ssl-warnings\n",
      "  warnings.warn(\n"
     ]
    },
    {
     "name": "stdout",
     "output_type": "stream",
     "text": [
      "Created IBM job: ['merminbell_3qubits_montreal', <supermarq.benchmarks.mermin_bell.MerminBell object at 0x7f84f584dbe0>, <cirq_superstaq.job.Job object at 0x7f84f5296e50>, 0]\n"
     ]
    },
    {
     "name": "stderr",
     "output_type": "stream",
     "text": [
      "/Users/teague/opt/miniconda3/envs/superEnv/lib/python3.8/site-packages/urllib3/connectionpool.py:1013: InsecureRequestWarning: Unverified HTTPS request is being made to host '127.0.0.1'. Adding certificate verification is strongly advised. See: https://urllib3.readthedocs.io/en/1.26.x/advanced-usage.html#ssl-warnings\n",
      "  warnings.warn(\n",
      "/Users/teague/opt/miniconda3/envs/superEnv/lib/python3.8/site-packages/urllib3/connectionpool.py:1013: InsecureRequestWarning: Unverified HTTPS request is being made to host '127.0.0.1'. Adding certificate verification is strongly advised. See: https://urllib3.readthedocs.io/en/1.26.x/advanced-usage.html#ssl-warnings\n",
      "  warnings.warn(\n"
     ]
    },
    {
     "name": "stdout",
     "output_type": "stream",
     "text": [
      "Created IBM job: ['merminbell_3qubits_mumbai', <supermarq.benchmarks.mermin_bell.MerminBell object at 0x7f84f584dbe0>, <cirq_superstaq.job.Job object at 0x7f84f498aa00>, 0]\n"
     ]
    },
    {
     "name": "stderr",
     "output_type": "stream",
     "text": [
      "/Users/teague/opt/miniconda3/envs/superEnv/lib/python3.8/site-packages/urllib3/connectionpool.py:1013: InsecureRequestWarning: Unverified HTTPS request is being made to host '127.0.0.1'. Adding certificate verification is strongly advised. See: https://urllib3.readthedocs.io/en/1.26.x/advanced-usage.html#ssl-warnings\n",
      "  warnings.warn(\n",
      "/Users/teague/opt/miniconda3/envs/superEnv/lib/python3.8/site-packages/urllib3/connectionpool.py:1013: InsecureRequestWarning: Unverified HTTPS request is being made to host '127.0.0.1'. Adding certificate verification is strongly advised. See: https://urllib3.readthedocs.io/en/1.26.x/advanced-usage.html#ssl-warnings\n",
      "  warnings.warn(\n"
     ]
    },
    {
     "name": "stdout",
     "output_type": "stream",
     "text": [
      "Created IBM job: ['merminbell_3qubits_lagos', <supermarq.benchmarks.mermin_bell.MerminBell object at 0x7f84f584dbe0>, <cirq_superstaq.job.Job object at 0x7f84f5317880>, 0]\n"
     ]
    },
    {
     "name": "stderr",
     "output_type": "stream",
     "text": [
      "/Users/teague/opt/miniconda3/envs/superEnv/lib/python3.8/site-packages/urllib3/connectionpool.py:1013: InsecureRequestWarning: Unverified HTTPS request is being made to host '127.0.0.1'. Adding certificate verification is strongly advised. See: https://urllib3.readthedocs.io/en/1.26.x/advanced-usage.html#ssl-warnings\n",
      "  warnings.warn(\n",
      "/Users/teague/opt/miniconda3/envs/superEnv/lib/python3.8/site-packages/urllib3/connectionpool.py:1013: InsecureRequestWarning: Unverified HTTPS request is being made to host '127.0.0.1'. Adding certificate verification is strongly advised. See: https://urllib3.readthedocs.io/en/1.26.x/advanced-usage.html#ssl-warnings\n",
      "  warnings.warn(\n"
     ]
    },
    {
     "name": "stdout",
     "output_type": "stream",
     "text": [
      "Created IBM job: ['merminbell_3qubits_santiago', <supermarq.benchmarks.mermin_bell.MerminBell object at 0x7f84f584dbe0>, <cirq_superstaq.job.Job object at 0x7f84f491ec40>, 0]\n"
     ]
    },
    {
     "name": "stderr",
     "output_type": "stream",
     "text": [
      "/Users/teague/opt/miniconda3/envs/superEnv/lib/python3.8/site-packages/urllib3/connectionpool.py:1013: InsecureRequestWarning: Unverified HTTPS request is being made to host '127.0.0.1'. Adding certificate verification is strongly advised. See: https://urllib3.readthedocs.io/en/1.26.x/advanced-usage.html#ssl-warnings\n",
      "  warnings.warn(\n",
      "/Users/teague/opt/miniconda3/envs/superEnv/lib/python3.8/site-packages/urllib3/connectionpool.py:1013: InsecureRequestWarning: Unverified HTTPS request is being made to host '127.0.0.1'. Adding certificate verification is strongly advised. See: https://urllib3.readthedocs.io/en/1.26.x/advanced-usage.html#ssl-warnings\n",
      "  warnings.warn(\n"
     ]
    },
    {
     "name": "stdout",
     "output_type": "stream",
     "text": [
      "Created AWS job: ['merminbell_3qubits_aspen9', <supermarq.benchmarks.mermin_bell.MerminBell object at 0x7f84f584dbe0>, <cirq_superstaq.job.Job object at 0x7f84f48ace80>, 0]\n"
     ]
    },
    {
     "name": "stderr",
     "output_type": "stream",
     "text": [
      "/Users/teague/opt/miniconda3/envs/superEnv/lib/python3.8/site-packages/urllib3/connectionpool.py:1013: InsecureRequestWarning: Unverified HTTPS request is being made to host '127.0.0.1'. Adding certificate verification is strongly advised. See: https://urllib3.readthedocs.io/en/1.26.x/advanced-usage.html#ssl-warnings\n",
      "  warnings.warn(\n",
      "/Users/teague/opt/miniconda3/envs/superEnv/lib/python3.8/site-packages/urllib3/connectionpool.py:1013: InsecureRequestWarning: Unverified HTTPS request is being made to host '127.0.0.1'. Adding certificate verification is strongly advised. See: https://urllib3.readthedocs.io/en/1.26.x/advanced-usage.html#ssl-warnings\n",
      "  warnings.warn(\n"
     ]
    },
    {
     "name": "stdout",
     "output_type": "stream",
     "text": [
      "Created AWS job: ['merminbell_3qubits_ionq', <supermarq.benchmarks.mermin_bell.MerminBell object at 0x7f84f584dbe0>, <cirq_superstaq.job.Job object at 0x7f84f4845610>, 0]\n",
      "Created 4-qubit mermin-bell benchmark\n",
      "                                  ┌──┐                               ┌──┐\n",
      "0: ───Rx(-0.5π)───@────────────────@─────────────X───X───X───S───@─────@────H───────────M───\n",
      "                  │                │             │   │   │       │     │                │\n",
      "1: ───────────────X───@───H────────┼×────@───────┼───┼───@───────@────S┼────@───H───────M───\n",
      "                      │            ││    │       │   │                 │    │           │\n",
      "2: ───────────────────X───@───H────┼×────┼───@───┼───@─────────────────@────@───S───H───M───\n",
      "                          │        │     │   │   │                                      │\n",
      "3: ───────────────────────X───H────X─────X───X───@───S───H──────────────────────────────M───\n",
      "                                  └──┘                               └──┘\n"
     ]
    },
    {
     "name": "stderr",
     "output_type": "stream",
     "text": [
      "/Users/teague/opt/miniconda3/envs/superEnv/lib/python3.8/site-packages/urllib3/connectionpool.py:1013: InsecureRequestWarning: Unverified HTTPS request is being made to host '127.0.0.1'. Adding certificate verification is strongly advised. See: https://urllib3.readthedocs.io/en/1.26.x/advanced-usage.html#ssl-warnings\n",
      "  warnings.warn(\n",
      "/Users/teague/opt/miniconda3/envs/superEnv/lib/python3.8/site-packages/urllib3/connectionpool.py:1013: InsecureRequestWarning: Unverified HTTPS request is being made to host '127.0.0.1'. Adding certificate verification is strongly advised. See: https://urllib3.readthedocs.io/en/1.26.x/advanced-usage.html#ssl-warnings\n",
      "  warnings.warn(\n"
     ]
    },
    {
     "name": "stdout",
     "output_type": "stream",
     "text": [
      "Created IBM job: ['merminbell_4qubits_casablanca', <supermarq.benchmarks.mermin_bell.MerminBell object at 0x7f84f52a9cd0>, <cirq_superstaq.job.Job object at 0x7f84f5329be0>, 0]\n"
     ]
    },
    {
     "name": "stderr",
     "output_type": "stream",
     "text": [
      "/Users/teague/opt/miniconda3/envs/superEnv/lib/python3.8/site-packages/urllib3/connectionpool.py:1013: InsecureRequestWarning: Unverified HTTPS request is being made to host '127.0.0.1'. Adding certificate verification is strongly advised. See: https://urllib3.readthedocs.io/en/1.26.x/advanced-usage.html#ssl-warnings\n",
      "  warnings.warn(\n",
      "/Users/teague/opt/miniconda3/envs/superEnv/lib/python3.8/site-packages/urllib3/connectionpool.py:1013: InsecureRequestWarning: Unverified HTTPS request is being made to host '127.0.0.1'. Adding certificate verification is strongly advised. See: https://urllib3.readthedocs.io/en/1.26.x/advanced-usage.html#ssl-warnings\n",
      "  warnings.warn(\n"
     ]
    },
    {
     "name": "stdout",
     "output_type": "stream",
     "text": [
      "Created IBM job: ['merminbell_4qubits_guadalupe', <supermarq.benchmarks.mermin_bell.MerminBell object at 0x7f84f52a9cd0>, <cirq_superstaq.job.Job object at 0x7f84f5800f70>, 0]\n"
     ]
    },
    {
     "name": "stderr",
     "output_type": "stream",
     "text": [
      "/Users/teague/opt/miniconda3/envs/superEnv/lib/python3.8/site-packages/urllib3/connectionpool.py:1013: InsecureRequestWarning: Unverified HTTPS request is being made to host '127.0.0.1'. Adding certificate verification is strongly advised. See: https://urllib3.readthedocs.io/en/1.26.x/advanced-usage.html#ssl-warnings\n",
      "  warnings.warn(\n",
      "/Users/teague/opt/miniconda3/envs/superEnv/lib/python3.8/site-packages/urllib3/connectionpool.py:1013: InsecureRequestWarning: Unverified HTTPS request is being made to host '127.0.0.1'. Adding certificate verification is strongly advised. See: https://urllib3.readthedocs.io/en/1.26.x/advanced-usage.html#ssl-warnings\n",
      "  warnings.warn(\n"
     ]
    },
    {
     "name": "stdout",
     "output_type": "stream",
     "text": [
      "Created IBM job: ['merminbell_4qubits_montreal', <supermarq.benchmarks.mermin_bell.MerminBell object at 0x7f84f52a9cd0>, <cirq_superstaq.job.Job object at 0x7f84f4c63be0>, 0]\n"
     ]
    },
    {
     "name": "stderr",
     "output_type": "stream",
     "text": [
      "/Users/teague/opt/miniconda3/envs/superEnv/lib/python3.8/site-packages/urllib3/connectionpool.py:1013: InsecureRequestWarning: Unverified HTTPS request is being made to host '127.0.0.1'. Adding certificate verification is strongly advised. See: https://urllib3.readthedocs.io/en/1.26.x/advanced-usage.html#ssl-warnings\n",
      "  warnings.warn(\n",
      "/Users/teague/opt/miniconda3/envs/superEnv/lib/python3.8/site-packages/urllib3/connectionpool.py:1013: InsecureRequestWarning: Unverified HTTPS request is being made to host '127.0.0.1'. Adding certificate verification is strongly advised. See: https://urllib3.readthedocs.io/en/1.26.x/advanced-usage.html#ssl-warnings\n",
      "  warnings.warn(\n"
     ]
    },
    {
     "name": "stdout",
     "output_type": "stream",
     "text": [
      "Created IBM job: ['merminbell_4qubits_mumbai', <supermarq.benchmarks.mermin_bell.MerminBell object at 0x7f84f52a9cd0>, <cirq_superstaq.job.Job object at 0x7f84f52a5700>, 0]\n"
     ]
    },
    {
     "name": "stderr",
     "output_type": "stream",
     "text": [
      "/Users/teague/opt/miniconda3/envs/superEnv/lib/python3.8/site-packages/urllib3/connectionpool.py:1013: InsecureRequestWarning: Unverified HTTPS request is being made to host '127.0.0.1'. Adding certificate verification is strongly advised. See: https://urllib3.readthedocs.io/en/1.26.x/advanced-usage.html#ssl-warnings\n",
      "  warnings.warn(\n",
      "/Users/teague/opt/miniconda3/envs/superEnv/lib/python3.8/site-packages/urllib3/connectionpool.py:1013: InsecureRequestWarning: Unverified HTTPS request is being made to host '127.0.0.1'. Adding certificate verification is strongly advised. See: https://urllib3.readthedocs.io/en/1.26.x/advanced-usage.html#ssl-warnings\n",
      "  warnings.warn(\n"
     ]
    },
    {
     "name": "stdout",
     "output_type": "stream",
     "text": [
      "Created IBM job: ['merminbell_4qubits_lagos', <supermarq.benchmarks.mermin_bell.MerminBell object at 0x7f84f52a9cd0>, <cirq_superstaq.job.Job object at 0x7f84f4bc0820>, 0]\n"
     ]
    },
    {
     "name": "stderr",
     "output_type": "stream",
     "text": [
      "/Users/teague/opt/miniconda3/envs/superEnv/lib/python3.8/site-packages/urllib3/connectionpool.py:1013: InsecureRequestWarning: Unverified HTTPS request is being made to host '127.0.0.1'. Adding certificate verification is strongly advised. See: https://urllib3.readthedocs.io/en/1.26.x/advanced-usage.html#ssl-warnings\n",
      "  warnings.warn(\n",
      "/Users/teague/opt/miniconda3/envs/superEnv/lib/python3.8/site-packages/urllib3/connectionpool.py:1013: InsecureRequestWarning: Unverified HTTPS request is being made to host '127.0.0.1'. Adding certificate verification is strongly advised. See: https://urllib3.readthedocs.io/en/1.26.x/advanced-usage.html#ssl-warnings\n",
      "  warnings.warn(\n"
     ]
    },
    {
     "name": "stdout",
     "output_type": "stream",
     "text": [
      "Created IBM job: ['merminbell_4qubits_santiago', <supermarq.benchmarks.mermin_bell.MerminBell object at 0x7f84f52a9cd0>, <cirq_superstaq.job.Job object at 0x7f84f5806760>, 0]\n"
     ]
    },
    {
     "name": "stderr",
     "output_type": "stream",
     "text": [
      "/Users/teague/opt/miniconda3/envs/superEnv/lib/python3.8/site-packages/urllib3/connectionpool.py:1013: InsecureRequestWarning: Unverified HTTPS request is being made to host '127.0.0.1'. Adding certificate verification is strongly advised. See: https://urllib3.readthedocs.io/en/1.26.x/advanced-usage.html#ssl-warnings\n",
      "  warnings.warn(\n",
      "/Users/teague/opt/miniconda3/envs/superEnv/lib/python3.8/site-packages/urllib3/connectionpool.py:1013: InsecureRequestWarning: Unverified HTTPS request is being made to host '127.0.0.1'. Adding certificate verification is strongly advised. See: https://urllib3.readthedocs.io/en/1.26.x/advanced-usage.html#ssl-warnings\n",
      "  warnings.warn(\n"
     ]
    },
    {
     "name": "stdout",
     "output_type": "stream",
     "text": [
      "Created AWS job: ['merminbell_4qubits_aspen9', <supermarq.benchmarks.mermin_bell.MerminBell object at 0x7f84f52a9cd0>, <cirq_superstaq.job.Job object at 0x7f84f491b9a0>, 0]\n"
     ]
    },
    {
     "name": "stderr",
     "output_type": "stream",
     "text": [
      "/Users/teague/opt/miniconda3/envs/superEnv/lib/python3.8/site-packages/urllib3/connectionpool.py:1013: InsecureRequestWarning: Unverified HTTPS request is being made to host '127.0.0.1'. Adding certificate verification is strongly advised. See: https://urllib3.readthedocs.io/en/1.26.x/advanced-usage.html#ssl-warnings\n",
      "  warnings.warn(\n",
      "/Users/teague/opt/miniconda3/envs/superEnv/lib/python3.8/site-packages/urllib3/connectionpool.py:1013: InsecureRequestWarning: Unverified HTTPS request is being made to host '127.0.0.1'. Adding certificate verification is strongly advised. See: https://urllib3.readthedocs.io/en/1.26.x/advanced-usage.html#ssl-warnings\n",
      "  warnings.warn(\n"
     ]
    },
    {
     "name": "stdout",
     "output_type": "stream",
     "text": [
      "Created AWS job: ['merminbell_4qubits_ionq', <supermarq.benchmarks.mermin_bell.MerminBell object at 0x7f84f52a9cd0>, <cirq_superstaq.job.Job object at 0x7f84f5aa2bb0>, 0]\n"
     ]
    }
   ],
   "source": [
    "# Run Mermin-Bell benchmarks\n",
    "for nq in [3, 4]:\n",
    "    merminbell = sm.mermin_bell.MerminBell(nq)\n",
    "    print(f'Created {nq}-qubit mermin-bell benchmark')\n",
    "    print(merminbell.circuit())\n",
    "\n",
    "    # ibmq_casablanca, 7 qubits\n",
    "    if nq <= 7:\n",
    "        merminbell_jobs.append([\n",
    "            f'merminbell_{nq}qubits_casablanca',\n",
    "            merminbell,\n",
    "            ornl_service.create_job(circuit=merminbell.circuit(), repetitions=ibm_shots, target=\"ibmq_casablanca\"),\n",
    "            0,\n",
    "        ])\n",
    "        print(\"Created IBM job:\", merminbell_jobs[-1])\n",
    "\n",
    "    # ibmq_guadalupe, 16 qubits\n",
    "    if nq <= 16:\n",
    "        merminbell_jobs.append([\n",
    "            f'merminbell_{nq}qubits_guadalupe',\n",
    "            merminbell,\n",
    "            ornl_service.create_job(circuit=merminbell.circuit(), repetitions=ibm_shots, target=\"ibmq_guadalupe\"),\n",
    "            0,\n",
    "        ])\n",
    "        print(\"Created IBM job:\", merminbell_jobs[-1])\n",
    "\n",
    "    # ibmq_montreal, 27 qubits\n",
    "    if nq <= 27:\n",
    "        merminbell_jobs.append([\n",
    "            f'merminbell_{nq}qubits_montreal',\n",
    "            merminbell,\n",
    "            ornl_service.create_job(circuit=merminbell.circuit(), repetitions=ibm_shots, target=\"ibmq_montreal\"),\n",
    "            0,\n",
    "        ])\n",
    "        print(\"Created IBM job:\", merminbell_jobs[-1])\n",
    "        \n",
    "    # ibmq_mumbai, 27 qubits\n",
    "    if nq <= 27:\n",
    "        merminbell_jobs.append([\n",
    "            f'merminbell_{nq}qubits_mumbai',\n",
    "            merminbell,\n",
    "            ornl_service.create_job(circuit=merminbell.circuit(), repetitions=ibm_shots, target=\"ibmq_mumbai\"),\n",
    "            0,\n",
    "        ])\n",
    "        print(\"Created IBM job:\", merminbell_jobs[-1])\n",
    "    \n",
    "    # ibmq_toronto, 27 qubits\n",
    "    #if nq <= 27:\n",
    "    #    merminbell_jobs.append([\n",
    "    #        f'merminbell_{nq}qubits_toronto',\n",
    "    #        merminbell,\n",
    "    #        ornl_service.create_job(circuit=merminbell.circuit(), repetitions=ibm_shots, target=\"ibmq_toronto\"),\n",
    "    #        0,\n",
    "    #    ])\n",
    "    #    print(\"Created IBM job:\", merminbell_jobs[-1])\n",
    "    \n",
    "    # ibmq_lagos, 7 qubits\n",
    "    if nq <= 7:\n",
    "        merminbell_jobs.append([\n",
    "            f'merminbell_{nq}qubits_lagos',\n",
    "            merminbell,\n",
    "            supertech_service.create_job(circuit=merminbell.circuit(), repetitions=ibm_shots, target=\"ibm_lagos\"),\n",
    "            0,\n",
    "        ])\n",
    "        print(\"Created IBM job:\", merminbell_jobs[-1])\n",
    "        \n",
    "    # ibmq_santiago, 5 qubits\n",
    "    if nq <= 5:\n",
    "        merminbell_jobs.append([\n",
    "            f'merminbell_{nq}qubits_santiago',\n",
    "            merminbell,\n",
    "            supertech_service.create_job(circuit=merminbell.circuit(), repetitions=ibm_shots, target=\"ibmq_santiago\"),\n",
    "            0,\n",
    "        ])\n",
    "        print(\"Created IBM job:\", merminbell_jobs[-1])\n",
    "\n",
    "    # rigetti_aspen9, 32 qubits\n",
    "    if nq <= 32:\n",
    "        merminbell_jobs.append([\n",
    "            f'merminbell_{nq}qubits_aspen9',\n",
    "            merminbell,\n",
    "            ornl_service.create_job(circuit=merminbell.circuit(), repetitions=rigetti_shots, target=\"rigetti_aspen\"),\n",
    "            0,\n",
    "        ])\n",
    "        print(\"Created AWS job:\", merminbell_jobs[-1])\n",
    "        \n",
    "    # ionq, 11 qubits\n",
    "    if nq <= 11:\n",
    "        merminbell_jobs.append([\n",
    "            f'merminbell_{nq}qubits_ionq',\n",
    "            merminbell,\n",
    "            ornl_service.create_job(circuit=merminbell.circuit(), repetitions=ionq_shots, target=\"ionq_ion\"),\n",
    "            0,\n",
    "        ])\n",
    "        print(\"Created AWS job:\", merminbell_jobs[-1])"
   ]
  },
  {
   "cell_type": "markdown",
   "id": "f103ca3b-cf22-4977-a873-62d492c7c0f3",
   "metadata": {},
   "source": [
    "## Compute scores and store results"
   ]
  },
  {
   "cell_type": "code",
   "execution_count": 130,
   "id": "00093613-cfbb-4633-8816-dee0e7d57d14",
   "metadata": {
    "scrolled": true,
    "tags": []
   },
   "outputs": [
    {
     "name": "stdout",
     "output_type": "stream",
     "text": [
      "Completed 72/76 jobs\n",
      "merminbell_3qubits_casablanca, status: Done\n",
      "merminbell_3qubits_guadalupe, status: Done\n",
      "merminbell_3qubits_montreal, status: Done\n",
      "merminbell_3qubits_toronto, status: Done\n",
      "merminbell_3qubits_lagos, status: Done\n",
      "merminbell_3qubits_santiago, status: Done\n",
      "merminbell_3qubits_aspen9, status: Done\n",
      "merminbell_3qubits_ionq, status: Done\n",
      "merminbell_4qubits_casablanca, status: Done\n",
      "merminbell_4qubits_guadalupe, status: Done\n",
      "merminbell_4qubits_montreal, status: Done\n",
      "merminbell_4qubits_toronto, status: Done\n",
      "merminbell_4qubits_lagos, status: Done\n",
      "merminbell_4qubits_santiago, status: Done\n",
      "merminbell_4qubits_aspen9, status: Done\n",
      "merminbell_4qubits_ionq, status: Done\n",
      "merminbell_3qubits_casablanca, status: Done\n",
      "merminbell_3qubits_guadalupe, status: Done\n",
      "merminbell_3qubits_montreal, status: Done\n"
     ]
    },
    {
     "name": "stderr",
     "output_type": "stream",
     "text": [
      "/Users/teague/opt/miniconda3/envs/superEnv/lib/python3.8/site-packages/urllib3/connectionpool.py:1013: InsecureRequestWarning: Unverified HTTPS request is being made to host '127.0.0.1'. Adding certificate verification is strongly advised. See: https://urllib3.readthedocs.io/en/1.26.x/advanced-usage.html#ssl-warnings\n",
      "  warnings.warn(\n"
     ]
    },
    {
     "name": "stdout",
     "output_type": "stream",
     "text": [
      "merminbell_3qubits_toronto, status: Done\n",
      "<mermin_op> = 2.6559999999999997\n",
      "\tCounts: {'000': 97, '001': 1404, '010': 33, '011': 111, '100': 33, '101': 101, '110': 76, '111': 145}\n",
      "\tScore: 0.832\n",
      "merminbell_3qubits_lagos, status: Done\n",
      "merminbell_3qubits_santiago, status: Done\n",
      "merminbell_3qubits_aspen9, status: Done\n",
      "merminbell_3qubits_ionq, status: Done\n",
      "merminbell_4qubits_casablanca, status: Done\n",
      "merminbell_4qubits_guadalupe, status: Done\n",
      "merminbell_4qubits_montreal, status: Done\n"
     ]
    },
    {
     "name": "stderr",
     "output_type": "stream",
     "text": [
      "/Users/teague/opt/miniconda3/envs/superEnv/lib/python3.8/site-packages/urllib3/connectionpool.py:1013: InsecureRequestWarning: Unverified HTTPS request is being made to host '127.0.0.1'. Adding certificate verification is strongly advised. See: https://urllib3.readthedocs.io/en/1.26.x/advanced-usage.html#ssl-warnings\n",
      "  warnings.warn(\n"
     ]
    },
    {
     "name": "stdout",
     "output_type": "stream",
     "text": [
      "merminbell_4qubits_toronto, status: Done\n",
      "<mermin_op> = -1.076\n",
      "\tCounts: {'0000': 99, '0001': 262, '0010': 54, '0011': 64, '0100': 50, '0101': 58, '0110': 97, '0111': 47, '1000': 79, '1001': 103, '1010': 106, '1011': 44, '1100': 110, '1101': 85, '1110': 531, '1111': 211}\n",
      "\tScore: 0.43274999999999997\n",
      "merminbell_4qubits_lagos, status: Done\n",
      "merminbell_4qubits_santiago, status: Done\n",
      "merminbell_4qubits_aspen9, status: Done\n",
      "merminbell_4qubits_ionq, status: Done\n",
      "merminbell_3qubits_casablanca, status: Done\n",
      "merminbell_3qubits_guadalupe, status: Done\n",
      "merminbell_3qubits_montreal, status: Done\n",
      "merminbell_3qubits_lagos, status: Done\n",
      "merminbell_3qubits_santiago, status: Done\n",
      "merminbell_3qubits_aspen9, status: Done\n",
      "merminbell_3qubits_ionq, status: Done\n",
      "merminbell_4qubits_casablanca, status: Done\n",
      "merminbell_4qubits_guadalupe, status: Done\n",
      "merminbell_4qubits_montreal, status: Done\n",
      "merminbell_4qubits_lagos, status: Done\n",
      "merminbell_4qubits_santiago, status: Done\n",
      "merminbell_4qubits_aspen9, status: Done\n",
      "merminbell_4qubits_ionq, status: Done\n",
      "merminbell_3qubits_casablanca, status: Done\n",
      "merminbell_3qubits_guadalupe, status: Done\n",
      "merminbell_3qubits_montreal, status: Done\n",
      "merminbell_3qubits_lagos, status: Done\n",
      "merminbell_3qubits_santiago, status: Done\n",
      "merminbell_3qubits_aspen9, status: Done\n",
      "merminbell_3qubits_ionq, status: Done\n",
      "merminbell_4qubits_casablanca, status: Done\n",
      "merminbell_4qubits_guadalupe, status: Done\n",
      "merminbell_4qubits_montreal, status: Done\n",
      "merminbell_4qubits_lagos, status: Done\n",
      "merminbell_4qubits_santiago, status: Done\n",
      "merminbell_4qubits_aspen9, status: Done\n",
      "merminbell_4qubits_ionq, status: Done\n",
      "merminbell_3qubits_casablanca, status: Done\n",
      "merminbell_3qubits_guadalupe, status: Done\n",
      "merminbell_3qubits_montreal, status: Done\n"
     ]
    },
    {
     "name": "stderr",
     "output_type": "stream",
     "text": [
      "/Users/teague/opt/miniconda3/envs/superEnv/lib/python3.8/site-packages/urllib3/connectionpool.py:1013: InsecureRequestWarning: Unverified HTTPS request is being made to host '127.0.0.1'. Adding certificate verification is strongly advised. See: https://urllib3.readthedocs.io/en/1.26.x/advanced-usage.html#ssl-warnings\n",
      "  warnings.warn(\n"
     ]
    },
    {
     "name": "stdout",
     "output_type": "stream",
     "text": [
      "merminbell_3qubits_mumbai, status: Queued\n",
      "merminbell_3qubits_lagos, status: Done\n",
      "merminbell_3qubits_santiago, status: Done\n",
      "merminbell_3qubits_aspen9, status: Done\n",
      "merminbell_3qubits_ionq, status: Done\n",
      "merminbell_4qubits_casablanca, status: Done\n",
      "merminbell_4qubits_guadalupe, status: Done\n",
      "merminbell_4qubits_montreal, status: Done\n"
     ]
    },
    {
     "name": "stderr",
     "output_type": "stream",
     "text": [
      "/Users/teague/opt/miniconda3/envs/superEnv/lib/python3.8/site-packages/urllib3/connectionpool.py:1013: InsecureRequestWarning: Unverified HTTPS request is being made to host '127.0.0.1'. Adding certificate verification is strongly advised. See: https://urllib3.readthedocs.io/en/1.26.x/advanced-usage.html#ssl-warnings\n",
      "  warnings.warn(\n"
     ]
    },
    {
     "name": "stdout",
     "output_type": "stream",
     "text": [
      "merminbell_4qubits_mumbai, status: Queued\n",
      "merminbell_4qubits_lagos, status: Done\n",
      "merminbell_4qubits_santiago, status: Done\n",
      "merminbell_4qubits_aspen9, status: Done\n",
      "merminbell_4qubits_ionq, status: Done\n"
     ]
    }
   ],
   "source": [
    "job_sum = sum([experiment[3] for experiment in merminbell_jobs])\n",
    "if job_sum < len(merminbell_jobs):\n",
    "    print(f'Completed {job_sum}/{len(merminbell_jobs)} jobs')\n",
    "    for experiment in merminbell_jobs:\n",
    "        name, benchmark, job, checked = experiment\n",
    "        status = job.status()\n",
    "        print(f'{name}, status: {status}')\n",
    "        if status == 'Done' and checked == 0:\n",
    "            try:\n",
    "                counts = job.counts()\n",
    "            except:\n",
    "                continue\n",
    "            score = benchmark.score(counts)\n",
    "            print('\\tCounts:', counts)\n",
    "            print('\\tScore:', score)\n",
    "            date = time.ctime().replace(' ', '-').replace(':', '-')\n",
    "            with open(f'benchmark_results/{name}_{date}.pickle', 'wb') as pklfile:\n",
    "                pickle.dump(\n",
    "                        {'name':name,\n",
    "                         'benchmark':benchmark,\n",
    "                         'job':job,\n",
    "                         'counts':counts,\n",
    "                         'score':score},\n",
    "                        pklfile)\n",
    "            experiment[3] = 1\n",
    "        elif status == 'Failed' and checked == 0:\n",
    "            experiment[3] = 1\n",
    "else:\n",
    "    print('All jobs completed')"
   ]
  },
  {
   "cell_type": "markdown",
   "id": "b15a87fb-528b-4d1a-b286-eb01ff600ffe",
   "metadata": {},
   "source": [
    "# Hamiltonian Simulation benchmark\n",
    "## Submit jobs"
   ]
  },
  {
   "cell_type": "code",
   "execution_count": 20,
   "id": "6b6430b8-d074-496b-a51a-46e124e6c0d4",
   "metadata": {
    "tags": []
   },
   "outputs": [],
   "source": [
    "hamsim_jobs = []"
   ]
  },
  {
   "cell_type": "code",
   "execution_count": 143,
   "id": "54397a2e-adda-4512-bd85-12503d71ae2f",
   "metadata": {
    "scrolled": true,
    "tags": []
   },
   "outputs": [
    {
     "name": "stdout",
     "output_type": "stream",
     "text": [
      "Created 4-qubit, 1-step Hamiltonian Simulation benchmark\n",
      "0: ───H───Rz(-0.75π)───H───@───────────────@───────────────────────────────────────────M───\n",
      "                           │               │                                           │\n",
      "1: ───H───Rz(-0.75π)───H───X───Rz(-0.5π)───X───@───────────────@───────────────────────M───\n",
      "                                               │               │                       │\n",
      "2: ───H───Rz(-0.75π)───H───────────────────────X───Rz(-0.5π)───X───@───────────────@───M───\n",
      "                                                                   │               │   │\n",
      "3: ───H───Rz(-0.75π)───H───────────────────────────────────────────X───Rz(-0.5π)───X───M───\n"
     ]
    },
    {
     "name": "stderr",
     "output_type": "stream",
     "text": [
      "/Users/teague/opt/miniconda3/envs/superEnv/lib/python3.8/site-packages/urllib3/connectionpool.py:1013: InsecureRequestWarning: Unverified HTTPS request is being made to host '127.0.0.1'. Adding certificate verification is strongly advised. See: https://urllib3.readthedocs.io/en/1.26.x/advanced-usage.html#ssl-warnings\n",
      "  warnings.warn(\n",
      "/Users/teague/opt/miniconda3/envs/superEnv/lib/python3.8/site-packages/urllib3/connectionpool.py:1013: InsecureRequestWarning: Unverified HTTPS request is being made to host '127.0.0.1'. Adding certificate verification is strongly advised. See: https://urllib3.readthedocs.io/en/1.26.x/advanced-usage.html#ssl-warnings\n",
      "  warnings.warn(\n"
     ]
    },
    {
     "name": "stdout",
     "output_type": "stream",
     "text": [
      "Created IBM job: ['hamsim_4qubits1steps_casablanca', <supermarq.benchmarks.hamiltonian_simulation.HamiltonianSimulation object at 0x7f84f52888b0>, <cirq_superstaq.job.Job object at 0x7f84f53324f0>, 0]\n"
     ]
    },
    {
     "name": "stderr",
     "output_type": "stream",
     "text": [
      "/Users/teague/opt/miniconda3/envs/superEnv/lib/python3.8/site-packages/urllib3/connectionpool.py:1013: InsecureRequestWarning: Unverified HTTPS request is being made to host '127.0.0.1'. Adding certificate verification is strongly advised. See: https://urllib3.readthedocs.io/en/1.26.x/advanced-usage.html#ssl-warnings\n",
      "  warnings.warn(\n",
      "/Users/teague/opt/miniconda3/envs/superEnv/lib/python3.8/site-packages/urllib3/connectionpool.py:1013: InsecureRequestWarning: Unverified HTTPS request is being made to host '127.0.0.1'. Adding certificate verification is strongly advised. See: https://urllib3.readthedocs.io/en/1.26.x/advanced-usage.html#ssl-warnings\n",
      "  warnings.warn(\n"
     ]
    },
    {
     "name": "stdout",
     "output_type": "stream",
     "text": [
      "Created IBM job: ['hamsim_4qubits1steps_guadalupe', <supermarq.benchmarks.hamiltonian_simulation.HamiltonianSimulation object at 0x7f84f52888b0>, <cirq_superstaq.job.Job object at 0x7f84f498aee0>, 0]\n"
     ]
    },
    {
     "name": "stderr",
     "output_type": "stream",
     "text": [
      "/Users/teague/opt/miniconda3/envs/superEnv/lib/python3.8/site-packages/urllib3/connectionpool.py:1013: InsecureRequestWarning: Unverified HTTPS request is being made to host '127.0.0.1'. Adding certificate verification is strongly advised. See: https://urllib3.readthedocs.io/en/1.26.x/advanced-usage.html#ssl-warnings\n",
      "  warnings.warn(\n",
      "/Users/teague/opt/miniconda3/envs/superEnv/lib/python3.8/site-packages/urllib3/connectionpool.py:1013: InsecureRequestWarning: Unverified HTTPS request is being made to host '127.0.0.1'. Adding certificate verification is strongly advised. See: https://urllib3.readthedocs.io/en/1.26.x/advanced-usage.html#ssl-warnings\n",
      "  warnings.warn(\n"
     ]
    },
    {
     "name": "stdout",
     "output_type": "stream",
     "text": [
      "Created IBM job: ['hamsim_4qubits1steps_montreal', <supermarq.benchmarks.hamiltonian_simulation.HamiltonianSimulation object at 0x7f84f52888b0>, <cirq_superstaq.job.Job object at 0x7f84f48ac190>, 0]\n"
     ]
    },
    {
     "name": "stderr",
     "output_type": "stream",
     "text": [
      "/Users/teague/opt/miniconda3/envs/superEnv/lib/python3.8/site-packages/urllib3/connectionpool.py:1013: InsecureRequestWarning: Unverified HTTPS request is being made to host '127.0.0.1'. Adding certificate verification is strongly advised. See: https://urllib3.readthedocs.io/en/1.26.x/advanced-usage.html#ssl-warnings\n",
      "  warnings.warn(\n",
      "/Users/teague/opt/miniconda3/envs/superEnv/lib/python3.8/site-packages/urllib3/connectionpool.py:1013: InsecureRequestWarning: Unverified HTTPS request is being made to host '127.0.0.1'. Adding certificate verification is strongly advised. See: https://urllib3.readthedocs.io/en/1.26.x/advanced-usage.html#ssl-warnings\n",
      "  warnings.warn(\n"
     ]
    },
    {
     "name": "stdout",
     "output_type": "stream",
     "text": [
      "Created IBM job: ['hamsim_4qubits1steps_mumbai', <supermarq.benchmarks.hamiltonian_simulation.HamiltonianSimulation object at 0x7f84f52888b0>, <cirq_superstaq.job.Job object at 0x7f84f567fa30>, 0]\n"
     ]
    },
    {
     "name": "stderr",
     "output_type": "stream",
     "text": [
      "/Users/teague/opt/miniconda3/envs/superEnv/lib/python3.8/site-packages/urllib3/connectionpool.py:1013: InsecureRequestWarning: Unverified HTTPS request is being made to host '127.0.0.1'. Adding certificate verification is strongly advised. See: https://urllib3.readthedocs.io/en/1.26.x/advanced-usage.html#ssl-warnings\n",
      "  warnings.warn(\n",
      "/Users/teague/opt/miniconda3/envs/superEnv/lib/python3.8/site-packages/urllib3/connectionpool.py:1013: InsecureRequestWarning: Unverified HTTPS request is being made to host '127.0.0.1'. Adding certificate verification is strongly advised. See: https://urllib3.readthedocs.io/en/1.26.x/advanced-usage.html#ssl-warnings\n",
      "  warnings.warn(\n"
     ]
    },
    {
     "name": "stdout",
     "output_type": "stream",
     "text": [
      "Created IBM job: ['hamsim_4qubits1steps_toronto', <supermarq.benchmarks.hamiltonian_simulation.HamiltonianSimulation object at 0x7f84f52888b0>, <cirq_superstaq.job.Job object at 0x7f84f5aa5880>, 0]\n"
     ]
    },
    {
     "name": "stderr",
     "output_type": "stream",
     "text": [
      "/Users/teague/opt/miniconda3/envs/superEnv/lib/python3.8/site-packages/urllib3/connectionpool.py:1013: InsecureRequestWarning: Unverified HTTPS request is being made to host '127.0.0.1'. Adding certificate verification is strongly advised. See: https://urllib3.readthedocs.io/en/1.26.x/advanced-usage.html#ssl-warnings\n",
      "  warnings.warn(\n",
      "/Users/teague/opt/miniconda3/envs/superEnv/lib/python3.8/site-packages/urllib3/connectionpool.py:1013: InsecureRequestWarning: Unverified HTTPS request is being made to host '127.0.0.1'. Adding certificate verification is strongly advised. See: https://urllib3.readthedocs.io/en/1.26.x/advanced-usage.html#ssl-warnings\n",
      "  warnings.warn(\n"
     ]
    },
    {
     "name": "stdout",
     "output_type": "stream",
     "text": [
      "Created IBM job: ['hamsim_4qubits1steps_lagos', <supermarq.benchmarks.hamiltonian_simulation.HamiltonianSimulation object at 0x7f84f52888b0>, <cirq_superstaq.job.Job object at 0x7f84f48482b0>, 0]\n"
     ]
    },
    {
     "name": "stderr",
     "output_type": "stream",
     "text": [
      "/Users/teague/opt/miniconda3/envs/superEnv/lib/python3.8/site-packages/urllib3/connectionpool.py:1013: InsecureRequestWarning: Unverified HTTPS request is being made to host '127.0.0.1'. Adding certificate verification is strongly advised. See: https://urllib3.readthedocs.io/en/1.26.x/advanced-usage.html#ssl-warnings\n",
      "  warnings.warn(\n",
      "/Users/teague/opt/miniconda3/envs/superEnv/lib/python3.8/site-packages/urllib3/connectionpool.py:1013: InsecureRequestWarning: Unverified HTTPS request is being made to host '127.0.0.1'. Adding certificate verification is strongly advised. See: https://urllib3.readthedocs.io/en/1.26.x/advanced-usage.html#ssl-warnings\n",
      "  warnings.warn(\n"
     ]
    },
    {
     "name": "stdout",
     "output_type": "stream",
     "text": [
      "Created IBM job: ['hamsim_4qubits1steps_santiago', <supermarq.benchmarks.hamiltonian_simulation.HamiltonianSimulation object at 0x7f84f52888b0>, <cirq_superstaq.job.Job object at 0x7f84f567f9d0>, 0]\n"
     ]
    },
    {
     "name": "stderr",
     "output_type": "stream",
     "text": [
      "/Users/teague/opt/miniconda3/envs/superEnv/lib/python3.8/site-packages/urllib3/connectionpool.py:1013: InsecureRequestWarning: Unverified HTTPS request is being made to host '127.0.0.1'. Adding certificate verification is strongly advised. See: https://urllib3.readthedocs.io/en/1.26.x/advanced-usage.html#ssl-warnings\n",
      "  warnings.warn(\n",
      "/Users/teague/opt/miniconda3/envs/superEnv/lib/python3.8/site-packages/urllib3/connectionpool.py:1013: InsecureRequestWarning: Unverified HTTPS request is being made to host '127.0.0.1'. Adding certificate verification is strongly advised. See: https://urllib3.readthedocs.io/en/1.26.x/advanced-usage.html#ssl-warnings\n",
      "  warnings.warn(\n"
     ]
    },
    {
     "name": "stdout",
     "output_type": "stream",
     "text": [
      "Created AWS job: ['hamsim_4qubits1steps_aspen9', <supermarq.benchmarks.hamiltonian_simulation.HamiltonianSimulation object at 0x7f84f52888b0>, <cirq_superstaq.job.Job object at 0x7f84f4cf0be0>, 0]\n"
     ]
    },
    {
     "name": "stderr",
     "output_type": "stream",
     "text": [
      "/Users/teague/opt/miniconda3/envs/superEnv/lib/python3.8/site-packages/urllib3/connectionpool.py:1013: InsecureRequestWarning: Unverified HTTPS request is being made to host '127.0.0.1'. Adding certificate verification is strongly advised. See: https://urllib3.readthedocs.io/en/1.26.x/advanced-usage.html#ssl-warnings\n",
      "  warnings.warn(\n",
      "/Users/teague/opt/miniconda3/envs/superEnv/lib/python3.8/site-packages/urllib3/connectionpool.py:1013: InsecureRequestWarning: Unverified HTTPS request is being made to host '127.0.0.1'. Adding certificate verification is strongly advised. See: https://urllib3.readthedocs.io/en/1.26.x/advanced-usage.html#ssl-warnings\n",
      "  warnings.warn(\n"
     ]
    },
    {
     "name": "stdout",
     "output_type": "stream",
     "text": [
      "Created AWS job: ['hamsim_4qubits1steps_ionq', <supermarq.benchmarks.hamiltonian_simulation.HamiltonianSimulation object at 0x7f84f52888b0>, <cirq_superstaq.job.Job object at 0x7f84f587b7f0>, 0]\n",
      "Created 4-qubit, 3-step Hamiltonian Simulation benchmark\n",
      "0: ───H───Rz(-0.75π)───H───@───────────────@───H───Rz(-0.749π)───H─────────────────────────@─────────────────@───H───Rz(-0.748π)───H─────────────────────────@─────────────────@───────────────────────────────────────────M───\n",
      "                           │               │                                               │                 │                                               │                 │                                           │\n",
      "1: ───H───Rz(-0.75π)───H───X───Rz(-0.5π)───X───@─────────────────@───H───Rz(-0.749π)───H───X───Rz(-0.5π)─────X───@─────────────────@───H───Rz(-0.748π)───H───X───Rz(-0.5π)─────X───@───────────────@───────────────────────M───\n",
      "                                               │                 │                                               │                 │                                               │               │                       │\n",
      "2: ───H───Rz(-0.75π)───H───────────────────────X───Rz(-0.5π)─────X───@─────────────────@───H───Rz(-0.749π)───H───X───Rz(-0.5π)─────X───@─────────────────@───H───Rz(-0.748π)───H───X───Rz(-0.5π)───X───@───────────────@───M───\n",
      "                                                                     │                 │                                               │                 │                                             │               │   │\n",
      "3: ───H───Rz(-0.75π)───H─────────────────────────────────────────────X───Rz(-0.5π)─────X───H───Rz(-0.749π)───H─────────────────────────X───Rz(-0.5π)─────X───H───Rz(-0.748π)───H───────────────────────X───Rz(-0.5π)───X───M───\n"
     ]
    },
    {
     "name": "stderr",
     "output_type": "stream",
     "text": [
      "/Users/teague/opt/miniconda3/envs/superEnv/lib/python3.8/site-packages/urllib3/connectionpool.py:1013: InsecureRequestWarning: Unverified HTTPS request is being made to host '127.0.0.1'. Adding certificate verification is strongly advised. See: https://urllib3.readthedocs.io/en/1.26.x/advanced-usage.html#ssl-warnings\n",
      "  warnings.warn(\n",
      "/Users/teague/opt/miniconda3/envs/superEnv/lib/python3.8/site-packages/urllib3/connectionpool.py:1013: InsecureRequestWarning: Unverified HTTPS request is being made to host '127.0.0.1'. Adding certificate verification is strongly advised. See: https://urllib3.readthedocs.io/en/1.26.x/advanced-usage.html#ssl-warnings\n",
      "  warnings.warn(\n"
     ]
    },
    {
     "name": "stdout",
     "output_type": "stream",
     "text": [
      "Created IBM job: ['hamsim_4qubits3steps_casablanca', <supermarq.benchmarks.hamiltonian_simulation.HamiltonianSimulation object at 0x7f84f4848ca0>, <cirq_superstaq.job.Job object at 0x7f84f5806100>, 0]\n"
     ]
    },
    {
     "name": "stderr",
     "output_type": "stream",
     "text": [
      "/Users/teague/opt/miniconda3/envs/superEnv/lib/python3.8/site-packages/urllib3/connectionpool.py:1013: InsecureRequestWarning: Unverified HTTPS request is being made to host '127.0.0.1'. Adding certificate verification is strongly advised. See: https://urllib3.readthedocs.io/en/1.26.x/advanced-usage.html#ssl-warnings\n",
      "  warnings.warn(\n",
      "/Users/teague/opt/miniconda3/envs/superEnv/lib/python3.8/site-packages/urllib3/connectionpool.py:1013: InsecureRequestWarning: Unverified HTTPS request is being made to host '127.0.0.1'. Adding certificate verification is strongly advised. See: https://urllib3.readthedocs.io/en/1.26.x/advanced-usage.html#ssl-warnings\n",
      "  warnings.warn(\n"
     ]
    },
    {
     "name": "stdout",
     "output_type": "stream",
     "text": [
      "Created IBM job: ['hamsim_4qubits3steps_guadalupe', <supermarq.benchmarks.hamiltonian_simulation.HamiltonianSimulation object at 0x7f84f4848ca0>, <cirq_superstaq.job.Job object at 0x7f84f4980e80>, 0]\n"
     ]
    },
    {
     "name": "stderr",
     "output_type": "stream",
     "text": [
      "/Users/teague/opt/miniconda3/envs/superEnv/lib/python3.8/site-packages/urllib3/connectionpool.py:1013: InsecureRequestWarning: Unverified HTTPS request is being made to host '127.0.0.1'. Adding certificate verification is strongly advised. See: https://urllib3.readthedocs.io/en/1.26.x/advanced-usage.html#ssl-warnings\n",
      "  warnings.warn(\n",
      "/Users/teague/opt/miniconda3/envs/superEnv/lib/python3.8/site-packages/urllib3/connectionpool.py:1013: InsecureRequestWarning: Unverified HTTPS request is being made to host '127.0.0.1'. Adding certificate verification is strongly advised. See: https://urllib3.readthedocs.io/en/1.26.x/advanced-usage.html#ssl-warnings\n",
      "  warnings.warn(\n"
     ]
    },
    {
     "name": "stdout",
     "output_type": "stream",
     "text": [
      "Created IBM job: ['hamsim_4qubits3steps_montreal', <supermarq.benchmarks.hamiltonian_simulation.HamiltonianSimulation object at 0x7f84f4848ca0>, <cirq_superstaq.job.Job object at 0x7f84f5332880>, 0]\n"
     ]
    },
    {
     "name": "stderr",
     "output_type": "stream",
     "text": [
      "/Users/teague/opt/miniconda3/envs/superEnv/lib/python3.8/site-packages/urllib3/connectionpool.py:1013: InsecureRequestWarning: Unverified HTTPS request is being made to host '127.0.0.1'. Adding certificate verification is strongly advised. See: https://urllib3.readthedocs.io/en/1.26.x/advanced-usage.html#ssl-warnings\n",
      "  warnings.warn(\n",
      "/Users/teague/opt/miniconda3/envs/superEnv/lib/python3.8/site-packages/urllib3/connectionpool.py:1013: InsecureRequestWarning: Unverified HTTPS request is being made to host '127.0.0.1'. Adding certificate verification is strongly advised. See: https://urllib3.readthedocs.io/en/1.26.x/advanced-usage.html#ssl-warnings\n",
      "  warnings.warn(\n"
     ]
    },
    {
     "name": "stdout",
     "output_type": "stream",
     "text": [
      "Created IBM job: ['hamsim_4qubits3steps_mumbai', <supermarq.benchmarks.hamiltonian_simulation.HamiltonianSimulation object at 0x7f84f4848ca0>, <cirq_superstaq.job.Job object at 0x7f84f5371310>, 0]\n"
     ]
    },
    {
     "name": "stderr",
     "output_type": "stream",
     "text": [
      "/Users/teague/opt/miniconda3/envs/superEnv/lib/python3.8/site-packages/urllib3/connectionpool.py:1013: InsecureRequestWarning: Unverified HTTPS request is being made to host '127.0.0.1'. Adding certificate verification is strongly advised. See: https://urllib3.readthedocs.io/en/1.26.x/advanced-usage.html#ssl-warnings\n",
      "  warnings.warn(\n",
      "/Users/teague/opt/miniconda3/envs/superEnv/lib/python3.8/site-packages/urllib3/connectionpool.py:1013: InsecureRequestWarning: Unverified HTTPS request is being made to host '127.0.0.1'. Adding certificate verification is strongly advised. See: https://urllib3.readthedocs.io/en/1.26.x/advanced-usage.html#ssl-warnings\n",
      "  warnings.warn(\n"
     ]
    },
    {
     "name": "stdout",
     "output_type": "stream",
     "text": [
      "Created IBM job: ['hamsim_4qubits3steps_toronto', <supermarq.benchmarks.hamiltonian_simulation.HamiltonianSimulation object at 0x7f84f4848ca0>, <cirq_superstaq.job.Job object at 0x7f84f5806c10>, 0]\n"
     ]
    },
    {
     "name": "stderr",
     "output_type": "stream",
     "text": [
      "/Users/teague/opt/miniconda3/envs/superEnv/lib/python3.8/site-packages/urllib3/connectionpool.py:1013: InsecureRequestWarning: Unverified HTTPS request is being made to host '127.0.0.1'. Adding certificate verification is strongly advised. See: https://urllib3.readthedocs.io/en/1.26.x/advanced-usage.html#ssl-warnings\n",
      "  warnings.warn(\n",
      "/Users/teague/opt/miniconda3/envs/superEnv/lib/python3.8/site-packages/urllib3/connectionpool.py:1013: InsecureRequestWarning: Unverified HTTPS request is being made to host '127.0.0.1'. Adding certificate verification is strongly advised. See: https://urllib3.readthedocs.io/en/1.26.x/advanced-usage.html#ssl-warnings\n",
      "  warnings.warn(\n"
     ]
    },
    {
     "name": "stdout",
     "output_type": "stream",
     "text": [
      "Created IBM job: ['hamsim_4qubits3steps_lagos', <supermarq.benchmarks.hamiltonian_simulation.HamiltonianSimulation object at 0x7f84f4848ca0>, <cirq_superstaq.job.Job object at 0x7f84f567f6d0>, 0]\n"
     ]
    },
    {
     "name": "stderr",
     "output_type": "stream",
     "text": [
      "/Users/teague/opt/miniconda3/envs/superEnv/lib/python3.8/site-packages/urllib3/connectionpool.py:1013: InsecureRequestWarning: Unverified HTTPS request is being made to host '127.0.0.1'. Adding certificate verification is strongly advised. See: https://urllib3.readthedocs.io/en/1.26.x/advanced-usage.html#ssl-warnings\n",
      "  warnings.warn(\n",
      "/Users/teague/opt/miniconda3/envs/superEnv/lib/python3.8/site-packages/urllib3/connectionpool.py:1013: InsecureRequestWarning: Unverified HTTPS request is being made to host '127.0.0.1'. Adding certificate verification is strongly advised. See: https://urllib3.readthedocs.io/en/1.26.x/advanced-usage.html#ssl-warnings\n",
      "  warnings.warn(\n"
     ]
    },
    {
     "name": "stdout",
     "output_type": "stream",
     "text": [
      "Created IBM job: ['hamsim_4qubits3steps_santiago', <supermarq.benchmarks.hamiltonian_simulation.HamiltonianSimulation object at 0x7f84f4848ca0>, <cirq_superstaq.job.Job object at 0x7f84f491eaf0>, 0]\n"
     ]
    },
    {
     "name": "stderr",
     "output_type": "stream",
     "text": [
      "/Users/teague/opt/miniconda3/envs/superEnv/lib/python3.8/site-packages/urllib3/connectionpool.py:1013: InsecureRequestWarning: Unverified HTTPS request is being made to host '127.0.0.1'. Adding certificate verification is strongly advised. See: https://urllib3.readthedocs.io/en/1.26.x/advanced-usage.html#ssl-warnings\n",
      "  warnings.warn(\n",
      "/Users/teague/opt/miniconda3/envs/superEnv/lib/python3.8/site-packages/urllib3/connectionpool.py:1013: InsecureRequestWarning: Unverified HTTPS request is being made to host '127.0.0.1'. Adding certificate verification is strongly advised. See: https://urllib3.readthedocs.io/en/1.26.x/advanced-usage.html#ssl-warnings\n",
      "  warnings.warn(\n"
     ]
    },
    {
     "name": "stdout",
     "output_type": "stream",
     "text": [
      "Created AWS job: ['hamsim_4qubits3steps_aspen9', <supermarq.benchmarks.hamiltonian_simulation.HamiltonianSimulation object at 0x7f84f4848ca0>, <cirq_superstaq.job.Job object at 0x7f84f4858af0>, 0]\n"
     ]
    },
    {
     "name": "stderr",
     "output_type": "stream",
     "text": [
      "/Users/teague/opt/miniconda3/envs/superEnv/lib/python3.8/site-packages/urllib3/connectionpool.py:1013: InsecureRequestWarning: Unverified HTTPS request is being made to host '127.0.0.1'. Adding certificate verification is strongly advised. See: https://urllib3.readthedocs.io/en/1.26.x/advanced-usage.html#ssl-warnings\n",
      "  warnings.warn(\n",
      "/Users/teague/opt/miniconda3/envs/superEnv/lib/python3.8/site-packages/urllib3/connectionpool.py:1013: InsecureRequestWarning: Unverified HTTPS request is being made to host '127.0.0.1'. Adding certificate verification is strongly advised. See: https://urllib3.readthedocs.io/en/1.26.x/advanced-usage.html#ssl-warnings\n",
      "  warnings.warn(\n"
     ]
    },
    {
     "name": "stdout",
     "output_type": "stream",
     "text": [
      "Created AWS job: ['hamsim_4qubits3steps_ionq', <supermarq.benchmarks.hamiltonian_simulation.HamiltonianSimulation object at 0x7f84f4848ca0>, <cirq_superstaq.job.Job object at 0x7f84f58067c0>, 0]\n",
      "Created 7-qubit, 1-step Hamiltonian Simulation benchmark\n",
      "0: ───H───Rz(-0.75π)───H───@───────────────@───────────────────────────────────────────────────────────────────────────────────────────────────────M───\n",
      "                           │               │                                                                                                       │\n",
      "1: ───H───Rz(-0.75π)───H───X───Rz(-0.5π)───X───@───────────────@───────────────────────────────────────────────────────────────────────────────────M───\n",
      "                                               │               │                                                                                   │\n",
      "2: ───H───Rz(-0.75π)───H───────────────────────X───Rz(-0.5π)───X───@───────────────@───────────────────────────────────────────────────────────────M───\n",
      "                                                                   │               │                                                               │\n",
      "3: ───H───Rz(-0.75π)───H───────────────────────────────────────────X───Rz(-0.5π)───X───@───────────────@───────────────────────────────────────────M───\n",
      "                                                                                       │               │                                           │\n",
      "4: ───H───Rz(-0.75π)───H───────────────────────────────────────────────────────────────X───Rz(-0.5π)───X───@───────────────@───────────────────────M───\n",
      "                                                                                                           │               │                       │\n",
      "5: ───H───Rz(-0.75π)───H───────────────────────────────────────────────────────────────────────────────────X───Rz(-0.5π)───X───@───────────────@───M───\n",
      "                                                                                                                               │               │   │\n",
      "6: ───H───Rz(-0.75π)───H───────────────────────────────────────────────────────────────────────────────────────────────────────X───Rz(-0.5π)───X───M───\n"
     ]
    },
    {
     "name": "stderr",
     "output_type": "stream",
     "text": [
      "/Users/teague/opt/miniconda3/envs/superEnv/lib/python3.8/site-packages/urllib3/connectionpool.py:1013: InsecureRequestWarning: Unverified HTTPS request is being made to host '127.0.0.1'. Adding certificate verification is strongly advised. See: https://urllib3.readthedocs.io/en/1.26.x/advanced-usage.html#ssl-warnings\n",
      "  warnings.warn(\n",
      "/Users/teague/opt/miniconda3/envs/superEnv/lib/python3.8/site-packages/urllib3/connectionpool.py:1013: InsecureRequestWarning: Unverified HTTPS request is being made to host '127.0.0.1'. Adding certificate verification is strongly advised. See: https://urllib3.readthedocs.io/en/1.26.x/advanced-usage.html#ssl-warnings\n",
      "  warnings.warn(\n"
     ]
    },
    {
     "name": "stdout",
     "output_type": "stream",
     "text": [
      "Created IBM job: ['hamsim_7qubits1steps_casablanca', <supermarq.benchmarks.hamiltonian_simulation.HamiltonianSimulation object at 0x7f84f5332d60>, <cirq_superstaq.job.Job object at 0x7f84f5371ac0>, 0]\n"
     ]
    },
    {
     "name": "stderr",
     "output_type": "stream",
     "text": [
      "/Users/teague/opt/miniconda3/envs/superEnv/lib/python3.8/site-packages/urllib3/connectionpool.py:1013: InsecureRequestWarning: Unverified HTTPS request is being made to host '127.0.0.1'. Adding certificate verification is strongly advised. See: https://urllib3.readthedocs.io/en/1.26.x/advanced-usage.html#ssl-warnings\n",
      "  warnings.warn(\n",
      "/Users/teague/opt/miniconda3/envs/superEnv/lib/python3.8/site-packages/urllib3/connectionpool.py:1013: InsecureRequestWarning: Unverified HTTPS request is being made to host '127.0.0.1'. Adding certificate verification is strongly advised. See: https://urllib3.readthedocs.io/en/1.26.x/advanced-usage.html#ssl-warnings\n",
      "  warnings.warn(\n"
     ]
    },
    {
     "name": "stdout",
     "output_type": "stream",
     "text": [
      "Created IBM job: ['hamsim_7qubits1steps_guadalupe', <supermarq.benchmarks.hamiltonian_simulation.HamiltonianSimulation object at 0x7f84f5332d60>, <cirq_superstaq.job.Job object at 0x7f84f5329400>, 0]\n"
     ]
    },
    {
     "name": "stderr",
     "output_type": "stream",
     "text": [
      "/Users/teague/opt/miniconda3/envs/superEnv/lib/python3.8/site-packages/urllib3/connectionpool.py:1013: InsecureRequestWarning: Unverified HTTPS request is being made to host '127.0.0.1'. Adding certificate verification is strongly advised. See: https://urllib3.readthedocs.io/en/1.26.x/advanced-usage.html#ssl-warnings\n",
      "  warnings.warn(\n",
      "/Users/teague/opt/miniconda3/envs/superEnv/lib/python3.8/site-packages/urllib3/connectionpool.py:1013: InsecureRequestWarning: Unverified HTTPS request is being made to host '127.0.0.1'. Adding certificate verification is strongly advised. See: https://urllib3.readthedocs.io/en/1.26.x/advanced-usage.html#ssl-warnings\n",
      "  warnings.warn(\n"
     ]
    },
    {
     "name": "stdout",
     "output_type": "stream",
     "text": [
      "Created IBM job: ['hamsim_7qubits1steps_montreal', <supermarq.benchmarks.hamiltonian_simulation.HamiltonianSimulation object at 0x7f84f5332d60>, <cirq_superstaq.job.Job object at 0x7f84f686c970>, 0]\n"
     ]
    },
    {
     "name": "stderr",
     "output_type": "stream",
     "text": [
      "/Users/teague/opt/miniconda3/envs/superEnv/lib/python3.8/site-packages/urllib3/connectionpool.py:1013: InsecureRequestWarning: Unverified HTTPS request is being made to host '127.0.0.1'. Adding certificate verification is strongly advised. See: https://urllib3.readthedocs.io/en/1.26.x/advanced-usage.html#ssl-warnings\n",
      "  warnings.warn(\n",
      "/Users/teague/opt/miniconda3/envs/superEnv/lib/python3.8/site-packages/urllib3/connectionpool.py:1013: InsecureRequestWarning: Unverified HTTPS request is being made to host '127.0.0.1'. Adding certificate verification is strongly advised. See: https://urllib3.readthedocs.io/en/1.26.x/advanced-usage.html#ssl-warnings\n",
      "  warnings.warn(\n"
     ]
    },
    {
     "name": "stdout",
     "output_type": "stream",
     "text": [
      "Created IBM job: ['hamsim_7qubits1steps_mumbai', <supermarq.benchmarks.hamiltonian_simulation.HamiltonianSimulation object at 0x7f84f5332d60>, <cirq_superstaq.job.Job object at 0x7f84f535ef70>, 0]\n"
     ]
    },
    {
     "name": "stderr",
     "output_type": "stream",
     "text": [
      "/Users/teague/opt/miniconda3/envs/superEnv/lib/python3.8/site-packages/urllib3/connectionpool.py:1013: InsecureRequestWarning: Unverified HTTPS request is being made to host '127.0.0.1'. Adding certificate verification is strongly advised. See: https://urllib3.readthedocs.io/en/1.26.x/advanced-usage.html#ssl-warnings\n",
      "  warnings.warn(\n",
      "/Users/teague/opt/miniconda3/envs/superEnv/lib/python3.8/site-packages/urllib3/connectionpool.py:1013: InsecureRequestWarning: Unverified HTTPS request is being made to host '127.0.0.1'. Adding certificate verification is strongly advised. See: https://urllib3.readthedocs.io/en/1.26.x/advanced-usage.html#ssl-warnings\n",
      "  warnings.warn(\n"
     ]
    },
    {
     "name": "stdout",
     "output_type": "stream",
     "text": [
      "Created IBM job: ['hamsim_7qubits1steps_toronto', <supermarq.benchmarks.hamiltonian_simulation.HamiltonianSimulation object at 0x7f84f5332d60>, <cirq_superstaq.job.Job object at 0x7f84f4cf0400>, 0]\n"
     ]
    },
    {
     "name": "stderr",
     "output_type": "stream",
     "text": [
      "/Users/teague/opt/miniconda3/envs/superEnv/lib/python3.8/site-packages/urllib3/connectionpool.py:1013: InsecureRequestWarning: Unverified HTTPS request is being made to host '127.0.0.1'. Adding certificate verification is strongly advised. See: https://urllib3.readthedocs.io/en/1.26.x/advanced-usage.html#ssl-warnings\n",
      "  warnings.warn(\n",
      "/Users/teague/opt/miniconda3/envs/superEnv/lib/python3.8/site-packages/urllib3/connectionpool.py:1013: InsecureRequestWarning: Unverified HTTPS request is being made to host '127.0.0.1'. Adding certificate verification is strongly advised. See: https://urllib3.readthedocs.io/en/1.26.x/advanced-usage.html#ssl-warnings\n",
      "  warnings.warn(\n"
     ]
    },
    {
     "name": "stdout",
     "output_type": "stream",
     "text": [
      "Created IBM job: ['hamsim_7qubits1steps_lagos', <supermarq.benchmarks.hamiltonian_simulation.HamiltonianSimulation object at 0x7f84f5332d60>, <cirq_superstaq.job.Job object at 0x7f84f5323880>, 0]\n"
     ]
    },
    {
     "name": "stderr",
     "output_type": "stream",
     "text": [
      "/Users/teague/opt/miniconda3/envs/superEnv/lib/python3.8/site-packages/urllib3/connectionpool.py:1013: InsecureRequestWarning: Unverified HTTPS request is being made to host '127.0.0.1'. Adding certificate verification is strongly advised. See: https://urllib3.readthedocs.io/en/1.26.x/advanced-usage.html#ssl-warnings\n",
      "  warnings.warn(\n",
      "/Users/teague/opt/miniconda3/envs/superEnv/lib/python3.8/site-packages/urllib3/connectionpool.py:1013: InsecureRequestWarning: Unverified HTTPS request is being made to host '127.0.0.1'. Adding certificate verification is strongly advised. See: https://urllib3.readthedocs.io/en/1.26.x/advanced-usage.html#ssl-warnings\n",
      "  warnings.warn(\n"
     ]
    },
    {
     "name": "stdout",
     "output_type": "stream",
     "text": [
      "Created AWS job: ['hamsim_7qubits1steps_aspen9', <supermarq.benchmarks.hamiltonian_simulation.HamiltonianSimulation object at 0x7f84f5332d60>, <cirq_superstaq.job.Job object at 0x7f84f48ace20>, 0]\n"
     ]
    },
    {
     "name": "stderr",
     "output_type": "stream",
     "text": [
      "/Users/teague/opt/miniconda3/envs/superEnv/lib/python3.8/site-packages/urllib3/connectionpool.py:1013: InsecureRequestWarning: Unverified HTTPS request is being made to host '127.0.0.1'. Adding certificate verification is strongly advised. See: https://urllib3.readthedocs.io/en/1.26.x/advanced-usage.html#ssl-warnings\n",
      "  warnings.warn(\n",
      "/Users/teague/opt/miniconda3/envs/superEnv/lib/python3.8/site-packages/urllib3/connectionpool.py:1013: InsecureRequestWarning: Unverified HTTPS request is being made to host '127.0.0.1'. Adding certificate verification is strongly advised. See: https://urllib3.readthedocs.io/en/1.26.x/advanced-usage.html#ssl-warnings\n",
      "  warnings.warn(\n"
     ]
    },
    {
     "name": "stdout",
     "output_type": "stream",
     "text": [
      "Created AWS job: ['hamsim_7qubits1steps_ionq', <supermarq.benchmarks.hamiltonian_simulation.HamiltonianSimulation object at 0x7f84f5332d60>, <cirq_superstaq.job.Job object at 0x7f84f498a070>, 0]\n",
      "Created 7-qubit, 3-step Hamiltonian Simulation benchmark\n",
      "0: ───H───Rz(-0.75π)───H───@───────────────@───H───Rz(-0.749π)───H─────────────────────────@─────────────────@───H───Rz(-0.748π)───H─────────────────────────@─────────────────@─────────────────────────────────────────────────────────────────────────────────────────────────────────────M───\n",
      "                           │               │                                               │                 │                                               │                 │                                                                                                             │\n",
      "1: ───H───Rz(-0.75π)───H───X───Rz(-0.5π)───X───@─────────────────@───H───Rz(-0.749π)───H───X───Rz(-0.5π)─────X───@─────────────────@───H───Rz(-0.748π)───H───X───Rz(-0.5π)─────X───@─────────────────@───────────────────────────────────────────────────────────────────────────────────────M───\n",
      "                                               │                 │                                               │                 │                                               │                 │                                                                                       │\n",
      "2: ───H───Rz(-0.75π)───H───────────────────────X───Rz(-0.5π)─────X───@─────────────────@───H───Rz(-0.749π)───H───X───Rz(-0.5π)─────X───@─────────────────@───H───Rz(-0.748π)───H───X───Rz(-0.5π)─────X───@─────────────────@─────────────────────────────────────────────────────────────────M───\n",
      "                                                                     │                 │                                               │                 │                                               │                 │                                                                 │\n",
      "3: ───H───Rz(-0.75π)───H─────────────────────────────────────────────X───Rz(-0.5π)─────X───@─────────────────@───H───Rz(-0.749π)───H───X───Rz(-0.5π)─────X───@─────────────────@───H───Rz(-0.748π)───H───X───Rz(-0.5π)─────X───@─────────────────@───────────────────────────────────────────M───\n",
      "                                                                                           │                 │                                               │                 │                                               │                 │                                           │\n",
      "4: ───H───Rz(-0.75π)───H───────────────────────────────────────────────────────────────────X───Rz(-0.5π)─────X───@─────────────────@───H───Rz(-0.749π)───H───X───Rz(-0.5π)─────X───@─────────────────@───H───Rz(-0.748π)───H───X───Rz(-0.5π)─────X───@───────────────@───────────────────────M───\n",
      "                                                                                                                 │                 │                                               │                 │                                               │               │                       │\n",
      "5: ───H───Rz(-0.75π)───H─────────────────────────────────────────────────────────────────────────────────────────X───Rz(-0.5π)─────X───@─────────────────@───H───Rz(-0.749π)───H───X───Rz(-0.5π)─────X───@─────────────────@───H───Rz(-0.748π)───H───X───Rz(-0.5π)───X───@───────────────@───M───\n",
      "                                                                                                                                       │                 │                                               │                 │                                             │               │   │\n",
      "6: ───H───Rz(-0.75π)───H───────────────────────────────────────────────────────────────────────────────────────────────────────────────X───Rz(-0.5π)─────X───H───Rz(-0.749π)───H─────────────────────────X───Rz(-0.5π)─────X───H───Rz(-0.748π)───H───────────────────────X───Rz(-0.5π)───X───M───\n"
     ]
    },
    {
     "name": "stderr",
     "output_type": "stream",
     "text": [
      "/Users/teague/opt/miniconda3/envs/superEnv/lib/python3.8/site-packages/urllib3/connectionpool.py:1013: InsecureRequestWarning: Unverified HTTPS request is being made to host '127.0.0.1'. Adding certificate verification is strongly advised. See: https://urllib3.readthedocs.io/en/1.26.x/advanced-usage.html#ssl-warnings\n",
      "  warnings.warn(\n",
      "/Users/teague/opt/miniconda3/envs/superEnv/lib/python3.8/site-packages/urllib3/connectionpool.py:1013: InsecureRequestWarning: Unverified HTTPS request is being made to host '127.0.0.1'. Adding certificate verification is strongly advised. See: https://urllib3.readthedocs.io/en/1.26.x/advanced-usage.html#ssl-warnings\n",
      "  warnings.warn(\n"
     ]
    },
    {
     "name": "stdout",
     "output_type": "stream",
     "text": [
      "Created IBM job: ['hamsim_7qubits3steps_casablanca', <supermarq.benchmarks.hamiltonian_simulation.HamiltonianSimulation object at 0x7f84f5332d90>, <cirq_superstaq.job.Job object at 0x7f84f5332cd0>, 0]\n"
     ]
    },
    {
     "name": "stderr",
     "output_type": "stream",
     "text": [
      "/Users/teague/opt/miniconda3/envs/superEnv/lib/python3.8/site-packages/urllib3/connectionpool.py:1013: InsecureRequestWarning: Unverified HTTPS request is being made to host '127.0.0.1'. Adding certificate verification is strongly advised. See: https://urllib3.readthedocs.io/en/1.26.x/advanced-usage.html#ssl-warnings\n",
      "  warnings.warn(\n",
      "/Users/teague/opt/miniconda3/envs/superEnv/lib/python3.8/site-packages/urllib3/connectionpool.py:1013: InsecureRequestWarning: Unverified HTTPS request is being made to host '127.0.0.1'. Adding certificate verification is strongly advised. See: https://urllib3.readthedocs.io/en/1.26.x/advanced-usage.html#ssl-warnings\n",
      "  warnings.warn(\n"
     ]
    },
    {
     "name": "stdout",
     "output_type": "stream",
     "text": [
      "Created IBM job: ['hamsim_7qubits3steps_guadalupe', <supermarq.benchmarks.hamiltonian_simulation.HamiltonianSimulation object at 0x7f84f5332d90>, <cirq_superstaq.job.Job object at 0x7f84f5be0580>, 0]\n"
     ]
    },
    {
     "name": "stderr",
     "output_type": "stream",
     "text": [
      "/Users/teague/opt/miniconda3/envs/superEnv/lib/python3.8/site-packages/urllib3/connectionpool.py:1013: InsecureRequestWarning: Unverified HTTPS request is being made to host '127.0.0.1'. Adding certificate verification is strongly advised. See: https://urllib3.readthedocs.io/en/1.26.x/advanced-usage.html#ssl-warnings\n",
      "  warnings.warn(\n",
      "/Users/teague/opt/miniconda3/envs/superEnv/lib/python3.8/site-packages/urllib3/connectionpool.py:1013: InsecureRequestWarning: Unverified HTTPS request is being made to host '127.0.0.1'. Adding certificate verification is strongly advised. See: https://urllib3.readthedocs.io/en/1.26.x/advanced-usage.html#ssl-warnings\n",
      "  warnings.warn(\n"
     ]
    },
    {
     "name": "stdout",
     "output_type": "stream",
     "text": [
      "Created IBM job: ['hamsim_7qubits3steps_montreal', <supermarq.benchmarks.hamiltonian_simulation.HamiltonianSimulation object at 0x7f84f5332d90>, <cirq_superstaq.job.Job object at 0x7f84f4ccb190>, 0]\n"
     ]
    },
    {
     "name": "stderr",
     "output_type": "stream",
     "text": [
      "/Users/teague/opt/miniconda3/envs/superEnv/lib/python3.8/site-packages/urllib3/connectionpool.py:1013: InsecureRequestWarning: Unverified HTTPS request is being made to host '127.0.0.1'. Adding certificate verification is strongly advised. See: https://urllib3.readthedocs.io/en/1.26.x/advanced-usage.html#ssl-warnings\n",
      "  warnings.warn(\n",
      "/Users/teague/opt/miniconda3/envs/superEnv/lib/python3.8/site-packages/urllib3/connectionpool.py:1013: InsecureRequestWarning: Unverified HTTPS request is being made to host '127.0.0.1'. Adding certificate verification is strongly advised. See: https://urllib3.readthedocs.io/en/1.26.x/advanced-usage.html#ssl-warnings\n",
      "  warnings.warn(\n"
     ]
    },
    {
     "name": "stdout",
     "output_type": "stream",
     "text": [
      "Created IBM job: ['hamsim_7qubits3steps_mumbai', <supermarq.benchmarks.hamiltonian_simulation.HamiltonianSimulation object at 0x7f84f5332d90>, <cirq_superstaq.job.Job object at 0x7f84f484a370>, 0]\n"
     ]
    },
    {
     "name": "stderr",
     "output_type": "stream",
     "text": [
      "/Users/teague/opt/miniconda3/envs/superEnv/lib/python3.8/site-packages/urllib3/connectionpool.py:1013: InsecureRequestWarning: Unverified HTTPS request is being made to host '127.0.0.1'. Adding certificate verification is strongly advised. See: https://urllib3.readthedocs.io/en/1.26.x/advanced-usage.html#ssl-warnings\n",
      "  warnings.warn(\n",
      "/Users/teague/opt/miniconda3/envs/superEnv/lib/python3.8/site-packages/urllib3/connectionpool.py:1013: InsecureRequestWarning: Unverified HTTPS request is being made to host '127.0.0.1'. Adding certificate verification is strongly advised. See: https://urllib3.readthedocs.io/en/1.26.x/advanced-usage.html#ssl-warnings\n",
      "  warnings.warn(\n"
     ]
    },
    {
     "name": "stdout",
     "output_type": "stream",
     "text": [
      "Created IBM job: ['hamsim_7qubits3steps_toronto', <supermarq.benchmarks.hamiltonian_simulation.HamiltonianSimulation object at 0x7f84f5332d90>, <cirq_superstaq.job.Job object at 0x7f84f498adc0>, 0]\n"
     ]
    },
    {
     "name": "stderr",
     "output_type": "stream",
     "text": [
      "/Users/teague/opt/miniconda3/envs/superEnv/lib/python3.8/site-packages/urllib3/connectionpool.py:1013: InsecureRequestWarning: Unverified HTTPS request is being made to host '127.0.0.1'. Adding certificate verification is strongly advised. See: https://urllib3.readthedocs.io/en/1.26.x/advanced-usage.html#ssl-warnings\n",
      "  warnings.warn(\n",
      "/Users/teague/opt/miniconda3/envs/superEnv/lib/python3.8/site-packages/urllib3/connectionpool.py:1013: InsecureRequestWarning: Unverified HTTPS request is being made to host '127.0.0.1'. Adding certificate verification is strongly advised. See: https://urllib3.readthedocs.io/en/1.26.x/advanced-usage.html#ssl-warnings\n",
      "  warnings.warn(\n"
     ]
    },
    {
     "name": "stdout",
     "output_type": "stream",
     "text": [
      "Created IBM job: ['hamsim_7qubits3steps_lagos', <supermarq.benchmarks.hamiltonian_simulation.HamiltonianSimulation object at 0x7f84f5332d90>, <cirq_superstaq.job.Job object at 0x7f84f53232e0>, 0]\n"
     ]
    },
    {
     "name": "stderr",
     "output_type": "stream",
     "text": [
      "/Users/teague/opt/miniconda3/envs/superEnv/lib/python3.8/site-packages/urllib3/connectionpool.py:1013: InsecureRequestWarning: Unverified HTTPS request is being made to host '127.0.0.1'. Adding certificate verification is strongly advised. See: https://urllib3.readthedocs.io/en/1.26.x/advanced-usage.html#ssl-warnings\n",
      "  warnings.warn(\n",
      "/Users/teague/opt/miniconda3/envs/superEnv/lib/python3.8/site-packages/urllib3/connectionpool.py:1013: InsecureRequestWarning: Unverified HTTPS request is being made to host '127.0.0.1'. Adding certificate verification is strongly advised. See: https://urllib3.readthedocs.io/en/1.26.x/advanced-usage.html#ssl-warnings\n",
      "  warnings.warn(\n"
     ]
    },
    {
     "name": "stdout",
     "output_type": "stream",
     "text": [
      "Created AWS job: ['hamsim_7qubits3steps_aspen9', <supermarq.benchmarks.hamiltonian_simulation.HamiltonianSimulation object at 0x7f84f5332d90>, <cirq_superstaq.job.Job object at 0x7f84f4c636d0>, 0]\n"
     ]
    },
    {
     "name": "stderr",
     "output_type": "stream",
     "text": [
      "/Users/teague/opt/miniconda3/envs/superEnv/lib/python3.8/site-packages/urllib3/connectionpool.py:1013: InsecureRequestWarning: Unverified HTTPS request is being made to host '127.0.0.1'. Adding certificate verification is strongly advised. See: https://urllib3.readthedocs.io/en/1.26.x/advanced-usage.html#ssl-warnings\n",
      "  warnings.warn(\n",
      "/Users/teague/opt/miniconda3/envs/superEnv/lib/python3.8/site-packages/urllib3/connectionpool.py:1013: InsecureRequestWarning: Unverified HTTPS request is being made to host '127.0.0.1'. Adding certificate verification is strongly advised. See: https://urllib3.readthedocs.io/en/1.26.x/advanced-usage.html#ssl-warnings\n",
      "  warnings.warn(\n"
     ]
    },
    {
     "name": "stdout",
     "output_type": "stream",
     "text": [
      "Created AWS job: ['hamsim_7qubits3steps_ionq', <supermarq.benchmarks.hamiltonian_simulation.HamiltonianSimulation object at 0x7f84f5332d90>, <cirq_superstaq.job.Job object at 0x7f84f6910e50>, 0]\n",
      "Created 11-qubit, 1-step Hamiltonian Simulation benchmark\n",
      "0: ────H───Rz(-0.75π)───H───@───────────────@───────────────────────────────────────────────────────────────────────────────────────────────────────────────────────────────────────────────────────────────────────────────────────M───\n",
      "                            │               │                                                                                                                                                                                       │\n",
      "1: ────H───Rz(-0.75π)───H───X───Rz(-0.5π)───X───@───────────────@───────────────────────────────────────────────────────────────────────────────────────────────────────────────────────────────────────────────────────────────────M───\n",
      "                                                │               │                                                                                                                                                                   │\n",
      "2: ────H───Rz(-0.75π)───H───────────────────────X───Rz(-0.5π)───X───@───────────────@───────────────────────────────────────────────────────────────────────────────────────────────────────────────────────────────────────────────M───\n",
      "                                                                    │               │                                                                                                                                               │\n",
      "3: ────H───Rz(-0.75π)───H───────────────────────────────────────────X───Rz(-0.5π)───X───@───────────────@───────────────────────────────────────────────────────────────────────────────────────────────────────────────────────────M───\n",
      "                                                                                        │               │                                                                                                                           │\n",
      "4: ────H───Rz(-0.75π)───H───────────────────────────────────────────────────────────────X───Rz(-0.5π)───X───@───────────────@───────────────────────────────────────────────────────────────────────────────────────────────────────M───\n",
      "                                                                                                            │               │                                                                                                       │\n",
      "5: ────H───Rz(-0.75π)───H───────────────────────────────────────────────────────────────────────────────────X───Rz(-0.5π)───X───@───────────────@───────────────────────────────────────────────────────────────────────────────────M───\n",
      "                                                                                                                                │               │                                                                                   │\n",
      "6: ────H───Rz(-0.75π)───H───────────────────────────────────────────────────────────────────────────────────────────────────────X───Rz(-0.5π)───X───@───────────────@───────────────────────────────────────────────────────────────M───\n",
      "                                                                                                                                                    │               │                                                               │\n",
      "7: ────H───Rz(-0.75π)───H───────────────────────────────────────────────────────────────────────────────────────────────────────────────────────────X───Rz(-0.5π)───X───@───────────────@───────────────────────────────────────────M───\n",
      "                                                                                                                                                                        │               │                                           │\n",
      "8: ────H───Rz(-0.75π)───H───────────────────────────────────────────────────────────────────────────────────────────────────────────────────────────────────────────────X───Rz(-0.5π)───X───@───────────────@───────────────────────M───\n",
      "                                                                                                                                                                                            │               │                       │\n",
      "9: ────H───Rz(-0.75π)───H───────────────────────────────────────────────────────────────────────────────────────────────────────────────────────────────────────────────────────────────────X───Rz(-0.5π)───X───@───────────────@───M───\n",
      "                                                                                                                                                                                                                │               │   │\n",
      "10: ───H───Rz(-0.75π)───H───────────────────────────────────────────────────────────────────────────────────────────────────────────────────────────────────────────────────────────────────────────────────────X───Rz(-0.5π)───X───M───\n"
     ]
    },
    {
     "name": "stderr",
     "output_type": "stream",
     "text": [
      "/Users/teague/opt/miniconda3/envs/superEnv/lib/python3.8/site-packages/urllib3/connectionpool.py:1013: InsecureRequestWarning: Unverified HTTPS request is being made to host '127.0.0.1'. Adding certificate verification is strongly advised. See: https://urllib3.readthedocs.io/en/1.26.x/advanced-usage.html#ssl-warnings\n",
      "  warnings.warn(\n",
      "/Users/teague/opt/miniconda3/envs/superEnv/lib/python3.8/site-packages/urllib3/connectionpool.py:1013: InsecureRequestWarning: Unverified HTTPS request is being made to host '127.0.0.1'. Adding certificate verification is strongly advised. See: https://urllib3.readthedocs.io/en/1.26.x/advanced-usage.html#ssl-warnings\n",
      "  warnings.warn(\n"
     ]
    },
    {
     "name": "stdout",
     "output_type": "stream",
     "text": [
      "Created IBM job: ['hamsim_11qubits1steps_guadalupe', <supermarq.benchmarks.hamiltonian_simulation.HamiltonianSimulation object at 0x7f84f4cfb250>, <cirq_superstaq.job.Job object at 0x7f84f48ac430>, 0]\n"
     ]
    },
    {
     "name": "stderr",
     "output_type": "stream",
     "text": [
      "/Users/teague/opt/miniconda3/envs/superEnv/lib/python3.8/site-packages/urllib3/connectionpool.py:1013: InsecureRequestWarning: Unverified HTTPS request is being made to host '127.0.0.1'. Adding certificate verification is strongly advised. See: https://urllib3.readthedocs.io/en/1.26.x/advanced-usage.html#ssl-warnings\n",
      "  warnings.warn(\n",
      "/Users/teague/opt/miniconda3/envs/superEnv/lib/python3.8/site-packages/urllib3/connectionpool.py:1013: InsecureRequestWarning: Unverified HTTPS request is being made to host '127.0.0.1'. Adding certificate verification is strongly advised. See: https://urllib3.readthedocs.io/en/1.26.x/advanced-usage.html#ssl-warnings\n",
      "  warnings.warn(\n"
     ]
    },
    {
     "name": "stdout",
     "output_type": "stream",
     "text": [
      "Created IBM job: ['hamsim_11qubits1steps_montreal', <supermarq.benchmarks.hamiltonian_simulation.HamiltonianSimulation object at 0x7f84f4cfb250>, <cirq_superstaq.job.Job object at 0x7f84f4848b20>, 0]\n"
     ]
    },
    {
     "name": "stderr",
     "output_type": "stream",
     "text": [
      "/Users/teague/opt/miniconda3/envs/superEnv/lib/python3.8/site-packages/urllib3/connectionpool.py:1013: InsecureRequestWarning: Unverified HTTPS request is being made to host '127.0.0.1'. Adding certificate verification is strongly advised. See: https://urllib3.readthedocs.io/en/1.26.x/advanced-usage.html#ssl-warnings\n",
      "  warnings.warn(\n",
      "/Users/teague/opt/miniconda3/envs/superEnv/lib/python3.8/site-packages/urllib3/connectionpool.py:1013: InsecureRequestWarning: Unverified HTTPS request is being made to host '127.0.0.1'. Adding certificate verification is strongly advised. See: https://urllib3.readthedocs.io/en/1.26.x/advanced-usage.html#ssl-warnings\n",
      "  warnings.warn(\n"
     ]
    },
    {
     "name": "stdout",
     "output_type": "stream",
     "text": [
      "Created IBM job: ['hamsim_11qubits1steps_mumbai', <supermarq.benchmarks.hamiltonian_simulation.HamiltonianSimulation object at 0x7f84f4cfb250>, <cirq_superstaq.job.Job object at 0x7f84f6910b80>, 0]\n"
     ]
    },
    {
     "name": "stderr",
     "output_type": "stream",
     "text": [
      "/Users/teague/opt/miniconda3/envs/superEnv/lib/python3.8/site-packages/urllib3/connectionpool.py:1013: InsecureRequestWarning: Unverified HTTPS request is being made to host '127.0.0.1'. Adding certificate verification is strongly advised. See: https://urllib3.readthedocs.io/en/1.26.x/advanced-usage.html#ssl-warnings\n",
      "  warnings.warn(\n",
      "/Users/teague/opt/miniconda3/envs/superEnv/lib/python3.8/site-packages/urllib3/connectionpool.py:1013: InsecureRequestWarning: Unverified HTTPS request is being made to host '127.0.0.1'. Adding certificate verification is strongly advised. See: https://urllib3.readthedocs.io/en/1.26.x/advanced-usage.html#ssl-warnings\n",
      "  warnings.warn(\n"
     ]
    },
    {
     "name": "stdout",
     "output_type": "stream",
     "text": [
      "Created IBM job: ['hamsim_11qubits1steps_toronto', <supermarq.benchmarks.hamiltonian_simulation.HamiltonianSimulation object at 0x7f84f4cfb250>, <cirq_superstaq.job.Job object at 0x7f84f5332bb0>, 0]\n"
     ]
    },
    {
     "name": "stderr",
     "output_type": "stream",
     "text": [
      "/Users/teague/opt/miniconda3/envs/superEnv/lib/python3.8/site-packages/urllib3/connectionpool.py:1013: InsecureRequestWarning: Unverified HTTPS request is being made to host '127.0.0.1'. Adding certificate verification is strongly advised. See: https://urllib3.readthedocs.io/en/1.26.x/advanced-usage.html#ssl-warnings\n",
      "  warnings.warn(\n",
      "/Users/teague/opt/miniconda3/envs/superEnv/lib/python3.8/site-packages/urllib3/connectionpool.py:1013: InsecureRequestWarning: Unverified HTTPS request is being made to host '127.0.0.1'. Adding certificate verification is strongly advised. See: https://urllib3.readthedocs.io/en/1.26.x/advanced-usage.html#ssl-warnings\n",
      "  warnings.warn(\n"
     ]
    },
    {
     "name": "stdout",
     "output_type": "stream",
     "text": [
      "Created AWS job: ['hamsim_11qubits1steps_aspen9', <supermarq.benchmarks.hamiltonian_simulation.HamiltonianSimulation object at 0x7f84f4cfb250>, <cirq_superstaq.job.Job object at 0x7f84f58805e0>, 0]\n"
     ]
    },
    {
     "name": "stderr",
     "output_type": "stream",
     "text": [
      "/Users/teague/opt/miniconda3/envs/superEnv/lib/python3.8/site-packages/urllib3/connectionpool.py:1013: InsecureRequestWarning: Unverified HTTPS request is being made to host '127.0.0.1'. Adding certificate verification is strongly advised. See: https://urllib3.readthedocs.io/en/1.26.x/advanced-usage.html#ssl-warnings\n",
      "  warnings.warn(\n",
      "/Users/teague/opt/miniconda3/envs/superEnv/lib/python3.8/site-packages/urllib3/connectionpool.py:1013: InsecureRequestWarning: Unverified HTTPS request is being made to host '127.0.0.1'. Adding certificate verification is strongly advised. See: https://urllib3.readthedocs.io/en/1.26.x/advanced-usage.html#ssl-warnings\n",
      "  warnings.warn(\n"
     ]
    },
    {
     "name": "stdout",
     "output_type": "stream",
     "text": [
      "Created AWS job: ['hamsim_11qubits1steps_ionq', <supermarq.benchmarks.hamiltonian_simulation.HamiltonianSimulation object at 0x7f84f4cfb250>, <cirq_superstaq.job.Job object at 0x7f84f533c520>, 0]\n",
      "Created 11-qubit, 3-step Hamiltonian Simulation benchmark\n",
      "0: ────H───Rz(-0.75π)───H───@───────────────@───H───Rz(-0.749π)───H─────────────────────────@─────────────────@───H───Rz(-0.748π)───H─────────────────────────@─────────────────@─────────────────────────────────────────────────────────────────────────────────────────────────────────────────────────────────────────────────────────────────────────────────────────────────────M───\n",
      "                            │               │                                               │                 │                                               │                 │                                                                                                                                                                                                     │\n",
      "1: ────H───Rz(-0.75π)───H───X───Rz(-0.5π)───X───@─────────────────@───H───Rz(-0.749π)───H───X───Rz(-0.5π)─────X───@─────────────────@───H───Rz(-0.748π)───H───X───Rz(-0.5π)─────X───@─────────────────@───────────────────────────────────────────────────────────────────────────────────────────────────────────────────────────────────────────────────────────────────────────────M───\n",
      "                                                │                 │                                               │                 │                                               │                 │                                                                                                                                                                               │\n",
      "2: ────H───Rz(-0.75π)───H───────────────────────X───Rz(-0.5π)─────X───@─────────────────@───H───Rz(-0.749π)───H───X───Rz(-0.5π)─────X───@─────────────────@───H───Rz(-0.748π)───H───X───Rz(-0.5π)─────X───@─────────────────@─────────────────────────────────────────────────────────────────────────────────────────────────────────────────────────────────────────────────────────M───\n",
      "                                                                      │                 │                                               │                 │                                               │                 │                                                                                                                                                         │\n",
      "3: ────H───Rz(-0.75π)───H─────────────────────────────────────────────X───Rz(-0.5π)─────X───@─────────────────@───H───Rz(-0.749π)───H───X───Rz(-0.5π)─────X───@─────────────────@───H───Rz(-0.748π)───H───X───Rz(-0.5π)─────X───@─────────────────@───────────────────────────────────────────────────────────────────────────────────────────────────────────────────────────────────M───\n",
      "                                                                                            │                 │                                               │                 │                                               │                 │                                                                                                                                   │\n",
      "4: ────H───Rz(-0.75π)───H───────────────────────────────────────────────────────────────────X───Rz(-0.5π)─────X───@─────────────────@───H───Rz(-0.749π)───H───X───Rz(-0.5π)─────X───@─────────────────@───H───Rz(-0.748π)───H───X───Rz(-0.5π)─────X───@─────────────────@─────────────────────────────────────────────────────────────────────────────────────────────────────────────M───\n",
      "                                                                                                                  │                 │                                               │                 │                                               │                 │                                                                                                             │\n",
      "5: ────H───Rz(-0.75π)───H─────────────────────────────────────────────────────────────────────────────────────────X───Rz(-0.5π)─────X───@─────────────────@───H───Rz(-0.749π)───H───X───Rz(-0.5π)─────X───@─────────────────@───H───Rz(-0.748π)───H───X───Rz(-0.5π)─────X───@─────────────────@───────────────────────────────────────────────────────────────────────────────────────M───\n",
      "                                                                                                                                        │                 │                                               │                 │                                               │                 │                                                                                       │\n",
      "6: ────H───Rz(-0.75π)───H───────────────────────────────────────────────────────────────────────────────────────────────────────────────X───Rz(-0.5π)─────X───@─────────────────@───H───Rz(-0.749π)───H───X───Rz(-0.5π)─────X───@─────────────────@───H───Rz(-0.748π)───H───X───Rz(-0.5π)─────X───@─────────────────@─────────────────────────────────────────────────────────────────M───\n",
      "                                                                                                                                                              │                 │                                               │                 │                                               │                 │                                                                 │\n",
      "7: ────H───Rz(-0.75π)───H─────────────────────────────────────────────────────────────────────────────────────────────────────────────────────────────────────X───Rz(-0.5π)─────X───@─────────────────@───H───Rz(-0.749π)───H───X───Rz(-0.5π)─────X───@─────────────────@───H───Rz(-0.748π)───H───X───Rz(-0.5π)─────X───@─────────────────@───────────────────────────────────────────M───\n",
      "                                                                                                                                                                                    │                 │                                               │                 │                                               │                 │                                           │\n",
      "8: ────H───Rz(-0.75π)───H───────────────────────────────────────────────────────────────────────────────────────────────────────────────────────────────────────────────────────────X───Rz(-0.5π)─────X───@─────────────────@───H───Rz(-0.749π)───H───X───Rz(-0.5π)─────X───@─────────────────@───H───Rz(-0.748π)───H───X───Rz(-0.5π)─────X───@───────────────@───────────────────────M───\n",
      "                                                                                                                                                                                                          │                 │                                               │                 │                                               │               │                       │\n",
      "9: ────H───Rz(-0.75π)───H─────────────────────────────────────────────────────────────────────────────────────────────────────────────────────────────────────────────────────────────────────────────────X───Rz(-0.5π)─────X───@─────────────────@───H───Rz(-0.749π)───H───X───Rz(-0.5π)─────X───@─────────────────@───H───Rz(-0.748π)───H───X───Rz(-0.5π)───X───@───────────────@───M───\n",
      "                                                                                                                                                                                                                                │                 │                                               │                 │                                             │               │   │\n",
      "10: ───H───Rz(-0.75π)───H───────────────────────────────────────────────────────────────────────────────────────────────────────────────────────────────────────────────────────────────────────────────────────────────────────X───Rz(-0.5π)─────X───H───Rz(-0.749π)───H─────────────────────────X───Rz(-0.5π)─────X───H───Rz(-0.748π)───H───────────────────────X───Rz(-0.5π)───X───M───\n"
     ]
    },
    {
     "name": "stderr",
     "output_type": "stream",
     "text": [
      "/Users/teague/opt/miniconda3/envs/superEnv/lib/python3.8/site-packages/urllib3/connectionpool.py:1013: InsecureRequestWarning: Unverified HTTPS request is being made to host '127.0.0.1'. Adding certificate verification is strongly advised. See: https://urllib3.readthedocs.io/en/1.26.x/advanced-usage.html#ssl-warnings\n",
      "  warnings.warn(\n",
      "/Users/teague/opt/miniconda3/envs/superEnv/lib/python3.8/site-packages/urllib3/connectionpool.py:1013: InsecureRequestWarning: Unverified HTTPS request is being made to host '127.0.0.1'. Adding certificate verification is strongly advised. See: https://urllib3.readthedocs.io/en/1.26.x/advanced-usage.html#ssl-warnings\n",
      "  warnings.warn(\n"
     ]
    },
    {
     "name": "stdout",
     "output_type": "stream",
     "text": [
      "Created IBM job: ['hamsim_11qubits3steps_guadalupe', <supermarq.benchmarks.hamiltonian_simulation.HamiltonianSimulation object at 0x7f84f5332550>, <cirq_superstaq.job.Job object at 0x7f84f53234c0>, 0]\n"
     ]
    },
    {
     "name": "stderr",
     "output_type": "stream",
     "text": [
      "/Users/teague/opt/miniconda3/envs/superEnv/lib/python3.8/site-packages/urllib3/connectionpool.py:1013: InsecureRequestWarning: Unverified HTTPS request is being made to host '127.0.0.1'. Adding certificate verification is strongly advised. See: https://urllib3.readthedocs.io/en/1.26.x/advanced-usage.html#ssl-warnings\n",
      "  warnings.warn(\n",
      "/Users/teague/opt/miniconda3/envs/superEnv/lib/python3.8/site-packages/urllib3/connectionpool.py:1013: InsecureRequestWarning: Unverified HTTPS request is being made to host '127.0.0.1'. Adding certificate verification is strongly advised. See: https://urllib3.readthedocs.io/en/1.26.x/advanced-usage.html#ssl-warnings\n",
      "  warnings.warn(\n"
     ]
    },
    {
     "name": "stdout",
     "output_type": "stream",
     "text": [
      "Created IBM job: ['hamsim_11qubits3steps_montreal', <supermarq.benchmarks.hamiltonian_simulation.HamiltonianSimulation object at 0x7f84f5332550>, <cirq_superstaq.job.Job object at 0x7f84f692cac0>, 0]\n"
     ]
    },
    {
     "name": "stderr",
     "output_type": "stream",
     "text": [
      "/Users/teague/opt/miniconda3/envs/superEnv/lib/python3.8/site-packages/urllib3/connectionpool.py:1013: InsecureRequestWarning: Unverified HTTPS request is being made to host '127.0.0.1'. Adding certificate verification is strongly advised. See: https://urllib3.readthedocs.io/en/1.26.x/advanced-usage.html#ssl-warnings\n",
      "  warnings.warn(\n",
      "/Users/teague/opt/miniconda3/envs/superEnv/lib/python3.8/site-packages/urllib3/connectionpool.py:1013: InsecureRequestWarning: Unverified HTTPS request is being made to host '127.0.0.1'. Adding certificate verification is strongly advised. See: https://urllib3.readthedocs.io/en/1.26.x/advanced-usage.html#ssl-warnings\n",
      "  warnings.warn(\n"
     ]
    },
    {
     "name": "stdout",
     "output_type": "stream",
     "text": [
      "Created IBM job: ['hamsim_11qubits3steps_mumbai', <supermarq.benchmarks.hamiltonian_simulation.HamiltonianSimulation object at 0x7f84f5332550>, <cirq_superstaq.job.Job object at 0x7f84f6906bb0>, 0]\n"
     ]
    },
    {
     "name": "stderr",
     "output_type": "stream",
     "text": [
      "/Users/teague/opt/miniconda3/envs/superEnv/lib/python3.8/site-packages/urllib3/connectionpool.py:1013: InsecureRequestWarning: Unverified HTTPS request is being made to host '127.0.0.1'. Adding certificate verification is strongly advised. See: https://urllib3.readthedocs.io/en/1.26.x/advanced-usage.html#ssl-warnings\n",
      "  warnings.warn(\n",
      "/Users/teague/opt/miniconda3/envs/superEnv/lib/python3.8/site-packages/urllib3/connectionpool.py:1013: InsecureRequestWarning: Unverified HTTPS request is being made to host '127.0.0.1'. Adding certificate verification is strongly advised. See: https://urllib3.readthedocs.io/en/1.26.x/advanced-usage.html#ssl-warnings\n",
      "  warnings.warn(\n"
     ]
    },
    {
     "name": "stdout",
     "output_type": "stream",
     "text": [
      "Created IBM job: ['hamsim_11qubits3steps_toronto', <supermarq.benchmarks.hamiltonian_simulation.HamiltonianSimulation object at 0x7f84f5332550>, <cirq_superstaq.job.Job object at 0x7f84f6937670>, 0]\n"
     ]
    },
    {
     "name": "stderr",
     "output_type": "stream",
     "text": [
      "/Users/teague/opt/miniconda3/envs/superEnv/lib/python3.8/site-packages/urllib3/connectionpool.py:1013: InsecureRequestWarning: Unverified HTTPS request is being made to host '127.0.0.1'. Adding certificate verification is strongly advised. See: https://urllib3.readthedocs.io/en/1.26.x/advanced-usage.html#ssl-warnings\n",
      "  warnings.warn(\n",
      "/Users/teague/opt/miniconda3/envs/superEnv/lib/python3.8/site-packages/urllib3/connectionpool.py:1013: InsecureRequestWarning: Unverified HTTPS request is being made to host '127.0.0.1'. Adding certificate verification is strongly advised. See: https://urllib3.readthedocs.io/en/1.26.x/advanced-usage.html#ssl-warnings\n",
      "  warnings.warn(\n"
     ]
    },
    {
     "name": "stdout",
     "output_type": "stream",
     "text": [
      "Created AWS job: ['hamsim_11qubits3steps_aspen9', <supermarq.benchmarks.hamiltonian_simulation.HamiltonianSimulation object at 0x7f84f5332550>, <cirq_superstaq.job.Job object at 0x7f84f69190a0>, 0]\n"
     ]
    },
    {
     "name": "stderr",
     "output_type": "stream",
     "text": [
      "/Users/teague/opt/miniconda3/envs/superEnv/lib/python3.8/site-packages/urllib3/connectionpool.py:1013: InsecureRequestWarning: Unverified HTTPS request is being made to host '127.0.0.1'. Adding certificate verification is strongly advised. See: https://urllib3.readthedocs.io/en/1.26.x/advanced-usage.html#ssl-warnings\n",
      "  warnings.warn(\n",
      "/Users/teague/opt/miniconda3/envs/superEnv/lib/python3.8/site-packages/urllib3/connectionpool.py:1013: InsecureRequestWarning: Unverified HTTPS request is being made to host '127.0.0.1'. Adding certificate verification is strongly advised. See: https://urllib3.readthedocs.io/en/1.26.x/advanced-usage.html#ssl-warnings\n",
      "  warnings.warn(\n"
     ]
    },
    {
     "name": "stdout",
     "output_type": "stream",
     "text": [
      "Created AWS job: ['hamsim_11qubits3steps_ionq', <supermarq.benchmarks.hamiltonian_simulation.HamiltonianSimulation object at 0x7f84f5332550>, <cirq_superstaq.job.Job object at 0x7f84f6937970>, 0]\n"
     ]
    }
   ],
   "source": [
    "# Run Hamiltonian Simulation benchmarks\n",
    "for nq in [4, 7, 11]:\n",
    "    for total_time in [1, 3]:\n",
    "        hamsim = sm.hamiltonian_simulation.HamiltonianSimulation(nq, 1, total_time)\n",
    "        print(f'Created {nq}-qubit, {total_time}-step Hamiltonian Simulation benchmark')\n",
    "        print(hamsim.circuit())\n",
    "\n",
    "        # ibmq_casablanca, 7 qubits\n",
    "        if nq <= 7:\n",
    "            hamsim_jobs.append([\n",
    "                f'hamsim_{nq}qubits{total_time}steps_casablanca',\n",
    "                hamsim,\n",
    "                ornl_service.create_job(circuit=hamsim.circuit(), repetitions=ibm_shots, target=\"ibmq_casablanca\"),\n",
    "                0,\n",
    "            ])\n",
    "            print(\"Created IBM job:\", hamsim_jobs[-1])\n",
    "\n",
    "        # ibmq_guadalupe, 16 qubits\n",
    "        if nq <= 16:\n",
    "            hamsim_jobs.append([\n",
    "                f'hamsim_{nq}qubits{total_time}steps_guadalupe',\n",
    "                hamsim,\n",
    "                ornl_service.create_job(circuit=hamsim.circuit(), repetitions=ibm_shots, target=\"ibmq_guadalupe\"),\n",
    "                0,\n",
    "            ])\n",
    "            print(\"Created IBM job:\", hamsim_jobs[-1])\n",
    "\n",
    "        # ibmq_montreal, 27 qubits\n",
    "        if nq <= 27:\n",
    "            hamsim_jobs.append([\n",
    "                f'hamsim_{nq}qubits{total_time}steps_montreal',\n",
    "                hamsim,\n",
    "                ornl_service.create_job(circuit=hamsim.circuit(), repetitions=ibm_shots, target=\"ibmq_montreal\"),\n",
    "                0,\n",
    "            ])\n",
    "            print(\"Created IBM job:\", hamsim_jobs[-1])\n",
    "\n",
    "        # ibmq_mumbai, 27 qubits\n",
    "        if nq <= 27:\n",
    "            hamsim_jobs.append([\n",
    "                f'hamsim_{nq}qubits{total_time}steps_mumbai',\n",
    "                hamsim,\n",
    "                ornl_service.create_job(circuit=hamsim.circuit(), repetitions=ibm_shots, target=\"ibmq_mumbai\"),\n",
    "                0,\n",
    "            ])\n",
    "            print(\"Created IBM job:\", hamsim_jobs[-1])\n",
    "        \n",
    "        # ibmq_toronto, 27 qubits\n",
    "        if nq <= 27:\n",
    "            hamsim_jobs.append([\n",
    "                f'hamsim_{nq}qubits{total_time}steps_toronto',\n",
    "                hamsim,\n",
    "                ornl_service.create_job(circuit=hamsim.circuit(), repetitions=ibm_shots, target=\"ibmq_toronto\"),\n",
    "                0,\n",
    "            ])\n",
    "            print(\"Created IBM job:\", hamsim_jobs[-1])\n",
    "\n",
    "        # ibmq_lagos, 7 qubits\n",
    "        if nq <= 7:\n",
    "            hamsim_jobs.append([\n",
    "                f'hamsim_{nq}qubits{total_time}steps_lagos',\n",
    "                hamsim,\n",
    "                supertech_service.create_job(circuit=hamsim.circuit(), repetitions=ibm_shots, target=\"ibm_lagos\"),\n",
    "                0,\n",
    "            ])\n",
    "            print(\"Created IBM job:\", hamsim_jobs[-1])\n",
    "            \n",
    "        # ibmq_santiago, 5 qubits\n",
    "        if nq <= 5:\n",
    "            hamsim_jobs.append([\n",
    "                f'hamsim_{nq}qubits{total_time}steps_santiago',\n",
    "                hamsim,\n",
    "                ornl_service.create_job(circuit=hamsim.circuit(), repetitions=ibm_shots, target=\"ibmq_santiago\"),\n",
    "                0,\n",
    "            ])\n",
    "            print(\"Created IBM job:\", hamsim_jobs[-1])\n",
    "\n",
    "        # rigetti_aspen9, 32 qubits\n",
    "        if nq <= 32:\n",
    "            hamsim_jobs.append([\n",
    "                f'hamsim_{nq}qubits{total_time}steps_aspen9',\n",
    "                hamsim,\n",
    "                ornl_service.create_job(circuit=hamsim.circuit(), repetitions=rigetti_shots, target=\"rigetti_aspen\"),\n",
    "                0,\n",
    "            ])\n",
    "            print(\"Created AWS job:\", hamsim_jobs[-1])\n",
    "\n",
    "        # ionq, 11 qubits\n",
    "        if nq <= 11:\n",
    "            hamsim_jobs.append([\n",
    "                f'hamsim_{nq}qubits{total_time}steps_ionq',\n",
    "                hamsim,\n",
    "                ornl_service.create_job(circuit=hamsim.circuit(), repetitions=ionq_shots, target=\"ionq_ion\"),\n",
    "                0,\n",
    "            ])\n",
    "            print(\"Created AWS job:\", hamsim_jobs[-1])"
   ]
  },
  {
   "cell_type": "markdown",
   "id": "2e63164a-7e95-47ce-96da-b1c511c1f653",
   "metadata": {},
   "source": [
    "## Compute scores and store results"
   ]
  },
  {
   "cell_type": "code",
   "execution_count": 131,
   "id": "c65a4551-fa9b-4d08-a7f7-4a47d36e8d84",
   "metadata": {
    "scrolled": true,
    "tags": []
   },
   "outputs": [
    {
     "name": "stdout",
     "output_type": "stream",
     "text": [
      "All jobs completed\n"
     ]
    }
   ],
   "source": [
    "job_sum = sum([experiment[3] for experiment in hamsim_jobs])\n",
    "if job_sum < len(hamsim_jobs):\n",
    "    print(f'Completed {job_sum}/{len(hamsim_jobs)} jobs')\n",
    "    for experiment in hamsim_jobs:\n",
    "        name, benchmark, job, checked = experiment\n",
    "        status = job.status()\n",
    "        print(f'{name}, status: {status}')\n",
    "        if status == 'Done' and checked == 0:\n",
    "            try:\n",
    "                counts = job.counts()\n",
    "            except:\n",
    "                continue\n",
    "            score = benchmark.score(counts)\n",
    "            print('\\tCounts:', counts)\n",
    "            print('\\tScore:', score)\n",
    "            date = time.ctime().replace(' ', '-').replace(':', '-')\n",
    "            with open(f'benchmark_results/{name}_{date}.pickle', 'wb') as pklfile:\n",
    "                pickle.dump(\n",
    "                        {'name':name,\n",
    "                         'benchmark':benchmark,\n",
    "                         'job':job,\n",
    "                         'counts':counts,\n",
    "                         'score':score},\n",
    "                        pklfile)\n",
    "            experiment[3] = 1\n",
    "        elif status == 'Failed' and checked == 0:\n",
    "            experiment[3] = 1\n",
    "else:\n",
    "    print('All jobs completed')"
   ]
  },
  {
   "cell_type": "markdown",
   "id": "9fe2039a-54f8-4081-a7c4-bc61c29505b2",
   "metadata": {},
   "source": [
    "# QAOA Fermionic Swap benchmark\n",
    "## Submit jobs"
   ]
  },
  {
   "cell_type": "code",
   "execution_count": 23,
   "id": "10269319-3823-439e-a8c3-5f216c97045c",
   "metadata": {
    "tags": []
   },
   "outputs": [],
   "source": [
    "qaoafswap_jobs = []"
   ]
  },
  {
   "cell_type": "code",
   "execution_count": 144,
   "id": "326979e6-34ad-4312-a0a7-402666844113",
   "metadata": {
    "scrolled": true,
    "tags": []
   },
   "outputs": [
    {
     "name": "stdout",
     "output_type": "stream",
     "text": [
      "Created 5-qubit qaoa fermionic swap proxy benchmark\n",
      "0: ───H───@─────────────────X───@─────────────────────────────@────────────────X───@─────────────────────────────@─────────────────────────X───@───Rx(1.29π)───M───\n",
      "          │                 │   │                             │                │   │                             │                         │   │               │\n",
      "1: ───H───X───Rz(-0.173π)───@───X───@─────────────────X───@───X───Rz(0.173π)───@───X───@─────────────────X───@───X───────────Rz(-0.173π)───@───X───Rx(1.29π)───M───\n",
      "                                    │                 │   │                            │                 │   │                                                 │\n",
      "2: ───H───@─────────────────X───@───X───Rz(0.173π)────@───X───@────────────────X───@───X───Rz(-0.173π)───@───X───@─────────────────────────X───@───Rx(1.29π)───M───\n",
      "          │                 │   │                             │                │   │                             │                         │   │               │\n",
      "3: ───H───X───Rz(0.173π)────@───X───@─────────────────X───@───X───Rz(0.173π)───@───X───@─────────────────X───@───X───────────Rz(0.173π)────@───X───Rx(1.29π)───M───\n",
      "                                    │                 │   │                            │                 │   │                                                 │\n",
      "4: ───H─────────────────────────────X───Rz(-0.173π)───@───X────────────────────────────X───Rz(-0.173π)───@───X───Rx(1.29π)─────────────────────────────────────M───\n"
     ]
    },
    {
     "name": "stderr",
     "output_type": "stream",
     "text": [
      "/Users/teague/opt/miniconda3/envs/superEnv/lib/python3.8/site-packages/urllib3/connectionpool.py:1013: InsecureRequestWarning: Unverified HTTPS request is being made to host '127.0.0.1'. Adding certificate verification is strongly advised. See: https://urllib3.readthedocs.io/en/1.26.x/advanced-usage.html#ssl-warnings\n",
      "  warnings.warn(\n",
      "/Users/teague/opt/miniconda3/envs/superEnv/lib/python3.8/site-packages/urllib3/connectionpool.py:1013: InsecureRequestWarning: Unverified HTTPS request is being made to host '127.0.0.1'. Adding certificate verification is strongly advised. See: https://urllib3.readthedocs.io/en/1.26.x/advanced-usage.html#ssl-warnings\n",
      "  warnings.warn(\n"
     ]
    },
    {
     "name": "stdout",
     "output_type": "stream",
     "text": [
      "Created IBM job: ['qaoafswap_5qubits_casablanca', <supermarq.benchmarks.qaoa_fermionic_swap_proxy.QAOAFermionicSwapProxy object at 0x7f84f5282160>, <cirq_superstaq.job.Job object at 0x7f84f6910d00>, 0]\n"
     ]
    },
    {
     "name": "stderr",
     "output_type": "stream",
     "text": [
      "/Users/teague/opt/miniconda3/envs/superEnv/lib/python3.8/site-packages/urllib3/connectionpool.py:1013: InsecureRequestWarning: Unverified HTTPS request is being made to host '127.0.0.1'. Adding certificate verification is strongly advised. See: https://urllib3.readthedocs.io/en/1.26.x/advanced-usage.html#ssl-warnings\n",
      "  warnings.warn(\n",
      "/Users/teague/opt/miniconda3/envs/superEnv/lib/python3.8/site-packages/urllib3/connectionpool.py:1013: InsecureRequestWarning: Unverified HTTPS request is being made to host '127.0.0.1'. Adding certificate verification is strongly advised. See: https://urllib3.readthedocs.io/en/1.26.x/advanced-usage.html#ssl-warnings\n",
      "  warnings.warn(\n"
     ]
    },
    {
     "name": "stdout",
     "output_type": "stream",
     "text": [
      "Created IBM job: ['qaoafswap_5qubits_guadalupe', <supermarq.benchmarks.qaoa_fermionic_swap_proxy.QAOAFermionicSwapProxy object at 0x7f84f5282160>, <cirq_superstaq.job.Job object at 0x7f84f69192b0>, 0]\n"
     ]
    },
    {
     "name": "stderr",
     "output_type": "stream",
     "text": [
      "/Users/teague/opt/miniconda3/envs/superEnv/lib/python3.8/site-packages/urllib3/connectionpool.py:1013: InsecureRequestWarning: Unverified HTTPS request is being made to host '127.0.0.1'. Adding certificate verification is strongly advised. See: https://urllib3.readthedocs.io/en/1.26.x/advanced-usage.html#ssl-warnings\n",
      "  warnings.warn(\n",
      "/Users/teague/opt/miniconda3/envs/superEnv/lib/python3.8/site-packages/urllib3/connectionpool.py:1013: InsecureRequestWarning: Unverified HTTPS request is being made to host '127.0.0.1'. Adding certificate verification is strongly advised. See: https://urllib3.readthedocs.io/en/1.26.x/advanced-usage.html#ssl-warnings\n",
      "  warnings.warn(\n"
     ]
    },
    {
     "name": "stdout",
     "output_type": "stream",
     "text": [
      "Created IBM job: ['qaoafswap_5qubits_montreal', <supermarq.benchmarks.qaoa_fermionic_swap_proxy.QAOAFermionicSwapProxy object at 0x7f84f5282160>, <cirq_superstaq.job.Job object at 0x7f84f6919430>, 0]\n"
     ]
    },
    {
     "name": "stderr",
     "output_type": "stream",
     "text": [
      "/Users/teague/opt/miniconda3/envs/superEnv/lib/python3.8/site-packages/urllib3/connectionpool.py:1013: InsecureRequestWarning: Unverified HTTPS request is being made to host '127.0.0.1'. Adding certificate verification is strongly advised. See: https://urllib3.readthedocs.io/en/1.26.x/advanced-usage.html#ssl-warnings\n",
      "  warnings.warn(\n",
      "/Users/teague/opt/miniconda3/envs/superEnv/lib/python3.8/site-packages/urllib3/connectionpool.py:1013: InsecureRequestWarning: Unverified HTTPS request is being made to host '127.0.0.1'. Adding certificate verification is strongly advised. See: https://urllib3.readthedocs.io/en/1.26.x/advanced-usage.html#ssl-warnings\n",
      "  warnings.warn(\n"
     ]
    },
    {
     "name": "stdout",
     "output_type": "stream",
     "text": [
      "Created IBM job: ['qaoafswap_5qubits_mumbai', <supermarq.benchmarks.qaoa_fermionic_swap_proxy.QAOAFermionicSwapProxy object at 0x7f84f5282160>, <cirq_superstaq.job.Job object at 0x7f84f567ff10>, 0]\n"
     ]
    },
    {
     "name": "stderr",
     "output_type": "stream",
     "text": [
      "/Users/teague/opt/miniconda3/envs/superEnv/lib/python3.8/site-packages/urllib3/connectionpool.py:1013: InsecureRequestWarning: Unverified HTTPS request is being made to host '127.0.0.1'. Adding certificate verification is strongly advised. See: https://urllib3.readthedocs.io/en/1.26.x/advanced-usage.html#ssl-warnings\n",
      "  warnings.warn(\n",
      "/Users/teague/opt/miniconda3/envs/superEnv/lib/python3.8/site-packages/urllib3/connectionpool.py:1013: InsecureRequestWarning: Unverified HTTPS request is being made to host '127.0.0.1'. Adding certificate verification is strongly advised. See: https://urllib3.readthedocs.io/en/1.26.x/advanced-usage.html#ssl-warnings\n",
      "  warnings.warn(\n"
     ]
    },
    {
     "name": "stdout",
     "output_type": "stream",
     "text": [
      "Created IBM job: ['qaoafswap_5qubits_toronto', <supermarq.benchmarks.qaoa_fermionic_swap_proxy.QAOAFermionicSwapProxy object at 0x7f84f5282160>, <cirq_superstaq.job.Job object at 0x7f84f4cfb820>, 0]\n"
     ]
    },
    {
     "name": "stderr",
     "output_type": "stream",
     "text": [
      "/Users/teague/opt/miniconda3/envs/superEnv/lib/python3.8/site-packages/urllib3/connectionpool.py:1013: InsecureRequestWarning: Unverified HTTPS request is being made to host '127.0.0.1'. Adding certificate verification is strongly advised. See: https://urllib3.readthedocs.io/en/1.26.x/advanced-usage.html#ssl-warnings\n",
      "  warnings.warn(\n",
      "/Users/teague/opt/miniconda3/envs/superEnv/lib/python3.8/site-packages/urllib3/connectionpool.py:1013: InsecureRequestWarning: Unverified HTTPS request is being made to host '127.0.0.1'. Adding certificate verification is strongly advised. See: https://urllib3.readthedocs.io/en/1.26.x/advanced-usage.html#ssl-warnings\n",
      "  warnings.warn(\n"
     ]
    },
    {
     "name": "stdout",
     "output_type": "stream",
     "text": [
      "Created IBM job: ['qaoafswap_5qubits_lagos', <supermarq.benchmarks.qaoa_fermionic_swap_proxy.QAOAFermionicSwapProxy object at 0x7f84f5282160>, <cirq_superstaq.job.Job object at 0x7f84f686cb80>, 0]\n"
     ]
    },
    {
     "name": "stderr",
     "output_type": "stream",
     "text": [
      "/Users/teague/opt/miniconda3/envs/superEnv/lib/python3.8/site-packages/urllib3/connectionpool.py:1013: InsecureRequestWarning: Unverified HTTPS request is being made to host '127.0.0.1'. Adding certificate verification is strongly advised. See: https://urllib3.readthedocs.io/en/1.26.x/advanced-usage.html#ssl-warnings\n",
      "  warnings.warn(\n",
      "/Users/teague/opt/miniconda3/envs/superEnv/lib/python3.8/site-packages/urllib3/connectionpool.py:1013: InsecureRequestWarning: Unverified HTTPS request is being made to host '127.0.0.1'. Adding certificate verification is strongly advised. See: https://urllib3.readthedocs.io/en/1.26.x/advanced-usage.html#ssl-warnings\n",
      "  warnings.warn(\n"
     ]
    },
    {
     "name": "stdout",
     "output_type": "stream",
     "text": [
      "Created IBM job: ['qaoafswap_5qubits_santiago', <supermarq.benchmarks.qaoa_fermionic_swap_proxy.QAOAFermionicSwapProxy object at 0x7f84f5282160>, <cirq_superstaq.job.Job object at 0x7f84f686c1c0>, 0]\n"
     ]
    },
    {
     "name": "stderr",
     "output_type": "stream",
     "text": [
      "/Users/teague/opt/miniconda3/envs/superEnv/lib/python3.8/site-packages/urllib3/connectionpool.py:1013: InsecureRequestWarning: Unverified HTTPS request is being made to host '127.0.0.1'. Adding certificate verification is strongly advised. See: https://urllib3.readthedocs.io/en/1.26.x/advanced-usage.html#ssl-warnings\n",
      "  warnings.warn(\n",
      "/Users/teague/opt/miniconda3/envs/superEnv/lib/python3.8/site-packages/urllib3/connectionpool.py:1013: InsecureRequestWarning: Unverified HTTPS request is being made to host '127.0.0.1'. Adding certificate verification is strongly advised. See: https://urllib3.readthedocs.io/en/1.26.x/advanced-usage.html#ssl-warnings\n",
      "  warnings.warn(\n"
     ]
    },
    {
     "name": "stdout",
     "output_type": "stream",
     "text": [
      "Created AWS job: ['qaoafswap_5qubits_aspen9', <supermarq.benchmarks.qaoa_fermionic_swap_proxy.QAOAFermionicSwapProxy object at 0x7f84f5282160>, <cirq_superstaq.job.Job object at 0x7f84f686cee0>, 0]\n"
     ]
    },
    {
     "name": "stderr",
     "output_type": "stream",
     "text": [
      "/Users/teague/opt/miniconda3/envs/superEnv/lib/python3.8/site-packages/urllib3/connectionpool.py:1013: InsecureRequestWarning: Unverified HTTPS request is being made to host '127.0.0.1'. Adding certificate verification is strongly advised. See: https://urllib3.readthedocs.io/en/1.26.x/advanced-usage.html#ssl-warnings\n",
      "  warnings.warn(\n",
      "/Users/teague/opt/miniconda3/envs/superEnv/lib/python3.8/site-packages/urllib3/connectionpool.py:1013: InsecureRequestWarning: Unverified HTTPS request is being made to host '127.0.0.1'. Adding certificate verification is strongly advised. See: https://urllib3.readthedocs.io/en/1.26.x/advanced-usage.html#ssl-warnings\n",
      "  warnings.warn(\n"
     ]
    },
    {
     "name": "stdout",
     "output_type": "stream",
     "text": [
      "Created AWS job: ['qaoafswap_5qubits_ionq', <supermarq.benchmarks.qaoa_fermionic_swap_proxy.QAOAFermionicSwapProxy object at 0x7f84f5282160>, <cirq_superstaq.job.Job object at 0x7f84f5323310>, 0]\n"
     ]
    }
   ],
   "source": [
    "# Run QAOA Fermionic Swap Proxy benchmarks\n",
    "for nq in [5]:\n",
    "    qaoafswap = sm.qaoa_fermionic_swap_proxy.QAOAFermionicSwapProxy(nq)\n",
    "    print(f'Created {nq}-qubit qaoa fermionic swap proxy benchmark')\n",
    "    print(qaoafswap.circuit())\n",
    "\n",
    "    # ibmq_casablanca, 7 qubits\n",
    "    if nq <= 7:\n",
    "        qaoafswap_jobs.append([\n",
    "            f'qaoafswap_{nq}qubits_casablanca',\n",
    "            qaoafswap,\n",
    "            ornl_service.create_job(circuit=qaoafswap.circuit(), repetitions=ibm_shots, target=\"ibmq_casablanca\"),\n",
    "            0,\n",
    "        ])\n",
    "        print(\"Created IBM job:\", qaoafswap_jobs[-1])\n",
    "\n",
    "    # ibmq_guadalupe, 16 qubits\n",
    "    if nq <= 16:\n",
    "        qaoafswap_jobs.append([\n",
    "            f'qaoafswap_{nq}qubits_guadalupe',\n",
    "            qaoafswap,\n",
    "            ornl_service.create_job(circuit=qaoafswap.circuit(), repetitions=ibm_shots, target=\"ibmq_guadalupe\"),\n",
    "            0,\n",
    "        ])\n",
    "        print(\"Created IBM job:\", qaoafswap_jobs[-1])\n",
    "\n",
    "    # ibmq_montreal, 27 qubits\n",
    "    if nq <= 27:\n",
    "        qaoafswap_jobs.append([\n",
    "            f'qaoafswap_{nq}qubits_montreal',\n",
    "            qaoafswap,\n",
    "            ornl_service.create_job(circuit=qaoafswap.circuit(), repetitions=ibm_shots, target=\"ibmq_montreal\"),\n",
    "            0,\n",
    "        ])\n",
    "        print(\"Created IBM job:\", qaoafswap_jobs[-1])\n",
    "        \n",
    "    # ibmq_mumbai, 27 qubits\n",
    "    if nq <= 27:\n",
    "        qaoafswap_jobs.append([\n",
    "            f'qaoafswap_{nq}qubits_mumbai',\n",
    "            qaoafswap,\n",
    "            ornl_service.create_job(circuit=qaoafswap.circuit(), repetitions=ibm_shots, target=\"ibmq_mumbai\"),\n",
    "            0,\n",
    "        ])\n",
    "        print(\"Created IBM job:\", qaoafswap_jobs[-1])\n",
    "    \n",
    "    # ibmq_toronto, 27 qubits\n",
    "    if nq <= 27:\n",
    "        qaoafswap_jobs.append([\n",
    "            f'qaoafswap_{nq}qubits_toronto',\n",
    "            qaoafswap,\n",
    "            ornl_service.create_job(circuit=qaoafswap.circuit(), repetitions=ibm_shots, target=\"ibmq_toronto\"),\n",
    "            0,\n",
    "        ])\n",
    "        print(\"Created IBM job:\", qaoafswap_jobs[-1])\n",
    "    \n",
    "    # ibmq_lagos, 7 qubits\n",
    "    if nq <= 7:\n",
    "        qaoafswap_jobs.append([\n",
    "            f'qaoafswap_{nq}qubits_lagos',\n",
    "            qaoafswap,\n",
    "            supertech_service.create_job(circuit=qaoafswap.circuit(), repetitions=ibm_shots, target=\"ibm_lagos\"),\n",
    "            0,\n",
    "        ])\n",
    "        print(\"Created IBM job:\", qaoafswap_jobs[-1])\n",
    "    \n",
    "    # ibmq_santiago, 5 qubits\n",
    "    if nq <= 5:\n",
    "        qaoafswap_jobs.append([\n",
    "            f'qaoafswap_{nq}qubits_santiago',\n",
    "            qaoafswap,\n",
    "            ornl_service.create_job(circuit=qaoafswap.circuit(), repetitions=ibm_shots, target=\"ibmq_santiago\"),\n",
    "            0,\n",
    "        ])\n",
    "        print(\"Created IBM job:\", qaoafswap_jobs[-1])\n",
    "\n",
    "    # rigetti_aspen9, 32 qubits\n",
    "    if nq <= 32:\n",
    "        qaoafswap_jobs.append([\n",
    "            f'qaoafswap_{nq}qubits_aspen9',\n",
    "            qaoafswap,\n",
    "            ornl_service.create_job(circuit=qaoafswap.circuit(), repetitions=rigetti_shots, target=\"rigetti_aspen\"),\n",
    "            0,\n",
    "        ])\n",
    "        print(\"Created AWS job:\", qaoafswap_jobs[-1])\n",
    "        \n",
    "    # ionq, 11 qubits\n",
    "    if nq <= 11:\n",
    "        qaoafswap_jobs.append([\n",
    "            f'qaoafswap_{nq}qubits_ionq',\n",
    "            qaoafswap,\n",
    "            ornl_service.create_job(circuit=qaoafswap.circuit(), repetitions=ionq_shots, target=\"ionq_ion\"),\n",
    "            0,\n",
    "        ])\n",
    "        print(\"Created AWS job:\", qaoafswap_jobs[-1])"
   ]
  },
  {
   "cell_type": "markdown",
   "id": "582cb2dc-a88b-42da-a58e-ee702bbb04ff",
   "metadata": {},
   "source": [
    "## Compute scores and store results"
   ]
  },
  {
   "cell_type": "code",
   "execution_count": 138,
   "id": "48af70ac-4153-4b79-bf03-0eb687d89072",
   "metadata": {
    "scrolled": true,
    "tags": []
   },
   "outputs": [
    {
     "name": "stdout",
     "output_type": "stream",
     "text": [
      "Completed 38/58 jobs\n",
      "qaoafswap_4qubits_casablanca, status: Done\n",
      "qaoafswap_4qubits_guadalupe, status: Done\n",
      "qaoafswap_4qubits_montreal, status: Done\n",
      "qaoafswap_4qubits_toronto, status: Done\n",
      "qaoafswap_4qubits_lagos, status: Done\n",
      "qaoafswap_4qubits_santiago, status: Done\n",
      "qaoafswap_4qubits_aspen9, status: Done\n",
      "qaoafswap_4qubits_ionq, status: Done\n",
      "qaoafswap_7qubits_casablanca, status: Done\n",
      "qaoafswap_7qubits_guadalupe, status: Done\n",
      "qaoafswap_7qubits_montreal, status: Done\n",
      "qaoafswap_7qubits_toronto, status: Done\n",
      "qaoafswap_7qubits_lagos, status: Done\n",
      "qaoafswap_7qubits_aspen9, status: Done\n",
      "qaoafswap_7qubits_ionq, status: Done\n",
      "qaoafswap_11qubits_guadalupe, status: Done\n",
      "qaoafswap_11qubits_montreal, status: Done\n",
      "qaoafswap_11qubits_toronto, status: Done\n",
      "qaoafswap_11qubits_aspen9, status: Done\n",
      "qaoafswap_11qubits_ionq, status: Done\n",
      "qaoafswap_4qubits_casablanca, status: Done\n",
      "qaoafswap_4qubits_guadalupe, status: Done\n",
      "qaoafswap_4qubits_montreal, status: Done\n"
     ]
    },
    {
     "name": "stderr",
     "output_type": "stream",
     "text": [
      "/Users/teague/opt/miniconda3/envs/superEnv/lib/python3.8/site-packages/urllib3/connectionpool.py:1013: InsecureRequestWarning: Unverified HTTPS request is being made to host '127.0.0.1'. Adding certificate verification is strongly advised. See: https://urllib3.readthedocs.io/en/1.26.x/advanced-usage.html#ssl-warnings\n",
      "  warnings.warn(\n"
     ]
    },
    {
     "name": "stdout",
     "output_type": "stream",
     "text": [
      "qaoafswap_4qubits_mumbai, status: Queued\n",
      "qaoafswap_4qubits_lagos, status: Done\n",
      "qaoafswap_4qubits_santiago, status: Done\n",
      "qaoafswap_4qubits_aspen9, status: Done\n",
      "qaoafswap_4qubits_ionq, status: Done\n",
      "qaoafswap_7qubits_casablanca, status: Done\n",
      "qaoafswap_7qubits_guadalupe, status: Done\n",
      "qaoafswap_7qubits_montreal, status: Done\n"
     ]
    },
    {
     "name": "stderr",
     "output_type": "stream",
     "text": [
      "/Users/teague/opt/miniconda3/envs/superEnv/lib/python3.8/site-packages/urllib3/connectionpool.py:1013: InsecureRequestWarning: Unverified HTTPS request is being made to host '127.0.0.1'. Adding certificate verification is strongly advised. See: https://urllib3.readthedocs.io/en/1.26.x/advanced-usage.html#ssl-warnings\n",
      "  warnings.warn(\n"
     ]
    },
    {
     "name": "stdout",
     "output_type": "stream",
     "text": [
      "qaoafswap_7qubits_mumbai, status: Queued\n",
      "qaoafswap_7qubits_lagos, status: Done\n",
      "qaoafswap_7qubits_aspen9, status: Done\n",
      "qaoafswap_7qubits_ionq, status: Done\n",
      "qaoafswap_11qubits_guadalupe, status: Done\n",
      "qaoafswap_11qubits_montreal, status: Done\n"
     ]
    },
    {
     "name": "stderr",
     "output_type": "stream",
     "text": [
      "/Users/teague/opt/miniconda3/envs/superEnv/lib/python3.8/site-packages/urllib3/connectionpool.py:1013: InsecureRequestWarning: Unverified HTTPS request is being made to host '127.0.0.1'. Adding certificate verification is strongly advised. See: https://urllib3.readthedocs.io/en/1.26.x/advanced-usage.html#ssl-warnings\n",
      "  warnings.warn(\n"
     ]
    },
    {
     "name": "stdout",
     "output_type": "stream",
     "text": [
      "qaoafswap_11qubits_mumbai, status: Queued\n",
      "qaoafswap_11qubits_aspen9, status: Done\n",
      "qaoafswap_11qubits_ionq, status: Done\n"
     ]
    },
    {
     "name": "stderr",
     "output_type": "stream",
     "text": [
      "/Users/teague/opt/miniconda3/envs/superEnv/lib/python3.8/site-packages/urllib3/connectionpool.py:1013: InsecureRequestWarning: Unverified HTTPS request is being made to host '127.0.0.1'. Adding certificate verification is strongly advised. See: https://urllib3.readthedocs.io/en/1.26.x/advanced-usage.html#ssl-warnings\n",
      "  warnings.warn(\n"
     ]
    },
    {
     "name": "stdout",
     "output_type": "stream",
     "text": [
      "qaoafswap_5qubits_casablanca, status: Queued\n"
     ]
    },
    {
     "name": "stderr",
     "output_type": "stream",
     "text": [
      "/Users/teague/opt/miniconda3/envs/superEnv/lib/python3.8/site-packages/urllib3/connectionpool.py:1013: InsecureRequestWarning: Unverified HTTPS request is being made to host '127.0.0.1'. Adding certificate verification is strongly advised. See: https://urllib3.readthedocs.io/en/1.26.x/advanced-usage.html#ssl-warnings\n",
      "  warnings.warn(\n"
     ]
    },
    {
     "name": "stdout",
     "output_type": "stream",
     "text": [
      "qaoafswap_5qubits_guadalupe, status: Done\n",
      "\tCounts: {'00000': 85, '00001': 37, '00010': 235, '00011': 41, '00100': 63, '00101': 79, '00110': 57, '00111': 40, '01000': 65, '01001': 15, '01010': 67, '01011': 26, '01100': 161, '01101': 31, '01110': 77, '01111': 21, '10000': 77, '10001': 103, '10010': 47, '10011': 52, '10100': 20, '10101': 49, '10110': 15, '10111': 15, '11000': 138, '11001': 48, '11010': 68, '11011': 27, '11100': 81, '11101': 102, '11110': 30, '11111': 28}\n",
      "\tScore: 0.7589207268333211\n"
     ]
    },
    {
     "name": "stderr",
     "output_type": "stream",
     "text": [
      "/Users/teague/opt/miniconda3/envs/superEnv/lib/python3.8/site-packages/urllib3/connectionpool.py:1013: InsecureRequestWarning: Unverified HTTPS request is being made to host '127.0.0.1'. Adding certificate verification is strongly advised. See: https://urllib3.readthedocs.io/en/1.26.x/advanced-usage.html#ssl-warnings\n",
      "  warnings.warn(\n"
     ]
    },
    {
     "name": "stdout",
     "output_type": "stream",
     "text": [
      "qaoafswap_5qubits_montreal, status: Queued\n"
     ]
    },
    {
     "name": "stderr",
     "output_type": "stream",
     "text": [
      "/Users/teague/opt/miniconda3/envs/superEnv/lib/python3.8/site-packages/urllib3/connectionpool.py:1013: InsecureRequestWarning: Unverified HTTPS request is being made to host '127.0.0.1'. Adding certificate verification is strongly advised. See: https://urllib3.readthedocs.io/en/1.26.x/advanced-usage.html#ssl-warnings\n",
      "  warnings.warn(\n"
     ]
    },
    {
     "name": "stdout",
     "output_type": "stream",
     "text": [
      "qaoafswap_5qubits_mumbai, status: Queued\n",
      "qaoafswap_5qubits_toronto, status: Done\n"
     ]
    },
    {
     "name": "stderr",
     "output_type": "stream",
     "text": [
      "/Users/teague/opt/miniconda3/envs/superEnv/lib/python3.8/site-packages/urllib3/connectionpool.py:1013: InsecureRequestWarning: Unverified HTTPS request is being made to host '127.0.0.1'. Adding certificate verification is strongly advised. See: https://urllib3.readthedocs.io/en/1.26.x/advanced-usage.html#ssl-warnings\n",
      "  warnings.warn(\n"
     ]
    },
    {
     "name": "stdout",
     "output_type": "stream",
     "text": [
      "qaoafswap_5qubits_lagos, status: Queued\n"
     ]
    },
    {
     "name": "stderr",
     "output_type": "stream",
     "text": [
      "/Users/teague/opt/miniconda3/envs/superEnv/lib/python3.8/site-packages/urllib3/connectionpool.py:1013: InsecureRequestWarning: Unverified HTTPS request is being made to host '127.0.0.1'. Adding certificate verification is strongly advised. See: https://urllib3.readthedocs.io/en/1.26.x/advanced-usage.html#ssl-warnings\n",
      "  warnings.warn(\n"
     ]
    },
    {
     "name": "stdout",
     "output_type": "stream",
     "text": [
      "qaoafswap_5qubits_santiago, status: Done\n",
      "\tCounts: {'00000': 40, '00001': 28, '00010': 183, '00011': 49, '00100': 28, '00101': 125, '00110': 93, '00111': 135, '01000': 14, '01001': 22, '01010': 42, '01011': 20, '01100': 94, '01101': 64, '01110': 95, '01111': 26, '10000': 21, '10001': 90, '10010': 66, '10011': 99, '10100': 7, '10101': 44, '10110': 19, '10111': 28, '11000': 89, '11001': 55, '11010': 81, '11011': 19, '11100': 68, '11101': 194, '11110': 11, '11111': 51}\n",
      "\tScore: 0.8425342044267137\n"
     ]
    },
    {
     "name": "stderr",
     "output_type": "stream",
     "text": [
      "/Users/teague/opt/miniconda3/envs/superEnv/lib/python3.8/site-packages/urllib3/connectionpool.py:1013: InsecureRequestWarning: Unverified HTTPS request is being made to host '127.0.0.1'. Adding certificate verification is strongly advised. See: https://urllib3.readthedocs.io/en/1.26.x/advanced-usage.html#ssl-warnings\n",
      "  warnings.warn(\n"
     ]
    },
    {
     "name": "stdout",
     "output_type": "stream",
     "text": [
      "qaoafswap_5qubits_aspen9, status: Queued\n"
     ]
    },
    {
     "name": "stderr",
     "output_type": "stream",
     "text": [
      "/Users/teague/opt/miniconda3/envs/superEnv/lib/python3.8/site-packages/urllib3/connectionpool.py:1013: InsecureRequestWarning: Unverified HTTPS request is being made to host '127.0.0.1'. Adding certificate verification is strongly advised. See: https://urllib3.readthedocs.io/en/1.26.x/advanced-usage.html#ssl-warnings\n",
      "  warnings.warn(\n"
     ]
    },
    {
     "name": "stdout",
     "output_type": "stream",
     "text": [
      "qaoafswap_5qubits_ionq, status: Queued\n"
     ]
    },
    {
     "name": "stderr",
     "output_type": "stream",
     "text": [
      "/Users/teague/opt/miniconda3/envs/superEnv/lib/python3.8/site-packages/urllib3/connectionpool.py:1013: InsecureRequestWarning: Unverified HTTPS request is being made to host '127.0.0.1'. Adding certificate verification is strongly advised. See: https://urllib3.readthedocs.io/en/1.26.x/advanced-usage.html#ssl-warnings\n",
      "  warnings.warn(\n"
     ]
    },
    {
     "name": "stdout",
     "output_type": "stream",
     "text": [
      "qaoafswap_5qubits_casablanca, status: Queued\n"
     ]
    },
    {
     "name": "stderr",
     "output_type": "stream",
     "text": [
      "/Users/teague/opt/miniconda3/envs/superEnv/lib/python3.8/site-packages/urllib3/connectionpool.py:1013: InsecureRequestWarning: Unverified HTTPS request is being made to host '127.0.0.1'. Adding certificate verification is strongly advised. See: https://urllib3.readthedocs.io/en/1.26.x/advanced-usage.html#ssl-warnings\n",
      "  warnings.warn(\n"
     ]
    },
    {
     "name": "stdout",
     "output_type": "stream",
     "text": [
      "qaoafswap_5qubits_guadalupe, status: Done\n",
      "\tCounts: {'00000': 163, '00001': 29, '00010': 48, '00011': 15, '00100': 121, '00101': 49, '00110': 29, '00111': 14, '01000': 198, '01001': 65, '01010': 148, '01011': 102, '01100': 56, '01101': 27, '01110': 24, '01111': 34, '10000': 117, '10001': 116, '10010': 26, '10011': 25, '10100': 228, '10101': 54, '10110': 36, '10111': 16, '11000': 31, '11001': 71, '11010': 24, '11011': 46, '11100': 35, '11101': 24, '11110': 12, '11111': 17}\n",
      "\tScore: 0.6960110434709216\n"
     ]
    },
    {
     "name": "stderr",
     "output_type": "stream",
     "text": [
      "/Users/teague/opt/miniconda3/envs/superEnv/lib/python3.8/site-packages/urllib3/connectionpool.py:1013: InsecureRequestWarning: Unverified HTTPS request is being made to host '127.0.0.1'. Adding certificate verification is strongly advised. See: https://urllib3.readthedocs.io/en/1.26.x/advanced-usage.html#ssl-warnings\n",
      "  warnings.warn(\n"
     ]
    },
    {
     "name": "stdout",
     "output_type": "stream",
     "text": [
      "qaoafswap_5qubits_montreal, status: Queued\n"
     ]
    },
    {
     "name": "stderr",
     "output_type": "stream",
     "text": [
      "/Users/teague/opt/miniconda3/envs/superEnv/lib/python3.8/site-packages/urllib3/connectionpool.py:1013: InsecureRequestWarning: Unverified HTTPS request is being made to host '127.0.0.1'. Adding certificate verification is strongly advised. See: https://urllib3.readthedocs.io/en/1.26.x/advanced-usage.html#ssl-warnings\n",
      "  warnings.warn(\n"
     ]
    },
    {
     "name": "stdout",
     "output_type": "stream",
     "text": [
      "qaoafswap_5qubits_mumbai, status: Queued\n"
     ]
    },
    {
     "name": "stderr",
     "output_type": "stream",
     "text": [
      "/Users/teague/opt/miniconda3/envs/superEnv/lib/python3.8/site-packages/urllib3/connectionpool.py:1013: InsecureRequestWarning: Unverified HTTPS request is being made to host '127.0.0.1'. Adding certificate verification is strongly advised. See: https://urllib3.readthedocs.io/en/1.26.x/advanced-usage.html#ssl-warnings\n",
      "  warnings.warn(\n"
     ]
    },
    {
     "name": "stdout",
     "output_type": "stream",
     "text": [
      "qaoafswap_5qubits_toronto, status: Done\n",
      "\tCounts: {'00000': 90, '00001': 25, '00010': 65, '00011': 51, '00100': 148, '00101': 28, '00110': 52, '00111': 22, '01000': 79, '01001': 67, '01010': 115, '01011': 165, '01100': 40, '01101': 21, '01110': 22, '01111': 34, '10000': 79, '10001': 101, '10010': 28, '10011': 68, '10100': 259, '10101': 63, '10110': 31, '10111': 47, '11000': 17, '11001': 65, '11010': 31, '11011': 74, '11100': 31, '11101': 42, '11110': 19, '11111': 21}\n",
      "\tScore: 0.7535907869629916\n"
     ]
    },
    {
     "name": "stderr",
     "output_type": "stream",
     "text": [
      "/Users/teague/opt/miniconda3/envs/superEnv/lib/python3.8/site-packages/urllib3/connectionpool.py:1013: InsecureRequestWarning: Unverified HTTPS request is being made to host '127.0.0.1'. Adding certificate verification is strongly advised. See: https://urllib3.readthedocs.io/en/1.26.x/advanced-usage.html#ssl-warnings\n",
      "  warnings.warn(\n"
     ]
    },
    {
     "name": "stdout",
     "output_type": "stream",
     "text": [
      "qaoafswap_5qubits_lagos, status: Queued\n"
     ]
    },
    {
     "name": "stderr",
     "output_type": "stream",
     "text": [
      "/Users/teague/opt/miniconda3/envs/superEnv/lib/python3.8/site-packages/urllib3/connectionpool.py:1013: InsecureRequestWarning: Unverified HTTPS request is being made to host '127.0.0.1'. Adding certificate verification is strongly advised. See: https://urllib3.readthedocs.io/en/1.26.x/advanced-usage.html#ssl-warnings\n",
      "  warnings.warn(\n"
     ]
    },
    {
     "name": "stdout",
     "output_type": "stream",
     "text": [
      "qaoafswap_5qubits_santiago, status: Running\n"
     ]
    },
    {
     "name": "stderr",
     "output_type": "stream",
     "text": [
      "/Users/teague/opt/miniconda3/envs/superEnv/lib/python3.8/site-packages/urllib3/connectionpool.py:1013: InsecureRequestWarning: Unverified HTTPS request is being made to host '127.0.0.1'. Adding certificate verification is strongly advised. See: https://urllib3.readthedocs.io/en/1.26.x/advanced-usage.html#ssl-warnings\n",
      "  warnings.warn(\n"
     ]
    },
    {
     "name": "stdout",
     "output_type": "stream",
     "text": [
      "qaoafswap_5qubits_aspen9, status: Queued\n"
     ]
    },
    {
     "name": "stderr",
     "output_type": "stream",
     "text": [
      "/Users/teague/opt/miniconda3/envs/superEnv/lib/python3.8/site-packages/urllib3/connectionpool.py:1013: InsecureRequestWarning: Unverified HTTPS request is being made to host '127.0.0.1'. Adding certificate verification is strongly advised. See: https://urllib3.readthedocs.io/en/1.26.x/advanced-usage.html#ssl-warnings\n",
      "  warnings.warn(\n"
     ]
    },
    {
     "name": "stdout",
     "output_type": "stream",
     "text": [
      "qaoafswap_5qubits_ionq, status: Queued\n"
     ]
    }
   ],
   "source": [
    "job_sum = sum([experiment[3] for experiment in qaoafswap_jobs])\n",
    "if job_sum < len(qaoafswap_jobs):\n",
    "    print(f'Completed {job_sum}/{len(qaoafswap_jobs)} jobs')\n",
    "    for experiment in qaoafswap_jobs:\n",
    "        name, benchmark, job, checked = experiment\n",
    "        status = job.status()\n",
    "        print(f'{name}, status: {status}')\n",
    "        if status == 'Done' and checked == 0:\n",
    "            try:\n",
    "                counts = job.counts()\n",
    "            except:\n",
    "                continue\n",
    "            score = benchmark.score(counts)\n",
    "            print('\\tCounts:', counts)\n",
    "            print('\\tScore:', score)\n",
    "            date = time.ctime().replace(' ', '-').replace(':', '-')\n",
    "            with open(f'benchmark_results/{name}_{date}.pickle', 'wb') as pklfile:\n",
    "                pickle.dump(\n",
    "                        {'name':name,\n",
    "                         'benchmark':benchmark,\n",
    "                         'job':job,\n",
    "                         'counts':counts,\n",
    "                         'score':score},\n",
    "                        pklfile)\n",
    "            experiment[3] = 1\n",
    "        elif status == 'Failed' and checked == 0:\n",
    "            experiment[3] = 1\n",
    "else:\n",
    "    print('All jobs completed')"
   ]
  },
  {
   "cell_type": "markdown",
   "id": "6294b387-ae24-4340-ac78-b270f44ceca6",
   "metadata": {},
   "source": [
    "# QAOA Vanilla benchmark\n",
    "## Submit jobs"
   ]
  },
  {
   "cell_type": "code",
   "execution_count": 26,
   "id": "5b6b5f4c-8f85-4a30-861b-c9f6f090c0f7",
   "metadata": {
    "tags": []
   },
   "outputs": [],
   "source": [
    "qaoavanilla_jobs = []"
   ]
  },
  {
   "cell_type": "code",
   "execution_count": 145,
   "id": "71b26621-6168-4480-b0b1-4002591b0479",
   "metadata": {
    "scrolled": true,
    "tags": []
   },
   "outputs": [
    {
     "name": "stdout",
     "output_type": "stream",
     "text": [
      "Created 5-qubit qaoa vanilla proxy benchmark\n",
      "                                ┌──┐                 ┌──┐                         ┌──┐                 ┌──┐                                 ┌──┐                 ┌──┐\n",
      "0: ───H───@─────────────────@─────@────────────────────@──────────────────────────────────────────────────────@─────────────────────────@────@────────────────────@─────Rx(-0.77π)───M───\n",
      "          │                 │     │                    │                                                      │                         │    │                    │                  │\n",
      "1: ───H───X───Rz(0.841π)────X────@┼───────────────────@┼────────────────────────────@────────────────────@────┼─────────────────────────┼────┼@───────────────────┼@────Rx(-0.77π)───M───\n",
      "                                 ││                   ││                            │                    │    │                         │    ││                   ││                 │\n",
      "2: ───H──────────────────────────X┼────Rz(-0.841π)────X┼────@─────────────────@────@┼───────────────────@┼────┼─────────────────────────┼────X┼────Rz(-0.841π)────X┼────Rx(-0.77π)───M───\n",
      "                                  │                    │    │                 │    ││                   ││    │                         │     │                    │                 │\n",
      "3: ───H───@─────────────────@─────┼────────────────────┼────┼─────────────────┼────X┼────Rz(-0.841π)────X┼────X────────────Rz(0.841π)───X─────X────Rz(0.841π)──────X────Rx(-0.77π)───M───\n",
      "          │                 │     │                    │    │                 │     │                    │                                                                           │\n",
      "4: ───H───X───Rz(-0.841π)───X─────X────Rz(-0.841π)─────X────X───Rz(-0.841π)───X─────X────Rz(0.841π)──────X────Rx(-0.77π)─────────────────────────────────────────────────────────────M───\n",
      "                                └──┘                 └──┘                         └──┘                 └──┘                                 └──┘                 └──┘\n"
     ]
    },
    {
     "name": "stderr",
     "output_type": "stream",
     "text": [
      "/Users/teague/opt/miniconda3/envs/superEnv/lib/python3.8/site-packages/urllib3/connectionpool.py:1013: InsecureRequestWarning: Unverified HTTPS request is being made to host '127.0.0.1'. Adding certificate verification is strongly advised. See: https://urllib3.readthedocs.io/en/1.26.x/advanced-usage.html#ssl-warnings\n",
      "  warnings.warn(\n",
      "/Users/teague/opt/miniconda3/envs/superEnv/lib/python3.8/site-packages/urllib3/connectionpool.py:1013: InsecureRequestWarning: Unverified HTTPS request is being made to host '127.0.0.1'. Adding certificate verification is strongly advised. See: https://urllib3.readthedocs.io/en/1.26.x/advanced-usage.html#ssl-warnings\n",
      "  warnings.warn(\n"
     ]
    },
    {
     "name": "stdout",
     "output_type": "stream",
     "text": [
      "Created IBM job: ['qaoavanilla_5qubits_casablanca', <supermarq.benchmarks.qaoa_vanilla_proxy.QAOAVanillaProxy object at 0x7f84f5371490>, <cirq_superstaq.job.Job object at 0x7f84f686ce80>, 0]\n"
     ]
    },
    {
     "name": "stderr",
     "output_type": "stream",
     "text": [
      "/Users/teague/opt/miniconda3/envs/superEnv/lib/python3.8/site-packages/urllib3/connectionpool.py:1013: InsecureRequestWarning: Unverified HTTPS request is being made to host '127.0.0.1'. Adding certificate verification is strongly advised. See: https://urllib3.readthedocs.io/en/1.26.x/advanced-usage.html#ssl-warnings\n",
      "  warnings.warn(\n",
      "/Users/teague/opt/miniconda3/envs/superEnv/lib/python3.8/site-packages/urllib3/connectionpool.py:1013: InsecureRequestWarning: Unverified HTTPS request is being made to host '127.0.0.1'. Adding certificate verification is strongly advised. See: https://urllib3.readthedocs.io/en/1.26.x/advanced-usage.html#ssl-warnings\n",
      "  warnings.warn(\n"
     ]
    },
    {
     "name": "stdout",
     "output_type": "stream",
     "text": [
      "Created IBM job: ['qaoavanilla_5qubits_guadalupe', <supermarq.benchmarks.qaoa_vanilla_proxy.QAOAVanillaProxy object at 0x7f84f5371490>, <cirq_superstaq.job.Job object at 0x7f84f526f220>, 0]\n"
     ]
    },
    {
     "name": "stderr",
     "output_type": "stream",
     "text": [
      "/Users/teague/opt/miniconda3/envs/superEnv/lib/python3.8/site-packages/urllib3/connectionpool.py:1013: InsecureRequestWarning: Unverified HTTPS request is being made to host '127.0.0.1'. Adding certificate verification is strongly advised. See: https://urllib3.readthedocs.io/en/1.26.x/advanced-usage.html#ssl-warnings\n",
      "  warnings.warn(\n",
      "/Users/teague/opt/miniconda3/envs/superEnv/lib/python3.8/site-packages/urllib3/connectionpool.py:1013: InsecureRequestWarning: Unverified HTTPS request is being made to host '127.0.0.1'. Adding certificate verification is strongly advised. See: https://urllib3.readthedocs.io/en/1.26.x/advanced-usage.html#ssl-warnings\n",
      "  warnings.warn(\n"
     ]
    },
    {
     "name": "stdout",
     "output_type": "stream",
     "text": [
      "Created IBM job: ['qaoavanilla_5qubits_montreal', <supermarq.benchmarks.qaoa_vanilla_proxy.QAOAVanillaProxy object at 0x7f84f5371490>, <cirq_superstaq.job.Job object at 0x7f84f686c4c0>, 0]\n"
     ]
    },
    {
     "name": "stderr",
     "output_type": "stream",
     "text": [
      "/Users/teague/opt/miniconda3/envs/superEnv/lib/python3.8/site-packages/urllib3/connectionpool.py:1013: InsecureRequestWarning: Unverified HTTPS request is being made to host '127.0.0.1'. Adding certificate verification is strongly advised. See: https://urllib3.readthedocs.io/en/1.26.x/advanced-usage.html#ssl-warnings\n",
      "  warnings.warn(\n",
      "/Users/teague/opt/miniconda3/envs/superEnv/lib/python3.8/site-packages/urllib3/connectionpool.py:1013: InsecureRequestWarning: Unverified HTTPS request is being made to host '127.0.0.1'. Adding certificate verification is strongly advised. See: https://urllib3.readthedocs.io/en/1.26.x/advanced-usage.html#ssl-warnings\n",
      "  warnings.warn(\n"
     ]
    },
    {
     "name": "stdout",
     "output_type": "stream",
     "text": [
      "Created IBM job: ['qaoavanilla_5qubits_mumbai', <supermarq.benchmarks.qaoa_vanilla_proxy.QAOAVanillaProxy object at 0x7f84f5371490>, <cirq_superstaq.job.Job object at 0x7f84f69373d0>, 0]\n"
     ]
    },
    {
     "name": "stderr",
     "output_type": "stream",
     "text": [
      "/Users/teague/opt/miniconda3/envs/superEnv/lib/python3.8/site-packages/urllib3/connectionpool.py:1013: InsecureRequestWarning: Unverified HTTPS request is being made to host '127.0.0.1'. Adding certificate verification is strongly advised. See: https://urllib3.readthedocs.io/en/1.26.x/advanced-usage.html#ssl-warnings\n",
      "  warnings.warn(\n",
      "/Users/teague/opt/miniconda3/envs/superEnv/lib/python3.8/site-packages/urllib3/connectionpool.py:1013: InsecureRequestWarning: Unverified HTTPS request is being made to host '127.0.0.1'. Adding certificate verification is strongly advised. See: https://urllib3.readthedocs.io/en/1.26.x/advanced-usage.html#ssl-warnings\n",
      "  warnings.warn(\n"
     ]
    },
    {
     "name": "stdout",
     "output_type": "stream",
     "text": [
      "Created IBM job: ['qaoavanilla_5qubits_toronto', <supermarq.benchmarks.qaoa_vanilla_proxy.QAOAVanillaProxy object at 0x7f84f5371490>, <cirq_superstaq.job.Job object at 0x7f84f6937760>, 0]\n"
     ]
    },
    {
     "name": "stderr",
     "output_type": "stream",
     "text": [
      "/Users/teague/opt/miniconda3/envs/superEnv/lib/python3.8/site-packages/urllib3/connectionpool.py:1013: InsecureRequestWarning: Unverified HTTPS request is being made to host '127.0.0.1'. Adding certificate verification is strongly advised. See: https://urllib3.readthedocs.io/en/1.26.x/advanced-usage.html#ssl-warnings\n",
      "  warnings.warn(\n",
      "/Users/teague/opt/miniconda3/envs/superEnv/lib/python3.8/site-packages/urllib3/connectionpool.py:1013: InsecureRequestWarning: Unverified HTTPS request is being made to host '127.0.0.1'. Adding certificate verification is strongly advised. See: https://urllib3.readthedocs.io/en/1.26.x/advanced-usage.html#ssl-warnings\n",
      "  warnings.warn(\n"
     ]
    },
    {
     "name": "stdout",
     "output_type": "stream",
     "text": [
      "Created IBM job: ['qaoavanilla_5qubits_lagos', <supermarq.benchmarks.qaoa_vanilla_proxy.QAOAVanillaProxy object at 0x7f84f5371490>, <cirq_superstaq.job.Job object at 0x7f84f686c1f0>, 0]\n"
     ]
    },
    {
     "name": "stderr",
     "output_type": "stream",
     "text": [
      "/Users/teague/opt/miniconda3/envs/superEnv/lib/python3.8/site-packages/urllib3/connectionpool.py:1013: InsecureRequestWarning: Unverified HTTPS request is being made to host '127.0.0.1'. Adding certificate verification is strongly advised. See: https://urllib3.readthedocs.io/en/1.26.x/advanced-usage.html#ssl-warnings\n",
      "  warnings.warn(\n",
      "/Users/teague/opt/miniconda3/envs/superEnv/lib/python3.8/site-packages/urllib3/connectionpool.py:1013: InsecureRequestWarning: Unverified HTTPS request is being made to host '127.0.0.1'. Adding certificate verification is strongly advised. See: https://urllib3.readthedocs.io/en/1.26.x/advanced-usage.html#ssl-warnings\n",
      "  warnings.warn(\n"
     ]
    },
    {
     "name": "stdout",
     "output_type": "stream",
     "text": [
      "Created IBM job: ['qaoavanilla_5qubits_santiago', <supermarq.benchmarks.qaoa_vanilla_proxy.QAOAVanillaProxy object at 0x7f84f5371490>, <cirq_superstaq.job.Job object at 0x7f84f6926c40>, 0]\n"
     ]
    },
    {
     "name": "stderr",
     "output_type": "stream",
     "text": [
      "/Users/teague/opt/miniconda3/envs/superEnv/lib/python3.8/site-packages/urllib3/connectionpool.py:1013: InsecureRequestWarning: Unverified HTTPS request is being made to host '127.0.0.1'. Adding certificate verification is strongly advised. See: https://urllib3.readthedocs.io/en/1.26.x/advanced-usage.html#ssl-warnings\n",
      "  warnings.warn(\n",
      "/Users/teague/opt/miniconda3/envs/superEnv/lib/python3.8/site-packages/urllib3/connectionpool.py:1013: InsecureRequestWarning: Unverified HTTPS request is being made to host '127.0.0.1'. Adding certificate verification is strongly advised. See: https://urllib3.readthedocs.io/en/1.26.x/advanced-usage.html#ssl-warnings\n",
      "  warnings.warn(\n"
     ]
    },
    {
     "name": "stdout",
     "output_type": "stream",
     "text": [
      "Created AWS job: ['qaoavanilla_5qubits_aspen9', <supermarq.benchmarks.qaoa_vanilla_proxy.QAOAVanillaProxy object at 0x7f84f5371490>, <cirq_superstaq.job.Job object at 0x7f84f69260a0>, 0]\n"
     ]
    },
    {
     "name": "stderr",
     "output_type": "stream",
     "text": [
      "/Users/teague/opt/miniconda3/envs/superEnv/lib/python3.8/site-packages/urllib3/connectionpool.py:1013: InsecureRequestWarning: Unverified HTTPS request is being made to host '127.0.0.1'. Adding certificate verification is strongly advised. See: https://urllib3.readthedocs.io/en/1.26.x/advanced-usage.html#ssl-warnings\n",
      "  warnings.warn(\n",
      "/Users/teague/opt/miniconda3/envs/superEnv/lib/python3.8/site-packages/urllib3/connectionpool.py:1013: InsecureRequestWarning: Unverified HTTPS request is being made to host '127.0.0.1'. Adding certificate verification is strongly advised. See: https://urllib3.readthedocs.io/en/1.26.x/advanced-usage.html#ssl-warnings\n",
      "  warnings.warn(\n"
     ]
    },
    {
     "name": "stdout",
     "output_type": "stream",
     "text": [
      "Created AWS job: ['qaoavanilla_5qubits_ionq', <supermarq.benchmarks.qaoa_vanilla_proxy.QAOAVanillaProxy object at 0x7f84f5371490>, <cirq_superstaq.job.Job object at 0x7f84f526f610>, 0]\n"
     ]
    }
   ],
   "source": [
    "# Run QAOA Vanilla Proxy benchmarks\n",
    "for nq in [5]:\n",
    "    qaoavanilla = sm.qaoa_vanilla_proxy.QAOAVanillaProxy(nq)\n",
    "    print(f'Created {nq}-qubit qaoa vanilla proxy benchmark')\n",
    "    print(qaoavanilla.circuit())\n",
    "\n",
    "    # ibmq_casablanca, 7 qubits\n",
    "    if nq <= 7:\n",
    "        qaoavanilla_jobs.append([\n",
    "            f'qaoavanilla_{nq}qubits_casablanca',\n",
    "            qaoavanilla,\n",
    "            ornl_service.create_job(circuit=qaoavanilla.circuit(), repetitions=ibm_shots, target=\"ibmq_casablanca\"),\n",
    "            0,\n",
    "            ]\n",
    "        )\n",
    "        print(\"Created IBM job:\", qaoavanilla_jobs[-1])\n",
    "\n",
    "    # ibmq_guadalupe, 16 qubits\n",
    "    if nq <= 16:\n",
    "        qaoavanilla_jobs.append([\n",
    "            f'qaoavanilla_{nq}qubits_guadalupe',\n",
    "            qaoavanilla,\n",
    "            ornl_service.create_job(circuit=qaoavanilla.circuit(), repetitions=ibm_shots, target=\"ibmq_guadalupe\"),\n",
    "            0,\n",
    "            ]\n",
    "        )\n",
    "        print(\"Created IBM job:\", qaoavanilla_jobs[-1])\n",
    "\n",
    "    # ibmq_montreal, 27 qubits\n",
    "    if nq <= 27:\n",
    "        qaoavanilla_jobs.append([\n",
    "            f'qaoavanilla_{nq}qubits_montreal',\n",
    "            qaoavanilla,\n",
    "            ornl_service.create_job(circuit=qaoavanilla.circuit(), repetitions=ibm_shots, target=\"ibmq_montreal\"),\n",
    "            0,\n",
    "            ]\n",
    "        )\n",
    "        print(\"Created IBM job:\", qaoavanilla_jobs[-1])\n",
    "        \n",
    "    # ibmq_mumbai, 27 qubits\n",
    "    if nq <= 27:\n",
    "        qaoavanilla_jobs.append([\n",
    "            f'qaoavanilla_{nq}qubits_mumbai',\n",
    "            qaoavanilla,\n",
    "            ornl_service.create_job(circuit=qaoavanilla.circuit(), repetitions=ibm_shots, target=\"ibmq_mumbai\"),\n",
    "            0,\n",
    "            ]\n",
    "        )\n",
    "        print(\"Created IBM job:\", qaoavanilla_jobs[-1])\n",
    "    \n",
    "    # ibmq_toronto, 27 qubits\n",
    "    if nq <= 27:\n",
    "        qaoavanilla_jobs.append([\n",
    "            f'qaoavanilla_{nq}qubits_toronto',\n",
    "            qaoavanilla,\n",
    "            ornl_service.create_job(circuit=qaoavanilla.circuit(), repetitions=ibm_shots, target=\"ibmq_toronto\"),\n",
    "            0,\n",
    "        ])\n",
    "        print(\"Created IBM job:\", qaoavanilla_jobs[-1])\n",
    "    \n",
    "    # ibmq_lagos, 7 qubits\n",
    "    if nq <= 7:\n",
    "        qaoavanilla_jobs.append([\n",
    "            f'qaoavanilla_{nq}qubits_lagos',\n",
    "            qaoavanilla,\n",
    "            supertech_service.create_job(circuit=qaoavanilla.circuit(), repetitions=ibm_shots, target=\"ibm_lagos\"),\n",
    "            0,\n",
    "        ])\n",
    "        print(\"Created IBM job:\", qaoavanilla_jobs[-1])\n",
    "    \n",
    "    # ibmq_santiago, 5 qubits\n",
    "    if nq <= 5:\n",
    "        qaoavanilla_jobs.append([\n",
    "            f'qaoavanilla_{nq}qubits_santiago',\n",
    "            qaoavanilla,\n",
    "            ornl_service.create_job(circuit=qaoavanilla.circuit(), repetitions=ibm_shots, target=\"ibmq_santiago\"),\n",
    "            0,\n",
    "        ])\n",
    "        print(\"Created IBM job:\", qaoavanilla_jobs[-1])\n",
    "\n",
    "    # rigetti_aspen9, 32 qubits\n",
    "    if nq <= 32:\n",
    "        qaoavanilla_jobs.append([\n",
    "            f'qaoavanilla_{nq}qubits_aspen9',\n",
    "            qaoavanilla,\n",
    "            ornl_service.create_job(circuit=qaoavanilla.circuit(), repetitions=rigetti_shots, target=\"rigetti_aspen\"),\n",
    "            0,\n",
    "        ])\n",
    "        print(\"Created AWS job:\", qaoavanilla_jobs[-1])\n",
    "        \n",
    "    # ionq, 11 qubits\n",
    "    if nq <= 11:\n",
    "        qaoavanilla_jobs.append([\n",
    "            f'qaoavanilla_{nq}qubits_ionq',\n",
    "            qaoavanilla,\n",
    "            ornl_service.create_job(circuit=qaoavanilla.circuit(), repetitions=ionq_shots, target=\"ionq_ion\"),\n",
    "            0,\n",
    "        ])\n",
    "        print(\"Created AWS job:\", qaoavanilla_jobs[-1])"
   ]
  },
  {
   "cell_type": "markdown",
   "id": "29dd3029-b84a-4af0-8f0d-71cd5e4f7850",
   "metadata": {},
   "source": [
    "## Compute scores and store results"
   ]
  },
  {
   "cell_type": "code",
   "execution_count": 140,
   "id": "d033b5ec-4d40-45f6-a86a-372761dc5c9d",
   "metadata": {
    "scrolled": true,
    "tags": []
   },
   "outputs": [
    {
     "name": "stdout",
     "output_type": "stream",
     "text": [
      "Completed 42/58 jobs\n",
      "qaoavanilla_4qubits_casablanca, status: Done\n",
      "qaoavanilla_4qubits_guadalupe, status: Done\n",
      "qaoavanilla_4qubits_montreal, status: Done\n",
      "qaoavanilla_4qubits_toronto, status: Done\n",
      "qaoavanilla_4qubits_lagos, status: Done\n",
      "qaoavanilla_4qubits_santiago, status: Done\n",
      "qaoavanilla_4qubits_aspen9, status: Done\n",
      "qaoavanilla_4qubits_ionq, status: Done\n",
      "qaoavanilla_7qubits_casablanca, status: Done\n",
      "qaoavanilla_7qubits_guadalupe, status: Done\n",
      "qaoavanilla_7qubits_montreal, status: Done\n",
      "qaoavanilla_7qubits_toronto, status: Done\n",
      "qaoavanilla_7qubits_lagos, status: Done\n",
      "qaoavanilla_7qubits_aspen9, status: Done\n",
      "qaoavanilla_7qubits_ionq, status: Done\n",
      "qaoavanilla_11qubits_guadalupe, status: Done\n",
      "qaoavanilla_11qubits_montreal, status: Done\n",
      "qaoavanilla_11qubits_toronto, status: Done\n",
      "qaoavanilla_11qubits_aspen9, status: Done\n",
      "qaoavanilla_11qubits_ionq, status: Done\n",
      "qaoavanilla_4qubits_casablanca, status: Done\n",
      "qaoavanilla_4qubits_guadalupe, status: Done\n",
      "qaoavanilla_4qubits_montreal, status: Done\n"
     ]
    },
    {
     "name": "stderr",
     "output_type": "stream",
     "text": [
      "/Users/teague/opt/miniconda3/envs/superEnv/lib/python3.8/site-packages/urllib3/connectionpool.py:1013: InsecureRequestWarning: Unverified HTTPS request is being made to host '127.0.0.1'. Adding certificate verification is strongly advised. See: https://urllib3.readthedocs.io/en/1.26.x/advanced-usage.html#ssl-warnings\n",
      "  warnings.warn(\n"
     ]
    },
    {
     "name": "stdout",
     "output_type": "stream",
     "text": [
      "qaoavanilla_4qubits_mumbai, status: Queued\n",
      "qaoavanilla_4qubits_lagos, status: Done\n",
      "qaoavanilla_4qubits_santiago, status: Done\n",
      "qaoavanilla_4qubits_aspen9, status: Done\n",
      "qaoavanilla_4qubits_ionq, status: Done\n",
      "qaoavanilla_7qubits_casablanca, status: Done\n",
      "qaoavanilla_7qubits_guadalupe, status: Done\n",
      "qaoavanilla_7qubits_montreal, status: Done\n"
     ]
    },
    {
     "name": "stderr",
     "output_type": "stream",
     "text": [
      "/Users/teague/opt/miniconda3/envs/superEnv/lib/python3.8/site-packages/urllib3/connectionpool.py:1013: InsecureRequestWarning: Unverified HTTPS request is being made to host '127.0.0.1'. Adding certificate verification is strongly advised. See: https://urllib3.readthedocs.io/en/1.26.x/advanced-usage.html#ssl-warnings\n",
      "  warnings.warn(\n"
     ]
    },
    {
     "name": "stdout",
     "output_type": "stream",
     "text": [
      "qaoavanilla_7qubits_mumbai, status: Queued\n",
      "qaoavanilla_7qubits_lagos, status: Done\n",
      "qaoavanilla_7qubits_aspen9, status: Done\n",
      "qaoavanilla_7qubits_ionq, status: Done\n",
      "qaoavanilla_11qubits_guadalupe, status: Done\n",
      "qaoavanilla_11qubits_montreal, status: Done\n"
     ]
    },
    {
     "name": "stderr",
     "output_type": "stream",
     "text": [
      "/Users/teague/opt/miniconda3/envs/superEnv/lib/python3.8/site-packages/urllib3/connectionpool.py:1013: InsecureRequestWarning: Unverified HTTPS request is being made to host '127.0.0.1'. Adding certificate verification is strongly advised. See: https://urllib3.readthedocs.io/en/1.26.x/advanced-usage.html#ssl-warnings\n",
      "  warnings.warn(\n"
     ]
    },
    {
     "name": "stdout",
     "output_type": "stream",
     "text": [
      "qaoavanilla_11qubits_mumbai, status: Queued\n",
      "qaoavanilla_11qubits_aspen9, status: Done\n",
      "qaoavanilla_11qubits_ionq, status: Done\n"
     ]
    },
    {
     "name": "stderr",
     "output_type": "stream",
     "text": [
      "/Users/teague/opt/miniconda3/envs/superEnv/lib/python3.8/site-packages/urllib3/connectionpool.py:1013: InsecureRequestWarning: Unverified HTTPS request is being made to host '127.0.0.1'. Adding certificate verification is strongly advised. See: https://urllib3.readthedocs.io/en/1.26.x/advanced-usage.html#ssl-warnings\n",
      "  warnings.warn(\n"
     ]
    },
    {
     "name": "stdout",
     "output_type": "stream",
     "text": [
      "qaoavanilla_5qubits_casablanca, status: Queued\n",
      "qaoavanilla_5qubits_guadalupe, status: Done\n"
     ]
    },
    {
     "name": "stderr",
     "output_type": "stream",
     "text": [
      "/Users/teague/opt/miniconda3/envs/superEnv/lib/python3.8/site-packages/urllib3/connectionpool.py:1013: InsecureRequestWarning: Unverified HTTPS request is being made to host '127.0.0.1'. Adding certificate verification is strongly advised. See: https://urllib3.readthedocs.io/en/1.26.x/advanced-usage.html#ssl-warnings\n",
      "  warnings.warn(\n"
     ]
    },
    {
     "name": "stdout",
     "output_type": "stream",
     "text": [
      "qaoavanilla_5qubits_montreal, status: Queued\n"
     ]
    },
    {
     "name": "stderr",
     "output_type": "stream",
     "text": [
      "/Users/teague/opt/miniconda3/envs/superEnv/lib/python3.8/site-packages/urllib3/connectionpool.py:1013: InsecureRequestWarning: Unverified HTTPS request is being made to host '127.0.0.1'. Adding certificate verification is strongly advised. See: https://urllib3.readthedocs.io/en/1.26.x/advanced-usage.html#ssl-warnings\n",
      "  warnings.warn(\n"
     ]
    },
    {
     "name": "stdout",
     "output_type": "stream",
     "text": [
      "qaoavanilla_5qubits_mumbai, status: Queued\n",
      "qaoavanilla_5qubits_toronto, status: Done\n"
     ]
    },
    {
     "name": "stderr",
     "output_type": "stream",
     "text": [
      "/Users/teague/opt/miniconda3/envs/superEnv/lib/python3.8/site-packages/urllib3/connectionpool.py:1013: InsecureRequestWarning: Unverified HTTPS request is being made to host '127.0.0.1'. Adding certificate verification is strongly advised. See: https://urllib3.readthedocs.io/en/1.26.x/advanced-usage.html#ssl-warnings\n",
      "  warnings.warn(\n"
     ]
    },
    {
     "name": "stdout",
     "output_type": "stream",
     "text": [
      "qaoavanilla_5qubits_lagos, status: Queued\n",
      "qaoavanilla_5qubits_santiago, status: Done\n"
     ]
    },
    {
     "name": "stderr",
     "output_type": "stream",
     "text": [
      "/Users/teague/opt/miniconda3/envs/superEnv/lib/python3.8/site-packages/urllib3/connectionpool.py:1013: InsecureRequestWarning: Unverified HTTPS request is being made to host '127.0.0.1'. Adding certificate verification is strongly advised. See: https://urllib3.readthedocs.io/en/1.26.x/advanced-usage.html#ssl-warnings\n",
      "  warnings.warn(\n"
     ]
    },
    {
     "name": "stdout",
     "output_type": "stream",
     "text": [
      "qaoavanilla_5qubits_aspen9, status: Queued\n"
     ]
    },
    {
     "name": "stderr",
     "output_type": "stream",
     "text": [
      "/Users/teague/opt/miniconda3/envs/superEnv/lib/python3.8/site-packages/urllib3/connectionpool.py:1013: InsecureRequestWarning: Unverified HTTPS request is being made to host '127.0.0.1'. Adding certificate verification is strongly advised. See: https://urllib3.readthedocs.io/en/1.26.x/advanced-usage.html#ssl-warnings\n",
      "  warnings.warn(\n"
     ]
    },
    {
     "name": "stdout",
     "output_type": "stream",
     "text": [
      "qaoavanilla_5qubits_ionq, status: Queued\n"
     ]
    },
    {
     "name": "stderr",
     "output_type": "stream",
     "text": [
      "/Users/teague/opt/miniconda3/envs/superEnv/lib/python3.8/site-packages/urllib3/connectionpool.py:1013: InsecureRequestWarning: Unverified HTTPS request is being made to host '127.0.0.1'. Adding certificate verification is strongly advised. See: https://urllib3.readthedocs.io/en/1.26.x/advanced-usage.html#ssl-warnings\n",
      "  warnings.warn(\n"
     ]
    },
    {
     "name": "stdout",
     "output_type": "stream",
     "text": [
      "qaoavanilla_5qubits_casablanca, status: Queued\n",
      "qaoavanilla_5qubits_guadalupe, status: Done\n"
     ]
    },
    {
     "name": "stderr",
     "output_type": "stream",
     "text": [
      "/Users/teague/opt/miniconda3/envs/superEnv/lib/python3.8/site-packages/urllib3/connectionpool.py:1013: InsecureRequestWarning: Unverified HTTPS request is being made to host '127.0.0.1'. Adding certificate verification is strongly advised. See: https://urllib3.readthedocs.io/en/1.26.x/advanced-usage.html#ssl-warnings\n",
      "  warnings.warn(\n"
     ]
    },
    {
     "name": "stdout",
     "output_type": "stream",
     "text": [
      "qaoavanilla_5qubits_montreal, status: Queued\n"
     ]
    },
    {
     "name": "stderr",
     "output_type": "stream",
     "text": [
      "/Users/teague/opt/miniconda3/envs/superEnv/lib/python3.8/site-packages/urllib3/connectionpool.py:1013: InsecureRequestWarning: Unverified HTTPS request is being made to host '127.0.0.1'. Adding certificate verification is strongly advised. See: https://urllib3.readthedocs.io/en/1.26.x/advanced-usage.html#ssl-warnings\n",
      "  warnings.warn(\n"
     ]
    },
    {
     "name": "stdout",
     "output_type": "stream",
     "text": [
      "qaoavanilla_5qubits_mumbai, status: Queued\n",
      "qaoavanilla_5qubits_toronto, status: Done\n"
     ]
    },
    {
     "name": "stderr",
     "output_type": "stream",
     "text": [
      "/Users/teague/opt/miniconda3/envs/superEnv/lib/python3.8/site-packages/urllib3/connectionpool.py:1013: InsecureRequestWarning: Unverified HTTPS request is being made to host '127.0.0.1'. Adding certificate verification is strongly advised. See: https://urllib3.readthedocs.io/en/1.26.x/advanced-usage.html#ssl-warnings\n",
      "  warnings.warn(\n"
     ]
    },
    {
     "name": "stdout",
     "output_type": "stream",
     "text": [
      "qaoavanilla_5qubits_lagos, status: Queued\n"
     ]
    },
    {
     "name": "stderr",
     "output_type": "stream",
     "text": [
      "/Users/teague/opt/miniconda3/envs/superEnv/lib/python3.8/site-packages/urllib3/connectionpool.py:1013: InsecureRequestWarning: Unverified HTTPS request is being made to host '127.0.0.1'. Adding certificate verification is strongly advised. See: https://urllib3.readthedocs.io/en/1.26.x/advanced-usage.html#ssl-warnings\n",
      "  warnings.warn(\n"
     ]
    },
    {
     "name": "stdout",
     "output_type": "stream",
     "text": [
      "qaoavanilla_5qubits_santiago, status: Done\n",
      "\tCounts: {'00000': 53, '00001': 121, '00010': 99, '00011': 121, '00100': 40, '00101': 93, '00110': 34, '00111': 46, '01000': 48, '01001': 41, '01010': 49, '01011': 51, '01100': 119, '01101': 72, '01110': 57, '01111': 25, '10000': 36, '10001': 64, '10010': 76, '10011': 64, '10100': 43, '10101': 50, '10110': 54, '10111': 28, '11000': 55, '11001': 25, '11010': 62, '11011': 21, '11100': 116, '11101': 90, '11110': 123, '11111': 24}\n",
      "\tScore: 0.6802029394076565\n"
     ]
    },
    {
     "name": "stderr",
     "output_type": "stream",
     "text": [
      "/Users/teague/opt/miniconda3/envs/superEnv/lib/python3.8/site-packages/urllib3/connectionpool.py:1013: InsecureRequestWarning: Unverified HTTPS request is being made to host '127.0.0.1'. Adding certificate verification is strongly advised. See: https://urllib3.readthedocs.io/en/1.26.x/advanced-usage.html#ssl-warnings\n",
      "  warnings.warn(\n"
     ]
    },
    {
     "name": "stdout",
     "output_type": "stream",
     "text": [
      "qaoavanilla_5qubits_aspen9, status: Queued\n"
     ]
    },
    {
     "name": "stderr",
     "output_type": "stream",
     "text": [
      "/Users/teague/opt/miniconda3/envs/superEnv/lib/python3.8/site-packages/urllib3/connectionpool.py:1013: InsecureRequestWarning: Unverified HTTPS request is being made to host '127.0.0.1'. Adding certificate verification is strongly advised. See: https://urllib3.readthedocs.io/en/1.26.x/advanced-usage.html#ssl-warnings\n",
      "  warnings.warn(\n"
     ]
    },
    {
     "name": "stdout",
     "output_type": "stream",
     "text": [
      "qaoavanilla_5qubits_ionq, status: Queued\n"
     ]
    }
   ],
   "source": [
    "job_sum = sum([experiment[3] for experiment in qaoavanilla_jobs])\n",
    "if job_sum < len(qaoavanilla_jobs):\n",
    "    print(f'Completed {job_sum}/{len(qaoavanilla_jobs)} jobs')\n",
    "    for experiment in qaoavanilla_jobs:\n",
    "        name, benchmark, job, checked = experiment\n",
    "        status = job.status()\n",
    "        print(f'{name}, status: {status}')\n",
    "        if status == 'Done' and checked == 0:\n",
    "            try:\n",
    "                counts = job.counts()\n",
    "            except:\n",
    "                continue\n",
    "            score = benchmark.score(counts)\n",
    "            print('\\tCounts:', counts)\n",
    "            print('\\tScore:', score)\n",
    "            date = time.ctime().replace(' ', '-').replace(':', '-')\n",
    "            with open(f'benchmark_results/{name}_{date}.pickle', 'wb') as pklfile:\n",
    "                pickle.dump(\n",
    "                        {'name':name,\n",
    "                         'benchmark':benchmark,\n",
    "                         'job':job,\n",
    "                         'counts':counts,\n",
    "                         'score':score},\n",
    "                        pklfile)\n",
    "            experiment[3] = 1\n",
    "        elif status == 'Failed' and checked == 0:\n",
    "            experiment[3] = 1\n",
    "else:\n",
    "    print('All jobs completed')"
   ]
  },
  {
   "cell_type": "markdown",
   "id": "d3ce756b-55a8-43eb-8586-3f7d3df9ef0e",
   "metadata": {},
   "source": [
    "# VQE benchmark\n",
    "## Submit jobs"
   ]
  },
  {
   "cell_type": "code",
   "execution_count": 11,
   "id": "5c49c4e3-5c9e-44e9-9019-0f8b63de42b3",
   "metadata": {
    "jupyter": {
     "source_hidden": true
    },
    "tags": []
   },
   "outputs": [],
   "source": [
    "vqe_jobs = []"
   ]
  },
  {
   "cell_type": "code",
   "execution_count": 146,
   "id": "e1f03d10-e90c-4fa9-8b5d-4090453d36d6",
   "metadata": {
    "scrolled": true,
    "tags": []
   },
   "outputs": [
    {
     "name": "stdout",
     "output_type": "stream",
     "text": [
      "Created 4-qubit, 1-layer vqe proxy benchmark\n",
      "0: ───Ry(0.954π)────Rz(-1.34π)───@───Ry(1.18π)───Rz(-0.016π)────────────────────────────M───\n",
      "                                 │                                                      │\n",
      "1: ───Ry(-0.177π)───Rz(1.37π)────X───@───────────Ry(-0.958π)───Rz(-0.31π)───────────────M───\n",
      "                                     │                                                  │\n",
      "2: ───Ry(-0.586π)───Rz(1.99π)────────X───────────@─────────────Ry(-1.77π)───Rz(0.98π)───M───\n",
      "                                                 │                                      │\n",
      "3: ───Ry(0.543π)────Rz(-2.0π)────────────────────X─────────────Ry(1.31π)────Rz(1.0π)────M───\n"
     ]
    },
    {
     "name": "stderr",
     "output_type": "stream",
     "text": [
      "/Users/teague/opt/miniconda3/envs/superEnv/lib/python3.8/site-packages/urllib3/connectionpool.py:1013: InsecureRequestWarning: Unverified HTTPS request is being made to host '127.0.0.1'. Adding certificate verification is strongly advised. See: https://urllib3.readthedocs.io/en/1.26.x/advanced-usage.html#ssl-warnings\n",
      "  warnings.warn(\n",
      "/Users/teague/opt/miniconda3/envs/superEnv/lib/python3.8/site-packages/urllib3/connectionpool.py:1013: InsecureRequestWarning: Unverified HTTPS request is being made to host '127.0.0.1'. Adding certificate verification is strongly advised. See: https://urllib3.readthedocs.io/en/1.26.x/advanced-usage.html#ssl-warnings\n",
      "  warnings.warn(\n",
      "/Users/teague/opt/miniconda3/envs/superEnv/lib/python3.8/site-packages/urllib3/connectionpool.py:1013: InsecureRequestWarning: Unverified HTTPS request is being made to host '127.0.0.1'. Adding certificate verification is strongly advised. See: https://urllib3.readthedocs.io/en/1.26.x/advanced-usage.html#ssl-warnings\n",
      "  warnings.warn(\n",
      "/Users/teague/opt/miniconda3/envs/superEnv/lib/python3.8/site-packages/urllib3/connectionpool.py:1013: InsecureRequestWarning: Unverified HTTPS request is being made to host '127.0.0.1'. Adding certificate verification is strongly advised. See: https://urllib3.readthedocs.io/en/1.26.x/advanced-usage.html#ssl-warnings\n",
      "  warnings.warn(\n"
     ]
    },
    {
     "name": "stdout",
     "output_type": "stream",
     "text": [
      "Created IBM job: ['vqe_4qubits1layers_casablanca', <supermarq.benchmarks.vqe_proxy.VQEProxy object at 0x7f84f58802b0>, [<cirq_superstaq.job.Job object at 0x7f84f5299a90>, <cirq_superstaq.job.Job object at 0x7f84f531f100>], 0]\n"
     ]
    },
    {
     "name": "stderr",
     "output_type": "stream",
     "text": [
      "/Users/teague/opt/miniconda3/envs/superEnv/lib/python3.8/site-packages/urllib3/connectionpool.py:1013: InsecureRequestWarning: Unverified HTTPS request is being made to host '127.0.0.1'. Adding certificate verification is strongly advised. See: https://urllib3.readthedocs.io/en/1.26.x/advanced-usage.html#ssl-warnings\n",
      "  warnings.warn(\n",
      "/Users/teague/opt/miniconda3/envs/superEnv/lib/python3.8/site-packages/urllib3/connectionpool.py:1013: InsecureRequestWarning: Unverified HTTPS request is being made to host '127.0.0.1'. Adding certificate verification is strongly advised. See: https://urllib3.readthedocs.io/en/1.26.x/advanced-usage.html#ssl-warnings\n",
      "  warnings.warn(\n",
      "/Users/teague/opt/miniconda3/envs/superEnv/lib/python3.8/site-packages/urllib3/connectionpool.py:1013: InsecureRequestWarning: Unverified HTTPS request is being made to host '127.0.0.1'. Adding certificate verification is strongly advised. See: https://urllib3.readthedocs.io/en/1.26.x/advanced-usage.html#ssl-warnings\n",
      "  warnings.warn(\n",
      "/Users/teague/opt/miniconda3/envs/superEnv/lib/python3.8/site-packages/urllib3/connectionpool.py:1013: InsecureRequestWarning: Unverified HTTPS request is being made to host '127.0.0.1'. Adding certificate verification is strongly advised. See: https://urllib3.readthedocs.io/en/1.26.x/advanced-usage.html#ssl-warnings\n",
      "  warnings.warn(\n"
     ]
    },
    {
     "name": "stdout",
     "output_type": "stream",
     "text": [
      "Created IBM job: ['vqe_4qubits1layers_guadalupe', <supermarq.benchmarks.vqe_proxy.VQEProxy object at 0x7f84f58802b0>, [<cirq_superstaq.job.Job object at 0x7f84f5880910>, <cirq_superstaq.job.Job object at 0x7f84f5371700>], 0]\n"
     ]
    },
    {
     "name": "stderr",
     "output_type": "stream",
     "text": [
      "/Users/teague/opt/miniconda3/envs/superEnv/lib/python3.8/site-packages/urllib3/connectionpool.py:1013: InsecureRequestWarning: Unverified HTTPS request is being made to host '127.0.0.1'. Adding certificate verification is strongly advised. See: https://urllib3.readthedocs.io/en/1.26.x/advanced-usage.html#ssl-warnings\n",
      "  warnings.warn(\n",
      "/Users/teague/opt/miniconda3/envs/superEnv/lib/python3.8/site-packages/urllib3/connectionpool.py:1013: InsecureRequestWarning: Unverified HTTPS request is being made to host '127.0.0.1'. Adding certificate verification is strongly advised. See: https://urllib3.readthedocs.io/en/1.26.x/advanced-usage.html#ssl-warnings\n",
      "  warnings.warn(\n",
      "/Users/teague/opt/miniconda3/envs/superEnv/lib/python3.8/site-packages/urllib3/connectionpool.py:1013: InsecureRequestWarning: Unverified HTTPS request is being made to host '127.0.0.1'. Adding certificate verification is strongly advised. See: https://urllib3.readthedocs.io/en/1.26.x/advanced-usage.html#ssl-warnings\n",
      "  warnings.warn(\n",
      "/Users/teague/opt/miniconda3/envs/superEnv/lib/python3.8/site-packages/urllib3/connectionpool.py:1013: InsecureRequestWarning: Unverified HTTPS request is being made to host '127.0.0.1'. Adding certificate verification is strongly advised. See: https://urllib3.readthedocs.io/en/1.26.x/advanced-usage.html#ssl-warnings\n",
      "  warnings.warn(\n"
     ]
    },
    {
     "name": "stdout",
     "output_type": "stream",
     "text": [
      "Created IBM job: ['vqe_4qubits1layers_montreal', <supermarq.benchmarks.vqe_proxy.VQEProxy object at 0x7f84f58802b0>, [<cirq_superstaq.job.Job object at 0x7f84f569f0a0>, <cirq_superstaq.job.Job object at 0x7f84f5880340>], 0]\n"
     ]
    },
    {
     "name": "stderr",
     "output_type": "stream",
     "text": [
      "/Users/teague/opt/miniconda3/envs/superEnv/lib/python3.8/site-packages/urllib3/connectionpool.py:1013: InsecureRequestWarning: Unverified HTTPS request is being made to host '127.0.0.1'. Adding certificate verification is strongly advised. See: https://urllib3.readthedocs.io/en/1.26.x/advanced-usage.html#ssl-warnings\n",
      "  warnings.warn(\n",
      "/Users/teague/opt/miniconda3/envs/superEnv/lib/python3.8/site-packages/urllib3/connectionpool.py:1013: InsecureRequestWarning: Unverified HTTPS request is being made to host '127.0.0.1'. Adding certificate verification is strongly advised. See: https://urllib3.readthedocs.io/en/1.26.x/advanced-usage.html#ssl-warnings\n",
      "  warnings.warn(\n",
      "/Users/teague/opt/miniconda3/envs/superEnv/lib/python3.8/site-packages/urllib3/connectionpool.py:1013: InsecureRequestWarning: Unverified HTTPS request is being made to host '127.0.0.1'. Adding certificate verification is strongly advised. See: https://urllib3.readthedocs.io/en/1.26.x/advanced-usage.html#ssl-warnings\n",
      "  warnings.warn(\n",
      "/Users/teague/opt/miniconda3/envs/superEnv/lib/python3.8/site-packages/urllib3/connectionpool.py:1013: InsecureRequestWarning: Unverified HTTPS request is being made to host '127.0.0.1'. Adding certificate verification is strongly advised. See: https://urllib3.readthedocs.io/en/1.26.x/advanced-usage.html#ssl-warnings\n",
      "  warnings.warn(\n"
     ]
    },
    {
     "name": "stdout",
     "output_type": "stream",
     "text": [
      "Created IBM job: ['vqe_4qubits1layers_lagos', <supermarq.benchmarks.vqe_proxy.VQEProxy object at 0x7f84f58802b0>, [<cirq_superstaq.job.Job object at 0x7f84f587b190>, <cirq_superstaq.job.Job object at 0x7f84f69195b0>], 0]\n"
     ]
    },
    {
     "name": "stderr",
     "output_type": "stream",
     "text": [
      "/Users/teague/opt/miniconda3/envs/superEnv/lib/python3.8/site-packages/urllib3/connectionpool.py:1013: InsecureRequestWarning: Unverified HTTPS request is being made to host '127.0.0.1'. Adding certificate verification is strongly advised. See: https://urllib3.readthedocs.io/en/1.26.x/advanced-usage.html#ssl-warnings\n",
      "  warnings.warn(\n",
      "/Users/teague/opt/miniconda3/envs/superEnv/lib/python3.8/site-packages/urllib3/connectionpool.py:1013: InsecureRequestWarning: Unverified HTTPS request is being made to host '127.0.0.1'. Adding certificate verification is strongly advised. See: https://urllib3.readthedocs.io/en/1.26.x/advanced-usage.html#ssl-warnings\n",
      "  warnings.warn(\n",
      "/Users/teague/opt/miniconda3/envs/superEnv/lib/python3.8/site-packages/urllib3/connectionpool.py:1013: InsecureRequestWarning: Unverified HTTPS request is being made to host '127.0.0.1'. Adding certificate verification is strongly advised. See: https://urllib3.readthedocs.io/en/1.26.x/advanced-usage.html#ssl-warnings\n",
      "  warnings.warn(\n",
      "/Users/teague/opt/miniconda3/envs/superEnv/lib/python3.8/site-packages/urllib3/connectionpool.py:1013: InsecureRequestWarning: Unverified HTTPS request is being made to host '127.0.0.1'. Adding certificate verification is strongly advised. See: https://urllib3.readthedocs.io/en/1.26.x/advanced-usage.html#ssl-warnings\n",
      "  warnings.warn(\n"
     ]
    },
    {
     "name": "stdout",
     "output_type": "stream",
     "text": [
      "Created IBM job: ['vqe_4qubits1layers_santiago', <supermarq.benchmarks.vqe_proxy.VQEProxy object at 0x7f84f58802b0>, [<cirq_superstaq.job.Job object at 0x7f84f587bc70>, <cirq_superstaq.job.Job object at 0x7f84f5880b50>], 0]\n"
     ]
    },
    {
     "name": "stderr",
     "output_type": "stream",
     "text": [
      "/Users/teague/opt/miniconda3/envs/superEnv/lib/python3.8/site-packages/urllib3/connectionpool.py:1013: InsecureRequestWarning: Unverified HTTPS request is being made to host '127.0.0.1'. Adding certificate verification is strongly advised. See: https://urllib3.readthedocs.io/en/1.26.x/advanced-usage.html#ssl-warnings\n",
      "  warnings.warn(\n",
      "/Users/teague/opt/miniconda3/envs/superEnv/lib/python3.8/site-packages/urllib3/connectionpool.py:1013: InsecureRequestWarning: Unverified HTTPS request is being made to host '127.0.0.1'. Adding certificate verification is strongly advised. See: https://urllib3.readthedocs.io/en/1.26.x/advanced-usage.html#ssl-warnings\n",
      "  warnings.warn(\n",
      "/Users/teague/opt/miniconda3/envs/superEnv/lib/python3.8/site-packages/urllib3/connectionpool.py:1013: InsecureRequestWarning: Unverified HTTPS request is being made to host '127.0.0.1'. Adding certificate verification is strongly advised. See: https://urllib3.readthedocs.io/en/1.26.x/advanced-usage.html#ssl-warnings\n",
      "  warnings.warn(\n",
      "/Users/teague/opt/miniconda3/envs/superEnv/lib/python3.8/site-packages/urllib3/connectionpool.py:1013: InsecureRequestWarning: Unverified HTTPS request is being made to host '127.0.0.1'. Adding certificate verification is strongly advised. See: https://urllib3.readthedocs.io/en/1.26.x/advanced-usage.html#ssl-warnings\n",
      "  warnings.warn(\n"
     ]
    },
    {
     "name": "stdout",
     "output_type": "stream",
     "text": [
      "Created AWS job: ['vqe_4qubits1layers_aspen9', <supermarq.benchmarks.vqe_proxy.VQEProxy object at 0x7f84f58802b0>, [<cirq_superstaq.job.Job object at 0x7f84f5bee5e0>, <cirq_superstaq.job.Job object at 0x7f84f48ae370>], 0]\n"
     ]
    },
    {
     "name": "stderr",
     "output_type": "stream",
     "text": [
      "/Users/teague/opt/miniconda3/envs/superEnv/lib/python3.8/site-packages/urllib3/connectionpool.py:1013: InsecureRequestWarning: Unverified HTTPS request is being made to host '127.0.0.1'. Adding certificate verification is strongly advised. See: https://urllib3.readthedocs.io/en/1.26.x/advanced-usage.html#ssl-warnings\n",
      "  warnings.warn(\n",
      "/Users/teague/opt/miniconda3/envs/superEnv/lib/python3.8/site-packages/urllib3/connectionpool.py:1013: InsecureRequestWarning: Unverified HTTPS request is being made to host '127.0.0.1'. Adding certificate verification is strongly advised. See: https://urllib3.readthedocs.io/en/1.26.x/advanced-usage.html#ssl-warnings\n",
      "  warnings.warn(\n",
      "/Users/teague/opt/miniconda3/envs/superEnv/lib/python3.8/site-packages/urllib3/connectionpool.py:1013: InsecureRequestWarning: Unverified HTTPS request is being made to host '127.0.0.1'. Adding certificate verification is strongly advised. See: https://urllib3.readthedocs.io/en/1.26.x/advanced-usage.html#ssl-warnings\n",
      "  warnings.warn(\n",
      "/Users/teague/opt/miniconda3/envs/superEnv/lib/python3.8/site-packages/urllib3/connectionpool.py:1013: InsecureRequestWarning: Unverified HTTPS request is being made to host '127.0.0.1'. Adding certificate verification is strongly advised. See: https://urllib3.readthedocs.io/en/1.26.x/advanced-usage.html#ssl-warnings\n",
      "  warnings.warn(\n"
     ]
    },
    {
     "name": "stdout",
     "output_type": "stream",
     "text": [
      "Created AWS job: ['vqe_4qubits1layers_ionq', <supermarq.benchmarks.vqe_proxy.VQEProxy object at 0x7f84f58802b0>, [<cirq_superstaq.job.Job object at 0x7f84f5282d30>, <cirq_superstaq.job.Job object at 0x7f84f5299fa0>], 0]\n",
      "Created 4-qubit, 2-layer vqe proxy benchmark\n",
      "0: ───Ry(0.491π)────Rz(0.162π)────@───Ry(-1.52π)───Rz(-1.55π)───Ry(1.96π)─────Rz(-0.368π)────────────────@────────────Ry(0.293π)───Rz(-1.19π)──────────────────────────────M───\n",
      "                                  │                                                                      │                                                                 │\n",
      "1: ───Ry(0.065π)────Rz(0.712π)────X───@────────────Ry(-1.34π)───Rz(0.167π)────Ry(-1.24π)────Rz(-1.8π)────X────────────@────────────Ry(-0.688π)───Rz(0.322π)────────────────M───\n",
      "                                      │                                                                               │                                                    │\n",
      "2: ───Ry(-0.674π)───Rz(-0.797π)───────X────────────@────────────Ry(-0.485π)───Rz(0.624π)────Ry(1.03π)────Rz(-1.43π)───X────────────@─────────────Ry(-0.703π)───Rz(1.04π)───M───\n",
      "                                                   │                                                                               │                                       │\n",
      "3: ───Ry(0.326π)────Rz(-0.514π)────────────────────X────────────Ry(-0.618π)───Rz(0.118π)────Ry(0.149π)───Rz(-1.46π)────────────────X─────────────Ry(-1.81π)────Rz(1.88π)───M───\n"
     ]
    },
    {
     "name": "stderr",
     "output_type": "stream",
     "text": [
      "/Users/teague/opt/miniconda3/envs/superEnv/lib/python3.8/site-packages/urllib3/connectionpool.py:1013: InsecureRequestWarning: Unverified HTTPS request is being made to host '127.0.0.1'. Adding certificate verification is strongly advised. See: https://urllib3.readthedocs.io/en/1.26.x/advanced-usage.html#ssl-warnings\n",
      "  warnings.warn(\n",
      "/Users/teague/opt/miniconda3/envs/superEnv/lib/python3.8/site-packages/urllib3/connectionpool.py:1013: InsecureRequestWarning: Unverified HTTPS request is being made to host '127.0.0.1'. Adding certificate verification is strongly advised. See: https://urllib3.readthedocs.io/en/1.26.x/advanced-usage.html#ssl-warnings\n",
      "  warnings.warn(\n",
      "/Users/teague/opt/miniconda3/envs/superEnv/lib/python3.8/site-packages/urllib3/connectionpool.py:1013: InsecureRequestWarning: Unverified HTTPS request is being made to host '127.0.0.1'. Adding certificate verification is strongly advised. See: https://urllib3.readthedocs.io/en/1.26.x/advanced-usage.html#ssl-warnings\n",
      "  warnings.warn(\n",
      "/Users/teague/opt/miniconda3/envs/superEnv/lib/python3.8/site-packages/urllib3/connectionpool.py:1013: InsecureRequestWarning: Unverified HTTPS request is being made to host '127.0.0.1'. Adding certificate verification is strongly advised. See: https://urllib3.readthedocs.io/en/1.26.x/advanced-usage.html#ssl-warnings\n",
      "  warnings.warn(\n"
     ]
    },
    {
     "name": "stdout",
     "output_type": "stream",
     "text": [
      "Created IBM job: ['vqe_4qubits2layers_casablanca', <supermarq.benchmarks.vqe_proxy.VQEProxy object at 0x7f84f5880cd0>, [<cirq_superstaq.job.Job object at 0x7f84f686cfa0>, <cirq_superstaq.job.Job object at 0x7f84f498a430>], 0]\n"
     ]
    },
    {
     "name": "stderr",
     "output_type": "stream",
     "text": [
      "/Users/teague/opt/miniconda3/envs/superEnv/lib/python3.8/site-packages/urllib3/connectionpool.py:1013: InsecureRequestWarning: Unverified HTTPS request is being made to host '127.0.0.1'. Adding certificate verification is strongly advised. See: https://urllib3.readthedocs.io/en/1.26.x/advanced-usage.html#ssl-warnings\n",
      "  warnings.warn(\n",
      "/Users/teague/opt/miniconda3/envs/superEnv/lib/python3.8/site-packages/urllib3/connectionpool.py:1013: InsecureRequestWarning: Unverified HTTPS request is being made to host '127.0.0.1'. Adding certificate verification is strongly advised. See: https://urllib3.readthedocs.io/en/1.26.x/advanced-usage.html#ssl-warnings\n",
      "  warnings.warn(\n",
      "/Users/teague/opt/miniconda3/envs/superEnv/lib/python3.8/site-packages/urllib3/connectionpool.py:1013: InsecureRequestWarning: Unverified HTTPS request is being made to host '127.0.0.1'. Adding certificate verification is strongly advised. See: https://urllib3.readthedocs.io/en/1.26.x/advanced-usage.html#ssl-warnings\n",
      "  warnings.warn(\n",
      "/Users/teague/opt/miniconda3/envs/superEnv/lib/python3.8/site-packages/urllib3/connectionpool.py:1013: InsecureRequestWarning: Unverified HTTPS request is being made to host '127.0.0.1'. Adding certificate verification is strongly advised. See: https://urllib3.readthedocs.io/en/1.26.x/advanced-usage.html#ssl-warnings\n",
      "  warnings.warn(\n"
     ]
    },
    {
     "name": "stdout",
     "output_type": "stream",
     "text": [
      "Created IBM job: ['vqe_4qubits2layers_guadalupe', <supermarq.benchmarks.vqe_proxy.VQEProxy object at 0x7f84f5880cd0>, [<cirq_superstaq.job.Job object at 0x7f84f6926880>, <cirq_superstaq.job.Job object at 0x7f84f5282310>], 0]\n"
     ]
    },
    {
     "name": "stderr",
     "output_type": "stream",
     "text": [
      "/Users/teague/opt/miniconda3/envs/superEnv/lib/python3.8/site-packages/urllib3/connectionpool.py:1013: InsecureRequestWarning: Unverified HTTPS request is being made to host '127.0.0.1'. Adding certificate verification is strongly advised. See: https://urllib3.readthedocs.io/en/1.26.x/advanced-usage.html#ssl-warnings\n",
      "  warnings.warn(\n",
      "/Users/teague/opt/miniconda3/envs/superEnv/lib/python3.8/site-packages/urllib3/connectionpool.py:1013: InsecureRequestWarning: Unverified HTTPS request is being made to host '127.0.0.1'. Adding certificate verification is strongly advised. See: https://urllib3.readthedocs.io/en/1.26.x/advanced-usage.html#ssl-warnings\n",
      "  warnings.warn(\n",
      "/Users/teague/opt/miniconda3/envs/superEnv/lib/python3.8/site-packages/urllib3/connectionpool.py:1013: InsecureRequestWarning: Unverified HTTPS request is being made to host '127.0.0.1'. Adding certificate verification is strongly advised. See: https://urllib3.readthedocs.io/en/1.26.x/advanced-usage.html#ssl-warnings\n",
      "  warnings.warn(\n",
      "/Users/teague/opt/miniconda3/envs/superEnv/lib/python3.8/site-packages/urllib3/connectionpool.py:1013: InsecureRequestWarning: Unverified HTTPS request is being made to host '127.0.0.1'. Adding certificate verification is strongly advised. See: https://urllib3.readthedocs.io/en/1.26.x/advanced-usage.html#ssl-warnings\n",
      "  warnings.warn(\n"
     ]
    },
    {
     "name": "stdout",
     "output_type": "stream",
     "text": [
      "Created IBM job: ['vqe_4qubits2layers_montreal', <supermarq.benchmarks.vqe_proxy.VQEProxy object at 0x7f84f5880cd0>, [<cirq_superstaq.job.Job object at 0x7f84f535ea30>, <cirq_superstaq.job.Job object at 0x7f84f692ceb0>], 0]\n"
     ]
    },
    {
     "name": "stderr",
     "output_type": "stream",
     "text": [
      "/Users/teague/opt/miniconda3/envs/superEnv/lib/python3.8/site-packages/urllib3/connectionpool.py:1013: InsecureRequestWarning: Unverified HTTPS request is being made to host '127.0.0.1'. Adding certificate verification is strongly advised. See: https://urllib3.readthedocs.io/en/1.26.x/advanced-usage.html#ssl-warnings\n",
      "  warnings.warn(\n",
      "/Users/teague/opt/miniconda3/envs/superEnv/lib/python3.8/site-packages/urllib3/connectionpool.py:1013: InsecureRequestWarning: Unverified HTTPS request is being made to host '127.0.0.1'. Adding certificate verification is strongly advised. See: https://urllib3.readthedocs.io/en/1.26.x/advanced-usage.html#ssl-warnings\n",
      "  warnings.warn(\n",
      "/Users/teague/opt/miniconda3/envs/superEnv/lib/python3.8/site-packages/urllib3/connectionpool.py:1013: InsecureRequestWarning: Unverified HTTPS request is being made to host '127.0.0.1'. Adding certificate verification is strongly advised. See: https://urllib3.readthedocs.io/en/1.26.x/advanced-usage.html#ssl-warnings\n",
      "  warnings.warn(\n",
      "/Users/teague/opt/miniconda3/envs/superEnv/lib/python3.8/site-packages/urllib3/connectionpool.py:1013: InsecureRequestWarning: Unverified HTTPS request is being made to host '127.0.0.1'. Adding certificate verification is strongly advised. See: https://urllib3.readthedocs.io/en/1.26.x/advanced-usage.html#ssl-warnings\n",
      "  warnings.warn(\n"
     ]
    },
    {
     "name": "stdout",
     "output_type": "stream",
     "text": [
      "Created IBM job: ['vqe_4qubits2layers_lagos', <supermarq.benchmarks.vqe_proxy.VQEProxy object at 0x7f84f5880cd0>, [<cirq_superstaq.job.Job object at 0x7f84f52991c0>, <cirq_superstaq.job.Job object at 0x7f84f5282d90>], 0]\n"
     ]
    },
    {
     "name": "stderr",
     "output_type": "stream",
     "text": [
      "/Users/teague/opt/miniconda3/envs/superEnv/lib/python3.8/site-packages/urllib3/connectionpool.py:1013: InsecureRequestWarning: Unverified HTTPS request is being made to host '127.0.0.1'. Adding certificate verification is strongly advised. See: https://urllib3.readthedocs.io/en/1.26.x/advanced-usage.html#ssl-warnings\n",
      "  warnings.warn(\n",
      "/Users/teague/opt/miniconda3/envs/superEnv/lib/python3.8/site-packages/urllib3/connectionpool.py:1013: InsecureRequestWarning: Unverified HTTPS request is being made to host '127.0.0.1'. Adding certificate verification is strongly advised. See: https://urllib3.readthedocs.io/en/1.26.x/advanced-usage.html#ssl-warnings\n",
      "  warnings.warn(\n",
      "/Users/teague/opt/miniconda3/envs/superEnv/lib/python3.8/site-packages/urllib3/connectionpool.py:1013: InsecureRequestWarning: Unverified HTTPS request is being made to host '127.0.0.1'. Adding certificate verification is strongly advised. See: https://urllib3.readthedocs.io/en/1.26.x/advanced-usage.html#ssl-warnings\n",
      "  warnings.warn(\n",
      "/Users/teague/opt/miniconda3/envs/superEnv/lib/python3.8/site-packages/urllib3/connectionpool.py:1013: InsecureRequestWarning: Unverified HTTPS request is being made to host '127.0.0.1'. Adding certificate verification is strongly advised. See: https://urllib3.readthedocs.io/en/1.26.x/advanced-usage.html#ssl-warnings\n",
      "  warnings.warn(\n"
     ]
    },
    {
     "name": "stdout",
     "output_type": "stream",
     "text": [
      "Created IBM job: ['vqe_4qubits2layers_santiago', <supermarq.benchmarks.vqe_proxy.VQEProxy object at 0x7f84f5880cd0>, [<cirq_superstaq.job.Job object at 0x7f84f535e430>, <cirq_superstaq.job.Job object at 0x7f84f587b5e0>], 0]\n"
     ]
    },
    {
     "name": "stderr",
     "output_type": "stream",
     "text": [
      "/Users/teague/opt/miniconda3/envs/superEnv/lib/python3.8/site-packages/urllib3/connectionpool.py:1013: InsecureRequestWarning: Unverified HTTPS request is being made to host '127.0.0.1'. Adding certificate verification is strongly advised. See: https://urllib3.readthedocs.io/en/1.26.x/advanced-usage.html#ssl-warnings\n",
      "  warnings.warn(\n",
      "/Users/teague/opt/miniconda3/envs/superEnv/lib/python3.8/site-packages/urllib3/connectionpool.py:1013: InsecureRequestWarning: Unverified HTTPS request is being made to host '127.0.0.1'. Adding certificate verification is strongly advised. See: https://urllib3.readthedocs.io/en/1.26.x/advanced-usage.html#ssl-warnings\n",
      "  warnings.warn(\n",
      "/Users/teague/opt/miniconda3/envs/superEnv/lib/python3.8/site-packages/urllib3/connectionpool.py:1013: InsecureRequestWarning: Unverified HTTPS request is being made to host '127.0.0.1'. Adding certificate verification is strongly advised. See: https://urllib3.readthedocs.io/en/1.26.x/advanced-usage.html#ssl-warnings\n",
      "  warnings.warn(\n",
      "/Users/teague/opt/miniconda3/envs/superEnv/lib/python3.8/site-packages/urllib3/connectionpool.py:1013: InsecureRequestWarning: Unverified HTTPS request is being made to host '127.0.0.1'. Adding certificate verification is strongly advised. See: https://urllib3.readthedocs.io/en/1.26.x/advanced-usage.html#ssl-warnings\n",
      "  warnings.warn(\n"
     ]
    },
    {
     "name": "stdout",
     "output_type": "stream",
     "text": [
      "Created AWS job: ['vqe_4qubits2layers_aspen9', <supermarq.benchmarks.vqe_proxy.VQEProxy object at 0x7f84f5880cd0>, [<cirq_superstaq.job.Job object at 0x7f84f535eb20>, <cirq_superstaq.job.Job object at 0x7f84f4840dc0>], 0]\n"
     ]
    },
    {
     "name": "stderr",
     "output_type": "stream",
     "text": [
      "/Users/teague/opt/miniconda3/envs/superEnv/lib/python3.8/site-packages/urllib3/connectionpool.py:1013: InsecureRequestWarning: Unverified HTTPS request is being made to host '127.0.0.1'. Adding certificate verification is strongly advised. See: https://urllib3.readthedocs.io/en/1.26.x/advanced-usage.html#ssl-warnings\n",
      "  warnings.warn(\n",
      "/Users/teague/opt/miniconda3/envs/superEnv/lib/python3.8/site-packages/urllib3/connectionpool.py:1013: InsecureRequestWarning: Unverified HTTPS request is being made to host '127.0.0.1'. Adding certificate verification is strongly advised. See: https://urllib3.readthedocs.io/en/1.26.x/advanced-usage.html#ssl-warnings\n",
      "  warnings.warn(\n",
      "/Users/teague/opt/miniconda3/envs/superEnv/lib/python3.8/site-packages/urllib3/connectionpool.py:1013: InsecureRequestWarning: Unverified HTTPS request is being made to host '127.0.0.1'. Adding certificate verification is strongly advised. See: https://urllib3.readthedocs.io/en/1.26.x/advanced-usage.html#ssl-warnings\n",
      "  warnings.warn(\n",
      "/Users/teague/opt/miniconda3/envs/superEnv/lib/python3.8/site-packages/urllib3/connectionpool.py:1013: InsecureRequestWarning: Unverified HTTPS request is being made to host '127.0.0.1'. Adding certificate verification is strongly advised. See: https://urllib3.readthedocs.io/en/1.26.x/advanced-usage.html#ssl-warnings\n",
      "  warnings.warn(\n"
     ]
    },
    {
     "name": "stdout",
     "output_type": "stream",
     "text": [
      "Created AWS job: ['vqe_4qubits2layers_ionq', <supermarq.benchmarks.vqe_proxy.VQEProxy object at 0x7f84f5880cd0>, [<cirq_superstaq.job.Job object at 0x7f84f498aa30>, <cirq_superstaq.job.Job object at 0x7f84f587bd60>], 0]\n",
      "Created 7-qubit, 1-layer vqe proxy benchmark\n",
      "0: ───Ry(-π)───────Rz(0.54π)─────@───Ry(1.83π)───Rz(-0.002π)─────────────────────────────────────────────────────────────────────M───\n",
      "                                 │                                                                                               │\n",
      "1: ───Ry(2.0π)─────Rz(-1.92π)────X───@───────────Ry(0.168π)────Rz(0.999π)────────────────────────────────────────────────────────M───\n",
      "                                     │                                                                                           │\n",
      "2: ───Ry(-π)───────Rz(0.402π)────────X───────────@─────────────Ry(-1.17π)───Rz(0)────────────────────────────────────────────────M───\n",
      "                                                 │                                                                               │\n",
      "3: ───Ry(1.02π)────Rz(-1.94π)────────────────────X─────────────@────────────Ry(0.172π)───Rz(-0.999π)─────────────────────────────M───\n",
      "                                                               │                                                                 │\n",
      "4: ───Ry(1.95π)────Rz(-0.548π)─────────────────────────────────X────────────@────────────Ry(-0.172π)───Rz(0.071π)────────────────M───\n",
      "                                                                            │                                                    │\n",
      "5: ───Ry(0.302π)───Rz(-1.86π)───────────────────────────────────────────────X────────────@─────────────Ry(-1.87π)───Rz(-1.8π)────M───\n",
      "                                                                                         │                                       │\n",
      "6: ───Ry(-1.46π)───Rz(0.013π)────────────────────────────────────────────────────────────X─────────────Ry(0.705π)───Rz(0.985π)───M───\n"
     ]
    },
    {
     "name": "stderr",
     "output_type": "stream",
     "text": [
      "/Users/teague/opt/miniconda3/envs/superEnv/lib/python3.8/site-packages/urllib3/connectionpool.py:1013: InsecureRequestWarning: Unverified HTTPS request is being made to host '127.0.0.1'. Adding certificate verification is strongly advised. See: https://urllib3.readthedocs.io/en/1.26.x/advanced-usage.html#ssl-warnings\n",
      "  warnings.warn(\n",
      "/Users/teague/opt/miniconda3/envs/superEnv/lib/python3.8/site-packages/urllib3/connectionpool.py:1013: InsecureRequestWarning: Unverified HTTPS request is being made to host '127.0.0.1'. Adding certificate verification is strongly advised. See: https://urllib3.readthedocs.io/en/1.26.x/advanced-usage.html#ssl-warnings\n",
      "  warnings.warn(\n",
      "/Users/teague/opt/miniconda3/envs/superEnv/lib/python3.8/site-packages/urllib3/connectionpool.py:1013: InsecureRequestWarning: Unverified HTTPS request is being made to host '127.0.0.1'. Adding certificate verification is strongly advised. See: https://urllib3.readthedocs.io/en/1.26.x/advanced-usage.html#ssl-warnings\n",
      "  warnings.warn(\n",
      "/Users/teague/opt/miniconda3/envs/superEnv/lib/python3.8/site-packages/urllib3/connectionpool.py:1013: InsecureRequestWarning: Unverified HTTPS request is being made to host '127.0.0.1'. Adding certificate verification is strongly advised. See: https://urllib3.readthedocs.io/en/1.26.x/advanced-usage.html#ssl-warnings\n",
      "  warnings.warn(\n"
     ]
    },
    {
     "name": "stdout",
     "output_type": "stream",
     "text": [
      "Created IBM job: ['vqe_7qubits1layers_casablanca', <supermarq.benchmarks.vqe_proxy.VQEProxy object at 0x7f84f4cf07f0>, [<cirq_superstaq.job.Job object at 0x7f84f535e370>, <cirq_superstaq.job.Job object at 0x7f84f58804c0>], 0]\n"
     ]
    },
    {
     "name": "stderr",
     "output_type": "stream",
     "text": [
      "/Users/teague/opt/miniconda3/envs/superEnv/lib/python3.8/site-packages/urllib3/connectionpool.py:1013: InsecureRequestWarning: Unverified HTTPS request is being made to host '127.0.0.1'. Adding certificate verification is strongly advised. See: https://urllib3.readthedocs.io/en/1.26.x/advanced-usage.html#ssl-warnings\n",
      "  warnings.warn(\n",
      "/Users/teague/opt/miniconda3/envs/superEnv/lib/python3.8/site-packages/urllib3/connectionpool.py:1013: InsecureRequestWarning: Unverified HTTPS request is being made to host '127.0.0.1'. Adding certificate verification is strongly advised. See: https://urllib3.readthedocs.io/en/1.26.x/advanced-usage.html#ssl-warnings\n",
      "  warnings.warn(\n",
      "/Users/teague/opt/miniconda3/envs/superEnv/lib/python3.8/site-packages/urllib3/connectionpool.py:1013: InsecureRequestWarning: Unverified HTTPS request is being made to host '127.0.0.1'. Adding certificate verification is strongly advised. See: https://urllib3.readthedocs.io/en/1.26.x/advanced-usage.html#ssl-warnings\n",
      "  warnings.warn(\n",
      "/Users/teague/opt/miniconda3/envs/superEnv/lib/python3.8/site-packages/urllib3/connectionpool.py:1013: InsecureRequestWarning: Unverified HTTPS request is being made to host '127.0.0.1'. Adding certificate verification is strongly advised. See: https://urllib3.readthedocs.io/en/1.26.x/advanced-usage.html#ssl-warnings\n",
      "  warnings.warn(\n"
     ]
    },
    {
     "name": "stdout",
     "output_type": "stream",
     "text": [
      "Created IBM job: ['vqe_7qubits1layers_guadalupe', <supermarq.benchmarks.vqe_proxy.VQEProxy object at 0x7f84f4cf07f0>, [<cirq_superstaq.job.Job object at 0x7f84f535e3d0>, <cirq_superstaq.job.Job object at 0x7f84f5880dc0>], 0]\n"
     ]
    },
    {
     "name": "stderr",
     "output_type": "stream",
     "text": [
      "/Users/teague/opt/miniconda3/envs/superEnv/lib/python3.8/site-packages/urllib3/connectionpool.py:1013: InsecureRequestWarning: Unverified HTTPS request is being made to host '127.0.0.1'. Adding certificate verification is strongly advised. See: https://urllib3.readthedocs.io/en/1.26.x/advanced-usage.html#ssl-warnings\n",
      "  warnings.warn(\n",
      "/Users/teague/opt/miniconda3/envs/superEnv/lib/python3.8/site-packages/urllib3/connectionpool.py:1013: InsecureRequestWarning: Unverified HTTPS request is being made to host '127.0.0.1'. Adding certificate verification is strongly advised. See: https://urllib3.readthedocs.io/en/1.26.x/advanced-usage.html#ssl-warnings\n",
      "  warnings.warn(\n",
      "/Users/teague/opt/miniconda3/envs/superEnv/lib/python3.8/site-packages/urllib3/connectionpool.py:1013: InsecureRequestWarning: Unverified HTTPS request is being made to host '127.0.0.1'. Adding certificate verification is strongly advised. See: https://urllib3.readthedocs.io/en/1.26.x/advanced-usage.html#ssl-warnings\n",
      "  warnings.warn(\n",
      "/Users/teague/opt/miniconda3/envs/superEnv/lib/python3.8/site-packages/urllib3/connectionpool.py:1013: InsecureRequestWarning: Unverified HTTPS request is being made to host '127.0.0.1'. Adding certificate verification is strongly advised. See: https://urllib3.readthedocs.io/en/1.26.x/advanced-usage.html#ssl-warnings\n",
      "  warnings.warn(\n"
     ]
    },
    {
     "name": "stdout",
     "output_type": "stream",
     "text": [
      "Created IBM job: ['vqe_7qubits1layers_montreal', <supermarq.benchmarks.vqe_proxy.VQEProxy object at 0x7f84f4cf07f0>, [<cirq_superstaq.job.Job object at 0x7f84f498a5b0>, <cirq_superstaq.job.Job object at 0x7f84f5aa57f0>], 0]\n"
     ]
    },
    {
     "name": "stderr",
     "output_type": "stream",
     "text": [
      "/Users/teague/opt/miniconda3/envs/superEnv/lib/python3.8/site-packages/urllib3/connectionpool.py:1013: InsecureRequestWarning: Unverified HTTPS request is being made to host '127.0.0.1'. Adding certificate verification is strongly advised. See: https://urllib3.readthedocs.io/en/1.26.x/advanced-usage.html#ssl-warnings\n",
      "  warnings.warn(\n",
      "/Users/teague/opt/miniconda3/envs/superEnv/lib/python3.8/site-packages/urllib3/connectionpool.py:1013: InsecureRequestWarning: Unverified HTTPS request is being made to host '127.0.0.1'. Adding certificate verification is strongly advised. See: https://urllib3.readthedocs.io/en/1.26.x/advanced-usage.html#ssl-warnings\n",
      "  warnings.warn(\n",
      "/Users/teague/opt/miniconda3/envs/superEnv/lib/python3.8/site-packages/urllib3/connectionpool.py:1013: InsecureRequestWarning: Unverified HTTPS request is being made to host '127.0.0.1'. Adding certificate verification is strongly advised. See: https://urllib3.readthedocs.io/en/1.26.x/advanced-usage.html#ssl-warnings\n",
      "  warnings.warn(\n",
      "/Users/teague/opt/miniconda3/envs/superEnv/lib/python3.8/site-packages/urllib3/connectionpool.py:1013: InsecureRequestWarning: Unverified HTTPS request is being made to host '127.0.0.1'. Adding certificate verification is strongly advised. See: https://urllib3.readthedocs.io/en/1.26.x/advanced-usage.html#ssl-warnings\n",
      "  warnings.warn(\n"
     ]
    },
    {
     "name": "stdout",
     "output_type": "stream",
     "text": [
      "Created IBM job: ['vqe_7qubits1layers_lagos', <supermarq.benchmarks.vqe_proxy.VQEProxy object at 0x7f84f4cf07f0>, [<cirq_superstaq.job.Job object at 0x7f84f535eb50>, <cirq_superstaq.job.Job object at 0x7f84f498aa90>], 0]\n"
     ]
    },
    {
     "name": "stderr",
     "output_type": "stream",
     "text": [
      "/Users/teague/opt/miniconda3/envs/superEnv/lib/python3.8/site-packages/urllib3/connectionpool.py:1013: InsecureRequestWarning: Unverified HTTPS request is being made to host '127.0.0.1'. Adding certificate verification is strongly advised. See: https://urllib3.readthedocs.io/en/1.26.x/advanced-usage.html#ssl-warnings\n",
      "  warnings.warn(\n",
      "/Users/teague/opt/miniconda3/envs/superEnv/lib/python3.8/site-packages/urllib3/connectionpool.py:1013: InsecureRequestWarning: Unverified HTTPS request is being made to host '127.0.0.1'. Adding certificate verification is strongly advised. See: https://urllib3.readthedocs.io/en/1.26.x/advanced-usage.html#ssl-warnings\n",
      "  warnings.warn(\n",
      "/Users/teague/opt/miniconda3/envs/superEnv/lib/python3.8/site-packages/urllib3/connectionpool.py:1013: InsecureRequestWarning: Unverified HTTPS request is being made to host '127.0.0.1'. Adding certificate verification is strongly advised. See: https://urllib3.readthedocs.io/en/1.26.x/advanced-usage.html#ssl-warnings\n",
      "  warnings.warn(\n",
      "/Users/teague/opt/miniconda3/envs/superEnv/lib/python3.8/site-packages/urllib3/connectionpool.py:1013: InsecureRequestWarning: Unverified HTTPS request is being made to host '127.0.0.1'. Adding certificate verification is strongly advised. See: https://urllib3.readthedocs.io/en/1.26.x/advanced-usage.html#ssl-warnings\n",
      "  warnings.warn(\n"
     ]
    },
    {
     "name": "stdout",
     "output_type": "stream",
     "text": [
      "Created AWS job: ['vqe_7qubits1layers_aspen9', <supermarq.benchmarks.vqe_proxy.VQEProxy object at 0x7f84f4cf07f0>, [<cirq_superstaq.job.Job object at 0x7f84f535ebb0>, <cirq_superstaq.job.Job object at 0x7f84f533cf70>], 0]\n"
     ]
    },
    {
     "name": "stderr",
     "output_type": "stream",
     "text": [
      "/Users/teague/opt/miniconda3/envs/superEnv/lib/python3.8/site-packages/urllib3/connectionpool.py:1013: InsecureRequestWarning: Unverified HTTPS request is being made to host '127.0.0.1'. Adding certificate verification is strongly advised. See: https://urllib3.readthedocs.io/en/1.26.x/advanced-usage.html#ssl-warnings\n",
      "  warnings.warn(\n",
      "/Users/teague/opt/miniconda3/envs/superEnv/lib/python3.8/site-packages/urllib3/connectionpool.py:1013: InsecureRequestWarning: Unverified HTTPS request is being made to host '127.0.0.1'. Adding certificate verification is strongly advised. See: https://urllib3.readthedocs.io/en/1.26.x/advanced-usage.html#ssl-warnings\n",
      "  warnings.warn(\n",
      "/Users/teague/opt/miniconda3/envs/superEnv/lib/python3.8/site-packages/urllib3/connectionpool.py:1013: InsecureRequestWarning: Unverified HTTPS request is being made to host '127.0.0.1'. Adding certificate verification is strongly advised. See: https://urllib3.readthedocs.io/en/1.26.x/advanced-usage.html#ssl-warnings\n",
      "  warnings.warn(\n",
      "/Users/teague/opt/miniconda3/envs/superEnv/lib/python3.8/site-packages/urllib3/connectionpool.py:1013: InsecureRequestWarning: Unverified HTTPS request is being made to host '127.0.0.1'. Adding certificate verification is strongly advised. See: https://urllib3.readthedocs.io/en/1.26.x/advanced-usage.html#ssl-warnings\n",
      "  warnings.warn(\n"
     ]
    },
    {
     "name": "stdout",
     "output_type": "stream",
     "text": [
      "Created AWS job: ['vqe_7qubits1layers_ionq', <supermarq.benchmarks.vqe_proxy.VQEProxy object at 0x7f84f4cf07f0>, [<cirq_superstaq.job.Job object at 0x7f84f5282f70>, <cirq_superstaq.job.Job object at 0x7f84f4cf0280>], 0]\n",
      "Created 7-qubit, 2-layer vqe proxy benchmark\n",
      "0: ───Ry(0.004π)────Rz(-1.26π)────@───Ry(1.07π)───Rz(0.004π)───Ry(-0.068π)───Rz(1.57π)───────────────────@────────────Ry(-1.83π)───Rz(-1.01π)─────────────────────────────────────────────────────────────────────────M───\n",
      "                                  │                                                                      │                                                                                                            │\n",
      "1: ───Ry(1.82π)─────Rz(-0.797π)───X───@───────────Ry(1.64π)────Rz(1.09π)─────Ry(-1.28π)────Rz(-0.409π)───X────────────@────────────Ry(-1.03π)────Rz(1.91π)────────────────────────────────────────────────────────────M───\n",
      "                                      │                                                                               │                                                                                               │\n",
      "2: ───Ry(-0.617π)───Rz(-0.709π)───────X───────────@────────────Ry(-1.36π)────Rz(-0.484π)───Ry(-1.75π)────Rz(-1.59π)───X────────────@─────────────Ry(0.813π)────Rz(1.93π)──────────────────────────────────────────────M───\n",
      "                                                  │                                                                                │                                                                                  │\n",
      "3: ───Ry(-1.53π)────Rz(1.04π)─────────────────────X────────────@─────────────Ry(-0.503π)───Rz(-1.23π)────Ry(0.984π)───Rz(-0.49π)───X─────────────@─────────────Ry(-0.915π)───Rz(1.93π)────────────────────────────────M───\n",
      "                                                               │                                                                                 │                                                                    │\n",
      "4: ───Ry(1.7π)──────Rz(0.825π)─────────────────────────────────X─────────────@─────────────Ry(-1.6π)─────Rz(1.87π)────Ry(0.111π)───Rz(0.122π)────X─────────────@─────────────Ry(-0.656π)───Rz(-1.92π)─────────────────M───\n",
      "                                                                             │                                                                                 │                                                      │\n",
      "5: ───Ry(1.96π)─────Rz(-0.512π)──────────────────────────────────────────────X─────────────@─────────────Ry(0.198π)───Rz(1.28π)────Ry(-0.365π)───Rz(-0.152π)───X─────────────@─────────────Ry(0.282π)───Rz(1.92π)─────M───\n",
      "                                                                                           │                                                                                 │                                        │\n",
      "6: ───Ry(1.12π)─────Rz(-1.66π)─────────────────────────────────────────────────────────────X─────────────Ry(1.32π)────Rz(1.92π)────Ry(-1.82π)────Rz(-0.798π)─────────────────X─────────────Ry(0.977π)───Rz(-0.466π)───M───\n"
     ]
    },
    {
     "name": "stderr",
     "output_type": "stream",
     "text": [
      "/Users/teague/opt/miniconda3/envs/superEnv/lib/python3.8/site-packages/urllib3/connectionpool.py:1013: InsecureRequestWarning: Unverified HTTPS request is being made to host '127.0.0.1'. Adding certificate verification is strongly advised. See: https://urllib3.readthedocs.io/en/1.26.x/advanced-usage.html#ssl-warnings\n",
      "  warnings.warn(\n",
      "/Users/teague/opt/miniconda3/envs/superEnv/lib/python3.8/site-packages/urllib3/connectionpool.py:1013: InsecureRequestWarning: Unverified HTTPS request is being made to host '127.0.0.1'. Adding certificate verification is strongly advised. See: https://urllib3.readthedocs.io/en/1.26.x/advanced-usage.html#ssl-warnings\n",
      "  warnings.warn(\n",
      "/Users/teague/opt/miniconda3/envs/superEnv/lib/python3.8/site-packages/urllib3/connectionpool.py:1013: InsecureRequestWarning: Unverified HTTPS request is being made to host '127.0.0.1'. Adding certificate verification is strongly advised. See: https://urllib3.readthedocs.io/en/1.26.x/advanced-usage.html#ssl-warnings\n",
      "  warnings.warn(\n",
      "/Users/teague/opt/miniconda3/envs/superEnv/lib/python3.8/site-packages/urllib3/connectionpool.py:1013: InsecureRequestWarning: Unverified HTTPS request is being made to host '127.0.0.1'. Adding certificate verification is strongly advised. See: https://urllib3.readthedocs.io/en/1.26.x/advanced-usage.html#ssl-warnings\n",
      "  warnings.warn(\n"
     ]
    },
    {
     "name": "stdout",
     "output_type": "stream",
     "text": [
      "Created IBM job: ['vqe_7qubits2layers_casablanca', <supermarq.benchmarks.vqe_proxy.VQEProxy object at 0x7f84f4cf0190>, [<cirq_superstaq.job.Job object at 0x7f84f6906820>, <cirq_superstaq.job.Job object at 0x7f84f6926e50>], 0]\n"
     ]
    },
    {
     "name": "stderr",
     "output_type": "stream",
     "text": [
      "/Users/teague/opt/miniconda3/envs/superEnv/lib/python3.8/site-packages/urllib3/connectionpool.py:1013: InsecureRequestWarning: Unverified HTTPS request is being made to host '127.0.0.1'. Adding certificate verification is strongly advised. See: https://urllib3.readthedocs.io/en/1.26.x/advanced-usage.html#ssl-warnings\n",
      "  warnings.warn(\n",
      "/Users/teague/opt/miniconda3/envs/superEnv/lib/python3.8/site-packages/urllib3/connectionpool.py:1013: InsecureRequestWarning: Unverified HTTPS request is being made to host '127.0.0.1'. Adding certificate verification is strongly advised. See: https://urllib3.readthedocs.io/en/1.26.x/advanced-usage.html#ssl-warnings\n",
      "  warnings.warn(\n",
      "/Users/teague/opt/miniconda3/envs/superEnv/lib/python3.8/site-packages/urllib3/connectionpool.py:1013: InsecureRequestWarning: Unverified HTTPS request is being made to host '127.0.0.1'. Adding certificate verification is strongly advised. See: https://urllib3.readthedocs.io/en/1.26.x/advanced-usage.html#ssl-warnings\n",
      "  warnings.warn(\n",
      "/Users/teague/opt/miniconda3/envs/superEnv/lib/python3.8/site-packages/urllib3/connectionpool.py:1013: InsecureRequestWarning: Unverified HTTPS request is being made to host '127.0.0.1'. Adding certificate verification is strongly advised. See: https://urllib3.readthedocs.io/en/1.26.x/advanced-usage.html#ssl-warnings\n",
      "  warnings.warn(\n"
     ]
    },
    {
     "name": "stdout",
     "output_type": "stream",
     "text": [
      "Created IBM job: ['vqe_7qubits2layers_guadalupe', <supermarq.benchmarks.vqe_proxy.VQEProxy object at 0x7f84f4cf0190>, [<cirq_superstaq.job.Job object at 0x7f84f48a9fa0>, <cirq_superstaq.job.Job object at 0x7f84f584dfa0>], 0]\n"
     ]
    },
    {
     "name": "stderr",
     "output_type": "stream",
     "text": [
      "/Users/teague/opt/miniconda3/envs/superEnv/lib/python3.8/site-packages/urllib3/connectionpool.py:1013: InsecureRequestWarning: Unverified HTTPS request is being made to host '127.0.0.1'. Adding certificate verification is strongly advised. See: https://urllib3.readthedocs.io/en/1.26.x/advanced-usage.html#ssl-warnings\n",
      "  warnings.warn(\n",
      "/Users/teague/opt/miniconda3/envs/superEnv/lib/python3.8/site-packages/urllib3/connectionpool.py:1013: InsecureRequestWarning: Unverified HTTPS request is being made to host '127.0.0.1'. Adding certificate verification is strongly advised. See: https://urllib3.readthedocs.io/en/1.26.x/advanced-usage.html#ssl-warnings\n",
      "  warnings.warn(\n",
      "/Users/teague/opt/miniconda3/envs/superEnv/lib/python3.8/site-packages/urllib3/connectionpool.py:1013: InsecureRequestWarning: Unverified HTTPS request is being made to host '127.0.0.1'. Adding certificate verification is strongly advised. See: https://urllib3.readthedocs.io/en/1.26.x/advanced-usage.html#ssl-warnings\n",
      "  warnings.warn(\n",
      "/Users/teague/opt/miniconda3/envs/superEnv/lib/python3.8/site-packages/urllib3/connectionpool.py:1013: InsecureRequestWarning: Unverified HTTPS request is being made to host '127.0.0.1'. Adding certificate verification is strongly advised. See: https://urllib3.readthedocs.io/en/1.26.x/advanced-usage.html#ssl-warnings\n",
      "  warnings.warn(\n"
     ]
    },
    {
     "name": "stdout",
     "output_type": "stream",
     "text": [
      "Created IBM job: ['vqe_7qubits2layers_montreal', <supermarq.benchmarks.vqe_proxy.VQEProxy object at 0x7f84f4cf0190>, [<cirq_superstaq.job.Job object at 0x7f84f526ff10>, <cirq_superstaq.job.Job object at 0x7f84f48a9340>], 0]\n"
     ]
    },
    {
     "name": "stderr",
     "output_type": "stream",
     "text": [
      "/Users/teague/opt/miniconda3/envs/superEnv/lib/python3.8/site-packages/urllib3/connectionpool.py:1013: InsecureRequestWarning: Unverified HTTPS request is being made to host '127.0.0.1'. Adding certificate verification is strongly advised. See: https://urllib3.readthedocs.io/en/1.26.x/advanced-usage.html#ssl-warnings\n",
      "  warnings.warn(\n",
      "/Users/teague/opt/miniconda3/envs/superEnv/lib/python3.8/site-packages/urllib3/connectionpool.py:1013: InsecureRequestWarning: Unverified HTTPS request is being made to host '127.0.0.1'. Adding certificate verification is strongly advised. See: https://urllib3.readthedocs.io/en/1.26.x/advanced-usage.html#ssl-warnings\n",
      "  warnings.warn(\n",
      "/Users/teague/opt/miniconda3/envs/superEnv/lib/python3.8/site-packages/urllib3/connectionpool.py:1013: InsecureRequestWarning: Unverified HTTPS request is being made to host '127.0.0.1'. Adding certificate verification is strongly advised. See: https://urllib3.readthedocs.io/en/1.26.x/advanced-usage.html#ssl-warnings\n",
      "  warnings.warn(\n",
      "/Users/teague/opt/miniconda3/envs/superEnv/lib/python3.8/site-packages/urllib3/connectionpool.py:1013: InsecureRequestWarning: Unverified HTTPS request is being made to host '127.0.0.1'. Adding certificate verification is strongly advised. See: https://urllib3.readthedocs.io/en/1.26.x/advanced-usage.html#ssl-warnings\n",
      "  warnings.warn(\n"
     ]
    },
    {
     "name": "stdout",
     "output_type": "stream",
     "text": [
      "Created IBM job: ['vqe_7qubits2layers_lagos', <supermarq.benchmarks.vqe_proxy.VQEProxy object at 0x7f84f4cf0190>, [<cirq_superstaq.job.Job object at 0x7f84f5258eb0>, <cirq_superstaq.job.Job object at 0x7f84f5371160>], 0]\n"
     ]
    },
    {
     "name": "stderr",
     "output_type": "stream",
     "text": [
      "/Users/teague/opt/miniconda3/envs/superEnv/lib/python3.8/site-packages/urllib3/connectionpool.py:1013: InsecureRequestWarning: Unverified HTTPS request is being made to host '127.0.0.1'. Adding certificate verification is strongly advised. See: https://urllib3.readthedocs.io/en/1.26.x/advanced-usage.html#ssl-warnings\n",
      "  warnings.warn(\n",
      "/Users/teague/opt/miniconda3/envs/superEnv/lib/python3.8/site-packages/urllib3/connectionpool.py:1013: InsecureRequestWarning: Unverified HTTPS request is being made to host '127.0.0.1'. Adding certificate verification is strongly advised. See: https://urllib3.readthedocs.io/en/1.26.x/advanced-usage.html#ssl-warnings\n",
      "  warnings.warn(\n",
      "/Users/teague/opt/miniconda3/envs/superEnv/lib/python3.8/site-packages/urllib3/connectionpool.py:1013: InsecureRequestWarning: Unverified HTTPS request is being made to host '127.0.0.1'. Adding certificate verification is strongly advised. See: https://urllib3.readthedocs.io/en/1.26.x/advanced-usage.html#ssl-warnings\n",
      "  warnings.warn(\n",
      "/Users/teague/opt/miniconda3/envs/superEnv/lib/python3.8/site-packages/urllib3/connectionpool.py:1013: InsecureRequestWarning: Unverified HTTPS request is being made to host '127.0.0.1'. Adding certificate verification is strongly advised. See: https://urllib3.readthedocs.io/en/1.26.x/advanced-usage.html#ssl-warnings\n",
      "  warnings.warn(\n"
     ]
    },
    {
     "name": "stdout",
     "output_type": "stream",
     "text": [
      "Created AWS job: ['vqe_7qubits2layers_aspen9', <supermarq.benchmarks.vqe_proxy.VQEProxy object at 0x7f84f4cf0190>, [<cirq_superstaq.job.Job object at 0x7f84f488dd90>, <cirq_superstaq.job.Job object at 0x7f84f47a7d60>], 0]\n"
     ]
    },
    {
     "name": "stderr",
     "output_type": "stream",
     "text": [
      "/Users/teague/opt/miniconda3/envs/superEnv/lib/python3.8/site-packages/urllib3/connectionpool.py:1013: InsecureRequestWarning: Unverified HTTPS request is being made to host '127.0.0.1'. Adding certificate verification is strongly advised. See: https://urllib3.readthedocs.io/en/1.26.x/advanced-usage.html#ssl-warnings\n",
      "  warnings.warn(\n",
      "/Users/teague/opt/miniconda3/envs/superEnv/lib/python3.8/site-packages/urllib3/connectionpool.py:1013: InsecureRequestWarning: Unverified HTTPS request is being made to host '127.0.0.1'. Adding certificate verification is strongly advised. See: https://urllib3.readthedocs.io/en/1.26.x/advanced-usage.html#ssl-warnings\n",
      "  warnings.warn(\n",
      "/Users/teague/opt/miniconda3/envs/superEnv/lib/python3.8/site-packages/urllib3/connectionpool.py:1013: InsecureRequestWarning: Unverified HTTPS request is being made to host '127.0.0.1'. Adding certificate verification is strongly advised. See: https://urllib3.readthedocs.io/en/1.26.x/advanced-usage.html#ssl-warnings\n",
      "  warnings.warn(\n",
      "/Users/teague/opt/miniconda3/envs/superEnv/lib/python3.8/site-packages/urllib3/connectionpool.py:1013: InsecureRequestWarning: Unverified HTTPS request is being made to host '127.0.0.1'. Adding certificate verification is strongly advised. See: https://urllib3.readthedocs.io/en/1.26.x/advanced-usage.html#ssl-warnings\n",
      "  warnings.warn(\n"
     ]
    },
    {
     "name": "stdout",
     "output_type": "stream",
     "text": [
      "Created AWS job: ['vqe_7qubits2layers_ionq', <supermarq.benchmarks.vqe_proxy.VQEProxy object at 0x7f84f4cf0190>, [<cirq_superstaq.job.Job object at 0x7f84f48bdd00>, <cirq_superstaq.job.Job object at 0x7f84f5aa2a30>], 0]\n"
     ]
    }
   ],
   "source": [
    "# Run VQE Proxy benchmarks\n",
    "for nq in [4, 7]:\n",
    "    for layers in [1, 2]:\n",
    "        vqe = sm.vqe_proxy.VQEProxy(nq, layers)\n",
    "        print(f'Created {nq}-qubit, {layers}-layer vqe proxy benchmark')\n",
    "        print(vqe.circuit()[0])\n",
    "\n",
    "        # ibmq_casablanca, 7 qubits\n",
    "        if nq <= 7:\n",
    "            vqe_jobs.append([\n",
    "                f'vqe_{nq}qubits{layers}layers_casablanca',\n",
    "                vqe,\n",
    "                [ornl_service.create_job(circuit=vqe.circuit()[0], repetitions=ibm_shots, target=\"ibmq_casablanca\"),\n",
    "                 ornl_service.create_job(circuit=vqe.circuit()[1], repetitions=ibm_shots, target=\"ibmq_casablanca\")],\n",
    "                0,\n",
    "                ]\n",
    "            )\n",
    "            print(\"Created IBM job:\", vqe_jobs[-1])\n",
    "\n",
    "        # ibmq_guadalupe, 16 qubits\n",
    "        if nq <= 16:\n",
    "            vqe_jobs.append([\n",
    "                f'vqe_{nq}qubits{layers}layers_guadalupe',\n",
    "                vqe,\n",
    "                [ornl_service.create_job(circuit=vqe.circuit()[0], repetitions=ibm_shots, target=\"ibmq_guadalupe\"),\n",
    "                 ornl_service.create_job(circuit=vqe.circuit()[1], repetitions=ibm_shots, target=\"ibmq_guadalupe\")],\n",
    "                0,\n",
    "                ]\n",
    "            )\n",
    "            print(\"Created IBM job:\", vqe_jobs[-1])\n",
    "\n",
    "        # ibmq_montreal, 27 qubits\n",
    "        if nq <= 27:\n",
    "            vqe_jobs.append([\n",
    "                f'vqe_{nq}qubits{layers}layers_montreal',\n",
    "                vqe,\n",
    "                [ornl_service.create_job(circuit=vqe.circuit()[0], repetitions=ibm_shots, target=\"ibmq_montreal\"),\n",
    "                 ornl_service.create_job(circuit=vqe.circuit()[1], repetitions=ibm_shots, target=\"ibmq_montreal\")],\n",
    "                0,\n",
    "                ]\n",
    "            )\n",
    "            print(\"Created IBM job:\", vqe_jobs[-1])\n",
    "\n",
    "        # ibmq_mumbai, 27 qubits\n",
    "        #if nq <= 27:\n",
    "        #    vqe_jobs.append([\n",
    "        #        f'vqe_{nq}qubits{layers}layers_mumbai',\n",
    "        #        vqe,\n",
    "        #        [ornl_service.create_job(circuit=vqe.circuit()[0], repetitions=ibm_shots, target=\"ibmq_mumbai\"),\n",
    "        #         ornl_service.create_job(circuit=vqe.circuit()[1], repetitions=ibm_shots, target=\"ibmq_mumbai\")],\n",
    "        #        0,\n",
    "        #        ]\n",
    "        #    )\n",
    "        #    print(\"Created IBM job:\", vqe_jobs[-1])\n",
    "\n",
    "        # ibmq_toronto, 27 qubits\n",
    "        #if nq <= 27:\n",
    "        #    vqe_jobs.append([\n",
    "        #        f'vqe_{nq}qubits{layers}layers_toronto',\n",
    "        #        vqe,\n",
    "        #        [ornl_service.create_job(circuit=vqe.circuit()[0], repetitions=ibm_shots, target=\"ibmq_toronto\"),\n",
    "        #         ornl_service.create_job(circuit=vqe.circuit()[1], repetitions=ibm_shots, target=\"ibmq_toronto\")],\n",
    "        #        0,\n",
    "        #    ])\n",
    "        #    print(\"Created IBM job:\", vqe_jobs[-1])\n",
    "\n",
    "        # ibmq_lagos, 7 qubits\n",
    "        if nq <= 7:\n",
    "            vqe_jobs.append([\n",
    "                f'vqe_{nq}qubits{layers}layers_lagos',\n",
    "                vqe,\n",
    "                [supertech_service.create_job(circuit=vqe.circuit()[0], repetitions=ibm_shots, target=\"ibm_lagos\"),\n",
    "                 supertech_service.create_job(circuit=vqe.circuit()[1], repetitions=ibm_shots, target=\"ibm_lagos\")],\n",
    "                0,\n",
    "            ])\n",
    "            print(\"Created IBM job:\", vqe_jobs[-1])\n",
    "\n",
    "        # ibmq_santiago, 5 qubits\n",
    "        if nq <= 5:\n",
    "            vqe_jobs.append([\n",
    "                f'vqe_{nq}qubits{layers}layers_santiago',\n",
    "                vqe,\n",
    "                [ornl_service.create_job(circuit=vqe.circuit()[0], repetitions=ibm_shots, target=\"ibmq_santiago\"),\n",
    "                 ornl_service.create_job(circuit=vqe.circuit()[1], repetitions=ibm_shots, target=\"ibmq_santiago\")],\n",
    "                0,\n",
    "            ])\n",
    "            print(\"Created IBM job:\", vqe_jobs[-1])\n",
    "\n",
    "        # rigetti_aspen9, 32 qubits\n",
    "        if nq <= 32:\n",
    "            vqe_jobs.append([\n",
    "                f'vqe_{nq}qubits{layers}layers_aspen9',\n",
    "                vqe,\n",
    "                [ornl_service.create_job(circuit=vqe.circuit()[0], repetitions=rigetti_shots, target=\"rigetti_aspen\"),\n",
    "                 ornl_service.create_job(circuit=vqe.circuit()[1], repetitions=rigetti_shots, target=\"rigetti_aspen\")],\n",
    "                0,\n",
    "            ])\n",
    "            print(\"Created AWS job:\", vqe_jobs[-1])\n",
    "\n",
    "        # ionq, 11 qubits\n",
    "        if nq <= 11:\n",
    "            vqe_jobs.append([\n",
    "                f'vqe_{nq}qubits{layers}layers_ionq',\n",
    "                vqe,\n",
    "                [ornl_service.create_job(circuit=vqe.circuit()[0], repetitions=ionq_shots, target=\"ionq_ion\"),\n",
    "                 ornl_service.create_job(circuit=vqe.circuit()[1], repetitions=ionq_shots, target=\"ionq_ion\")],\n",
    "                0,\n",
    "            ])\n",
    "            print(\"Created AWS job:\", vqe_jobs[-1])"
   ]
  },
  {
   "cell_type": "markdown",
   "id": "aacce116-77c4-42cb-a8a9-dcba7ea94f5e",
   "metadata": {},
   "source": [
    "## Compute scores and store results"
   ]
  },
  {
   "cell_type": "code",
   "execution_count": 122,
   "id": "8c808dce-bd42-4db3-ad51-b963f88e7a66",
   "metadata": {
    "scrolled": true,
    "tags": []
   },
   "outputs": [
    {
     "name": "stdout",
     "output_type": "stream",
     "text": [
      "Completed 157/176 jobs\n",
      "vqe_4qubits1layers_casablanca, status: Done, Done\n",
      "vqe_4qubits1layers_guadalupe, status: Done, Done\n",
      "vqe_4qubits1layers_montreal, status: Done, Done\n",
      "vqe_4qubits1layers_toronto, status: Done, Done\n",
      "vqe_4qubits1layers_lagos, status: Done, Done\n",
      "vqe_4qubits1layers_santiago, status: Done, Done\n",
      "vqe_4qubits1layers_aspen9, status: Done, Done\n",
      "vqe_4qubits1layers_ionq, status: Done, Done\n",
      "vqe_4qubits2layers_casablanca, status: Done, Done\n",
      "vqe_4qubits2layers_guadalupe, status: Done, Done\n",
      "vqe_4qubits2layers_montreal, status: Done, Done\n"
     ]
    },
    {
     "name": "stderr",
     "output_type": "stream",
     "text": [
      "/Users/teague/opt/miniconda3/envs/superEnv/lib/python3.8/site-packages/urllib3/connectionpool.py:1013: InsecureRequestWarning: Unverified HTTPS request is being made to host '127.0.0.1'. Adding certificate verification is strongly advised. See: https://urllib3.readthedocs.io/en/1.26.x/advanced-usage.html#ssl-warnings\n",
      "  warnings.warn(\n",
      "/Users/teague/opt/miniconda3/envs/superEnv/lib/python3.8/site-packages/urllib3/connectionpool.py:1013: InsecureRequestWarning: Unverified HTTPS request is being made to host '127.0.0.1'. Adding certificate verification is strongly advised. See: https://urllib3.readthedocs.io/en/1.26.x/advanced-usage.html#ssl-warnings\n",
      "  warnings.warn(\n"
     ]
    },
    {
     "name": "stdout",
     "output_type": "stream",
     "text": [
      "vqe_4qubits2layers_toronto, status: Done, Done\n",
      "\tCounts: [{'0000': 4, '0001': 36, '0010': 12, '0011': 43, '0100': 17, '0101': 34, '0110': 67, '0111': 190, '1000': 25, '1001': 66, '1010': 48, '1011': 168, '1100': 28, '1101': 100, '1110': 264, '1111': 898}, {'0000': 715, '0001': 202, '0010': 130, '0011': 78, '0100': 149, '0101': 47, '0110': 103, '0111': 46, '1000': 198, '1001': 54, '1010': 52, '1011': 28, '1100': 95, '1101': 28, '1110': 55, '1111': 20}]\n",
      "\tScore: 0.8518820024933258\n",
      "vqe_4qubits2layers_lagos, status: Done, Done\n",
      "vqe_4qubits2layers_santiago, status: Done, Done\n",
      "vqe_4qubits2layers_aspen9, status: Done, Done\n",
      "vqe_4qubits2layers_ionq, status: Done, Done\n",
      "vqe_7qubits1layers_casablanca, status: Done, Done\n",
      "vqe_7qubits1layers_guadalupe, status: Done, Done\n",
      "vqe_7qubits1layers_montreal, status: Done, Done\n"
     ]
    },
    {
     "name": "stderr",
     "output_type": "stream",
     "text": [
      "/Users/teague/opt/miniconda3/envs/superEnv/lib/python3.8/site-packages/urllib3/connectionpool.py:1013: InsecureRequestWarning: Unverified HTTPS request is being made to host '127.0.0.1'. Adding certificate verification is strongly advised. See: https://urllib3.readthedocs.io/en/1.26.x/advanced-usage.html#ssl-warnings\n",
      "  warnings.warn(\n",
      "/Users/teague/opt/miniconda3/envs/superEnv/lib/python3.8/site-packages/urllib3/connectionpool.py:1013: InsecureRequestWarning: Unverified HTTPS request is being made to host '127.0.0.1'. Adding certificate verification is strongly advised. See: https://urllib3.readthedocs.io/en/1.26.x/advanced-usage.html#ssl-warnings\n",
      "  warnings.warn(\n"
     ]
    },
    {
     "name": "stdout",
     "output_type": "stream",
     "text": [
      "vqe_7qubits1layers_toronto, status: Done, Done\n",
      "\tCounts: [{'0000000': 4, '0000001': 3, '0000010': 1, '0000111': 1, '0001000': 1, '0001111': 4, '0010000': 1, '0010101': 2, '0010111': 6, '0011001': 2, '0011100': 1, '0011101': 2, '0011110': 2, '0011111': 19, '0100000': 2, '0100001': 1, '0100010': 1, '0100011': 2, '0100101': 1, '0100111': 1, '0101000': 1, '0101001': 2, '0101010': 1, '0101100': 1, '0101101': 2, '0101110': 2, '0101111': 11, '0110000': 2, '0110001': 1, '0110010': 1, '0110011': 3, '0110100': 3, '0110101': 7, '0110110': 8, '0110111': 29, '0111000': 1, '0111010': 4, '0111011': 9, '0111100': 6, '0111101': 10, '0111110': 16, '0111111': 109, '1000000': 12, '1000001': 6, '1000010': 1, '1000011': 2, '1000100': 1, '1000101': 2, '1000111': 3, '1001000': 6, '1001001': 2, '1001011': 2, '1001101': 2, '1001110': 2, '1001111': 11, '1010000': 2, '1010001': 3, '1010100': 2, '1010110': 7, '1010111': 25, '1011001': 2, '1011010': 3, '1011011': 8, '1011100': 4, '1011101': 8, '1011110': 5, '1011111': 71, '1100000': 6, '1100001': 1, '1100011': 3, '1100100': 4, '1100101': 10, '1100110': 3, '1100111': 22, '1101000': 3, '1101001': 4, '1101010': 2, '1101011': 7, '1101100': 4, '1101101': 6, '1101110': 9, '1101111': 73, '1110000': 19, '1110001': 10, '1110010': 10, '1110011': 35, '1110100': 13, '1110101': 29, '1110110': 34, '1110111': 219, '1111000': 9, '1111001': 29, '1111010': 19, '1111011': 70, '1111100': 27, '1111101': 95, '1111110': 111, '1111111': 636}, {'0000000': 324, '0000001': 85, '0000010': 93, '0000011': 38, '0000100': 57, '0000101': 14, '0000110': 27, '0000111': 11, '0001000': 59, '0001001': 25, '0001010': 31, '0001011': 10, '0001100': 28, '0001101': 7, '0001110': 8, '0001111': 1, '0010000': 63, '0010001': 14, '0010010': 25, '0010011': 4, '0010100': 21, '0010101': 1, '0010110': 6, '0010111': 2, '0011000': 29, '0011001': 4, '0011010': 6, '0011011': 4, '0011100': 5, '0011101': 2, '0011110': 2, '0011111': 1, '0100000': 136, '0100001': 31, '0100010': 43, '0100011': 12, '0100100': 20, '0100101': 12, '0100110': 14, '0100111': 4, '0101000': 35, '0101001': 7, '0101010': 10, '0101011': 2, '0101100': 9, '0101101': 1, '0101110': 6, '0110000': 9, '0110001': 4, '0110010': 5, '0110011': 2, '0110100': 4, '0110101': 1, '0110110': 3, '0110111': 1, '0111000': 4, '0111010': 7, '0111100': 1, '0111110': 1, '1000000': 104, '1000001': 23, '1000010': 32, '1000011': 13, '1000100': 27, '1000101': 9, '1000110': 6, '1000111': 2, '1001000': 27, '1001001': 5, '1001010': 13, '1001011': 3, '1001100': 14, '1001101': 1, '1001110': 4, '1010000': 19, '1010001': 12, '1010010': 3, '1010011': 2, '1010100': 8, '1010101': 2, '1010111': 1, '1011000': 9, '1011001': 2, '1011010': 5, '1011011': 2, '1011100': 4, '1011110': 4, '1100000': 90, '1100001': 16, '1100010': 20, '1100011': 14, '1100100': 20, '1100101': 6, '1100110': 7, '1100111': 3, '1101000': 15, '1101001': 2, '1101010': 9, '1101011': 3, '1101100': 6, '1101101': 3, '1101111': 1, '1110000': 13, '1110010': 6, '1110011': 3, '1110100': 2, '1110101': 1, '1110110': 2, '1111000': 6, '1111010': 1, '1111100': 1, '1111110': 2, '1111111': 1}]\n",
      "\tScore: 0.9044752755139256\n",
      "vqe_7qubits1layers_lagos, status: Done, Done\n",
      "vqe_7qubits1layers_aspen9, status: Done, Done\n",
      "vqe_7qubits1layers_ionq, status: Done, Done\n",
      "vqe_7qubits2layers_casablanca, status: Done, Done\n",
      "vqe_7qubits2layers_guadalupe, status: Done, Done\n",
      "vqe_7qubits2layers_montreal, status: Done, Done\n"
     ]
    },
    {
     "name": "stderr",
     "output_type": "stream",
     "text": [
      "/Users/teague/opt/miniconda3/envs/superEnv/lib/python3.8/site-packages/urllib3/connectionpool.py:1013: InsecureRequestWarning: Unverified HTTPS request is being made to host '127.0.0.1'. Adding certificate verification is strongly advised. See: https://urllib3.readthedocs.io/en/1.26.x/advanced-usage.html#ssl-warnings\n",
      "  warnings.warn(\n",
      "/Users/teague/opt/miniconda3/envs/superEnv/lib/python3.8/site-packages/urllib3/connectionpool.py:1013: InsecureRequestWarning: Unverified HTTPS request is being made to host '127.0.0.1'. Adding certificate verification is strongly advised. See: https://urllib3.readthedocs.io/en/1.26.x/advanced-usage.html#ssl-warnings\n",
      "  warnings.warn(\n"
     ]
    },
    {
     "name": "stdout",
     "output_type": "stream",
     "text": [
      "vqe_7qubits2layers_toronto, status: Done, Done\n",
      "\tCounts: [{'0000000': 595, '0000001': 51, '0000010': 36, '0000011': 67, '0000100': 81, '0000101': 12, '0000110': 13, '0000111': 15, '0001000': 258, '0001001': 49, '0001010': 15, '0001011': 38, '0001100': 32, '0001101': 6, '0001110': 9, '0001111': 5, '0010000': 121, '0010001': 29, '0010010': 7, '0010011': 14, '0010100': 15, '0010101': 2, '0010110': 4, '0010111': 3, '0011000': 60, '0011001': 11, '0011010': 8, '0011011': 4, '0011100': 6, '0011101': 3, '0011110': 1, '0011111': 2, '0100000': 51, '0100001': 10, '0100010': 5, '0100011': 9, '0100100': 4, '0100101': 1, '0100110': 4, '0101000': 38, '0101001': 11, '0101010': 5, '0101011': 4, '0101100': 4, '0101101': 2, '0101110': 1, '0110000': 14, '0110001': 1, '0110011': 3, '0110101': 2, '0111000': 11, '0111001': 5, '0111110': 1, '1000000': 67, '1000001': 8, '1000010': 3, '1000011': 9, '1000100': 12, '1000101': 1, '1000110': 1, '1000111': 2, '1001000': 40, '1001001': 5, '1001010': 4, '1001100': 2, '1001101': 4, '1010000': 12, '1010001': 3, '1010010': 10, '1010011': 3, '1010100': 2, '1010101': 1, '1010111': 1, '1011000': 12, '1011001': 1, '1011010': 1, '1011011': 3, '1011100': 2, '1011111': 1, '1100000': 8, '1101000': 5, '1101100': 1, '1101110': 1, '1110000': 6, '1110001': 2, '1110010': 2, '1111001': 4, '1111010': 2, '1111100': 1}, {'0000000': 186, '0000001': 140, '0000010': 59, '0000011': 68, '0000100': 33, '0000101': 16, '0000110': 21, '0000111': 38, '0001000': 91, '0001001': 78, '0001010': 23, '0001011': 40, '0001100': 24, '0001101': 11, '0001110': 18, '0001111': 17, '0010000': 36, '0010001': 26, '0010010': 7, '0010011': 12, '0010100': 3, '0010101': 5, '0010110': 2, '0010111': 6, '0011000': 16, '0011001': 9, '0011010': 5, '0011011': 10, '0011100': 9, '0011101': 2, '0011110': 4, '0011111': 1, '0100000': 79, '0100001': 43, '0100010': 13, '0100011': 28, '0100100': 19, '0100101': 5, '0100110': 5, '0100111': 13, '0101000': 34, '0101001': 22, '0101010': 10, '0101011': 16, '0101100': 8, '0101101': 8, '0101110': 3, '0101111': 12, '0110000': 15, '0110001': 11, '0110010': 4, '0110011': 3, '0110100': 4, '0110110': 1, '0110111': 1, '0111000': 13, '0111001': 5, '0111010': 4, '0111011': 6, '0111100': 1, '0111101': 4, '0111111': 3, '1000000': 92, '1000001': 49, '1000010': 20, '1000011': 25, '1000100': 13, '1000101': 6, '1000110': 16, '1000111': 12, '1001000': 51, '1001001': 26, '1001010': 8, '1001011': 14, '1001100': 10, '1001101': 8, '1001110': 4, '1001111': 4, '1010000': 13, '1010001': 8, '1010010': 1, '1010011': 4, '1010100': 3, '1010101': 2, '1010110': 4, '1010111': 4, '1011000': 7, '1011001': 3, '1011010': 2, '1011011': 6, '1011100': 3, '1011101': 1, '1011110': 1, '1011111': 1, '1100000': 31, '1100001': 17, '1100010': 8, '1100011': 9, '1100100': 2, '1100101': 4, '1100110': 3, '1100111': 4, '1101000': 19, '1101001': 6, '1101010': 6, '1101011': 7, '1101100': 9, '1101101': 2, '1101110': 3, '1101111': 4, '1110000': 8, '1110001': 2, '1110010': 1, '1110011': 3, '1110111': 2, '1111000': 5, '1111001': 2, '1111011': 4, '1111101': 3, '1111110': 3, '1111111': 3}]\n",
      "\tScore: 0.8423168460201064\n",
      "vqe_7qubits2layers_lagos, status: Done, Done\n",
      "vqe_7qubits2layers_aspen9, status: Done, Done\n",
      "vqe_7qubits2layers_ionq, status: Done, Done\n",
      "vqe_4qubits1layers_casablanca, status: Done, Done\n",
      "vqe_4qubits1layers_guadalupe, status: Done, Done\n",
      "vqe_4qubits1layers_montreal, status: Done, Done\n"
     ]
    },
    {
     "name": "stderr",
     "output_type": "stream",
     "text": [
      "/Users/teague/opt/miniconda3/envs/superEnv/lib/python3.8/site-packages/urllib3/connectionpool.py:1013: InsecureRequestWarning: Unverified HTTPS request is being made to host '127.0.0.1'. Adding certificate verification is strongly advised. See: https://urllib3.readthedocs.io/en/1.26.x/advanced-usage.html#ssl-warnings\n",
      "  warnings.warn(\n",
      "/Users/teague/opt/miniconda3/envs/superEnv/lib/python3.8/site-packages/urllib3/connectionpool.py:1013: InsecureRequestWarning: Unverified HTTPS request is being made to host '127.0.0.1'. Adding certificate verification is strongly advised. See: https://urllib3.readthedocs.io/en/1.26.x/advanced-usage.html#ssl-warnings\n",
      "  warnings.warn(\n"
     ]
    },
    {
     "name": "stdout",
     "output_type": "stream",
     "text": [
      "vqe_4qubits1layers_toronto, status: Done, Done\n",
      "\tCounts: [{'0000': 1372, '0001': 106, '0010': 104, '0011': 25, '0100': 153, '0101': 12, '0110': 42, '0111': 8, '1000': 98, '1001': 3, '1010': 2, '1011': 4, '1100': 67, '1101': 1, '1110': 3}, {'0000': 584, '0001': 280, '0010': 169, '0011': 86, '0100': 154, '0101': 79, '0110': 76, '0111': 41, '1000': 176, '1001': 99, '1010': 53, '1011': 34, '1100': 72, '1101': 38, '1110': 35, '1111': 24}]\n",
      "\tScore: 0.9434189494460304\n",
      "vqe_4qubits1layers_lagos, status: Done, Done\n",
      "vqe_4qubits1layers_santiago, status: Done, Done\n",
      "vqe_4qubits1layers_aspen9, status: Done, Done\n",
      "vqe_4qubits1layers_ionq, status: Done, Done\n",
      "vqe_4qubits2layers_casablanca, status: Done, Done\n",
      "vqe_4qubits2layers_guadalupe, status: Done, Done\n",
      "vqe_4qubits2layers_montreal, status: Done, Done\n"
     ]
    },
    {
     "name": "stderr",
     "output_type": "stream",
     "text": [
      "/Users/teague/opt/miniconda3/envs/superEnv/lib/python3.8/site-packages/urllib3/connectionpool.py:1013: InsecureRequestWarning: Unverified HTTPS request is being made to host '127.0.0.1'. Adding certificate verification is strongly advised. See: https://urllib3.readthedocs.io/en/1.26.x/advanced-usage.html#ssl-warnings\n",
      "  warnings.warn(\n",
      "/Users/teague/opt/miniconda3/envs/superEnv/lib/python3.8/site-packages/urllib3/connectionpool.py:1013: InsecureRequestWarning: Unverified HTTPS request is being made to host '127.0.0.1'. Adding certificate verification is strongly advised. See: https://urllib3.readthedocs.io/en/1.26.x/advanced-usage.html#ssl-warnings\n",
      "  warnings.warn(\n"
     ]
    },
    {
     "name": "stdout",
     "output_type": "stream",
     "text": [
      "vqe_4qubits2layers_toronto, status: Done, Done\n",
      "\tCounts: [{'0000': 1131, '0001': 126, '0010': 392, '0011': 46, '0100': 76, '0101': 18, '0110': 31, '0111': 14, '1000': 70, '1001': 19, '1010': 37, '1011': 11, '1100': 11, '1101': 10, '1110': 2, '1111': 6}, {'0000': 417, '0001': 116, '0010': 200, '0011': 102, '0100': 134, '0101': 57, '0110': 80, '0111': 70, '1000': 264, '1001': 66, '1010': 178, '1011': 76, '1100': 77, '1101': 48, '1110': 56, '1111': 59}]\n",
      "\tScore: 0.8329942797097137\n",
      "vqe_4qubits2layers_lagos, status: Done, Done\n",
      "vqe_4qubits2layers_santiago, status: Done, Done\n",
      "vqe_4qubits2layers_aspen9, status: Done, Done\n",
      "vqe_4qubits2layers_ionq, status: Done, Done\n",
      "vqe_7qubits1layers_casablanca, status: Done, Done\n",
      "vqe_7qubits1layers_guadalupe, status: Done, Done\n",
      "vqe_7qubits1layers_montreal, status: Done, Done\n"
     ]
    },
    {
     "name": "stderr",
     "output_type": "stream",
     "text": [
      "/Users/teague/opt/miniconda3/envs/superEnv/lib/python3.8/site-packages/urllib3/connectionpool.py:1013: InsecureRequestWarning: Unverified HTTPS request is being made to host '127.0.0.1'. Adding certificate verification is strongly advised. See: https://urllib3.readthedocs.io/en/1.26.x/advanced-usage.html#ssl-warnings\n",
      "  warnings.warn(\n",
      "/Users/teague/opt/miniconda3/envs/superEnv/lib/python3.8/site-packages/urllib3/connectionpool.py:1013: InsecureRequestWarning: Unverified HTTPS request is being made to host '127.0.0.1'. Adding certificate verification is strongly advised. See: https://urllib3.readthedocs.io/en/1.26.x/advanced-usage.html#ssl-warnings\n",
      "  warnings.warn(\n"
     ]
    },
    {
     "name": "stdout",
     "output_type": "stream",
     "text": [
      "vqe_7qubits1layers_toronto, status: Done, Done\n",
      "\tCounts: [{'0000011': 2, '0000101': 4, '0000110': 1, '0000111': 10, '0001010': 2, '0001011': 5, '0001100': 1, '0001101': 4, '0001110': 2, '0001111': 28, '0010010': 1, '0010011': 1, '0010100': 1, '0010101': 2, '0010110': 2, '0010111': 11, '0011001': 2, '0011010': 2, '0011011': 5, '0011100': 1, '0011101': 9, '0011110': 5, '0011111': 41, '0100011': 2, '0100101': 2, '0100110': 2, '0100111': 17, '0101001': 2, '0101010': 2, '0101011': 1, '0101101': 4, '0101110': 1, '0101111': 20, '0110001': 3, '0110010': 1, '0110011': 5, '0110101': 2, '0110110': 2, '0110111': 13, '0111001': 3, '0111010': 1, '0111011': 14, '0111100': 3, '0111101': 10, '0111110': 10, '0111111': 67, '1000011': 3, '1000100': 1, '1000101': 5, '1000110': 6, '1000111': 21, '1001001': 1, '1001011': 2, '1001100': 1, '1001101': 8, '1001110': 4, '1001111': 34, '1010000': 1, '1010011': 9, '1010100': 2, '1010101': 7, '1010110': 2, '1010111': 26, '1011000': 1, '1011001': 10, '1011010': 3, '1011011': 14, '1011100': 2, '1011101': 18, '1011110': 17, '1011111': 120, '1100000': 1, '1100001': 6, '1100010': 2, '1100011': 16, '1100100': 3, '1100101': 9, '1100110': 9, '1100111': 65, '1101000': 1, '1101001': 4, '1101010': 2, '1101011': 17, '1101100': 6, '1101101': 11, '1101110': 14, '1101111': 80, '1110000': 5, '1110001': 6, '1110010': 4, '1110011': 27, '1110100': 8, '1110101': 25, '1110110': 19, '1110111': 147, '1111000': 8, '1111001': 17, '1111010': 18, '1111011': 96, '1111100': 20, '1111101': 67, '1111110': 78, '1111111': 562}, {'0000000': 212, '0000001': 82, '0000010': 51, '0000011': 25, '0000100': 39, '0000101': 11, '0000110': 17, '0000111': 10, '0001000': 91, '0001001': 33, '0001010': 21, '0001011': 8, '0001100': 19, '0001101': 7, '0001110': 5, '0001111': 4, '0010000': 174, '0010001': 43, '0010010': 33, '0010011': 9, '0010100': 21, '0010101': 6, '0010110': 14, '0010111': 5, '0011000': 102, '0011001': 22, '0011010': 18, '0011011': 8, '0011100': 24, '0011101': 3, '0011110': 6, '0011111': 2, '0100000': 92, '0100001': 33, '0100010': 21, '0100011': 8, '0100100': 8, '0100101': 3, '0100110': 7, '0100111': 3, '0101000': 36, '0101001': 8, '0101010': 8, '0101011': 3, '0101100': 10, '0101101': 4, '0101110': 5, '0101111': 4, '0110000': 37, '0110001': 10, '0110010': 16, '0110011': 6, '0110100': 11, '0110110': 4, '0111000': 28, '0111001': 7, '0111010': 5, '0111011': 4, '0111100': 8, '0111101': 1, '0111110': 3, '1000000': 72, '1000001': 19, '1000010': 18, '1000011': 7, '1000100': 11, '1000101': 4, '1000110': 7, '1000111': 2, '1001000': 27, '1001001': 12, '1001010': 5, '1001011': 2, '1001100': 4, '1001101': 2, '1001110': 3, '1001111': 1, '1010000': 49, '1010001': 10, '1010010': 10, '1010011': 5, '1010100': 4, '1010101': 1, '1010110': 5, '1011000': 19, '1011001': 9, '1011010': 9, '1011011': 3, '1011100': 6, '1011101': 2, '1011110': 3, '1011111': 1, '1100000': 28, '1100001': 6, '1100010': 3, '1100011': 2, '1100100': 3, '1100101': 2, '1100110': 5, '1100111': 3, '1101000': 13, '1101001': 2, '1101010': 3, '1101011': 1, '1101100': 2, '1101101': 4, '1101110': 2, '1101111': 1, '1110000': 18, '1110001': 5, '1110010': 5, '1110100': 4, '1110110': 2, '1111000': 18, '1111001': 3, '1111010': 3, '1111011': 5, '1111100': 4, '1111110': 2, '1111111': 1}]\n",
      "\tScore: 0.8591823153809384\n",
      "vqe_7qubits1layers_lagos, status: Done, Done\n",
      "vqe_7qubits1layers_aspen9, status: Done, Done\n",
      "vqe_7qubits1layers_ionq, status: Done, Done\n",
      "vqe_7qubits2layers_casablanca, status: Done, Done\n",
      "vqe_7qubits2layers_guadalupe, status: Done, Done\n",
      "vqe_7qubits2layers_montreal, status: Done, Done\n"
     ]
    },
    {
     "name": "stderr",
     "output_type": "stream",
     "text": [
      "/Users/teague/opt/miniconda3/envs/superEnv/lib/python3.8/site-packages/urllib3/connectionpool.py:1013: InsecureRequestWarning: Unverified HTTPS request is being made to host '127.0.0.1'. Adding certificate verification is strongly advised. See: https://urllib3.readthedocs.io/en/1.26.x/advanced-usage.html#ssl-warnings\n",
      "  warnings.warn(\n",
      "/Users/teague/opt/miniconda3/envs/superEnv/lib/python3.8/site-packages/urllib3/connectionpool.py:1013: InsecureRequestWarning: Unverified HTTPS request is being made to host '127.0.0.1'. Adding certificate verification is strongly advised. See: https://urllib3.readthedocs.io/en/1.26.x/advanced-usage.html#ssl-warnings\n",
      "  warnings.warn(\n"
     ]
    },
    {
     "name": "stdout",
     "output_type": "stream",
     "text": [
      "vqe_7qubits2layers_toronto, status: Done, Done\n",
      "\tCounts: [{'0000000': 4, '0000100': 1, '0000101': 1, '0001000': 3, '0001001': 2, '0001011': 1, '0001100': 3, '0001101': 2, '0001110': 2, '0001111': 4, '0010000': 2, '0010001': 1, '0010010': 1, '0010100': 1, '0010101': 1, '0011000': 3, '0011001': 1, '0011010': 1, '0011011': 1, '0011100': 2, '0011110': 1, '0011111': 9, '0100000': 1, '0100011': 3, '0100101': 2, '0100111': 5, '0101000': 2, '0101001': 1, '0101010': 1, '0101100': 1, '0101101': 2, '0101110': 2, '0101111': 11, '0110000': 3, '0110011': 1, '0110100': 3, '0110101': 1, '0110111': 13, '0111000': 3, '0111001': 5, '0111010': 1, '0111011': 3, '0111100': 8, '0111101': 6, '0111110': 6, '0111111': 53, '1000000': 8, '1000010': 2, '1000011': 1, '1000100': 3, '1000101': 3, '1000110': 3, '1000111': 12, '1001000': 12, '1001001': 1, '1001010': 2, '1001011': 7, '1001100': 9, '1001101': 15, '1001110': 9, '1001111': 66, '1010000': 8, '1010001': 2, '1010010': 4, '1010011': 3, '1010100': 7, '1010101': 3, '1010110': 2, '1010111': 12, '1011000': 13, '1011001': 3, '1011010': 3, '1011011': 10, '1011100': 13, '1011101': 10, '1011110': 12, '1011111': 100, '1100000': 5, '1100001': 3, '1100010': 2, '1100011': 5, '1100100': 6, '1100101': 8, '1100110': 7, '1100111': 35, '1101000': 18, '1101001': 8, '1101010': 5, '1101011': 19, '1101100': 18, '1101101': 15, '1101110': 21, '1101111': 206, '1110000': 14, '1110001': 3, '1110010': 3, '1110011': 14, '1110100': 6, '1110101': 11, '1110110': 5, '1110111': 64, '1111000': 19, '1111001': 12, '1111010': 3, '1111011': 64, '1111100': 25, '1111101': 79, '1111110': 56, '1111111': 699}, {'0000000': 231, '0000001': 78, '0000010': 69, '0000011': 32, '0000100': 63, '0000101': 34, '0000110': 37, '0000111': 22, '0001000': 71, '0001001': 16, '0001010': 24, '0001011': 18, '0001100': 23, '0001101': 7, '0001110': 13, '0001111': 26, '0010000': 42, '0010001': 14, '0010010': 18, '0010011': 4, '0010100': 14, '0010101': 6, '0010110': 2, '0010111': 11, '0011000': 25, '0011001': 8, '0011010': 6, '0011011': 2, '0011100': 13, '0011101': 4, '0011110': 6, '0011111': 18, '0100000': 121, '0100001': 35, '0100010': 29, '0100011': 20, '0100100': 45, '0100101': 7, '0100110': 14, '0100111': 9, '0101000': 32, '0101001': 8, '0101010': 13, '0101011': 4, '0101100': 13, '0101101': 5, '0101110': 5, '0101111': 14, '0110000': 35, '0110001': 8, '0110010': 5, '0110011': 2, '0110100': 13, '0110101': 2, '0110110': 3, '0110111': 5, '0111000': 8, '0111001': 2, '0111010': 6, '0111011': 1, '0111100': 7, '0111101': 2, '0111110': 4, '0111111': 18, '1000000': 108, '1000001': 28, '1000010': 30, '1000011': 12, '1000100': 40, '1000101': 14, '1000110': 12, '1000111': 8, '1001000': 21, '1001001': 11, '1001010': 5, '1001011': 1, '1001100': 17, '1001101': 5, '1001110': 5, '1001111': 19, '1010000': 25, '1010001': 4, '1010010': 6, '1010011': 1, '1010100': 6, '1010101': 5, '1010110': 4, '1010111': 1, '1011000': 8, '1011001': 4, '1011010': 2, '1011100': 1, '1011101': 3, '1011110': 2, '1011111': 6, '1100000': 27, '1100001': 10, '1100010': 8, '1100011': 1, '1100100': 3, '1100101': 2, '1100110': 4, '1100111': 5, '1101000': 1, '1101001': 2, '1101010': 2, '1101100': 8, '1101101': 1, '1101110': 1, '1101111': 8, '1110000': 5, '1110001': 2, '1110010': 3, '1110011': 1, '1110100': 5, '1110101': 1, '1110110': 2, '1111000': 2, '1111010': 2, '1111100': 3, '1111101': 6, '1111110': 4, '1111111': 15}]\n",
      "\tScore: 0.8660979897641912\n",
      "vqe_7qubits2layers_lagos, status: Done, Done\n",
      "vqe_7qubits2layers_aspen9, status: Done, Done\n",
      "vqe_7qubits2layers_ionq, status: Done, Done\n",
      "vqe_4qubits1layers_casablanca, status: Done, Done\n",
      "vqe_4qubits1layers_guadalupe, status: Done, Done\n",
      "vqe_4qubits1layers_montreal, status: Done, Done\n"
     ]
    },
    {
     "name": "stderr",
     "output_type": "stream",
     "text": [
      "/Users/teague/opt/miniconda3/envs/superEnv/lib/python3.8/site-packages/urllib3/connectionpool.py:1013: InsecureRequestWarning: Unverified HTTPS request is being made to host '127.0.0.1'. Adding certificate verification is strongly advised. See: https://urllib3.readthedocs.io/en/1.26.x/advanced-usage.html#ssl-warnings\n",
      "  warnings.warn(\n",
      "/Users/teague/opt/miniconda3/envs/superEnv/lib/python3.8/site-packages/urllib3/connectionpool.py:1013: InsecureRequestWarning: Unverified HTTPS request is being made to host '127.0.0.1'. Adding certificate verification is strongly advised. See: https://urllib3.readthedocs.io/en/1.26.x/advanced-usage.html#ssl-warnings\n",
      "  warnings.warn(\n"
     ]
    },
    {
     "name": "stdout",
     "output_type": "stream",
     "text": [
      "vqe_4qubits1layers_toronto, status: Done, Done\n",
      "\tCounts: [{'0000': 1496, '0001': 75, '0010': 100, '0011': 16, '0100': 130, '0101': 2, '0110': 11, '0111': 3, '1000': 123, '1001': 5, '1010': 11, '1011': 1, '1100': 12, '1101': 1, '1110': 14}, {'0000': 512, '0001': 318, '0010': 138, '0011': 114, '0100': 165, '0101': 89, '0110': 53, '0111': 38, '1000': 195, '1001': 133, '1010': 62, '1011': 54, '1100': 54, '1101': 32, '1110': 24, '1111': 19}]\n",
      "\tScore: 0.9601656667088571\n",
      "vqe_4qubits1layers_lagos, status: Done, Done\n",
      "vqe_4qubits1layers_santiago, status: Done, Done\n",
      "vqe_4qubits1layers_aspen9, status: Done, Done\n",
      "vqe_4qubits1layers_ionq, status: Done, Done\n",
      "vqe_4qubits2layers_casablanca, status: Done, Done\n",
      "vqe_4qubits2layers_guadalupe, status: Done, Done\n",
      "vqe_4qubits2layers_montreal, status: Done, Done\n"
     ]
    },
    {
     "name": "stderr",
     "output_type": "stream",
     "text": [
      "/Users/teague/opt/miniconda3/envs/superEnv/lib/python3.8/site-packages/urllib3/connectionpool.py:1013: InsecureRequestWarning: Unverified HTTPS request is being made to host '127.0.0.1'. Adding certificate verification is strongly advised. See: https://urllib3.readthedocs.io/en/1.26.x/advanced-usage.html#ssl-warnings\n",
      "  warnings.warn(\n",
      "/Users/teague/opt/miniconda3/envs/superEnv/lib/python3.8/site-packages/urllib3/connectionpool.py:1013: InsecureRequestWarning: Unverified HTTPS request is being made to host '127.0.0.1'. Adding certificate verification is strongly advised. See: https://urllib3.readthedocs.io/en/1.26.x/advanced-usage.html#ssl-warnings\n",
      "  warnings.warn(\n"
     ]
    },
    {
     "name": "stdout",
     "output_type": "stream",
     "text": [
      "vqe_4qubits2layers_toronto, status: Done, Done\n",
      "\tCounts: [{'0000': 2, '0001': 55, '0010': 4, '0011': 46, '0101': 33, '0110': 13, '0111': 124, '1000': 7, '1001': 62, '1010': 11, '1011': 123, '1100': 28, '1101': 260, '1110': 94, '1111': 1138}, {'0000': 639, '0001': 194, '0010': 200, '0011': 133, '0100': 193, '0101': 51, '0110': 77, '0111': 67, '1000': 171, '1001': 50, '1010': 48, '1011': 42, '1100': 69, '1101': 25, '1110': 24, '1111': 17}]\n",
      "\tScore: 0.9017662369071879\n",
      "vqe_4qubits2layers_lagos, status: Done, Done\n",
      "vqe_4qubits2layers_santiago, status: Done, Done\n",
      "vqe_4qubits2layers_aspen9, status: Done, Done\n",
      "vqe_4qubits2layers_ionq, status: Done, Done\n",
      "vqe_7qubits1layers_casablanca, status: Done, Done\n",
      "vqe_7qubits1layers_guadalupe, status: Done, Done\n",
      "vqe_7qubits1layers_montreal, status: Done, Done\n"
     ]
    },
    {
     "name": "stderr",
     "output_type": "stream",
     "text": [
      "/Users/teague/opt/miniconda3/envs/superEnv/lib/python3.8/site-packages/urllib3/connectionpool.py:1013: InsecureRequestWarning: Unverified HTTPS request is being made to host '127.0.0.1'. Adding certificate verification is strongly advised. See: https://urllib3.readthedocs.io/en/1.26.x/advanced-usage.html#ssl-warnings\n",
      "  warnings.warn(\n",
      "/Users/teague/opt/miniconda3/envs/superEnv/lib/python3.8/site-packages/urllib3/connectionpool.py:1013: InsecureRequestWarning: Unverified HTTPS request is being made to host '127.0.0.1'. Adding certificate verification is strongly advised. See: https://urllib3.readthedocs.io/en/1.26.x/advanced-usage.html#ssl-warnings\n",
      "  warnings.warn(\n"
     ]
    },
    {
     "name": "stdout",
     "output_type": "stream",
     "text": [
      "vqe_7qubits1layers_toronto, status: Done, Done\n",
      "\tCounts: [{'0000000': 877, '0000001': 107, '0000010': 85, '0000011': 37, '0000100': 78, '0000101': 14, '0000110': 54, '0000111': 30, '0001000': 65, '0001001': 7, '0001010': 9, '0001011': 3, '0001100': 4, '0001101': 3, '0001110': 24, '0001111': 16, '0010000': 99, '0010001': 16, '0010010': 16, '0010011': 2, '0010100': 8, '0010101': 2, '0010110': 3, '0010111': 4, '0011000': 8, '0011001': 1, '0011010': 5, '0011110': 36, '0011111': 29, '0100000': 92, '0100001': 16, '0100010': 11, '0100011': 5, '0100100': 10, '0100110': 5, '0100111': 2, '0101000': 5, '0101010': 1, '0101100': 1, '0101110': 4, '0101111': 6, '0110000': 12, '0110001': 3, '0110010': 1, '0110011': 1, '0110100': 1, '0110111': 1, '0111000': 2, '0111100': 1, '0111110': 7, '0111111': 10, '1000000': 67, '1000001': 13, '1000010': 8, '1000011': 3, '1000100': 6, '1000101': 1, '1000110': 6, '1000111': 2, '1001000': 6, '1001011': 2, '1001110': 3, '1010000': 4, '1010001': 1, '1010010': 1, '1010011': 2, '1010100': 1, '1011000': 1, '1011001': 1, '1011100': 1, '1011110': 5, '1011111': 2, '1100000': 10, '1100001': 1, '1100010': 1, '1100011': 1, '1100100': 1, '1101011': 1, '1111010': 1, '1111011': 1, '1111110': 4, '1111111': 4}, {'0000000': 139, '0000001': 30, '0000010': 27, '0000011': 22, '0000100': 22, '0000101': 5, '0000110': 19, '0000111': 5, '0001000': 40, '0001001': 11, '0001010': 18, '0001011': 8, '0001100': 21, '0001101': 2, '0001110': 6, '0001111': 1, '0010000': 20, '0010001': 3, '0010010': 12, '0010011': 8, '0010100': 8, '0010101': 3, '0010110': 5, '0010111': 1, '0011000': 20, '0011001': 2, '0011010': 3, '0011011': 2, '0011100': 5, '0011110': 2, '0100000': 203, '0100001': 42, '0100010': 54, '0100011': 29, '0100100': 42, '0100101': 18, '0100110': 19, '0100111': 6, '0101000': 63, '0101001': 18, '0101010': 16, '0101011': 8, '0101100': 9, '0101101': 2, '0101110': 10, '0101111': 2, '0110000': 56, '0110001': 15, '0110010': 16, '0110011': 11, '0110100': 16, '0110101': 5, '0110110': 12, '0111000': 20, '0111001': 6, '0111010': 7, '0111011': 6, '0111100': 9, '0111110': 2, '0111111': 1, '1000000': 107, '1000001': 41, '1000010': 20, '1000011': 12, '1000100': 28, '1000101': 8, '1000110': 27, '1000111': 8, '1001000': 29, '1001001': 8, '1001010': 13, '1001011': 2, '1001100': 16, '1001101': 4, '1001110': 6, '1001111': 2, '1010000': 30, '1010001': 5, '1010010': 11, '1010011': 5, '1010100': 8, '1010101': 2, '1010110': 6, '1010111': 1, '1011000': 20, '1011010': 4, '1011011': 2, '1011100': 3, '1011101': 1, '1011110': 14, '1011111': 2, '1100000': 95, '1100001': 26, '1100010': 25, '1100011': 9, '1100100': 20, '1100101': 4, '1100110': 9, '1100111': 2, '1101000': 40, '1101001': 9, '1101010': 10, '1101011': 6, '1101100': 9, '1101110': 2, '1101111': 2, '1110000': 34, '1110001': 6, '1110010': 9, '1110011': 3, '1110100': 7, '1110101': 1, '1110110': 5, '1110111': 1, '1111000': 9, '1111001': 2, '1111010': 3, '1111011': 1, '1111100': 5, '1111101': 2, '1111110': 6}]\n",
      "\tScore: 0.8929947005509107\n",
      "vqe_7qubits1layers_lagos, status: Done, Done\n",
      "vqe_7qubits1layers_aspen9, status: Done, Done\n",
      "vqe_7qubits1layers_ionq, status: Done, Done\n",
      "vqe_7qubits2layers_casablanca, status: Done, Done\n",
      "vqe_7qubits2layers_guadalupe, status: Done, Done\n",
      "vqe_7qubits2layers_montreal, status: Done, Done\n"
     ]
    },
    {
     "name": "stderr",
     "output_type": "stream",
     "text": [
      "/Users/teague/opt/miniconda3/envs/superEnv/lib/python3.8/site-packages/urllib3/connectionpool.py:1013: InsecureRequestWarning: Unverified HTTPS request is being made to host '127.0.0.1'. Adding certificate verification is strongly advised. See: https://urllib3.readthedocs.io/en/1.26.x/advanced-usage.html#ssl-warnings\n",
      "  warnings.warn(\n",
      "/Users/teague/opt/miniconda3/envs/superEnv/lib/python3.8/site-packages/urllib3/connectionpool.py:1013: InsecureRequestWarning: Unverified HTTPS request is being made to host '127.0.0.1'. Adding certificate verification is strongly advised. See: https://urllib3.readthedocs.io/en/1.26.x/advanced-usage.html#ssl-warnings\n",
      "  warnings.warn(\n"
     ]
    },
    {
     "name": "stdout",
     "output_type": "stream",
     "text": [
      "vqe_7qubits2layers_toronto, status: Done, Done\n",
      "\tCounts: [{'0000011': 1, '0000111': 5, '0001000': 1, '0001011': 1, '0001101': 1, '0001111': 2, '0010000': 1, '0010001': 3, '0010010': 2, '0010011': 4, '0010101': 1, '0010110': 6, '0010111': 14, '0011000': 1, '0011001': 2, '0011010': 4, '0011011': 10, '0011100': 5, '0011101': 5, '0011110': 21, '0011111': 21, '0100010': 2, '0100011': 1, '0100100': 2, '0100101': 2, '0100110': 2, '0100111': 11, '0101000': 1, '0101001': 2, '0101010': 2, '0101011': 10, '0101100': 3, '0101101': 1, '0101110': 7, '0101111': 16, '0110000': 1, '0110001': 1, '0110010': 2, '0110011': 6, '0110100': 5, '0110101': 5, '0110110': 10, '0110111': 27, '0111000': 4, '0111001': 4, '0111010': 9, '0111011': 18, '0111100': 4, '0111101': 19, '0111110': 24, '0111111': 67, '1000000': 1, '1000001': 2, '1000011': 1, '1000100': 1, '1000101': 2, '1000110': 3, '1000111': 4, '1001010': 1, '1001011': 6, '1001100': 3, '1001101': 4, '1001110': 10, '1001111': 25, '1010000': 1, '1010010': 4, '1010011': 9, '1010100': 2, '1010101': 4, '1010110': 10, '1010111': 31, '1011000': 1, '1011001': 2, '1011010': 6, '1011011': 14, '1011100': 4, '1011101': 8, '1011110': 34, '1011111': 59, '1100000': 2, '1100001': 3, '1100010': 3, '1100011': 16, '1100100': 2, '1100101': 5, '1100110': 29, '1100111': 42, '1101000': 3, '1101001': 5, '1101010': 13, '1101011': 20, '1101100': 7, '1101101': 18, '1101110': 42, '1101111': 103, '1110000': 4, '1110001': 6, '1110010': 16, '1110011': 21, '1110100': 14, '1110101': 28, '1110110': 57, '1110111': 122, '1111000': 16, '1111001': 29, '1111010': 41, '1111011': 114, '1111100': 40, '1111101': 71, '1111110': 130, '1111111': 347}, {'0000000': 240, '0000001': 120, '0000010': 71, '0000011': 47, '0000100': 54, '0000101': 36, '0000110': 16, '0000111': 13, '0001000': 79, '0001001': 29, '0001010': 17, '0001011': 19, '0001100': 37, '0001101': 19, '0001110': 5, '0001111': 7, '0010000': 47, '0010001': 25, '0010010': 15, '0010011': 9, '0010100': 8, '0010101': 4, '0010110': 3, '0010111': 5, '0011000': 21, '0011001': 5, '0011010': 11, '0011011': 3, '0011100': 8, '0011101': 2, '0011110': 1, '0011111': 1, '0100000': 85, '0100001': 49, '0100010': 16, '0100011': 12, '0100100': 14, '0100101': 8, '0100110': 3, '0100111': 8, '0101000': 37, '0101001': 18, '0101010': 11, '0101011': 10, '0101100': 8, '0101101': 9, '0101110': 2, '0101111': 6, '0110000': 37, '0110001': 21, '0110010': 15, '0110011': 12, '0110100': 10, '0110101': 12, '0110110': 4, '0110111': 2, '0111000': 11, '0111001': 21, '0111010': 5, '0111011': 5, '0111100': 11, '0111101': 2, '0111110': 3, '0111111': 3, '1000000': 63, '1000001': 46, '1000010': 18, '1000011': 9, '1000100': 11, '1000101': 11, '1000110': 3, '1000111': 5, '1001000': 23, '1001001': 9, '1001010': 5, '1001011': 4, '1001100': 10, '1001101': 4, '1001110': 1, '1010000': 15, '1010001': 12, '1010010': 2, '1010011': 3, '1010100': 7, '1010101': 4, '1010110': 1, '1010111': 1, '1011000': 1, '1011001': 4, '1011010': 3, '1011011': 3, '1011100': 6, '1011101': 1, '1011110': 1, '1011111': 1, '1100000': 48, '1100001': 38, '1100010': 15, '1100011': 13, '1100100': 7, '1100101': 6, '1100110': 2, '1100111': 3, '1101000': 19, '1101001': 9, '1101010': 6, '1101011': 8, '1101100': 7, '1101101': 9, '1101110': 6, '1101111': 1, '1110000': 10, '1110001': 12, '1110010': 7, '1110011': 4, '1110100': 4, '1110101': 5, '1110110': 2, '1111000': 5, '1111001': 7, '1111010': 1, '1111011': 4, '1111100': 5, '1111101': 2, '1111110': 1}]\n",
      "\tScore: 0.7919891667799457\n",
      "vqe_7qubits2layers_lagos, status: Done, Done\n",
      "vqe_7qubits2layers_aspen9, status: Done, Done\n",
      "vqe_7qubits2layers_ionq, status: Done, Done\n",
      "vqe_4qubits1layers_casablanca, status: Done, Done\n",
      "vqe_4qubits1layers_guadalupe, status: Done, Done\n",
      "vqe_4qubits1layers_montreal, status: Done, Done\n"
     ]
    },
    {
     "name": "stderr",
     "output_type": "stream",
     "text": [
      "/Users/teague/opt/miniconda3/envs/superEnv/lib/python3.8/site-packages/urllib3/connectionpool.py:1013: InsecureRequestWarning: Unverified HTTPS request is being made to host '127.0.0.1'. Adding certificate verification is strongly advised. See: https://urllib3.readthedocs.io/en/1.26.x/advanced-usage.html#ssl-warnings\n",
      "  warnings.warn(\n",
      "/Users/teague/opt/miniconda3/envs/superEnv/lib/python3.8/site-packages/urllib3/connectionpool.py:1013: InsecureRequestWarning: Unverified HTTPS request is being made to host '127.0.0.1'. Adding certificate verification is strongly advised. See: https://urllib3.readthedocs.io/en/1.26.x/advanced-usage.html#ssl-warnings\n",
      "  warnings.warn(\n"
     ]
    },
    {
     "name": "stdout",
     "output_type": "stream",
     "text": [
      "vqe_4qubits1layers_toronto, status: Queued, Queued\n",
      "vqe_4qubits1layers_lagos, status: Done, Done\n",
      "vqe_4qubits1layers_santiago, status: Done, Done\n",
      "vqe_4qubits1layers_aspen9, status: Done, Done\n",
      "vqe_4qubits1layers_ionq, status: Done, Done\n",
      "vqe_4qubits2layers_casablanca, status: Done, Done\n",
      "vqe_4qubits2layers_guadalupe, status: Done, Done\n",
      "vqe_4qubits2layers_montreal, status: Done, Done\n"
     ]
    },
    {
     "name": "stderr",
     "output_type": "stream",
     "text": [
      "/Users/teague/opt/miniconda3/envs/superEnv/lib/python3.8/site-packages/urllib3/connectionpool.py:1013: InsecureRequestWarning: Unverified HTTPS request is being made to host '127.0.0.1'. Adding certificate verification is strongly advised. See: https://urllib3.readthedocs.io/en/1.26.x/advanced-usage.html#ssl-warnings\n",
      "  warnings.warn(\n",
      "/Users/teague/opt/miniconda3/envs/superEnv/lib/python3.8/site-packages/urllib3/connectionpool.py:1013: InsecureRequestWarning: Unverified HTTPS request is being made to host '127.0.0.1'. Adding certificate verification is strongly advised. See: https://urllib3.readthedocs.io/en/1.26.x/advanced-usage.html#ssl-warnings\n",
      "  warnings.warn(\n"
     ]
    },
    {
     "name": "stdout",
     "output_type": "stream",
     "text": [
      "vqe_4qubits2layers_toronto, status: Queued, Queued\n",
      "vqe_4qubits2layers_lagos, status: Done, Done\n",
      "vqe_4qubits2layers_santiago, status: Done, Done\n",
      "vqe_4qubits2layers_aspen9, status: Done, Done\n",
      "vqe_4qubits2layers_ionq, status: Done, Done\n",
      "vqe_7qubits1layers_casablanca, status: Done, Done\n",
      "vqe_7qubits1layers_guadalupe, status: Done, Done\n",
      "vqe_7qubits1layers_montreal, status: Done, Done\n"
     ]
    },
    {
     "name": "stderr",
     "output_type": "stream",
     "text": [
      "/Users/teague/opt/miniconda3/envs/superEnv/lib/python3.8/site-packages/urllib3/connectionpool.py:1013: InsecureRequestWarning: Unverified HTTPS request is being made to host '127.0.0.1'. Adding certificate verification is strongly advised. See: https://urllib3.readthedocs.io/en/1.26.x/advanced-usage.html#ssl-warnings\n",
      "  warnings.warn(\n",
      "/Users/teague/opt/miniconda3/envs/superEnv/lib/python3.8/site-packages/urllib3/connectionpool.py:1013: InsecureRequestWarning: Unverified HTTPS request is being made to host '127.0.0.1'. Adding certificate verification is strongly advised. See: https://urllib3.readthedocs.io/en/1.26.x/advanced-usage.html#ssl-warnings\n",
      "  warnings.warn(\n"
     ]
    },
    {
     "name": "stdout",
     "output_type": "stream",
     "text": [
      "vqe_7qubits1layers_toronto, status: Queued, Queued\n",
      "vqe_7qubits1layers_lagos, status: Done, Done\n",
      "vqe_7qubits1layers_aspen9, status: Done, Done\n",
      "vqe_7qubits1layers_ionq, status: Done, Done\n",
      "vqe_7qubits2layers_casablanca, status: Done, Done\n",
      "vqe_7qubits2layers_guadalupe, status: Done, Done\n",
      "vqe_7qubits2layers_montreal, status: Done, Done\n"
     ]
    },
    {
     "name": "stderr",
     "output_type": "stream",
     "text": [
      "/Users/teague/opt/miniconda3/envs/superEnv/lib/python3.8/site-packages/urllib3/connectionpool.py:1013: InsecureRequestWarning: Unverified HTTPS request is being made to host '127.0.0.1'. Adding certificate verification is strongly advised. See: https://urllib3.readthedocs.io/en/1.26.x/advanced-usage.html#ssl-warnings\n",
      "  warnings.warn(\n",
      "/Users/teague/opt/miniconda3/envs/superEnv/lib/python3.8/site-packages/urllib3/connectionpool.py:1013: InsecureRequestWarning: Unverified HTTPS request is being made to host '127.0.0.1'. Adding certificate verification is strongly advised. See: https://urllib3.readthedocs.io/en/1.26.x/advanced-usage.html#ssl-warnings\n",
      "  warnings.warn(\n"
     ]
    },
    {
     "name": "stdout",
     "output_type": "stream",
     "text": [
      "vqe_7qubits2layers_toronto, status: Queued, Queued\n",
      "vqe_7qubits2layers_lagos, status: Done, Done\n",
      "vqe_7qubits2layers_aspen9, status: Done, Done\n",
      "vqe_7qubits2layers_ionq, status: Done, Done\n",
      "vqe_4qubits1layers_casablanca, status: Done, Done\n",
      "vqe_4qubits1layers_guadalupe, status: Done, Done\n",
      "vqe_4qubits1layers_montreal, status: Done, Done\n"
     ]
    },
    {
     "name": "stderr",
     "output_type": "stream",
     "text": [
      "/Users/teague/opt/miniconda3/envs/superEnv/lib/python3.8/site-packages/urllib3/connectionpool.py:1013: InsecureRequestWarning: Unverified HTTPS request is being made to host '127.0.0.1'. Adding certificate verification is strongly advised. See: https://urllib3.readthedocs.io/en/1.26.x/advanced-usage.html#ssl-warnings\n",
      "  warnings.warn(\n",
      "/Users/teague/opt/miniconda3/envs/superEnv/lib/python3.8/site-packages/urllib3/connectionpool.py:1013: InsecureRequestWarning: Unverified HTTPS request is being made to host '127.0.0.1'. Adding certificate verification is strongly advised. See: https://urllib3.readthedocs.io/en/1.26.x/advanced-usage.html#ssl-warnings\n",
      "  warnings.warn(\n"
     ]
    },
    {
     "name": "stdout",
     "output_type": "stream",
     "text": [
      "vqe_4qubits1layers_toronto, status: Queued, Queued\n",
      "vqe_4qubits1layers_lagos, status: Done, Done\n",
      "vqe_4qubits1layers_santiago, status: Done, Done\n",
      "vqe_4qubits1layers_aspen9, status: Done, Done\n",
      "vqe_4qubits1layers_ionq, status: Done, Done\n",
      "vqe_4qubits2layers_casablanca, status: Done, Done\n",
      "vqe_4qubits2layers_guadalupe, status: Done, Done\n",
      "vqe_4qubits2layers_montreal, status: Done, Done\n"
     ]
    },
    {
     "name": "stderr",
     "output_type": "stream",
     "text": [
      "/Users/teague/opt/miniconda3/envs/superEnv/lib/python3.8/site-packages/urllib3/connectionpool.py:1013: InsecureRequestWarning: Unverified HTTPS request is being made to host '127.0.0.1'. Adding certificate verification is strongly advised. See: https://urllib3.readthedocs.io/en/1.26.x/advanced-usage.html#ssl-warnings\n",
      "  warnings.warn(\n",
      "/Users/teague/opt/miniconda3/envs/superEnv/lib/python3.8/site-packages/urllib3/connectionpool.py:1013: InsecureRequestWarning: Unverified HTTPS request is being made to host '127.0.0.1'. Adding certificate verification is strongly advised. See: https://urllib3.readthedocs.io/en/1.26.x/advanced-usage.html#ssl-warnings\n",
      "  warnings.warn(\n"
     ]
    },
    {
     "name": "stdout",
     "output_type": "stream",
     "text": [
      "vqe_4qubits2layers_toronto, status: Queued, Queued\n",
      "vqe_4qubits2layers_lagos, status: Done, Done\n",
      "vqe_4qubits2layers_santiago, status: Done, Done\n",
      "vqe_4qubits2layers_aspen9, status: Done, Done\n",
      "vqe_4qubits2layers_ionq, status: Done, Done\n",
      "vqe_7qubits1layers_casablanca, status: Done, Done\n",
      "vqe_7qubits1layers_guadalupe, status: Done, Done\n",
      "vqe_7qubits1layers_montreal, status: Done, Done\n"
     ]
    },
    {
     "name": "stderr",
     "output_type": "stream",
     "text": [
      "/Users/teague/opt/miniconda3/envs/superEnv/lib/python3.8/site-packages/urllib3/connectionpool.py:1013: InsecureRequestWarning: Unverified HTTPS request is being made to host '127.0.0.1'. Adding certificate verification is strongly advised. See: https://urllib3.readthedocs.io/en/1.26.x/advanced-usage.html#ssl-warnings\n",
      "  warnings.warn(\n",
      "/Users/teague/opt/miniconda3/envs/superEnv/lib/python3.8/site-packages/urllib3/connectionpool.py:1013: InsecureRequestWarning: Unverified HTTPS request is being made to host '127.0.0.1'. Adding certificate verification is strongly advised. See: https://urllib3.readthedocs.io/en/1.26.x/advanced-usage.html#ssl-warnings\n",
      "  warnings.warn(\n"
     ]
    },
    {
     "name": "stdout",
     "output_type": "stream",
     "text": [
      "vqe_7qubits1layers_toronto, status: Queued, Queued\n",
      "vqe_7qubits1layers_lagos, status: Done, Done\n",
      "vqe_7qubits1layers_aspen9, status: Done, Done\n",
      "vqe_7qubits1layers_ionq, status: Done, Done\n",
      "vqe_7qubits2layers_casablanca, status: Done, Done\n",
      "vqe_7qubits2layers_guadalupe, status: Done, Done\n",
      "vqe_7qubits2layers_montreal, status: Done, Done\n"
     ]
    },
    {
     "name": "stderr",
     "output_type": "stream",
     "text": [
      "/Users/teague/opt/miniconda3/envs/superEnv/lib/python3.8/site-packages/urllib3/connectionpool.py:1013: InsecureRequestWarning: Unverified HTTPS request is being made to host '127.0.0.1'. Adding certificate verification is strongly advised. See: https://urllib3.readthedocs.io/en/1.26.x/advanced-usage.html#ssl-warnings\n",
      "  warnings.warn(\n",
      "/Users/teague/opt/miniconda3/envs/superEnv/lib/python3.8/site-packages/urllib3/connectionpool.py:1013: InsecureRequestWarning: Unverified HTTPS request is being made to host '127.0.0.1'. Adding certificate verification is strongly advised. See: https://urllib3.readthedocs.io/en/1.26.x/advanced-usage.html#ssl-warnings\n",
      "  warnings.warn(\n"
     ]
    },
    {
     "name": "stdout",
     "output_type": "stream",
     "text": [
      "vqe_7qubits2layers_toronto, status: Queued, Queued\n",
      "vqe_7qubits2layers_lagos, status: Done, Done\n",
      "vqe_7qubits2layers_aspen9, status: Done, Done\n",
      "vqe_7qubits2layers_ionq, status: Done, Done\n",
      "vqe_4qubits1layers_casablanca, status: Done, Done\n",
      "vqe_4qubits1layers_guadalupe, status: Done, Done\n",
      "vqe_4qubits1layers_montreal, status: Done, Done\n",
      "vqe_4qubits1layers_lagos, status: Done, Done\n",
      "vqe_4qubits1layers_santiago, status: Done, Done\n",
      "vqe_4qubits1layers_aspen9, status: Done, Done\n",
      "vqe_4qubits1layers_ionq, status: Done, Done\n",
      "vqe_4qubits2layers_casablanca, status: Done, Done\n",
      "vqe_4qubits2layers_guadalupe, status: Done, Done\n",
      "vqe_4qubits2layers_montreal, status: Done, Done\n",
      "vqe_4qubits2layers_lagos, status: Done, Done\n",
      "vqe_4qubits2layers_santiago, status: Done, Done\n",
      "vqe_4qubits2layers_aspen9, status: Done, Done\n",
      "vqe_4qubits2layers_ionq, status: Done, Done\n",
      "vqe_7qubits1layers_casablanca, status: Done, Done\n",
      "vqe_7qubits1layers_guadalupe, status: Done, Done\n",
      "vqe_7qubits1layers_montreal, status: Done, Done\n",
      "vqe_7qubits1layers_lagos, status: Done, Done\n",
      "vqe_7qubits1layers_aspen9, status: Done, Done\n",
      "vqe_7qubits1layers_ionq, status: Done, Done\n",
      "vqe_7qubits2layers_casablanca, status: Done, Done\n",
      "vqe_7qubits2layers_guadalupe, status: Done, Done\n",
      "vqe_7qubits2layers_montreal, status: Done, Done\n",
      "vqe_7qubits2layers_lagos, status: Done, Done\n",
      "vqe_7qubits2layers_aspen9, status: Done, Done\n",
      "vqe_7qubits2layers_ionq, status: Done, Done\n"
     ]
    }
   ],
   "source": [
    "job_sum = sum([experiment[3] for experiment in vqe_jobs])\n",
    "if job_sum < len(vqe_jobs):\n",
    "    print(f'Completed {job_sum}/{len(vqe_jobs)} jobs')\n",
    "    for experiment in vqe_jobs:\n",
    "        name, benchmark, jobs, checked = experiment\n",
    "        status0 = jobs[0].status()\n",
    "        status1 = jobs[1].status()\n",
    "        print(f'{name}, status: {status0}, {status1}')\n",
    "        if status0 == 'Done' and status1 == 'Done' and checked == 0:\n",
    "            try:\n",
    "                counts = [job.counts() for job in jobs]\n",
    "            except:\n",
    "                continue\n",
    "            score = benchmark.score(counts)\n",
    "            print('\\tCounts:', counts)\n",
    "            print('\\tScore:', score)\n",
    "            date = time.ctime().replace(' ', '-').replace(':', '-')\n",
    "            with open(f'benchmark_results/{name}_{date}.pickle', 'wb') as pklfile:\n",
    "                pickle.dump(\n",
    "                        {'name':name,\n",
    "                         'benchmark':benchmark,\n",
    "                         'job':jobs,\n",
    "                         'counts':counts,\n",
    "                         'score':score},\n",
    "                        pklfile)\n",
    "            experiment[3] = 1\n",
    "        elif (status0 == 'Failed' or status1 == 'Failed') and checked == 0:\n",
    "            experiment[3] = 1\n",
    "else:\n",
    "    print('All jobs completed')"
   ]
  },
  {
   "cell_type": "markdown",
   "id": "84f522e3-d463-4862-8945-bee8e5c5f24a",
   "metadata": {},
   "source": [
    "# Bit code benchmark\n",
    "## Submit jobs"
   ]
  },
  {
   "cell_type": "code",
   "execution_count": 31,
   "id": "7d301076-7124-454d-a6bb-8c11ceb1df09",
   "metadata": {
    "tags": []
   },
   "outputs": [],
   "source": [
    "bitcode_jobs = []"
   ]
  },
  {
   "cell_type": "code",
   "execution_count": 107,
   "id": "850a5ddb-987e-422b-8203-d41f9f6c2519",
   "metadata": {
    "scrolled": true,
    "tags": []
   },
   "outputs": [
    {
     "name": "stdout",
     "output_type": "stream",
     "text": [
      "Created 3-qubit 2-round bit code benchmark\n",
      "0: ───X───@───────────@───────────────M───\n",
      "          │           │               │\n",
      "1: ───R───X───X───R───X───X───────────M───\n",
      "              │           │           │\n",
      "2: ───X───────@───@───────@───@───────M───\n",
      "                  │           │       │\n",
      "3: ───R───────────X───X───R───X───X───M───\n",
      "                      │           │   │\n",
      "4: ───X───────────────@───────────@───M───\n"
     ]
    },
    {
     "name": "stderr",
     "output_type": "stream",
     "text": [
      "/Users/teague/opt/miniconda3/envs/superEnv/lib/python3.8/site-packages/urllib3/connectionpool.py:1013: InsecureRequestWarning: Unverified HTTPS request is being made to host '127.0.0.1'. Adding certificate verification is strongly advised. See: https://urllib3.readthedocs.io/en/1.26.x/advanced-usage.html#ssl-warnings\n",
      "  warnings.warn(\n",
      "/Users/teague/opt/miniconda3/envs/superEnv/lib/python3.8/site-packages/urllib3/connectionpool.py:1013: InsecureRequestWarning: Unverified HTTPS request is being made to host '127.0.0.1'. Adding certificate verification is strongly advised. See: https://urllib3.readthedocs.io/en/1.26.x/advanced-usage.html#ssl-warnings\n",
      "  warnings.warn(\n"
     ]
    },
    {
     "name": "stdout",
     "output_type": "stream",
     "text": [
      "Created IBM job: ['bitcode_3qubits2rounds_casablanca', <supermarq.benchmarks.bit_code.BitCode object at 0x7f84f48ae670>, <cirq_superstaq.job.Job object at 0x7f84f5296f40>, 0]\n"
     ]
    },
    {
     "name": "stderr",
     "output_type": "stream",
     "text": [
      "/Users/teague/opt/miniconda3/envs/superEnv/lib/python3.8/site-packages/urllib3/connectionpool.py:1013: InsecureRequestWarning: Unverified HTTPS request is being made to host '127.0.0.1'. Adding certificate verification is strongly advised. See: https://urllib3.readthedocs.io/en/1.26.x/advanced-usage.html#ssl-warnings\n",
      "  warnings.warn(\n",
      "/Users/teague/opt/miniconda3/envs/superEnv/lib/python3.8/site-packages/urllib3/connectionpool.py:1013: InsecureRequestWarning: Unverified HTTPS request is being made to host '127.0.0.1'. Adding certificate verification is strongly advised. See: https://urllib3.readthedocs.io/en/1.26.x/advanced-usage.html#ssl-warnings\n",
      "  warnings.warn(\n"
     ]
    },
    {
     "name": "stdout",
     "output_type": "stream",
     "text": [
      "Created IBM job: ['bitcode_3qubits2rounds_guadalupe', <supermarq.benchmarks.bit_code.BitCode object at 0x7f84f48ae670>, <cirq_superstaq.job.Job object at 0x7f84f5877f40>, 0]\n"
     ]
    },
    {
     "name": "stderr",
     "output_type": "stream",
     "text": [
      "/Users/teague/opt/miniconda3/envs/superEnv/lib/python3.8/site-packages/urllib3/connectionpool.py:1013: InsecureRequestWarning: Unverified HTTPS request is being made to host '127.0.0.1'. Adding certificate verification is strongly advised. See: https://urllib3.readthedocs.io/en/1.26.x/advanced-usage.html#ssl-warnings\n",
      "  warnings.warn(\n",
      "/Users/teague/opt/miniconda3/envs/superEnv/lib/python3.8/site-packages/urllib3/connectionpool.py:1013: InsecureRequestWarning: Unverified HTTPS request is being made to host '127.0.0.1'. Adding certificate verification is strongly advised. See: https://urllib3.readthedocs.io/en/1.26.x/advanced-usage.html#ssl-warnings\n",
      "  warnings.warn(\n"
     ]
    },
    {
     "name": "stdout",
     "output_type": "stream",
     "text": [
      "Created IBM job: ['bitcode_3qubits2rounds_montreal', <supermarq.benchmarks.bit_code.BitCode object at 0x7f84f48ae670>, <cirq_superstaq.job.Job object at 0x7f84f4988370>, 0]\n"
     ]
    },
    {
     "name": "stderr",
     "output_type": "stream",
     "text": [
      "/Users/teague/opt/miniconda3/envs/superEnv/lib/python3.8/site-packages/urllib3/connectionpool.py:1013: InsecureRequestWarning: Unverified HTTPS request is being made to host '127.0.0.1'. Adding certificate verification is strongly advised. See: https://urllib3.readthedocs.io/en/1.26.x/advanced-usage.html#ssl-warnings\n",
      "  warnings.warn(\n",
      "/Users/teague/opt/miniconda3/envs/superEnv/lib/python3.8/site-packages/urllib3/connectionpool.py:1013: InsecureRequestWarning: Unverified HTTPS request is being made to host '127.0.0.1'. Adding certificate verification is strongly advised. See: https://urllib3.readthedocs.io/en/1.26.x/advanced-usage.html#ssl-warnings\n",
      "  warnings.warn(\n"
     ]
    },
    {
     "name": "stdout",
     "output_type": "stream",
     "text": [
      "Created IBM job: ['bitcode_3qubits2rounds_mumbai', <supermarq.benchmarks.bit_code.BitCode object at 0x7f84f48ae670>, <cirq_superstaq.job.Job object at 0x7f84f5c3abe0>, 0]\n"
     ]
    },
    {
     "name": "stderr",
     "output_type": "stream",
     "text": [
      "/Users/teague/opt/miniconda3/envs/superEnv/lib/python3.8/site-packages/urllib3/connectionpool.py:1013: InsecureRequestWarning: Unverified HTTPS request is being made to host '127.0.0.1'. Adding certificate verification is strongly advised. See: https://urllib3.readthedocs.io/en/1.26.x/advanced-usage.html#ssl-warnings\n",
      "  warnings.warn(\n",
      "/Users/teague/opt/miniconda3/envs/superEnv/lib/python3.8/site-packages/urllib3/connectionpool.py:1013: InsecureRequestWarning: Unverified HTTPS request is being made to host '127.0.0.1'. Adding certificate verification is strongly advised. See: https://urllib3.readthedocs.io/en/1.26.x/advanced-usage.html#ssl-warnings\n",
      "  warnings.warn(\n"
     ]
    },
    {
     "name": "stdout",
     "output_type": "stream",
     "text": [
      "Created IBM job: ['bitcode_3qubits2rounds_lagos', <supermarq.benchmarks.bit_code.BitCode object at 0x7f84f48ae670>, <cirq_superstaq.job.Job object at 0x7f84f5877c40>, 0]\n"
     ]
    },
    {
     "name": "stderr",
     "output_type": "stream",
     "text": [
      "/Users/teague/opt/miniconda3/envs/superEnv/lib/python3.8/site-packages/urllib3/connectionpool.py:1013: InsecureRequestWarning: Unverified HTTPS request is being made to host '127.0.0.1'. Adding certificate verification is strongly advised. See: https://urllib3.readthedocs.io/en/1.26.x/advanced-usage.html#ssl-warnings\n",
      "  warnings.warn(\n",
      "/Users/teague/opt/miniconda3/envs/superEnv/lib/python3.8/site-packages/urllib3/connectionpool.py:1013: InsecureRequestWarning: Unverified HTTPS request is being made to host '127.0.0.1'. Adding certificate verification is strongly advised. See: https://urllib3.readthedocs.io/en/1.26.x/advanced-usage.html#ssl-warnings\n",
      "  warnings.warn(\n"
     ]
    },
    {
     "name": "stdout",
     "output_type": "stream",
     "text": [
      "Created IBM job: ['bitcode_3qubits2rounds_santiago', <supermarq.benchmarks.bit_code.BitCode object at 0x7f84f48ae670>, <cirq_superstaq.job.Job object at 0x7f84f491e3a0>, 0]\n"
     ]
    },
    {
     "name": "stderr",
     "output_type": "stream",
     "text": [
      "/Users/teague/opt/miniconda3/envs/superEnv/lib/python3.8/site-packages/urllib3/connectionpool.py:1013: InsecureRequestWarning: Unverified HTTPS request is being made to host '127.0.0.1'. Adding certificate verification is strongly advised. See: https://urllib3.readthedocs.io/en/1.26.x/advanced-usage.html#ssl-warnings\n",
      "  warnings.warn(\n",
      "/Users/teague/opt/miniconda3/envs/superEnv/lib/python3.8/site-packages/urllib3/connectionpool.py:1013: InsecureRequestWarning: Unverified HTTPS request is being made to host '127.0.0.1'. Adding certificate verification is strongly advised. See: https://urllib3.readthedocs.io/en/1.26.x/advanced-usage.html#ssl-warnings\n",
      "  warnings.warn(\n"
     ]
    },
    {
     "name": "stdout",
     "output_type": "stream",
     "text": [
      "Created AWS job: ['bitcode_3qubits2rounds_aspen9', <supermarq.benchmarks.bit_code.BitCode object at 0x7f84f48ae670>, <cirq_superstaq.job.Job object at 0x7f84f52966a0>, 0]\n"
     ]
    },
    {
     "name": "stderr",
     "output_type": "stream",
     "text": [
      "/Users/teague/opt/miniconda3/envs/superEnv/lib/python3.8/site-packages/urllib3/connectionpool.py:1013: InsecureRequestWarning: Unverified HTTPS request is being made to host '127.0.0.1'. Adding certificate verification is strongly advised. See: https://urllib3.readthedocs.io/en/1.26.x/advanced-usage.html#ssl-warnings\n",
      "  warnings.warn(\n",
      "/Users/teague/opt/miniconda3/envs/superEnv/lib/python3.8/site-packages/urllib3/connectionpool.py:1013: InsecureRequestWarning: Unverified HTTPS request is being made to host '127.0.0.1'. Adding certificate verification is strongly advised. See: https://urllib3.readthedocs.io/en/1.26.x/advanced-usage.html#ssl-warnings\n",
      "  warnings.warn(\n"
     ]
    },
    {
     "name": "stdout",
     "output_type": "stream",
     "text": [
      "Created AWS job: ['bitcode_3qubits2rounds_ionq', <supermarq.benchmarks.bit_code.BitCode object at 0x7f84f48ae670>, <cirq_superstaq.job.Job object at 0x7f84f48bbaf0>, 0]\n",
      "Created 3-qubit 3-round bit code benchmark\n",
      "0: ───X───@───────────@───────────@───────────────M───\n",
      "          │           │           │               │\n",
      "1: ───R───X───X───R───X───X───R───X───X───────────M───\n",
      "              │           │           │           │\n",
      "2: ───X───────@───@───────@───@───────@───@───────M───\n",
      "                  │           │           │       │\n",
      "3: ───R───────────X───X───R───X───X───R───X───X───M───\n",
      "                      │           │           │   │\n",
      "4: ───X───────────────@───────────@───────────@───M───\n"
     ]
    },
    {
     "name": "stderr",
     "output_type": "stream",
     "text": [
      "/Users/teague/opt/miniconda3/envs/superEnv/lib/python3.8/site-packages/urllib3/connectionpool.py:1013: InsecureRequestWarning: Unverified HTTPS request is being made to host '127.0.0.1'. Adding certificate verification is strongly advised. See: https://urllib3.readthedocs.io/en/1.26.x/advanced-usage.html#ssl-warnings\n",
      "  warnings.warn(\n",
      "/Users/teague/opt/miniconda3/envs/superEnv/lib/python3.8/site-packages/urllib3/connectionpool.py:1013: InsecureRequestWarning: Unverified HTTPS request is being made to host '127.0.0.1'. Adding certificate verification is strongly advised. See: https://urllib3.readthedocs.io/en/1.26.x/advanced-usage.html#ssl-warnings\n",
      "  warnings.warn(\n"
     ]
    },
    {
     "name": "stdout",
     "output_type": "stream",
     "text": [
      "Created IBM job: ['bitcode_3qubits3rounds_casablanca', <supermarq.benchmarks.bit_code.BitCode object at 0x7f84f48bb400>, <cirq_superstaq.job.Job object at 0x7f84f584d2b0>, 0]\n"
     ]
    },
    {
     "name": "stderr",
     "output_type": "stream",
     "text": [
      "/Users/teague/opt/miniconda3/envs/superEnv/lib/python3.8/site-packages/urllib3/connectionpool.py:1013: InsecureRequestWarning: Unverified HTTPS request is being made to host '127.0.0.1'. Adding certificate verification is strongly advised. See: https://urllib3.readthedocs.io/en/1.26.x/advanced-usage.html#ssl-warnings\n",
      "  warnings.warn(\n",
      "/Users/teague/opt/miniconda3/envs/superEnv/lib/python3.8/site-packages/urllib3/connectionpool.py:1013: InsecureRequestWarning: Unverified HTTPS request is being made to host '127.0.0.1'. Adding certificate verification is strongly advised. See: https://urllib3.readthedocs.io/en/1.26.x/advanced-usage.html#ssl-warnings\n",
      "  warnings.warn(\n"
     ]
    },
    {
     "name": "stdout",
     "output_type": "stream",
     "text": [
      "Created IBM job: ['bitcode_3qubits3rounds_guadalupe', <supermarq.benchmarks.bit_code.BitCode object at 0x7f84f48bb400>, <cirq_superstaq.job.Job object at 0x7f84f531fb50>, 0]\n"
     ]
    },
    {
     "name": "stderr",
     "output_type": "stream",
     "text": [
      "/Users/teague/opt/miniconda3/envs/superEnv/lib/python3.8/site-packages/urllib3/connectionpool.py:1013: InsecureRequestWarning: Unverified HTTPS request is being made to host '127.0.0.1'. Adding certificate verification is strongly advised. See: https://urllib3.readthedocs.io/en/1.26.x/advanced-usage.html#ssl-warnings\n",
      "  warnings.warn(\n",
      "/Users/teague/opt/miniconda3/envs/superEnv/lib/python3.8/site-packages/urllib3/connectionpool.py:1013: InsecureRequestWarning: Unverified HTTPS request is being made to host '127.0.0.1'. Adding certificate verification is strongly advised. See: https://urllib3.readthedocs.io/en/1.26.x/advanced-usage.html#ssl-warnings\n",
      "  warnings.warn(\n"
     ]
    },
    {
     "name": "stdout",
     "output_type": "stream",
     "text": [
      "Created IBM job: ['bitcode_3qubits3rounds_montreal', <supermarq.benchmarks.bit_code.BitCode object at 0x7f84f48bb400>, <cirq_superstaq.job.Job object at 0x7f84f4bc0a00>, 0]\n"
     ]
    },
    {
     "name": "stderr",
     "output_type": "stream",
     "text": [
      "/Users/teague/opt/miniconda3/envs/superEnv/lib/python3.8/site-packages/urllib3/connectionpool.py:1013: InsecureRequestWarning: Unverified HTTPS request is being made to host '127.0.0.1'. Adding certificate verification is strongly advised. See: https://urllib3.readthedocs.io/en/1.26.x/advanced-usage.html#ssl-warnings\n",
      "  warnings.warn(\n",
      "/Users/teague/opt/miniconda3/envs/superEnv/lib/python3.8/site-packages/urllib3/connectionpool.py:1013: InsecureRequestWarning: Unverified HTTPS request is being made to host '127.0.0.1'. Adding certificate verification is strongly advised. See: https://urllib3.readthedocs.io/en/1.26.x/advanced-usage.html#ssl-warnings\n",
      "  warnings.warn(\n"
     ]
    },
    {
     "name": "stdout",
     "output_type": "stream",
     "text": [
      "Created IBM job: ['bitcode_3qubits3rounds_mumbai', <supermarq.benchmarks.bit_code.BitCode object at 0x7f84f48bb400>, <cirq_superstaq.job.Job object at 0x7f84f567f460>, 0]\n"
     ]
    },
    {
     "name": "stderr",
     "output_type": "stream",
     "text": [
      "/Users/teague/opt/miniconda3/envs/superEnv/lib/python3.8/site-packages/urllib3/connectionpool.py:1013: InsecureRequestWarning: Unverified HTTPS request is being made to host '127.0.0.1'. Adding certificate verification is strongly advised. See: https://urllib3.readthedocs.io/en/1.26.x/advanced-usage.html#ssl-warnings\n",
      "  warnings.warn(\n",
      "/Users/teague/opt/miniconda3/envs/superEnv/lib/python3.8/site-packages/urllib3/connectionpool.py:1013: InsecureRequestWarning: Unverified HTTPS request is being made to host '127.0.0.1'. Adding certificate verification is strongly advised. See: https://urllib3.readthedocs.io/en/1.26.x/advanced-usage.html#ssl-warnings\n",
      "  warnings.warn(\n"
     ]
    },
    {
     "name": "stdout",
     "output_type": "stream",
     "text": [
      "Created IBM job: ['bitcode_3qubits3rounds_lagos', <supermarq.benchmarks.bit_code.BitCode object at 0x7f84f48bb400>, <cirq_superstaq.job.Job object at 0x7f84f48ae9d0>, 0]\n"
     ]
    },
    {
     "name": "stderr",
     "output_type": "stream",
     "text": [
      "/Users/teague/opt/miniconda3/envs/superEnv/lib/python3.8/site-packages/urllib3/connectionpool.py:1013: InsecureRequestWarning: Unverified HTTPS request is being made to host '127.0.0.1'. Adding certificate verification is strongly advised. See: https://urllib3.readthedocs.io/en/1.26.x/advanced-usage.html#ssl-warnings\n",
      "  warnings.warn(\n",
      "/Users/teague/opt/miniconda3/envs/superEnv/lib/python3.8/site-packages/urllib3/connectionpool.py:1013: InsecureRequestWarning: Unverified HTTPS request is being made to host '127.0.0.1'. Adding certificate verification is strongly advised. See: https://urllib3.readthedocs.io/en/1.26.x/advanced-usage.html#ssl-warnings\n",
      "  warnings.warn(\n"
     ]
    },
    {
     "name": "stdout",
     "output_type": "stream",
     "text": [
      "Created IBM job: ['bitcode_3qubits3rounds_santiago', <supermarq.benchmarks.bit_code.BitCode object at 0x7f84f48bb400>, <cirq_superstaq.job.Job object at 0x7f84f4a818b0>, 0]\n"
     ]
    },
    {
     "name": "stderr",
     "output_type": "stream",
     "text": [
      "/Users/teague/opt/miniconda3/envs/superEnv/lib/python3.8/site-packages/urllib3/connectionpool.py:1013: InsecureRequestWarning: Unverified HTTPS request is being made to host '127.0.0.1'. Adding certificate verification is strongly advised. See: https://urllib3.readthedocs.io/en/1.26.x/advanced-usage.html#ssl-warnings\n",
      "  warnings.warn(\n",
      "/Users/teague/opt/miniconda3/envs/superEnv/lib/python3.8/site-packages/urllib3/connectionpool.py:1013: InsecureRequestWarning: Unverified HTTPS request is being made to host '127.0.0.1'. Adding certificate verification is strongly advised. See: https://urllib3.readthedocs.io/en/1.26.x/advanced-usage.html#ssl-warnings\n",
      "  warnings.warn(\n"
     ]
    },
    {
     "name": "stdout",
     "output_type": "stream",
     "text": [
      "Created AWS job: ['bitcode_3qubits3rounds_aspen9', <supermarq.benchmarks.bit_code.BitCode object at 0x7f84f48bb400>, <cirq_superstaq.job.Job object at 0x7f84f567fdc0>, 0]\n"
     ]
    },
    {
     "name": "stderr",
     "output_type": "stream",
     "text": [
      "/Users/teague/opt/miniconda3/envs/superEnv/lib/python3.8/site-packages/urllib3/connectionpool.py:1013: InsecureRequestWarning: Unverified HTTPS request is being made to host '127.0.0.1'. Adding certificate verification is strongly advised. See: https://urllib3.readthedocs.io/en/1.26.x/advanced-usage.html#ssl-warnings\n",
      "  warnings.warn(\n",
      "/Users/teague/opt/miniconda3/envs/superEnv/lib/python3.8/site-packages/urllib3/connectionpool.py:1013: InsecureRequestWarning: Unverified HTTPS request is being made to host '127.0.0.1'. Adding certificate verification is strongly advised. See: https://urllib3.readthedocs.io/en/1.26.x/advanced-usage.html#ssl-warnings\n",
      "  warnings.warn(\n"
     ]
    },
    {
     "name": "stdout",
     "output_type": "stream",
     "text": [
      "Created AWS job: ['bitcode_3qubits3rounds_ionq', <supermarq.benchmarks.bit_code.BitCode object at 0x7f84f48bb400>, <cirq_superstaq.job.Job object at 0x7f84f488d670>, 0]\n",
      "Created 5-qubit 2-round bit code benchmark\n",
      "0: ───X───@───────────@───────────────────────────────M───\n",
      "          │           │                               │\n",
      "1: ───R───X───X───R───X───X───────────────────────────M───\n",
      "              │           │                           │\n",
      "2: ───X───────@───@───────@───@───────────────────────M───\n",
      "                  │           │                       │\n",
      "3: ───R───────────X───X───R───X───X───────────────────M───\n",
      "                      │           │                   │\n",
      "4: ───X───────────────@───@───────@───@───────────────M───\n",
      "                          │           │               │\n",
      "5: ───R───────────────────X───X───R───X───X───────────M───\n",
      "                              │           │           │\n",
      "6: ───X───────────────────────@───@───────@───@───────M───\n",
      "                                  │           │       │\n",
      "7: ───R───────────────────────────X───X───R───X───X───M───\n",
      "                                      │           │   │\n",
      "8: ───X───────────────────────────────@───────────@───M───\n"
     ]
    },
    {
     "name": "stderr",
     "output_type": "stream",
     "text": [
      "/Users/teague/opt/miniconda3/envs/superEnv/lib/python3.8/site-packages/urllib3/connectionpool.py:1013: InsecureRequestWarning: Unverified HTTPS request is being made to host '127.0.0.1'. Adding certificate verification is strongly advised. See: https://urllib3.readthedocs.io/en/1.26.x/advanced-usage.html#ssl-warnings\n",
      "  warnings.warn(\n",
      "/Users/teague/opt/miniconda3/envs/superEnv/lib/python3.8/site-packages/urllib3/connectionpool.py:1013: InsecureRequestWarning: Unverified HTTPS request is being made to host '127.0.0.1'. Adding certificate verification is strongly advised. See: https://urllib3.readthedocs.io/en/1.26.x/advanced-usage.html#ssl-warnings\n",
      "  warnings.warn(\n"
     ]
    },
    {
     "name": "stdout",
     "output_type": "stream",
     "text": [
      "Created IBM job: ['bitcode_5qubits2rounds_guadalupe', <supermarq.benchmarks.bit_code.BitCode object at 0x7f84f48aeeb0>, <cirq_superstaq.job.Job object at 0x7f84f4bc0670>, 0]\n"
     ]
    },
    {
     "name": "stderr",
     "output_type": "stream",
     "text": [
      "/Users/teague/opt/miniconda3/envs/superEnv/lib/python3.8/site-packages/urllib3/connectionpool.py:1013: InsecureRequestWarning: Unverified HTTPS request is being made to host '127.0.0.1'. Adding certificate verification is strongly advised. See: https://urllib3.readthedocs.io/en/1.26.x/advanced-usage.html#ssl-warnings\n",
      "  warnings.warn(\n",
      "/Users/teague/opt/miniconda3/envs/superEnv/lib/python3.8/site-packages/urllib3/connectionpool.py:1013: InsecureRequestWarning: Unverified HTTPS request is being made to host '127.0.0.1'. Adding certificate verification is strongly advised. See: https://urllib3.readthedocs.io/en/1.26.x/advanced-usage.html#ssl-warnings\n",
      "  warnings.warn(\n"
     ]
    },
    {
     "name": "stdout",
     "output_type": "stream",
     "text": [
      "Created IBM job: ['bitcode_5qubits2rounds_montreal', <supermarq.benchmarks.bit_code.BitCode object at 0x7f84f48aeeb0>, <cirq_superstaq.job.Job object at 0x7f84f584d0a0>, 0]\n"
     ]
    },
    {
     "name": "stderr",
     "output_type": "stream",
     "text": [
      "/Users/teague/opt/miniconda3/envs/superEnv/lib/python3.8/site-packages/urllib3/connectionpool.py:1013: InsecureRequestWarning: Unverified HTTPS request is being made to host '127.0.0.1'. Adding certificate verification is strongly advised. See: https://urllib3.readthedocs.io/en/1.26.x/advanced-usage.html#ssl-warnings\n",
      "  warnings.warn(\n",
      "/Users/teague/opt/miniconda3/envs/superEnv/lib/python3.8/site-packages/urllib3/connectionpool.py:1013: InsecureRequestWarning: Unverified HTTPS request is being made to host '127.0.0.1'. Adding certificate verification is strongly advised. See: https://urllib3.readthedocs.io/en/1.26.x/advanced-usage.html#ssl-warnings\n",
      "  warnings.warn(\n"
     ]
    },
    {
     "name": "stdout",
     "output_type": "stream",
     "text": [
      "Created IBM job: ['bitcode_5qubits2rounds_mumbai', <supermarq.benchmarks.bit_code.BitCode object at 0x7f84f48aeeb0>, <cirq_superstaq.job.Job object at 0x7f84f48bbc10>, 0]\n"
     ]
    },
    {
     "name": "stderr",
     "output_type": "stream",
     "text": [
      "/Users/teague/opt/miniconda3/envs/superEnv/lib/python3.8/site-packages/urllib3/connectionpool.py:1013: InsecureRequestWarning: Unverified HTTPS request is being made to host '127.0.0.1'. Adding certificate verification is strongly advised. See: https://urllib3.readthedocs.io/en/1.26.x/advanced-usage.html#ssl-warnings\n",
      "  warnings.warn(\n",
      "/Users/teague/opt/miniconda3/envs/superEnv/lib/python3.8/site-packages/urllib3/connectionpool.py:1013: InsecureRequestWarning: Unverified HTTPS request is being made to host '127.0.0.1'. Adding certificate verification is strongly advised. See: https://urllib3.readthedocs.io/en/1.26.x/advanced-usage.html#ssl-warnings\n",
      "  warnings.warn(\n"
     ]
    },
    {
     "name": "stdout",
     "output_type": "stream",
     "text": [
      "Created AWS job: ['bitcode_5qubits2rounds_aspen9', <supermarq.benchmarks.bit_code.BitCode object at 0x7f84f48aeeb0>, <cirq_superstaq.job.Job object at 0x7f84f4871d30>, 0]\n"
     ]
    },
    {
     "name": "stderr",
     "output_type": "stream",
     "text": [
      "/Users/teague/opt/miniconda3/envs/superEnv/lib/python3.8/site-packages/urllib3/connectionpool.py:1013: InsecureRequestWarning: Unverified HTTPS request is being made to host '127.0.0.1'. Adding certificate verification is strongly advised. See: https://urllib3.readthedocs.io/en/1.26.x/advanced-usage.html#ssl-warnings\n",
      "  warnings.warn(\n",
      "/Users/teague/opt/miniconda3/envs/superEnv/lib/python3.8/site-packages/urllib3/connectionpool.py:1013: InsecureRequestWarning: Unverified HTTPS request is being made to host '127.0.0.1'. Adding certificate verification is strongly advised. See: https://urllib3.readthedocs.io/en/1.26.x/advanced-usage.html#ssl-warnings\n",
      "  warnings.warn(\n"
     ]
    },
    {
     "name": "stdout",
     "output_type": "stream",
     "text": [
      "Created AWS job: ['bitcode_5qubits2rounds_ionq', <supermarq.benchmarks.bit_code.BitCode object at 0x7f84f48aeeb0>, <cirq_superstaq.job.Job object at 0x7f84f526dd00>, 0]\n",
      "Created 5-qubit 3-round bit code benchmark\n",
      "0: ───X───@───────────@───────────@───────────────────────────────M───\n",
      "          │           │           │                               │\n",
      "1: ───R───X───X───R───X───X───R───X───X───────────────────────────M───\n",
      "              │           │           │                           │\n",
      "2: ───X───────@───@───────@───@───────@───@───────────────────────M───\n",
      "                  │           │           │                       │\n",
      "3: ───R───────────X───X───R───X───X───R───X───X───────────────────M───\n",
      "                      │           │           │                   │\n",
      "4: ───X───────────────@───@───────@───@───────@───@───────────────M───\n",
      "                          │           │           │               │\n",
      "5: ───R───────────────────X───X───R───X───X───R───X───X───────────M───\n",
      "                              │           │           │           │\n",
      "6: ───X───────────────────────@───@───────@───@───────@───@───────M───\n",
      "                                  │           │           │       │\n",
      "7: ───R───────────────────────────X───X───R───X───X───R───X───X───M───\n",
      "                                      │           │           │   │\n",
      "8: ───X───────────────────────────────@───────────@───────────@───M───\n"
     ]
    },
    {
     "name": "stderr",
     "output_type": "stream",
     "text": [
      "/Users/teague/opt/miniconda3/envs/superEnv/lib/python3.8/site-packages/urllib3/connectionpool.py:1013: InsecureRequestWarning: Unverified HTTPS request is being made to host '127.0.0.1'. Adding certificate verification is strongly advised. See: https://urllib3.readthedocs.io/en/1.26.x/advanced-usage.html#ssl-warnings\n",
      "  warnings.warn(\n",
      "/Users/teague/opt/miniconda3/envs/superEnv/lib/python3.8/site-packages/urllib3/connectionpool.py:1013: InsecureRequestWarning: Unverified HTTPS request is being made to host '127.0.0.1'. Adding certificate verification is strongly advised. See: https://urllib3.readthedocs.io/en/1.26.x/advanced-usage.html#ssl-warnings\n",
      "  warnings.warn(\n"
     ]
    },
    {
     "name": "stdout",
     "output_type": "stream",
     "text": [
      "Created IBM job: ['bitcode_5qubits3rounds_guadalupe', <supermarq.benchmarks.bit_code.BitCode object at 0x7f84f48bda60>, <cirq_superstaq.job.Job object at 0x7f84f4871220>, 0]\n"
     ]
    },
    {
     "name": "stderr",
     "output_type": "stream",
     "text": [
      "/Users/teague/opt/miniconda3/envs/superEnv/lib/python3.8/site-packages/urllib3/connectionpool.py:1013: InsecureRequestWarning: Unverified HTTPS request is being made to host '127.0.0.1'. Adding certificate verification is strongly advised. See: https://urllib3.readthedocs.io/en/1.26.x/advanced-usage.html#ssl-warnings\n",
      "  warnings.warn(\n",
      "/Users/teague/opt/miniconda3/envs/superEnv/lib/python3.8/site-packages/urllib3/connectionpool.py:1013: InsecureRequestWarning: Unverified HTTPS request is being made to host '127.0.0.1'. Adding certificate verification is strongly advised. See: https://urllib3.readthedocs.io/en/1.26.x/advanced-usage.html#ssl-warnings\n",
      "  warnings.warn(\n"
     ]
    },
    {
     "name": "stdout",
     "output_type": "stream",
     "text": [
      "Created IBM job: ['bitcode_5qubits3rounds_montreal', <supermarq.benchmarks.bit_code.BitCode object at 0x7f84f48bda60>, <cirq_superstaq.job.Job object at 0x7f84f5877d30>, 0]\n"
     ]
    },
    {
     "name": "stderr",
     "output_type": "stream",
     "text": [
      "/Users/teague/opt/miniconda3/envs/superEnv/lib/python3.8/site-packages/urllib3/connectionpool.py:1013: InsecureRequestWarning: Unverified HTTPS request is being made to host '127.0.0.1'. Adding certificate verification is strongly advised. See: https://urllib3.readthedocs.io/en/1.26.x/advanced-usage.html#ssl-warnings\n",
      "  warnings.warn(\n",
      "/Users/teague/opt/miniconda3/envs/superEnv/lib/python3.8/site-packages/urllib3/connectionpool.py:1013: InsecureRequestWarning: Unverified HTTPS request is being made to host '127.0.0.1'. Adding certificate verification is strongly advised. See: https://urllib3.readthedocs.io/en/1.26.x/advanced-usage.html#ssl-warnings\n",
      "  warnings.warn(\n"
     ]
    },
    {
     "name": "stdout",
     "output_type": "stream",
     "text": [
      "Created IBM job: ['bitcode_5qubits3rounds_mumbai', <supermarq.benchmarks.bit_code.BitCode object at 0x7f84f48bda60>, <cirq_superstaq.job.Job object at 0x7f84f532efa0>, 0]\n"
     ]
    },
    {
     "name": "stderr",
     "output_type": "stream",
     "text": [
      "/Users/teague/opt/miniconda3/envs/superEnv/lib/python3.8/site-packages/urllib3/connectionpool.py:1013: InsecureRequestWarning: Unverified HTTPS request is being made to host '127.0.0.1'. Adding certificate verification is strongly advised. See: https://urllib3.readthedocs.io/en/1.26.x/advanced-usage.html#ssl-warnings\n",
      "  warnings.warn(\n",
      "/Users/teague/opt/miniconda3/envs/superEnv/lib/python3.8/site-packages/urllib3/connectionpool.py:1013: InsecureRequestWarning: Unverified HTTPS request is being made to host '127.0.0.1'. Adding certificate verification is strongly advised. See: https://urllib3.readthedocs.io/en/1.26.x/advanced-usage.html#ssl-warnings\n",
      "  warnings.warn(\n"
     ]
    },
    {
     "name": "stdout",
     "output_type": "stream",
     "text": [
      "Created AWS job: ['bitcode_5qubits3rounds_aspen9', <supermarq.benchmarks.bit_code.BitCode object at 0x7f84f48bda60>, <cirq_superstaq.job.Job object at 0x7f84f526dc70>, 0]\n"
     ]
    },
    {
     "name": "stderr",
     "output_type": "stream",
     "text": [
      "/Users/teague/opt/miniconda3/envs/superEnv/lib/python3.8/site-packages/urllib3/connectionpool.py:1013: InsecureRequestWarning: Unverified HTTPS request is being made to host '127.0.0.1'. Adding certificate verification is strongly advised. See: https://urllib3.readthedocs.io/en/1.26.x/advanced-usage.html#ssl-warnings\n",
      "  warnings.warn(\n",
      "/Users/teague/opt/miniconda3/envs/superEnv/lib/python3.8/site-packages/urllib3/connectionpool.py:1013: InsecureRequestWarning: Unverified HTTPS request is being made to host '127.0.0.1'. Adding certificate verification is strongly advised. See: https://urllib3.readthedocs.io/en/1.26.x/advanced-usage.html#ssl-warnings\n",
      "  warnings.warn(\n"
     ]
    },
    {
     "name": "stdout",
     "output_type": "stream",
     "text": [
      "Created AWS job: ['bitcode_5qubits3rounds_ionq', <supermarq.benchmarks.bit_code.BitCode object at 0x7f84f48bda60>, <cirq_superstaq.job.Job object at 0x7f84f48ac460>, 0]\n"
     ]
    }
   ],
   "source": [
    "# Run Bit Code benchmarks\n",
    "for nq in [3, 5]:\n",
    "    for num_rounds in [2, 3]:\n",
    "        bitcode = sm.bit_code.BitCode(nq, num_rounds, [1]*nq)\n",
    "        print(f'Created {nq}-qubit {num_rounds}-round bit code benchmark')\n",
    "        print(bitcode.circuit())\n",
    "\n",
    "        # ibmq_casablanca, 7 qubits\n",
    "        if len(bitcode.circuit().all_qubits()) <= 7:\n",
    "            bitcode_jobs.append([\n",
    "                f'bitcode_{nq}qubits{num_rounds}rounds_casablanca',\n",
    "                bitcode,\n",
    "                ornl_service.create_job(circuit=bitcode.circuit(), repetitions=ibm_shots, target=\"ibmq_casablanca\"),\n",
    "                0,\n",
    "                ]\n",
    "            )\n",
    "            print(\"Created IBM job:\", bitcode_jobs[-1])\n",
    "\n",
    "        # ibmq_guadalupe, 16 qubits\n",
    "        if len(bitcode.circuit().all_qubits()) <= 16:\n",
    "            bitcode_jobs.append([\n",
    "                f'bitcode_{nq}qubits{num_rounds}rounds_guadalupe',\n",
    "                bitcode,\n",
    "                ornl_service.create_job(circuit=bitcode.circuit(), repetitions=ibm_shots, target=\"ibmq_guadalupe\"),\n",
    "                0,\n",
    "                ]\n",
    "            )\n",
    "            print(\"Created IBM job:\", bitcode_jobs[-1])\n",
    "\n",
    "        # ibmq_montreal, 27 qubits\n",
    "        if len(bitcode.circuit().all_qubits()) <= 27:\n",
    "            bitcode_jobs.append([\n",
    "                f'bitcode_{nq}qubits{num_rounds}rounds_montreal',\n",
    "                bitcode,\n",
    "                ornl_service.create_job(circuit=bitcode.circuit(), repetitions=ibm_shots, target=\"ibmq_montreal\"),\n",
    "                0,\n",
    "                ]\n",
    "            )\n",
    "            print(\"Created IBM job:\", bitcode_jobs[-1])\n",
    "\n",
    "        # ibmq_mumbai, 27 qubits\n",
    "        if len(bitcode.circuit().all_qubits()) <= 27:\n",
    "            bitcode_jobs.append([\n",
    "                f'bitcode_{nq}qubits{num_rounds}rounds_mumbai',\n",
    "                bitcode,\n",
    "                ornl_service.create_job(circuit=bitcode.circuit(), repetitions=ibm_shots, target=\"ibmq_mumbai\"),\n",
    "                0,\n",
    "                ]\n",
    "            )\n",
    "            print(\"Created IBM job:\", bitcode_jobs[-1])\n",
    "        \n",
    "        # ibmq_toronto, 27 qubits\n",
    "        #if len(bitcode.circuit().all_qubits()) <= 27:\n",
    "        #    bitcode_jobs.append([\n",
    "        #        f'bitcode_{nq}qubits{num_rounds}rounds_toronto',\n",
    "        #        bitcode,\n",
    "        #        ornl_service.create_job(circuit=bitcode.circuit(), repetitions=ibm_shots, target=\"ibmq_toronto\"),\n",
    "        #        0,\n",
    "        #    ])\n",
    "        #    print(\"Created IBM job:\", bitcode_jobs[-1])\n",
    "\n",
    "        # ibmq_lagos, 7 qubits\n",
    "        if len(bitcode.circuit().all_qubits()) <= 7:\n",
    "            bitcode_jobs.append([\n",
    "                f'bitcode_{nq}qubits{num_rounds}rounds_lagos',\n",
    "                bitcode,\n",
    "                supertech_service.create_job(circuit=bitcode.circuit(), repetitions=ibm_shots, target=\"ibm_lagos\"),\n",
    "                0,\n",
    "            ])\n",
    "            print(\"Created IBM job:\", bitcode_jobs[-1])\n",
    "\n",
    "        # ibmq_santiago, 5 qubits\n",
    "        if len(bitcode.circuit().all_qubits()) <= 5:\n",
    "            bitcode_jobs.append([\n",
    "                f'bitcode_{nq}qubits{num_rounds}rounds_santiago',\n",
    "                bitcode,\n",
    "                ornl_service.create_job(circuit=bitcode.circuit(), repetitions=ibm_shots, target=\"ibmq_santiago\"),\n",
    "                0,\n",
    "            ])\n",
    "            print(\"Created IBM job:\", bitcode_jobs[-1])\n",
    "            \n",
    "        # rigetti_aspen9, 32 qubits\n",
    "        if len(bitcode.circuit().all_qubits()) <= 32:\n",
    "            bitcode_jobs.append([\n",
    "                f'bitcode_{nq}qubits{num_rounds}rounds_aspen9',\n",
    "                bitcode,\n",
    "                ornl_service.create_job(circuit=bitcode.circuit(), repetitions=rigetti_shots, target=\"rigetti_aspen\"),\n",
    "                0,\n",
    "            ])\n",
    "            print(\"Created AWS job:\", bitcode_jobs[-1])\n",
    "\n",
    "        # ionq, 11 qubits\n",
    "        if len(bitcode.circuit().all_qubits()) <= 11:\n",
    "            bitcode_jobs.append([\n",
    "                f'bitcode_{nq}qubits{num_rounds}rounds_ionq',\n",
    "                bitcode,\n",
    "                ornl_service.create_job(circuit=bitcode.circuit(), repetitions=ionq_shots, target=\"ionq_ion\"),\n",
    "                0,\n",
    "            ])\n",
    "            print(\"Created AWS job:\", bitcode_jobs[-1])"
   ]
  },
  {
   "cell_type": "markdown",
   "id": "1e1e5b05-1c76-4fa4-8dc7-7a28af58be60",
   "metadata": {},
   "source": [
    "## Compute scores and store results"
   ]
  },
  {
   "cell_type": "code",
   "execution_count": 123,
   "id": "30af0839-0b4c-49d0-8a26-836d9994aeb5",
   "metadata": {
    "scrolled": true,
    "tags": []
   },
   "outputs": [
    {
     "name": "stdout",
     "output_type": "stream",
     "text": [
      "Completed 137/162 jobs\n",
      "bitcode_3qubits2rounds_casablanca, status: Done\n",
      "bitcode_3qubits2rounds_guadalupe, status: Done\n",
      "bitcode_3qubits2rounds_montreal, status: Done\n"
     ]
    },
    {
     "name": "stderr",
     "output_type": "stream",
     "text": [
      "/Users/teague/opt/miniconda3/envs/superEnv/lib/python3.8/site-packages/urllib3/connectionpool.py:1013: InsecureRequestWarning: Unverified HTTPS request is being made to host '127.0.0.1'. Adding certificate verification is strongly advised. See: https://urllib3.readthedocs.io/en/1.26.x/advanced-usage.html#ssl-warnings\n",
      "  warnings.warn(\n"
     ]
    },
    {
     "name": "stdout",
     "output_type": "stream",
     "text": [
      "bitcode_3qubits2rounds_toronto, status: Done\n",
      "\tCounts: {'00000': 5, '00001': 14, '00010': 22, '00011': 78, '00100': 6, '00101': 13, '00110': 14, '00111': 25, '01000': 6, '01001': 17, '01010': 9, '01011': 14, '01100': 29, '01101': 61, '01110': 8, '01111': 27, '10000': 38, '10001': 97, '10010': 22, '10011': 46, '10100': 128, '10101': 344, '10110': 40, '10111': 50, '11000': 32, '11001': 59, '11010': 161, '11011': 420, '11100': 17, '11101': 32, '11110': 48, '11111': 118}\n",
      "\tScore: 0.17200000000000001\n",
      "bitcode_3qubits2rounds_casablanca, status: Done\n",
      "bitcode_3qubits2rounds_guadalupe, status: Done\n",
      "bitcode_3qubits2rounds_montreal, status: Done\n"
     ]
    },
    {
     "name": "stderr",
     "output_type": "stream",
     "text": [
      "/Users/teague/opt/miniconda3/envs/superEnv/lib/python3.8/site-packages/urllib3/connectionpool.py:1013: InsecureRequestWarning: Unverified HTTPS request is being made to host '127.0.0.1'. Adding certificate verification is strongly advised. See: https://urllib3.readthedocs.io/en/1.26.x/advanced-usage.html#ssl-warnings\n",
      "  warnings.warn(\n"
     ]
    },
    {
     "name": "stdout",
     "output_type": "stream",
     "text": [
      "bitcode_3qubits2rounds_toronto, status: Done\n",
      "\tCounts: {'00000': 12, '00001': 13, '00010': 8, '00011': 12, '00100': 15, '00101': 17, '00110': 48, '00111': 33, '01000': 6, '01001': 4, '01010': 5, '01011': 7, '01100': 42, '01101': 24, '01110': 52, '01111': 44, '10000': 25, '10001': 19, '10010': 55, '10011': 37, '10100': 291, '10101': 174, '10110': 443, '10111': 307, '11000': 60, '11001': 52, '11010': 32, '11011': 67, '11100': 21, '11101': 19, '11110': 31, '11111': 25}\n",
      "\tScore: 0.08700000000000009\n",
      "bitcode_3qubits2rounds_lagos, status: Done\n",
      "bitcode_3qubits2rounds_santiago, status: Done\n",
      "bitcode_3qubits3rounds_casablanca, status: Done\n",
      "bitcode_3qubits3rounds_guadalupe, status: Done\n",
      "bitcode_3qubits3rounds_montreal, status: Done\n"
     ]
    },
    {
     "name": "stderr",
     "output_type": "stream",
     "text": [
      "/Users/teague/opt/miniconda3/envs/superEnv/lib/python3.8/site-packages/urllib3/connectionpool.py:1013: InsecureRequestWarning: Unverified HTTPS request is being made to host '127.0.0.1'. Adding certificate verification is strongly advised. See: https://urllib3.readthedocs.io/en/1.26.x/advanced-usage.html#ssl-warnings\n",
      "  warnings.warn(\n"
     ]
    },
    {
     "name": "stdout",
     "output_type": "stream",
     "text": [
      "bitcode_3qubits3rounds_toronto, status: Done\n",
      "\tCounts: {'00000': 21, '00001': 39, '00010': 19, '00011': 85, '00100': 8, '00101': 112, '00110': 35, '00111': 24, '01000': 49, '01001': 44, '01010': 15, '01011': 134, '01100': 13, '01101': 74, '01110': 17, '01111': 54, '10000': 10, '10001': 71, '10010': 16, '10011': 83, '10100': 22, '10101': 228, '10110': 63, '10111': 36, '11000': 75, '11001': 60, '11010': 30, '11011': 327, '11100': 20, '11101': 70, '11110': 20, '11111': 126}\n",
      "\tScore: 0.114\n",
      "bitcode_3qubits3rounds_lagos, status: Done\n",
      "bitcode_3qubits3rounds_santiago, status: Done\n",
      "bitcode_5qubits2rounds_guadalupe, status: Done\n",
      "bitcode_5qubits2rounds_montreal, status: Done\n"
     ]
    },
    {
     "name": "stderr",
     "output_type": "stream",
     "text": [
      "/Users/teague/opt/miniconda3/envs/superEnv/lib/python3.8/site-packages/urllib3/connectionpool.py:1013: InsecureRequestWarning: Unverified HTTPS request is being made to host '127.0.0.1'. Adding certificate verification is strongly advised. See: https://urllib3.readthedocs.io/en/1.26.x/advanced-usage.html#ssl-warnings\n",
      "  warnings.warn(\n"
     ]
    },
    {
     "name": "stdout",
     "output_type": "stream",
     "text": [
      "bitcode_5qubits2rounds_toronto, status: Done\n",
      "\tCounts: {'000000010': 1, '000000011': 1, '000000101': 2, '000001000': 1, '000001001': 4, '000001100': 2, '000001101': 9, '000001110': 3, '000001111': 5, '000010000': 1, '000010001': 3, '000010100': 2, '000010101': 4, '000010110': 2, '000011001': 2, '000011011': 1, '000011101': 1, '000011110': 3, '000100101': 2, '000100110': 1, '000100111': 1, '000101010': 1, '000101011': 1, '000101101': 1, '000101111': 1, '000110000': 2, '000110001': 2, '000110010': 2, '000110100': 8, '000110101': 39, '000110110': 18, '000110111': 11, '000111000': 4, '000111001': 1, '000111010': 3, '000111011': 6, '000111101': 1, '000111110': 1, '000111111': 3, '001000101': 1, '001000110': 1, '001001011': 1, '001010001': 3, '001010100': 9, '001010101': 16, '001010110': 4, '001010111': 3, '001011000': 2, '001011011': 2, '001011100': 1, '001011101': 3, '001011110': 1, '001101011': 1, '001101100': 2, '001101101': 2, '001101110': 3, '001101111': 1, '010000001': 1, '010000010': 1, '010000101': 3, '010001010': 1, '010001100': 2, '010001101': 3, '010001111': 1, '010010001': 1, '010010010': 1, '010010100': 6, '010010101': 22, '010010110': 4, '010010111': 3, '010011000': 1, '010011001': 1, '010011010': 1, '010011011': 2, '010011101': 2, '010100001': 1, '010100010': 1, '010100110': 2, '010101011': 1, '010101100': 1, '010101101': 1, '010101111': 1, '010110001': 2, '010110010': 3, '010110100': 9, '010110101': 8, '010110110': 6, '010110111': 3, '010111000': 2, '010111001': 2, '010111010': 1, '010111011': 5, '010111100': 1, '010111101': 4, '011000000': 1, '011000011': 1, '011000100': 2, '011000101': 2, '011001001': 1, '011001101': 1, '011010000': 2, '011010001': 2, '011010010': 3, '011010100': 23, '011010101': 56, '011010110': 23, '011010111': 9, '011011000': 4, '011011001': 4, '011011010': 2, '011011011': 7, '011011100': 2, '011011101': 5, '011011110': 2, '011011111': 2, '011100000': 1, '011100010': 1, '011100101': 1, '011100111': 1, '011101001': 2, '011101100': 1, '011101101': 4, '011101110': 5, '011101111': 3, '011110100': 3, '011111100': 1, '100000010': 3, '100000100': 2, '100000101': 4, '100001001': 1, '100001100': 2, '100001101': 7, '100001110': 3, '100001111': 2, '100010000': 3, '100010001': 5, '100010011': 1, '100010100': 17, '100010101': 38, '100010110': 19, '100010111': 8, '100011000': 1, '100011001': 3, '100011010': 2, '100011011': 8, '100011100': 2, '100011101': 5, '100011110': 3, '100011111': 1, '100100001': 1, '100100101': 1, '100100110': 3, '100100111': 1, '100101100': 3, '100101101': 7, '100101110': 1, '100110001': 3, '100110010': 4, '100110011': 1, '100110100': 10, '100110101': 23, '100110110': 12, '100110111': 4, '100111000': 4, '100111001': 1, '100111010': 5, '100111011': 5, '100111101': 4, '100111110': 3, '101000000': 1, '101000011': 1, '101000100': 1, '101000101': 12, '101000110': 7, '101000111': 1, '101001010': 1, '101001011': 4, '101001100': 2, '101001101': 6, '101001110': 7, '101001111': 1, '101010000': 10, '101010001': 20, '101010010': 10, '101010011': 10, '101010100': 51, '101010101': 174, '101010110': 107, '101010111': 40, '101011000': 16, '101011001': 9, '101011010': 20, '101011011': 38, '101011100': 4, '101011101': 22, '101011110': 8, '101011111': 5, '101100000': 3, '101100001': 2, '101100010': 3, '101100011': 7, '101100100': 1, '101100101': 6, '101100110': 4, '101100111': 6, '101101010': 1, '101101011': 2, '101101100': 13, '101101101': 37, '101101110': 22, '101101111': 3, '101110000': 1, '101110001': 1, '101110011': 2, '101110100': 5, '101110101': 10, '101110110': 3, '101110111': 1, '101111000': 1, '101111001': 1, '101111011': 1, '101111100': 1, '101111101': 1, '101111110': 2, '110000000': 1, '110000010': 3, '110000011': 5, '110000100': 1, '110000101': 4, '110000110': 3, '110000111': 1, '110001000': 1, '110001001': 4, '110001010': 2, '110001011': 3, '110001100': 6, '110001101': 33, '110001110': 16, '110001111': 7, '110010000': 2, '110010001': 1, '110010100': 2, '110010101': 21, '110010110': 7, '110011000': 2, '110011011': 3, '110011101': 1, '110011110': 1, '110011111': 1, '110100010': 1, '110100011': 2, '110100100': 3, '110100101': 6, '110100110': 3, '110100111': 4, '110101010': 1, '110101011': 1, '110101100': 2, '110101101': 4, '110101110': 1, '110101111': 2, '110110000': 3, '110110001': 13, '110110010': 5, '110110011': 4, '110110100': 35, '110110101': 114, '110110110': 59, '110110111': 24, '110111000': 6, '110111001': 6, '110111010': 17, '110111011': 16, '110111100': 8, '110111101': 6, '110111110': 6, '110111111': 2, '111000101': 2, '111001001': 1, '111001101': 2, '111010001': 2, '111010010': 1, '111010100': 3, '111010101': 11, '111010110': 6, '111010111': 1, '111011000': 1, '111011001': 1, '111011010': 1, '111011011': 3, '111011101': 2, '111011110': 1, '111100110': 1, '111101001': 1, '111101101': 1, '111101111': 1, '111110001': 1, '111110100': 1, '111110101': 3, '111110110': 2, '111110111': 1, '111111000': 1, '111111011': 1}\n",
      "\tScore: 0.08699999999999865\n",
      "bitcode_5qubits3rounds_guadalupe, status: Done\n",
      "bitcode_5qubits3rounds_montreal, status: Done\n"
     ]
    },
    {
     "name": "stderr",
     "output_type": "stream",
     "text": [
      "/Users/teague/opt/miniconda3/envs/superEnv/lib/python3.8/site-packages/urllib3/connectionpool.py:1013: InsecureRequestWarning: Unverified HTTPS request is being made to host '127.0.0.1'. Adding certificate verification is strongly advised. See: https://urllib3.readthedocs.io/en/1.26.x/advanced-usage.html#ssl-warnings\n",
      "  warnings.warn(\n"
     ]
    },
    {
     "name": "stdout",
     "output_type": "stream",
     "text": [
      "bitcode_5qubits3rounds_toronto, status: Done\n",
      "\tCounts: {'000000000': 3, '000000001': 3, '000000010': 2, '000000011': 28, '000000100': 1, '000000101': 1, '000000110': 2, '000000111': 2, '000001000': 2, '000001001': 10, '000001010': 1, '000001011': 11, '000001100': 1, '000001101': 16, '000001110': 5, '000001111': 1, '000010000': 1, '000010001': 3, '000010101': 8, '000010110': 1, '000011000': 1, '000011001': 2, '000011011': 9, '000011101': 1, '000011110': 1, '000011111': 4, '000100000': 1, '000100001': 1, '000100011': 1, '000100101': 1, '000100110': 1, '000100111': 1, '000101010': 1, '000101011': 1, '000101101': 3, '000101110': 3, '000101111': 2, '000110000': 2, '000110001': 16, '000110010': 6, '000110011': 3, '000110100': 8, '000110101': 42, '000110110': 12, '000110111': 5, '000111000': 23, '000111001': 12, '000111010': 5, '000111011': 53, '000111100': 2, '000111101': 9, '000111110': 2, '000111111': 13, '001000100': 1, '001000101': 2, '001001001': 1, '001001011': 2, '001001101': 1, '001010000': 3, '001010001': 5, '001010010': 2, '001010011': 4, '001010100': 2, '001010101': 30, '001010110': 4, '001010111': 1, '001011000': 6, '001011001': 4, '001011010': 4, '001011011': 24, '001011100': 1, '001011101': 7, '001011110': 1, '001011111': 10, '001100000': 2, '001100001': 1, '001100010': 2, '001100011': 7, '001100101': 3, '001100110': 1, '001100111': 1, '001101000': 2, '001101001': 1, '001101010': 2, '001101011': 1, '001101100': 1, '001101101': 5, '001101110': 4, '001101111': 1, '001110101': 3, '001111111': 1, '010000000': 2, '010000001': 3, '010000010': 1, '010000011': 11, '010000111': 2, '010001000': 2, '010001001': 3, '010001010': 1, '010001011': 4, '010001100': 2, '010001101': 11, '010001110': 2, '010001111': 2, '010010011': 1, '010010100': 3, '010010101': 5, '010010110': 3, '010010111': 1, '010011000': 1, '010011010': 2, '010011011': 7, '010011110': 3, '010011111': 2, '010100000': 1, '010100011': 4, '010100101': 1, '010100110': 2, '010101000': 1, '010101001': 4, '010101011': 1, '010101100': 1, '010101101': 3, '010110000': 2, '010110001': 8, '010110010': 1, '010110011': 3, '010110100': 2, '010110101': 21, '010110110': 6, '010110111': 3, '010111000': 7, '010111001': 8, '010111010': 3, '010111011': 23, '010111100': 5, '010111101': 2, '010111110': 5, '010111111': 5, '011000001': 3, '011000011': 2, '011000101': 4, '011000111': 2, '011001000': 1, '011001001': 3, '011001010': 1, '011001011': 2, '011001101': 3, '011001110': 1, '011001111': 1, '011010000': 4, '011010001': 33, '011010010': 9, '011010011': 15, '011010100': 10, '011010101': 103, '011010110': 21, '011010111': 10, '011011000': 17, '011011001': 16, '011011010': 9, '011011011': 83, '011011100': 7, '011011101': 12, '011011110': 11, '011011111': 20, '011100000': 5, '011100001': 4, '011100010': 1, '011100011': 19, '011100100': 1, '011100101': 2, '011100110': 1, '011100111': 3, '011101000': 2, '011101001': 15, '011101010': 3, '011101011': 10, '011101100': 6, '011101101': 30, '011101110': 5, '011101111': 8, '011110001': 1, '011110011': 1, '011110101': 3, '011110110': 2, '011110111': 1, '011111000': 3, '011111001': 1, '011111011': 3, '011111100': 1, '011111101': 1, '011111111': 3, '100000101': 1, '100000111': 1, '100001001': 1, '100001011': 1, '100001100': 1, '100010001': 1, '100010101': 1, '100011011': 6, '100011111': 1, '100100011': 1, '100100101': 1, '100101011': 2, '100101110': 1, '100110001': 3, '100110010': 3, '100110011': 2, '100110101': 6, '100110110': 3, '100110111': 1, '100111000': 2, '100111001': 1, '100111010': 2, '100111011': 9, '100111111': 1, '101000001': 1, '101000011': 1, '101000100': 1, '101000101': 3, '101000110': 4, '101001000': 1, '101001011': 7, '101001110': 1, '101001111': 1, '101010000': 2, '101010001': 17, '101010010': 7, '101010011': 11, '101010100': 5, '101010101': 62, '101010110': 17, '101010111': 9, '101011000': 17, '101011001': 12, '101011010': 9, '101011011': 87, '101011100': 11, '101011101': 14, '101011110': 6, '101011111': 19, '101100000': 4, '101100001': 7, '101100010': 3, '101100011': 14, '101100100': 2, '101100101': 3, '101100111': 4, '101101000': 4, '101101001': 2, '101101010': 1, '101101011': 12, '101101101': 22, '101101110': 6, '101101111': 4, '101110101': 1, '101110110': 1, '101111000': 1, '101111001': 1, '101111010': 2, '101111011': 3, '101111111': 1, '110000000': 3, '110000001': 4, '110000010': 1, '110000011': 6, '110000100': 1, '110000101': 3, '110000111': 1, '110001000': 1, '110001001': 6, '110001010': 1, '110001011': 7, '110001100': 2, '110001101': 15, '110001110': 4, '110001111': 4, '110010101': 4, '110010110': 1, '110011000': 1, '110011011': 5, '110011101': 2, '110100001': 1, '110100101': 2, '110101000': 1, '110101010': 1, '110101011': 2, '110101101': 2, '110110000': 1, '110110001': 12, '110110010': 2, '110110011': 5, '110110100': 6, '110110101': 37, '110110110': 9, '110110111': 3, '110111000': 10, '110111001': 7, '110111010': 4, '110111011': 23, '110111100': 1, '110111101': 6, '110111110': 6, '110111111': 9, '111000011': 1, '111010011': 1, '111010100': 3, '111010101': 10, '111010110': 3, '111010111': 1, '111011000': 1, '111011010': 3, '111011011': 4, '111011100': 1, '111011101': 1, '111011110': 1, '111011111': 1, '111100000': 1, '111100001': 2, '111100011': 5, '111101000': 1, '111101011': 1, '111101101': 1, '111101111': 1, '111110001': 2, '111110010': 1, '111110011': 1, '111110101': 6, '111110110': 1, '111111000': 1, '111111010': 1, '111111011': 7, '111111101': 2, '111111111': 2}\n",
      "\tScore: 0.03099999999999857\n",
      "bitcode_3qubits2rounds_casablanca, status: Done\n",
      "bitcode_3qubits2rounds_guadalupe, status: Done\n",
      "bitcode_3qubits2rounds_montreal, status: Done\n"
     ]
    },
    {
     "name": "stderr",
     "output_type": "stream",
     "text": [
      "/Users/teague/opt/miniconda3/envs/superEnv/lib/python3.8/site-packages/urllib3/connectionpool.py:1013: InsecureRequestWarning: Unverified HTTPS request is being made to host '127.0.0.1'. Adding certificate verification is strongly advised. See: https://urllib3.readthedocs.io/en/1.26.x/advanced-usage.html#ssl-warnings\n",
      "  warnings.warn(\n"
     ]
    },
    {
     "name": "stdout",
     "output_type": "stream",
     "text": [
      "bitcode_3qubits2rounds_toronto, status: Done\n",
      "\tCounts: {'00000': 6, '00001': 17, '00010': 7, '00011': 8, '00100': 8, '00101': 73, '00110': 11, '00111': 12, '01000': 3, '01001': 22, '01010': 6, '01011': 16, '01100': 5, '01101': 130, '01110': 10, '01111': 14, '10000': 13, '10001': 160, '10010': 13, '10011': 20, '10100': 62, '10101': 714, '10110': 85, '10111': 39, '11000': 15, '11001': 53, '11010': 11, '11011': 109, '11100': 17, '11101': 237, '11110': 23, '11111': 81}\n",
      "\tScore: 0.357\n",
      "bitcode_3qubits2rounds_lagos, status: Done\n",
      "bitcode_3qubits2rounds_santiago, status: Done\n",
      "bitcode_3qubits3rounds_casablanca, status: Done\n",
      "bitcode_3qubits3rounds_guadalupe, status: Done\n",
      "bitcode_3qubits3rounds_montreal, status: Done\n"
     ]
    },
    {
     "name": "stderr",
     "output_type": "stream",
     "text": [
      "/Users/teague/opt/miniconda3/envs/superEnv/lib/python3.8/site-packages/urllib3/connectionpool.py:1013: InsecureRequestWarning: Unverified HTTPS request is being made to host '127.0.0.1'. Adding certificate verification is strongly advised. See: https://urllib3.readthedocs.io/en/1.26.x/advanced-usage.html#ssl-warnings\n",
      "  warnings.warn(\n"
     ]
    },
    {
     "name": "stdout",
     "output_type": "stream",
     "text": [
      "bitcode_3qubits3rounds_toronto, status: Done\n",
      "\tCounts: {'00000': 36, '00001': 79, '00010': 24, '00011': 174, '00100': 8, '00101': 57, '00110': 11, '00111': 14, '01000': 9, '01001': 24, '01010': 4, '01011': 36, '01100': 15, '01101': 126, '01110': 23, '01111': 27, '10000': 17, '10001': 57, '10010': 10, '10011': 83, '10100': 32, '10101': 327, '10110': 70, '10111': 73, '11000': 59, '11001': 167, '11010': 41, '11011': 360, '11100': 3, '11101': 17, '11110': 4, '11111': 13}\n",
      "\tScore: 0.16350000000000003\n",
      "bitcode_3qubits3rounds_lagos, status: Done\n",
      "bitcode_3qubits3rounds_santiago, status: Done\n",
      "bitcode_5qubits2rounds_guadalupe, status: Done\n",
      "bitcode_5qubits2rounds_montreal, status: Done\n"
     ]
    },
    {
     "name": "stderr",
     "output_type": "stream",
     "text": [
      "/Users/teague/opt/miniconda3/envs/superEnv/lib/python3.8/site-packages/urllib3/connectionpool.py:1013: InsecureRequestWarning: Unverified HTTPS request is being made to host '127.0.0.1'. Adding certificate verification is strongly advised. See: https://urllib3.readthedocs.io/en/1.26.x/advanced-usage.html#ssl-warnings\n",
      "  warnings.warn(\n"
     ]
    },
    {
     "name": "stdout",
     "output_type": "stream",
     "text": [
      "bitcode_5qubits2rounds_toronto, status: Done\n",
      "\tCounts: {'000000011': 1, '000001001': 1, '000001101': 1, '000010101': 2, '000011101': 1, '000100101': 2, '000110000': 1, '000110001': 2, '000110100': 4, '000110101': 12, '000110110': 1, '000111000': 1, '000111001': 1, '000111011': 6, '001000101': 2, '001001001': 1, '001001011': 1, '001010000': 1, '001010001': 5, '001010011': 6, '001010100': 3, '001010101': 27, '001010110': 1, '001010111': 1, '001011000': 2, '001011011': 9, '001100011': 1, '001100101': 2, '001101001': 3, '001101101': 4, '001101110': 1, '001111011': 1, '010000011': 1, '010000101': 1, '010010101': 6, '010010110': 2, '010010111': 2, '010011000': 1, '010011011': 2, '010110001': 1, '010110101': 4, '010110111': 1, '010111011': 2, '011000011': 1, '011000101': 4, '011001000': 1, '011001011': 3, '011001101': 1, '011001110': 1, '011010001': 15, '011010010': 3, '011010011': 9, '011010100': 5, '011010101': 69, '011010110': 6, '011010111': 5, '011011000': 6, '011011001': 5, '011011011': 26, '011011101': 5, '011011111': 2, '011100000': 1, '011100001': 2, '011100010': 1, '011100011': 1, '011100101': 3, '011101001': 2, '011101011': 2, '011101101': 7, '011101111': 1, '011111011': 1, '100000001': 1, '100000100': 1, '100000101': 1, '100001101': 2, '100010000': 1, '100010001': 2, '100010011': 1, '100010100': 1, '100010101': 21, '100010111': 3, '100011000': 2, '100011011': 7, '100100011': 1, '100101101': 3, '100110001': 5, '100110101': 6, '100111010': 1, '100111011': 1, '101000001': 5, '101000011': 3, '101000100': 1, '101000101': 18, '101000110': 1, '101000111': 1, '101001000': 1, '101001010': 4, '101001011': 4, '101001101': 8, '101001111': 1, '101010000': 9, '101010001': 102, '101010010': 15, '101010011': 38, '101010100': 31, '101010101': 608, '101010110': 75, '101010111': 27, '101011000': 18, '101011001': 20, '101011010': 6, '101011011': 188, '101011100': 2, '101011101': 20, '101011110': 3, '101100000': 2, '101100001': 7, '101100011': 28, '101100100': 1, '101100101': 18, '101100110': 2, '101100111': 2, '101101001': 10, '101101011': 9, '101101100': 2, '101101101': 71, '101101110': 7, '101101111': 3, '101110100': 2, '101110101': 9, '101111001': 1, '101111011': 4, '101111101': 2, '101111110': 1, '110000000': 1, '110000011': 2, '110000101': 1, '110000110': 1, '110001000': 1, '110001001': 3, '110001011': 1, '110001101': 15, '110001110': 1, '110010000': 1, '110010011': 2, '110010100': 1, '110010101': 5, '110010110': 1, '110011000': 1, '110011001': 1, '110011011': 7, '110011100': 1, '110100101': 2, '110100111': 2, '110110000': 2, '110110001': 11, '110110011': 6, '110110100': 5, '110110101': 85, '110110110': 5, '110110111': 3, '110111000': 3, '110111001': 4, '110111010': 1, '110111011': 23, '110111101': 7, '110111110': 1, '110111111': 2, '111001001': 1, '111010001': 1, '111010101': 7, '111011001': 1, '111011011': 7, '111011101': 2, '111100101': 1, '111101011': 1, '111101101': 1, '111110101': 1, '111111010': 1}\n",
      "\tScore: 0.30399999999999855\n",
      "bitcode_5qubits3rounds_guadalupe, status: Done\n",
      "bitcode_5qubits3rounds_montreal, status: Done\n"
     ]
    },
    {
     "name": "stderr",
     "output_type": "stream",
     "text": [
      "/Users/teague/opt/miniconda3/envs/superEnv/lib/python3.8/site-packages/urllib3/connectionpool.py:1013: InsecureRequestWarning: Unverified HTTPS request is being made to host '127.0.0.1'. Adding certificate verification is strongly advised. See: https://urllib3.readthedocs.io/en/1.26.x/advanced-usage.html#ssl-warnings\n",
      "  warnings.warn(\n"
     ]
    },
    {
     "name": "stdout",
     "output_type": "stream",
     "text": [
      "bitcode_5qubits3rounds_toronto, status: Done\n",
      "\tCounts: {'000000000': 2, '000000001': 8, '000000010': 1, '000000011': 14, '000000101': 2, '000001001': 2, '000001100': 5, '000001101': 33, '000001110': 6, '000001111': 2, '000010001': 1, '000010011': 1, '000010101': 23, '000010110': 6, '000010111': 1, '000011000': 4, '000011001': 2, '000011010': 1, '000011011': 11, '000011100': 1, '000011101': 4, '000011111': 1, '000100001': 1, '000100011': 4, '000100101': 2, '000100110': 1, '000101000': 1, '000101011': 2, '000101100': 1, '000101101': 6, '000101111': 1, '000110001': 2, '000110011': 3, '000110100': 3, '000110101': 72, '000110110': 15, '000110111': 11, '000111000': 3, '000111001': 21, '000111010': 3, '000111011': 35, '000111100': 2, '000111101': 17, '000111110': 1, '000111111': 1, '001000000': 3, '001000001': 4, '001000011': 8, '001000101': 1, '001001001': 1, '001001011': 1, '001001100': 2, '001001101': 13, '001010011': 2, '001010100': 5, '001010101': 21, '001010110': 3, '001010111': 2, '001011000': 3, '001011001': 13, '001011010': 1, '001011011': 15, '001011100': 1, '001011101': 5, '001011110': 1, '001011111': 2, '001100000': 3, '001100001': 6, '001100011': 7, '001100101': 3, '001100111': 1, '001101011': 4, '001101100': 1, '001101101': 10, '001101110': 2, '001101111': 1, '001110100': 1, '001110101': 37, '001110110': 6, '001110111': 2, '001111000': 3, '001111001': 8, '001111011': 13, '001111101': 5, '001111110': 1, '001111111': 1, '010000000': 1, '010000001': 2, '010000010': 1, '010000011': 5, '010000100': 1, '010001011': 3, '010001101': 19, '010001110': 2, '010010000': 1, '010010001': 1, '010010010': 1, '010010011': 1, '010010100': 2, '010010101': 26, '010010110': 2, '010010111': 2, '010011000': 2, '010011001': 3, '010011011': 11, '010011100': 1, '010011101': 3, '010011110': 1, '010011111': 2, '010100000': 1, '010100001': 2, '010100011': 2, '010100101': 1, '010101101': 9, '010101110': 2, '010110001': 1, '010110011': 1, '010110100': 2, '010110101': 25, '010110110': 3, '010110111': 6, '010111000': 3, '010111001': 4, '010111010': 1, '010111011': 14, '010111101': 5, '010111110': 2, '011000000': 1, '011000011': 3, '011000101': 2, '011001001': 2, '011001011': 1, '011001100': 1, '011001101': 5, '011001110': 3, '011010000': 2, '011010001': 1, '011010011': 1, '011010100': 3, '011010101': 59, '011010110': 4, '011010111': 5, '011011000': 2, '011011001': 13, '011011010': 2, '011011011': 27, '011011101': 3, '011011110': 3, '011011111': 2, '011100000': 6, '011100001': 6, '011100011': 5, '011100100': 1, '011100101': 5, '011101001': 1, '011101011': 2, '011101100': 1, '011101101': 15, '011101110': 2, '011101111': 1, '011110001': 2, '011110101': 14, '011110110': 3, '011110111': 3, '011111000': 1, '011111001': 1, '011111011': 3, '011111101': 3, '011111111': 1, '100000000': 1, '100000001': 1, '100000010': 1, '100000011': 3, '100000101': 2, '100001001': 3, '100001011': 1, '100001100': 1, '100001101': 13, '100001110': 1, '100001111': 3, '100010011': 2, '100010101': 23, '100010110': 9, '100010111': 2, '100011000': 3, '100011001': 5, '100011010': 2, '100011011': 20, '100011101': 3, '100011110': 2, '100100000': 1, '100100001': 1, '100100011': 3, '100100101': 4, '100101011': 2, '100101101': 6, '100101110': 2, '100101111': 1, '100110000': 2, '100110001': 2, '100110011': 4, '100110100': 1, '100110101': 28, '100110110': 5, '100110111': 4, '100111000': 7, '100111001': 6, '100111010': 2, '100111011': 19, '100111101': 8, '101000000': 1, '101000001': 3, '101000011': 8, '101001001': 1, '101001011': 1, '101001101': 9, '101010001': 1, '101010011': 3, '101010100': 3, '101010101': 62, '101010110': 10, '101010111': 5, '101011000': 7, '101011001': 16, '101011010': 5, '101011011': 45, '101011101': 9, '101011111': 1, '101100000': 3, '101100001': 5, '101100011': 5, '101100101': 1, '101100110': 1, '101101000': 1, '101101001': 2, '101101011': 3, '101101100': 1, '101101101': 13, '101101110': 4, '101101111': 3, '101110000': 2, '101110011': 2, '101110100': 2, '101110101': 17, '101110110': 4, '101110111': 2, '101111000': 2, '101111001': 6, '101111011': 9, '101111100': 1, '101111101': 5, '101111110': 3, '110000000': 2, '110000001': 7, '110000010': 2, '110000011': 12, '110000101': 3, '110000110': 1, '110001001': 1, '110001011': 4, '110001101': 27, '110001110': 5, '110001111': 2, '110010011': 1, '110010101': 17, '110010110': 1, '110010111': 1, '110011000': 1, '110011001': 1, '110011010': 1, '110011011': 7, '110011101': 5, '110011110': 1, '110100011': 1, '110100100': 1, '110100101': 1, '110100110': 1, '110101000': 1, '110101001': 1, '110101011': 1, '110101101': 6, '110101110': 1, '110110000': 2, '110110001': 4, '110110011': 8, '110110100': 10, '110110101': 79, '110110110': 10, '110110111': 5, '110111000': 10, '110111001': 23, '110111010': 4, '110111011': 37, '110111101': 21, '110111111': 2, '111000000': 2, '111000001': 4, '111000011': 3, '111000101': 1, '111000111': 1, '111001001': 2, '111001010': 1, '111001011': 4, '111001100': 2, '111001101': 20, '111001110': 1, '111001111': 2, '111010000': 1, '111010001': 2, '111010100': 3, '111010101': 19, '111010110': 4, '111010111': 1, '111011000': 3, '111011001': 5, '111011011': 4, '111011101': 7, '111011110': 1, '111011111': 2, '111100001': 2, '111100011': 1, '111100101': 4, '111101100': 1, '111101101': 8, '111110001': 3, '111110011': 3, '111110101': 49, '111110110': 8, '111110111': 1, '111111000': 2, '111111001': 12, '111111011': 16, '111111100': 1, '111111101': 4, '111111110': 2, '111111111': 2}\n",
      "\tScore: 0.03099999999999892\n",
      "bitcode_3qubits2rounds_casablanca, status: Done\n",
      "bitcode_3qubits2rounds_guadalupe, status: Done\n",
      "bitcode_3qubits2rounds_montreal, status: Done\n"
     ]
    },
    {
     "name": "stderr",
     "output_type": "stream",
     "text": [
      "/Users/teague/opt/miniconda3/envs/superEnv/lib/python3.8/site-packages/urllib3/connectionpool.py:1013: InsecureRequestWarning: Unverified HTTPS request is being made to host '127.0.0.1'. Adding certificate verification is strongly advised. See: https://urllib3.readthedocs.io/en/1.26.x/advanced-usage.html#ssl-warnings\n",
      "  warnings.warn(\n"
     ]
    },
    {
     "name": "stdout",
     "output_type": "stream",
     "text": [
      "bitcode_3qubits2rounds_toronto, status: Queued\n",
      "bitcode_3qubits2rounds_lagos, status: Done\n",
      "bitcode_3qubits2rounds_santiago, status: Done\n",
      "bitcode_3qubits2rounds_aspen9, status: Done\n",
      "bitcode_3qubits2rounds_ionq, status: Done\n",
      "bitcode_3qubits3rounds_casablanca, status: Done\n",
      "bitcode_3qubits3rounds_guadalupe, status: Done\n",
      "bitcode_3qubits3rounds_montreal, status: Done\n"
     ]
    },
    {
     "name": "stderr",
     "output_type": "stream",
     "text": [
      "/Users/teague/opt/miniconda3/envs/superEnv/lib/python3.8/site-packages/urllib3/connectionpool.py:1013: InsecureRequestWarning: Unverified HTTPS request is being made to host '127.0.0.1'. Adding certificate verification is strongly advised. See: https://urllib3.readthedocs.io/en/1.26.x/advanced-usage.html#ssl-warnings\n",
      "  warnings.warn(\n"
     ]
    },
    {
     "name": "stdout",
     "output_type": "stream",
     "text": [
      "bitcode_3qubits3rounds_toronto, status: Queued\n",
      "bitcode_3qubits3rounds_lagos, status: Done\n",
      "bitcode_3qubits3rounds_santiago, status: Done\n",
      "bitcode_3qubits3rounds_aspen9, status: Done\n",
      "bitcode_3qubits3rounds_ionq, status: Done\n",
      "bitcode_5qubits2rounds_guadalupe, status: Done\n",
      "bitcode_5qubits2rounds_montreal, status: Done\n"
     ]
    },
    {
     "name": "stderr",
     "output_type": "stream",
     "text": [
      "/Users/teague/opt/miniconda3/envs/superEnv/lib/python3.8/site-packages/urllib3/connectionpool.py:1013: InsecureRequestWarning: Unverified HTTPS request is being made to host '127.0.0.1'. Adding certificate verification is strongly advised. See: https://urllib3.readthedocs.io/en/1.26.x/advanced-usage.html#ssl-warnings\n",
      "  warnings.warn(\n"
     ]
    },
    {
     "name": "stdout",
     "output_type": "stream",
     "text": [
      "bitcode_5qubits2rounds_toronto, status: Queued\n",
      "bitcode_5qubits2rounds_aspen9, status: Done\n",
      "bitcode_5qubits2rounds_ionq, status: Done\n",
      "bitcode_5qubits3rounds_guadalupe, status: Done\n",
      "bitcode_5qubits3rounds_montreal, status: Done\n"
     ]
    },
    {
     "name": "stderr",
     "output_type": "stream",
     "text": [
      "/Users/teague/opt/miniconda3/envs/superEnv/lib/python3.8/site-packages/urllib3/connectionpool.py:1013: InsecureRequestWarning: Unverified HTTPS request is being made to host '127.0.0.1'. Adding certificate verification is strongly advised. See: https://urllib3.readthedocs.io/en/1.26.x/advanced-usage.html#ssl-warnings\n",
      "  warnings.warn(\n"
     ]
    },
    {
     "name": "stdout",
     "output_type": "stream",
     "text": [
      "bitcode_5qubits3rounds_toronto, status: Queued\n",
      "bitcode_5qubits3rounds_aspen9, status: Done\n",
      "bitcode_5qubits3rounds_ionq, status: Done\n",
      "bitcode_3qubits2rounds_casablanca, status: Done\n",
      "bitcode_3qubits2rounds_guadalupe, status: Done\n",
      "bitcode_3qubits2rounds_montreal, status: Done\n"
     ]
    },
    {
     "name": "stderr",
     "output_type": "stream",
     "text": [
      "/Users/teague/opt/miniconda3/envs/superEnv/lib/python3.8/site-packages/urllib3/connectionpool.py:1013: InsecureRequestWarning: Unverified HTTPS request is being made to host '127.0.0.1'. Adding certificate verification is strongly advised. See: https://urllib3.readthedocs.io/en/1.26.x/advanced-usage.html#ssl-warnings\n",
      "  warnings.warn(\n"
     ]
    },
    {
     "name": "stdout",
     "output_type": "stream",
     "text": [
      "bitcode_3qubits2rounds_toronto, status: Queued\n",
      "bitcode_3qubits2rounds_lagos, status: Done\n",
      "bitcode_3qubits2rounds_santiago, status: Done\n",
      "bitcode_3qubits2rounds_aspen9, status: Done\n",
      "bitcode_3qubits2rounds_ionq, status: Done\n",
      "bitcode_3qubits3rounds_casablanca, status: Done\n",
      "bitcode_3qubits3rounds_guadalupe, status: Done\n",
      "bitcode_3qubits3rounds_montreal, status: Done\n"
     ]
    },
    {
     "name": "stderr",
     "output_type": "stream",
     "text": [
      "/Users/teague/opt/miniconda3/envs/superEnv/lib/python3.8/site-packages/urllib3/connectionpool.py:1013: InsecureRequestWarning: Unverified HTTPS request is being made to host '127.0.0.1'. Adding certificate verification is strongly advised. See: https://urllib3.readthedocs.io/en/1.26.x/advanced-usage.html#ssl-warnings\n",
      "  warnings.warn(\n"
     ]
    },
    {
     "name": "stdout",
     "output_type": "stream",
     "text": [
      "bitcode_3qubits3rounds_toronto, status: Queued\n",
      "bitcode_3qubits3rounds_lagos, status: Done\n",
      "bitcode_3qubits3rounds_santiago, status: Done\n",
      "bitcode_3qubits3rounds_aspen9, status: Done\n",
      "bitcode_3qubits3rounds_ionq, status: Done\n",
      "bitcode_5qubits2rounds_guadalupe, status: Done\n",
      "bitcode_5qubits2rounds_montreal, status: Done\n"
     ]
    },
    {
     "name": "stderr",
     "output_type": "stream",
     "text": [
      "/Users/teague/opt/miniconda3/envs/superEnv/lib/python3.8/site-packages/urllib3/connectionpool.py:1013: InsecureRequestWarning: Unverified HTTPS request is being made to host '127.0.0.1'. Adding certificate verification is strongly advised. See: https://urllib3.readthedocs.io/en/1.26.x/advanced-usage.html#ssl-warnings\n",
      "  warnings.warn(\n"
     ]
    },
    {
     "name": "stdout",
     "output_type": "stream",
     "text": [
      "bitcode_5qubits2rounds_toronto, status: Queued\n",
      "bitcode_5qubits2rounds_aspen9, status: Done\n",
      "bitcode_5qubits2rounds_ionq, status: Done\n",
      "bitcode_5qubits3rounds_guadalupe, status: Done\n",
      "bitcode_5qubits3rounds_montreal, status: Done\n"
     ]
    },
    {
     "name": "stderr",
     "output_type": "stream",
     "text": [
      "/Users/teague/opt/miniconda3/envs/superEnv/lib/python3.8/site-packages/urllib3/connectionpool.py:1013: InsecureRequestWarning: Unverified HTTPS request is being made to host '127.0.0.1'. Adding certificate verification is strongly advised. See: https://urllib3.readthedocs.io/en/1.26.x/advanced-usage.html#ssl-warnings\n",
      "  warnings.warn(\n"
     ]
    },
    {
     "name": "stdout",
     "output_type": "stream",
     "text": [
      "bitcode_5qubits3rounds_toronto, status: Queued\n",
      "bitcode_5qubits3rounds_aspen9, status: Done\n",
      "bitcode_5qubits3rounds_ionq, status: Done\n",
      "bitcode_3qubits2rounds_casablanca, status: Done\n",
      "bitcode_3qubits2rounds_guadalupe, status: Done\n",
      "bitcode_3qubits2rounds_montreal, status: Done\n",
      "bitcode_3qubits2rounds_lagos, status: Done\n",
      "bitcode_3qubits2rounds_santiago, status: Done\n",
      "bitcode_3qubits2rounds_aspen9, status: Done\n",
      "bitcode_3qubits2rounds_ionq, status: Done\n",
      "bitcode_3qubits3rounds_casablanca, status: Done\n",
      "bitcode_3qubits3rounds_guadalupe, status: Done\n",
      "bitcode_3qubits3rounds_montreal, status: Done\n",
      "bitcode_3qubits3rounds_lagos, status: Done\n",
      "bitcode_3qubits3rounds_santiago, status: Done\n",
      "bitcode_3qubits3rounds_aspen9, status: Done\n",
      "bitcode_3qubits3rounds_ionq, status: Done\n",
      "bitcode_5qubits2rounds_guadalupe, status: Done\n",
      "bitcode_5qubits2rounds_montreal, status: Done\n",
      "bitcode_5qubits2rounds_aspen9, status: Done\n",
      "bitcode_5qubits2rounds_ionq, status: Done\n",
      "bitcode_5qubits3rounds_guadalupe, status: Done\n",
      "bitcode_5qubits3rounds_montreal, status: Done\n",
      "bitcode_5qubits3rounds_aspen9, status: Done\n",
      "bitcode_5qubits3rounds_ionq, status: Done\n",
      "bitcode_3qubits2rounds_casablanca, status: Done\n",
      "bitcode_3qubits2rounds_guadalupe, status: Done\n",
      "bitcode_3qubits2rounds_montreal, status: Done\n",
      "bitcode_3qubits2rounds_lagos, status: Done\n",
      "bitcode_3qubits2rounds_santiago, status: Done\n",
      "bitcode_3qubits2rounds_aspen9, status: Done\n",
      "bitcode_3qubits2rounds_ionq, status: Done\n",
      "bitcode_3qubits3rounds_casablanca, status: Done\n",
      "bitcode_3qubits3rounds_guadalupe, status: Done\n",
      "bitcode_3qubits3rounds_montreal, status: Done\n",
      "bitcode_3qubits3rounds_lagos, status: Done\n",
      "bitcode_3qubits3rounds_santiago, status: Done\n",
      "bitcode_3qubits3rounds_aspen9, status: Done\n",
      "bitcode_3qubits3rounds_ionq, status: Done\n",
      "bitcode_5qubits2rounds_guadalupe, status: Done\n",
      "bitcode_5qubits2rounds_montreal, status: Done\n",
      "bitcode_5qubits2rounds_aspen9, status: Done\n",
      "bitcode_5qubits2rounds_ionq, status: Done\n",
      "bitcode_5qubits3rounds_guadalupe, status: Done\n",
      "bitcode_5qubits3rounds_montreal, status: Done\n",
      "bitcode_5qubits3rounds_aspen9, status: Done\n",
      "bitcode_5qubits3rounds_ionq, status: Done\n",
      "bitcode_3qubits2rounds_casablanca, status: Done\n",
      "bitcode_3qubits2rounds_guadalupe, status: Done\n",
      "bitcode_3qubits2rounds_montreal, status: Done\n"
     ]
    },
    {
     "name": "stderr",
     "output_type": "stream",
     "text": [
      "/Users/teague/opt/miniconda3/envs/superEnv/lib/python3.8/site-packages/urllib3/connectionpool.py:1013: InsecureRequestWarning: Unverified HTTPS request is being made to host '127.0.0.1'. Adding certificate verification is strongly advised. See: https://urllib3.readthedocs.io/en/1.26.x/advanced-usage.html#ssl-warnings\n",
      "  warnings.warn(\n"
     ]
    },
    {
     "name": "stdout",
     "output_type": "stream",
     "text": [
      "bitcode_3qubits2rounds_mumbai, status: Queued\n",
      "bitcode_3qubits2rounds_lagos, status: Done\n",
      "bitcode_3qubits2rounds_santiago, status: Done\n",
      "bitcode_3qubits2rounds_aspen9, status: Done\n"
     ]
    },
    {
     "name": "stderr",
     "output_type": "stream",
     "text": [
      "/Users/teague/opt/miniconda3/envs/superEnv/lib/python3.8/site-packages/urllib3/connectionpool.py:1013: InsecureRequestWarning: Unverified HTTPS request is being made to host '127.0.0.1'. Adding certificate verification is strongly advised. See: https://urllib3.readthedocs.io/en/1.26.x/advanced-usage.html#ssl-warnings\n",
      "  warnings.warn(\n"
     ]
    },
    {
     "name": "stdout",
     "output_type": "stream",
     "text": [
      "bitcode_3qubits2rounds_ionq, status: Done\n",
      "\tCounts: {'10101': 35}\n",
      "\tScore: 1.0\n",
      "bitcode_3qubits3rounds_casablanca, status: Done\n",
      "bitcode_3qubits3rounds_guadalupe, status: Done\n",
      "bitcode_3qubits3rounds_montreal, status: Done\n"
     ]
    },
    {
     "name": "stderr",
     "output_type": "stream",
     "text": [
      "/Users/teague/opt/miniconda3/envs/superEnv/lib/python3.8/site-packages/urllib3/connectionpool.py:1013: InsecureRequestWarning: Unverified HTTPS request is being made to host '127.0.0.1'. Adding certificate verification is strongly advised. See: https://urllib3.readthedocs.io/en/1.26.x/advanced-usage.html#ssl-warnings\n",
      "  warnings.warn(\n"
     ]
    },
    {
     "name": "stdout",
     "output_type": "stream",
     "text": [
      "bitcode_3qubits3rounds_mumbai, status: Queued\n",
      "bitcode_3qubits3rounds_lagos, status: Done\n",
      "bitcode_3qubits3rounds_santiago, status: Done\n",
      "bitcode_3qubits3rounds_aspen9, status: Done\n"
     ]
    },
    {
     "name": "stderr",
     "output_type": "stream",
     "text": [
      "/Users/teague/opt/miniconda3/envs/superEnv/lib/python3.8/site-packages/urllib3/connectionpool.py:1013: InsecureRequestWarning: Unverified HTTPS request is being made to host '127.0.0.1'. Adding certificate verification is strongly advised. See: https://urllib3.readthedocs.io/en/1.26.x/advanced-usage.html#ssl-warnings\n",
      "  warnings.warn(\n"
     ]
    },
    {
     "name": "stdout",
     "output_type": "stream",
     "text": [
      "bitcode_3qubits3rounds_ionq, status: Done\n",
      "\tCounts: {'00101': 1, '10100': 1, '10101': 31, '10111': 1, '11101': 1}\n",
      "\tScore: 0.8857142857142857\n",
      "bitcode_5qubits2rounds_guadalupe, status: Done\n",
      "bitcode_5qubits2rounds_montreal, status: Done\n"
     ]
    },
    {
     "name": "stderr",
     "output_type": "stream",
     "text": [
      "/Users/teague/opt/miniconda3/envs/superEnv/lib/python3.8/site-packages/urllib3/connectionpool.py:1013: InsecureRequestWarning: Unverified HTTPS request is being made to host '127.0.0.1'. Adding certificate verification is strongly advised. See: https://urllib3.readthedocs.io/en/1.26.x/advanced-usage.html#ssl-warnings\n",
      "  warnings.warn(\n"
     ]
    },
    {
     "name": "stdout",
     "output_type": "stream",
     "text": [
      "bitcode_5qubits2rounds_mumbai, status: Queued\n",
      "bitcode_5qubits2rounds_aspen9, status: Done\n"
     ]
    },
    {
     "name": "stderr",
     "output_type": "stream",
     "text": [
      "/Users/teague/opt/miniconda3/envs/superEnv/lib/python3.8/site-packages/urllib3/connectionpool.py:1013: InsecureRequestWarning: Unverified HTTPS request is being made to host '127.0.0.1'. Adding certificate verification is strongly advised. See: https://urllib3.readthedocs.io/en/1.26.x/advanced-usage.html#ssl-warnings\n",
      "  warnings.warn(\n"
     ]
    },
    {
     "name": "stdout",
     "output_type": "stream",
     "text": [
      "bitcode_5qubits2rounds_ionq, status: Done\n",
      "\tCounts: {'001010101': 1, '101000101': 2, '101010101': 32}\n",
      "\tScore: 0.9142857142857143\n",
      "bitcode_5qubits3rounds_guadalupe, status: Done\n",
      "bitcode_5qubits3rounds_montreal, status: Done\n"
     ]
    },
    {
     "name": "stderr",
     "output_type": "stream",
     "text": [
      "/Users/teague/opt/miniconda3/envs/superEnv/lib/python3.8/site-packages/urllib3/connectionpool.py:1013: InsecureRequestWarning: Unverified HTTPS request is being made to host '127.0.0.1'. Adding certificate verification is strongly advised. See: https://urllib3.readthedocs.io/en/1.26.x/advanced-usage.html#ssl-warnings\n",
      "  warnings.warn(\n"
     ]
    },
    {
     "name": "stdout",
     "output_type": "stream",
     "text": [
      "bitcode_5qubits3rounds_mumbai, status: Queued\n",
      "bitcode_5qubits3rounds_aspen9, status: Done\n"
     ]
    },
    {
     "name": "stderr",
     "output_type": "stream",
     "text": [
      "/Users/teague/opt/miniconda3/envs/superEnv/lib/python3.8/site-packages/urllib3/connectionpool.py:1013: InsecureRequestWarning: Unverified HTTPS request is being made to host '127.0.0.1'. Adding certificate verification is strongly advised. See: https://urllib3.readthedocs.io/en/1.26.x/advanced-usage.html#ssl-warnings\n",
      "  warnings.warn(\n"
     ]
    },
    {
     "name": "stdout",
     "output_type": "stream",
     "text": [
      "bitcode_5qubits3rounds_ionq, status: Done\n",
      "\tCounts: {'101010101': 30, '101011101': 1, '101110101': 2, '111010101': 1, '111010111': 1}\n",
      "\tScore: 0.8571428571428571\n"
     ]
    }
   ],
   "source": [
    "job_sum = sum([experiment[3] for experiment in bitcode_jobs])\n",
    "if job_sum < len(bitcode_jobs):\n",
    "    print(f'Completed {job_sum}/{len(bitcode_jobs)} jobs')\n",
    "    for experiment in bitcode_jobs:\n",
    "        name, benchmark, job, checked = experiment\n",
    "        status = job.status()\n",
    "        print(f'{name}, status: {status}')\n",
    "        if status == 'Done' and checked == 0:\n",
    "            try:\n",
    "                counts = job.counts()\n",
    "            except:\n",
    "                continue\n",
    "            score = benchmark.score(counts)\n",
    "            print('\\tCounts:', counts)\n",
    "            print('\\tScore:', score)\n",
    "            date = time.ctime().replace(' ', '-').replace(':', '-')\n",
    "            with open(f'benchmark_results/{name}_{date}.pickle', 'wb') as pklfile:\n",
    "                pickle.dump(\n",
    "                        {'name':name,\n",
    "                         'benchmark':benchmark,\n",
    "                         'job':job,\n",
    "                         'counts':counts,\n",
    "                         'score':score},\n",
    "                        pklfile)\n",
    "            experiment[3] = 1\n",
    "        elif status == 'Failed' and checked == 0:\n",
    "            experiment[3] = 1\n",
    "else:\n",
    "    print('All jobs completed')"
   ]
  },
  {
   "cell_type": "markdown",
   "id": "924fa2a7-6e03-4fcc-8c31-c4bc167960c7",
   "metadata": {},
   "source": [
    "# Phase code benchmark\n",
    "## Submit jobs"
   ]
  },
  {
   "cell_type": "code",
   "execution_count": 35,
   "id": "b40de610-b86b-4aa0-b5e0-fef2b9de1216",
   "metadata": {
    "tags": []
   },
   "outputs": [],
   "source": [
    "phasecode_jobs = []"
   ]
  },
  {
   "cell_type": "code",
   "execution_count": 108,
   "id": "6ac10e11-9df6-41a5-84a1-9f057fe7690b",
   "metadata": {
    "scrolled": true,
    "tags": []
   },
   "outputs": [
    {
     "name": "stdout",
     "output_type": "stream",
     "text": [
      "Created 3-qubit 2-round phase code benchmark\n",
      "0: ───X───H───H───@───H───H───────────@───H───────────────M───\n",
      "                  │                   │                   │\n",
      "1: ───R───H───────@───@───H───R───H───@───@───H───────────M───\n",
      "                      │                   │               │\n",
      "2: ───X───H───H───────@───@───H───H───────@───@───H───────M───\n",
      "                          │                   │           │\n",
      "3: ───R───H───────────────@───@───H───R───H───@───@───H───M───\n",
      "                              │                   │       │\n",
      "4: ───X───H───H───────────────@───H───H───────────@───H───M───\n"
     ]
    },
    {
     "name": "stderr",
     "output_type": "stream",
     "text": [
      "/Users/teague/opt/miniconda3/envs/superEnv/lib/python3.8/site-packages/urllib3/connectionpool.py:1013: InsecureRequestWarning: Unverified HTTPS request is being made to host '127.0.0.1'. Adding certificate verification is strongly advised. See: https://urllib3.readthedocs.io/en/1.26.x/advanced-usage.html#ssl-warnings\n",
      "  warnings.warn(\n",
      "/Users/teague/opt/miniconda3/envs/superEnv/lib/python3.8/site-packages/urllib3/connectionpool.py:1013: InsecureRequestWarning: Unverified HTTPS request is being made to host '127.0.0.1'. Adding certificate verification is strongly advised. See: https://urllib3.readthedocs.io/en/1.26.x/advanced-usage.html#ssl-warnings\n",
      "  warnings.warn(\n"
     ]
    },
    {
     "name": "stdout",
     "output_type": "stream",
     "text": [
      "Created IBM job: ['phasecode_3qubits2rounds_casablanca', <supermarq.benchmarks.phase_code.PhaseCode object at 0x7f84f48a95b0>, <cirq_superstaq.job.Job object at 0x7f84f5332520>, 0]\n"
     ]
    },
    {
     "name": "stderr",
     "output_type": "stream",
     "text": [
      "/Users/teague/opt/miniconda3/envs/superEnv/lib/python3.8/site-packages/urllib3/connectionpool.py:1013: InsecureRequestWarning: Unverified HTTPS request is being made to host '127.0.0.1'. Adding certificate verification is strongly advised. See: https://urllib3.readthedocs.io/en/1.26.x/advanced-usage.html#ssl-warnings\n",
      "  warnings.warn(\n",
      "/Users/teague/opt/miniconda3/envs/superEnv/lib/python3.8/site-packages/urllib3/connectionpool.py:1013: InsecureRequestWarning: Unverified HTTPS request is being made to host '127.0.0.1'. Adding certificate verification is strongly advised. See: https://urllib3.readthedocs.io/en/1.26.x/advanced-usage.html#ssl-warnings\n",
      "  warnings.warn(\n"
     ]
    },
    {
     "name": "stdout",
     "output_type": "stream",
     "text": [
      "Created IBM job: ['phasecode_3qubits2rounds_guadalupe', <supermarq.benchmarks.phase_code.PhaseCode object at 0x7f84f48a95b0>, <cirq_superstaq.job.Job object at 0x7f84f4bc03d0>, 0]\n"
     ]
    },
    {
     "name": "stderr",
     "output_type": "stream",
     "text": [
      "/Users/teague/opt/miniconda3/envs/superEnv/lib/python3.8/site-packages/urllib3/connectionpool.py:1013: InsecureRequestWarning: Unverified HTTPS request is being made to host '127.0.0.1'. Adding certificate verification is strongly advised. See: https://urllib3.readthedocs.io/en/1.26.x/advanced-usage.html#ssl-warnings\n",
      "  warnings.warn(\n",
      "/Users/teague/opt/miniconda3/envs/superEnv/lib/python3.8/site-packages/urllib3/connectionpool.py:1013: InsecureRequestWarning: Unverified HTTPS request is being made to host '127.0.0.1'. Adding certificate verification is strongly advised. See: https://urllib3.readthedocs.io/en/1.26.x/advanced-usage.html#ssl-warnings\n",
      "  warnings.warn(\n"
     ]
    },
    {
     "name": "stdout",
     "output_type": "stream",
     "text": [
      "Created IBM job: ['phasecode_3qubits2rounds_montreal', <supermarq.benchmarks.phase_code.PhaseCode object at 0x7f84f48a95b0>, <cirq_superstaq.job.Job object at 0x7f84f4988160>, 0]\n"
     ]
    },
    {
     "name": "stderr",
     "output_type": "stream",
     "text": [
      "/Users/teague/opt/miniconda3/envs/superEnv/lib/python3.8/site-packages/urllib3/connectionpool.py:1013: InsecureRequestWarning: Unverified HTTPS request is being made to host '127.0.0.1'. Adding certificate verification is strongly advised. See: https://urllib3.readthedocs.io/en/1.26.x/advanced-usage.html#ssl-warnings\n",
      "  warnings.warn(\n",
      "/Users/teague/opt/miniconda3/envs/superEnv/lib/python3.8/site-packages/urllib3/connectionpool.py:1013: InsecureRequestWarning: Unverified HTTPS request is being made to host '127.0.0.1'. Adding certificate verification is strongly advised. See: https://urllib3.readthedocs.io/en/1.26.x/advanced-usage.html#ssl-warnings\n",
      "  warnings.warn(\n"
     ]
    },
    {
     "name": "stdout",
     "output_type": "stream",
     "text": [
      "Created IBM job: ['phasecode_3qubits2rounds_mumbai', <supermarq.benchmarks.phase_code.PhaseCode object at 0x7f84f48a95b0>, <cirq_superstaq.job.Job object at 0x7f84f532edf0>, 0]\n"
     ]
    },
    {
     "name": "stderr",
     "output_type": "stream",
     "text": [
      "/Users/teague/opt/miniconda3/envs/superEnv/lib/python3.8/site-packages/urllib3/connectionpool.py:1013: InsecureRequestWarning: Unverified HTTPS request is being made to host '127.0.0.1'. Adding certificate verification is strongly advised. See: https://urllib3.readthedocs.io/en/1.26.x/advanced-usage.html#ssl-warnings\n",
      "  warnings.warn(\n",
      "/Users/teague/opt/miniconda3/envs/superEnv/lib/python3.8/site-packages/urllib3/connectionpool.py:1013: InsecureRequestWarning: Unverified HTTPS request is being made to host '127.0.0.1'. Adding certificate verification is strongly advised. See: https://urllib3.readthedocs.io/en/1.26.x/advanced-usage.html#ssl-warnings\n",
      "  warnings.warn(\n"
     ]
    },
    {
     "name": "stdout",
     "output_type": "stream",
     "text": [
      "Created IBM job: ['phasecode_3qubits2rounds_lagos', <supermarq.benchmarks.phase_code.PhaseCode object at 0x7f84f48a95b0>, <cirq_superstaq.job.Job object at 0x7f84f56a8b20>, 0]\n"
     ]
    },
    {
     "name": "stderr",
     "output_type": "stream",
     "text": [
      "/Users/teague/opt/miniconda3/envs/superEnv/lib/python3.8/site-packages/urllib3/connectionpool.py:1013: InsecureRequestWarning: Unverified HTTPS request is being made to host '127.0.0.1'. Adding certificate verification is strongly advised. See: https://urllib3.readthedocs.io/en/1.26.x/advanced-usage.html#ssl-warnings\n",
      "  warnings.warn(\n",
      "/Users/teague/opt/miniconda3/envs/superEnv/lib/python3.8/site-packages/urllib3/connectionpool.py:1013: InsecureRequestWarning: Unverified HTTPS request is being made to host '127.0.0.1'. Adding certificate verification is strongly advised. See: https://urllib3.readthedocs.io/en/1.26.x/advanced-usage.html#ssl-warnings\n",
      "  warnings.warn(\n"
     ]
    },
    {
     "name": "stdout",
     "output_type": "stream",
     "text": [
      "Created IBM job: ['phasecode_3qubits2rounds_santiago', <supermarq.benchmarks.phase_code.PhaseCode object at 0x7f84f48a95b0>, <cirq_superstaq.job.Job object at 0x7f84f5296550>, 0]\n"
     ]
    },
    {
     "name": "stderr",
     "output_type": "stream",
     "text": [
      "/Users/teague/opt/miniconda3/envs/superEnv/lib/python3.8/site-packages/urllib3/connectionpool.py:1013: InsecureRequestWarning: Unverified HTTPS request is being made to host '127.0.0.1'. Adding certificate verification is strongly advised. See: https://urllib3.readthedocs.io/en/1.26.x/advanced-usage.html#ssl-warnings\n",
      "  warnings.warn(\n",
      "/Users/teague/opt/miniconda3/envs/superEnv/lib/python3.8/site-packages/urllib3/connectionpool.py:1013: InsecureRequestWarning: Unverified HTTPS request is being made to host '127.0.0.1'. Adding certificate verification is strongly advised. See: https://urllib3.readthedocs.io/en/1.26.x/advanced-usage.html#ssl-warnings\n",
      "  warnings.warn(\n"
     ]
    },
    {
     "name": "stdout",
     "output_type": "stream",
     "text": [
      "Created AWS job: ['phasecode_3qubits2rounds_aspen9', <supermarq.benchmarks.phase_code.PhaseCode object at 0x7f84f48a95b0>, <cirq_superstaq.job.Job object at 0x7f84f48bdfd0>, 0]\n"
     ]
    },
    {
     "name": "stderr",
     "output_type": "stream",
     "text": [
      "/Users/teague/opt/miniconda3/envs/superEnv/lib/python3.8/site-packages/urllib3/connectionpool.py:1013: InsecureRequestWarning: Unverified HTTPS request is being made to host '127.0.0.1'. Adding certificate verification is strongly advised. See: https://urllib3.readthedocs.io/en/1.26.x/advanced-usage.html#ssl-warnings\n",
      "  warnings.warn(\n",
      "/Users/teague/opt/miniconda3/envs/superEnv/lib/python3.8/site-packages/urllib3/connectionpool.py:1013: InsecureRequestWarning: Unverified HTTPS request is being made to host '127.0.0.1'. Adding certificate verification is strongly advised. See: https://urllib3.readthedocs.io/en/1.26.x/advanced-usage.html#ssl-warnings\n",
      "  warnings.warn(\n"
     ]
    },
    {
     "name": "stdout",
     "output_type": "stream",
     "text": [
      "Created AWS job: ['phasecode_3qubits2rounds_ionq', <supermarq.benchmarks.phase_code.PhaseCode object at 0x7f84f48a95b0>, <cirq_superstaq.job.Job object at 0x7f84f4843ac0>, 0]\n",
      "Created 3-qubit 3-round phase code benchmark\n",
      "0: ───X───H───H───@───H───H───────────@───H───H───────────@───H───────────────M───\n",
      "                  │                   │                   │                   │\n",
      "1: ───R───H───────@───@───H───R───H───@───@───H───R───H───@───@───H───────────M───\n",
      "                      │                   │                   │               │\n",
      "2: ───X───H───H───────@───@───H───H───────@───@───H───H───────@───@───H───────M───\n",
      "                          │                   │                   │           │\n",
      "3: ───R───H───────────────@───@───H───R───H───@───@───H───R───H───@───@───H───M───\n",
      "                              │                   │                   │       │\n",
      "4: ───X───H───H───────────────@───H───H───────────@───H───H───────────@───H───M───\n"
     ]
    },
    {
     "name": "stderr",
     "output_type": "stream",
     "text": [
      "/Users/teague/opt/miniconda3/envs/superEnv/lib/python3.8/site-packages/urllib3/connectionpool.py:1013: InsecureRequestWarning: Unverified HTTPS request is being made to host '127.0.0.1'. Adding certificate verification is strongly advised. See: https://urllib3.readthedocs.io/en/1.26.x/advanced-usage.html#ssl-warnings\n",
      "  warnings.warn(\n",
      "/Users/teague/opt/miniconda3/envs/superEnv/lib/python3.8/site-packages/urllib3/connectionpool.py:1013: InsecureRequestWarning: Unverified HTTPS request is being made to host '127.0.0.1'. Adding certificate verification is strongly advised. See: https://urllib3.readthedocs.io/en/1.26.x/advanced-usage.html#ssl-warnings\n",
      "  warnings.warn(\n"
     ]
    },
    {
     "name": "stdout",
     "output_type": "stream",
     "text": [
      "Created IBM job: ['phasecode_3qubits3rounds_casablanca', <supermarq.benchmarks.phase_code.PhaseCode object at 0x7f84f4c78d60>, <cirq_superstaq.job.Job object at 0x7f84f5c0ba90>, 0]\n"
     ]
    },
    {
     "name": "stderr",
     "output_type": "stream",
     "text": [
      "/Users/teague/opt/miniconda3/envs/superEnv/lib/python3.8/site-packages/urllib3/connectionpool.py:1013: InsecureRequestWarning: Unverified HTTPS request is being made to host '127.0.0.1'. Adding certificate verification is strongly advised. See: https://urllib3.readthedocs.io/en/1.26.x/advanced-usage.html#ssl-warnings\n",
      "  warnings.warn(\n",
      "/Users/teague/opt/miniconda3/envs/superEnv/lib/python3.8/site-packages/urllib3/connectionpool.py:1013: InsecureRequestWarning: Unverified HTTPS request is being made to host '127.0.0.1'. Adding certificate verification is strongly advised. See: https://urllib3.readthedocs.io/en/1.26.x/advanced-usage.html#ssl-warnings\n",
      "  warnings.warn(\n"
     ]
    },
    {
     "name": "stdout",
     "output_type": "stream",
     "text": [
      "Created IBM job: ['phasecode_3qubits3rounds_guadalupe', <supermarq.benchmarks.phase_code.PhaseCode object at 0x7f84f4c78d60>, <cirq_superstaq.job.Job object at 0x7f84f531fcd0>, 0]\n"
     ]
    },
    {
     "name": "stderr",
     "output_type": "stream",
     "text": [
      "/Users/teague/opt/miniconda3/envs/superEnv/lib/python3.8/site-packages/urllib3/connectionpool.py:1013: InsecureRequestWarning: Unverified HTTPS request is being made to host '127.0.0.1'. Adding certificate verification is strongly advised. See: https://urllib3.readthedocs.io/en/1.26.x/advanced-usage.html#ssl-warnings\n",
      "  warnings.warn(\n",
      "/Users/teague/opt/miniconda3/envs/superEnv/lib/python3.8/site-packages/urllib3/connectionpool.py:1013: InsecureRequestWarning: Unverified HTTPS request is being made to host '127.0.0.1'. Adding certificate verification is strongly advised. See: https://urllib3.readthedocs.io/en/1.26.x/advanced-usage.html#ssl-warnings\n",
      "  warnings.warn(\n"
     ]
    },
    {
     "name": "stdout",
     "output_type": "stream",
     "text": [
      "Created IBM job: ['phasecode_3qubits3rounds_montreal', <supermarq.benchmarks.phase_code.PhaseCode object at 0x7f84f4c78d60>, <cirq_superstaq.job.Job object at 0x7f84f5317340>, 0]\n"
     ]
    },
    {
     "name": "stderr",
     "output_type": "stream",
     "text": [
      "/Users/teague/opt/miniconda3/envs/superEnv/lib/python3.8/site-packages/urllib3/connectionpool.py:1013: InsecureRequestWarning: Unverified HTTPS request is being made to host '127.0.0.1'. Adding certificate verification is strongly advised. See: https://urllib3.readthedocs.io/en/1.26.x/advanced-usage.html#ssl-warnings\n",
      "  warnings.warn(\n",
      "/Users/teague/opt/miniconda3/envs/superEnv/lib/python3.8/site-packages/urllib3/connectionpool.py:1013: InsecureRequestWarning: Unverified HTTPS request is being made to host '127.0.0.1'. Adding certificate verification is strongly advised. See: https://urllib3.readthedocs.io/en/1.26.x/advanced-usage.html#ssl-warnings\n",
      "  warnings.warn(\n"
     ]
    },
    {
     "name": "stdout",
     "output_type": "stream",
     "text": [
      "Created IBM job: ['phasecode_3qubits3rounds_mumbai', <supermarq.benchmarks.phase_code.PhaseCode object at 0x7f84f4c78d60>, <cirq_superstaq.job.Job object at 0x7f84f5303a30>, 0]\n"
     ]
    },
    {
     "name": "stderr",
     "output_type": "stream",
     "text": [
      "/Users/teague/opt/miniconda3/envs/superEnv/lib/python3.8/site-packages/urllib3/connectionpool.py:1013: InsecureRequestWarning: Unverified HTTPS request is being made to host '127.0.0.1'. Adding certificate verification is strongly advised. See: https://urllib3.readthedocs.io/en/1.26.x/advanced-usage.html#ssl-warnings\n",
      "  warnings.warn(\n",
      "/Users/teague/opt/miniconda3/envs/superEnv/lib/python3.8/site-packages/urllib3/connectionpool.py:1013: InsecureRequestWarning: Unverified HTTPS request is being made to host '127.0.0.1'. Adding certificate verification is strongly advised. See: https://urllib3.readthedocs.io/en/1.26.x/advanced-usage.html#ssl-warnings\n",
      "  warnings.warn(\n"
     ]
    },
    {
     "name": "stdout",
     "output_type": "stream",
     "text": [
      "Created IBM job: ['phasecode_3qubits3rounds_lagos', <supermarq.benchmarks.phase_code.PhaseCode object at 0x7f84f4c78d60>, <cirq_superstaq.job.Job object at 0x7f84f5296040>, 0]\n"
     ]
    },
    {
     "name": "stderr",
     "output_type": "stream",
     "text": [
      "/Users/teague/opt/miniconda3/envs/superEnv/lib/python3.8/site-packages/urllib3/connectionpool.py:1013: InsecureRequestWarning: Unverified HTTPS request is being made to host '127.0.0.1'. Adding certificate verification is strongly advised. See: https://urllib3.readthedocs.io/en/1.26.x/advanced-usage.html#ssl-warnings\n",
      "  warnings.warn(\n",
      "/Users/teague/opt/miniconda3/envs/superEnv/lib/python3.8/site-packages/urllib3/connectionpool.py:1013: InsecureRequestWarning: Unverified HTTPS request is being made to host '127.0.0.1'. Adding certificate verification is strongly advised. See: https://urllib3.readthedocs.io/en/1.26.x/advanced-usage.html#ssl-warnings\n",
      "  warnings.warn(\n"
     ]
    },
    {
     "name": "stdout",
     "output_type": "stream",
     "text": [
      "Created IBM job: ['phasecode_3qubits3rounds_santiago', <supermarq.benchmarks.phase_code.PhaseCode object at 0x7f84f4c78d60>, <cirq_superstaq.job.Job object at 0x7f84f5299160>, 0]\n"
     ]
    },
    {
     "name": "stderr",
     "output_type": "stream",
     "text": [
      "/Users/teague/opt/miniconda3/envs/superEnv/lib/python3.8/site-packages/urllib3/connectionpool.py:1013: InsecureRequestWarning: Unverified HTTPS request is being made to host '127.0.0.1'. Adding certificate verification is strongly advised. See: https://urllib3.readthedocs.io/en/1.26.x/advanced-usage.html#ssl-warnings\n",
      "  warnings.warn(\n",
      "/Users/teague/opt/miniconda3/envs/superEnv/lib/python3.8/site-packages/urllib3/connectionpool.py:1013: InsecureRequestWarning: Unverified HTTPS request is being made to host '127.0.0.1'. Adding certificate verification is strongly advised. See: https://urllib3.readthedocs.io/en/1.26.x/advanced-usage.html#ssl-warnings\n",
      "  warnings.warn(\n"
     ]
    },
    {
     "name": "stdout",
     "output_type": "stream",
     "text": [
      "Created AWS job: ['phasecode_3qubits3rounds_aspen9', <supermarq.benchmarks.phase_code.PhaseCode object at 0x7f84f4c78d60>, <cirq_superstaq.job.Job object at 0x7f84f498a130>, 0]\n"
     ]
    },
    {
     "name": "stderr",
     "output_type": "stream",
     "text": [
      "/Users/teague/opt/miniconda3/envs/superEnv/lib/python3.8/site-packages/urllib3/connectionpool.py:1013: InsecureRequestWarning: Unverified HTTPS request is being made to host '127.0.0.1'. Adding certificate verification is strongly advised. See: https://urllib3.readthedocs.io/en/1.26.x/advanced-usage.html#ssl-warnings\n",
      "  warnings.warn(\n",
      "/Users/teague/opt/miniconda3/envs/superEnv/lib/python3.8/site-packages/urllib3/connectionpool.py:1013: InsecureRequestWarning: Unverified HTTPS request is being made to host '127.0.0.1'. Adding certificate verification is strongly advised. See: https://urllib3.readthedocs.io/en/1.26.x/advanced-usage.html#ssl-warnings\n",
      "  warnings.warn(\n"
     ]
    },
    {
     "name": "stdout",
     "output_type": "stream",
     "text": [
      "Created AWS job: ['phasecode_3qubits3rounds_ionq', <supermarq.benchmarks.phase_code.PhaseCode object at 0x7f84f4c78d60>, <cirq_superstaq.job.Job object at 0x7f84f48bd160>, 0]\n",
      "Created 5-qubit 2-round phase code benchmark\n",
      "0: ───X───H───H───@───H───H───────────@───H───────────────────────────────M───\n",
      "                  │                   │                                   │\n",
      "1: ───R───H───────@───@───H───R───H───@───@───H───────────────────────────M───\n",
      "                      │                   │                               │\n",
      "2: ───X───H───H───────@───@───H───H───────@───@───H───────────────────────M───\n",
      "                          │                   │                           │\n",
      "3: ───R───H───────────────@───@───H───R───H───@───@───H───────────────────M───\n",
      "                              │                   │                       │\n",
      "4: ───X───H───H───────────────@───@───H───H───────@───@───H───────────────M───\n",
      "                                  │                   │                   │\n",
      "5: ───R───H───────────────────────@───@───H───R───H───@───@───H───────────M───\n",
      "                                      │                   │               │\n",
      "6: ───X───H───H───────────────────────@───@───H───H───────@───@───H───────M───\n",
      "                                          │                   │           │\n",
      "7: ───R───H───────────────────────────────@───@───H───R───H───@───@───H───M───\n",
      "                                              │                   │       │\n",
      "8: ───X───H───H───────────────────────────────@───H───H───────────@───H───M───\n"
     ]
    },
    {
     "name": "stderr",
     "output_type": "stream",
     "text": [
      "/Users/teague/opt/miniconda3/envs/superEnv/lib/python3.8/site-packages/urllib3/connectionpool.py:1013: InsecureRequestWarning: Unverified HTTPS request is being made to host '127.0.0.1'. Adding certificate verification is strongly advised. See: https://urllib3.readthedocs.io/en/1.26.x/advanced-usage.html#ssl-warnings\n",
      "  warnings.warn(\n",
      "/Users/teague/opt/miniconda3/envs/superEnv/lib/python3.8/site-packages/urllib3/connectionpool.py:1013: InsecureRequestWarning: Unverified HTTPS request is being made to host '127.0.0.1'. Adding certificate verification is strongly advised. See: https://urllib3.readthedocs.io/en/1.26.x/advanced-usage.html#ssl-warnings\n",
      "  warnings.warn(\n"
     ]
    },
    {
     "name": "stdout",
     "output_type": "stream",
     "text": [
      "Created IBM job: ['phasecode_5qubits2rounds_guadalupe', <supermarq.benchmarks.phase_code.PhaseCode object at 0x7f84f533c820>, <cirq_superstaq.job.Job object at 0x7f84f49806d0>, 0]\n"
     ]
    },
    {
     "name": "stderr",
     "output_type": "stream",
     "text": [
      "/Users/teague/opt/miniconda3/envs/superEnv/lib/python3.8/site-packages/urllib3/connectionpool.py:1013: InsecureRequestWarning: Unverified HTTPS request is being made to host '127.0.0.1'. Adding certificate verification is strongly advised. See: https://urllib3.readthedocs.io/en/1.26.x/advanced-usage.html#ssl-warnings\n",
      "  warnings.warn(\n",
      "/Users/teague/opt/miniconda3/envs/superEnv/lib/python3.8/site-packages/urllib3/connectionpool.py:1013: InsecureRequestWarning: Unverified HTTPS request is being made to host '127.0.0.1'. Adding certificate verification is strongly advised. See: https://urllib3.readthedocs.io/en/1.26.x/advanced-usage.html#ssl-warnings\n",
      "  warnings.warn(\n"
     ]
    },
    {
     "name": "stdout",
     "output_type": "stream",
     "text": [
      "Created IBM job: ['phasecode_5qubits2rounds_montreal', <supermarq.benchmarks.phase_code.PhaseCode object at 0x7f84f533c820>, <cirq_superstaq.job.Job object at 0x7f84f535e880>, 0]\n"
     ]
    },
    {
     "name": "stderr",
     "output_type": "stream",
     "text": [
      "/Users/teague/opt/miniconda3/envs/superEnv/lib/python3.8/site-packages/urllib3/connectionpool.py:1013: InsecureRequestWarning: Unverified HTTPS request is being made to host '127.0.0.1'. Adding certificate verification is strongly advised. See: https://urllib3.readthedocs.io/en/1.26.x/advanced-usage.html#ssl-warnings\n",
      "  warnings.warn(\n",
      "/Users/teague/opt/miniconda3/envs/superEnv/lib/python3.8/site-packages/urllib3/connectionpool.py:1013: InsecureRequestWarning: Unverified HTTPS request is being made to host '127.0.0.1'. Adding certificate verification is strongly advised. See: https://urllib3.readthedocs.io/en/1.26.x/advanced-usage.html#ssl-warnings\n",
      "  warnings.warn(\n"
     ]
    },
    {
     "name": "stdout",
     "output_type": "stream",
     "text": [
      "Created IBM job: ['phasecode_5qubits2rounds_mumbai', <supermarq.benchmarks.phase_code.PhaseCode object at 0x7f84f533c820>, <cirq_superstaq.job.Job object at 0x7f84f4bc0c70>, 0]\n"
     ]
    },
    {
     "name": "stderr",
     "output_type": "stream",
     "text": [
      "/Users/teague/opt/miniconda3/envs/superEnv/lib/python3.8/site-packages/urllib3/connectionpool.py:1013: InsecureRequestWarning: Unverified HTTPS request is being made to host '127.0.0.1'. Adding certificate verification is strongly advised. See: https://urllib3.readthedocs.io/en/1.26.x/advanced-usage.html#ssl-warnings\n",
      "  warnings.warn(\n",
      "/Users/teague/opt/miniconda3/envs/superEnv/lib/python3.8/site-packages/urllib3/connectionpool.py:1013: InsecureRequestWarning: Unverified HTTPS request is being made to host '127.0.0.1'. Adding certificate verification is strongly advised. See: https://urllib3.readthedocs.io/en/1.26.x/advanced-usage.html#ssl-warnings\n",
      "  warnings.warn(\n"
     ]
    },
    {
     "name": "stdout",
     "output_type": "stream",
     "text": [
      "Created AWS job: ['phasecode_5qubits2rounds_aspen9', <supermarq.benchmarks.phase_code.PhaseCode object at 0x7f84f533c820>, <cirq_superstaq.job.Job object at 0x7f84f4843eb0>, 0]\n"
     ]
    },
    {
     "name": "stderr",
     "output_type": "stream",
     "text": [
      "/Users/teague/opt/miniconda3/envs/superEnv/lib/python3.8/site-packages/urllib3/connectionpool.py:1013: InsecureRequestWarning: Unverified HTTPS request is being made to host '127.0.0.1'. Adding certificate verification is strongly advised. See: https://urllib3.readthedocs.io/en/1.26.x/advanced-usage.html#ssl-warnings\n",
      "  warnings.warn(\n",
      "/Users/teague/opt/miniconda3/envs/superEnv/lib/python3.8/site-packages/urllib3/connectionpool.py:1013: InsecureRequestWarning: Unverified HTTPS request is being made to host '127.0.0.1'. Adding certificate verification is strongly advised. See: https://urllib3.readthedocs.io/en/1.26.x/advanced-usage.html#ssl-warnings\n",
      "  warnings.warn(\n"
     ]
    },
    {
     "name": "stdout",
     "output_type": "stream",
     "text": [
      "Created AWS job: ['phasecode_5qubits2rounds_ionq', <supermarq.benchmarks.phase_code.PhaseCode object at 0x7f84f533c820>, <cirq_superstaq.job.Job object at 0x7f84f5288430>, 0]\n",
      "Created 5-qubit 3-round phase code benchmark\n",
      "0: ───X───H───H───@───H───H───────────@───H───H───────────@───H───────────────────────────────M───\n",
      "                  │                   │                   │                                   │\n",
      "1: ───R───H───────@───@───H───R───H───@───@───H───R───H───@───@───H───────────────────────────M───\n",
      "                      │                   │                   │                               │\n",
      "2: ───X───H───H───────@───@───H───H───────@───@───H───H───────@───@───H───────────────────────M───\n",
      "                          │                   │                   │                           │\n",
      "3: ───R───H───────────────@───@───H───R───H───@───@───H───R───H───@───@───H───────────────────M───\n",
      "                              │                   │                   │                       │\n",
      "4: ───X───H───H───────────────@───@───H───H───────@───@───H───H───────@───@───H───────────────M───\n",
      "                                  │                   │                   │                   │\n",
      "5: ───R───H───────────────────────@───@───H───R───H───@───@───H───R───H───@───@───H───────────M───\n",
      "                                      │                   │                   │               │\n",
      "6: ───X───H───H───────────────────────@───@───H───H───────@───@───H───H───────@───@───H───────M───\n",
      "                                          │                   │                   │           │\n",
      "7: ───R───H───────────────────────────────@───@───H───R───H───@───@───H───R───H───@───@───H───M───\n",
      "                                              │                   │                   │       │\n",
      "8: ───X───H───H───────────────────────────────@───H───H───────────@───H───H───────────@───H───M───\n"
     ]
    },
    {
     "name": "stderr",
     "output_type": "stream",
     "text": [
      "/Users/teague/opt/miniconda3/envs/superEnv/lib/python3.8/site-packages/urllib3/connectionpool.py:1013: InsecureRequestWarning: Unverified HTTPS request is being made to host '127.0.0.1'. Adding certificate verification is strongly advised. See: https://urllib3.readthedocs.io/en/1.26.x/advanced-usage.html#ssl-warnings\n",
      "  warnings.warn(\n",
      "/Users/teague/opt/miniconda3/envs/superEnv/lib/python3.8/site-packages/urllib3/connectionpool.py:1013: InsecureRequestWarning: Unverified HTTPS request is being made to host '127.0.0.1'. Adding certificate verification is strongly advised. See: https://urllib3.readthedocs.io/en/1.26.x/advanced-usage.html#ssl-warnings\n",
      "  warnings.warn(\n"
     ]
    },
    {
     "name": "stdout",
     "output_type": "stream",
     "text": [
      "Created IBM job: ['phasecode_5qubits3rounds_guadalupe', <supermarq.benchmarks.phase_code.PhaseCode object at 0x7f84f48bbb50>, <cirq_superstaq.job.Job object at 0x7f84f5319ee0>, 0]\n"
     ]
    },
    {
     "name": "stderr",
     "output_type": "stream",
     "text": [
      "/Users/teague/opt/miniconda3/envs/superEnv/lib/python3.8/site-packages/urllib3/connectionpool.py:1013: InsecureRequestWarning: Unverified HTTPS request is being made to host '127.0.0.1'. Adding certificate verification is strongly advised. See: https://urllib3.readthedocs.io/en/1.26.x/advanced-usage.html#ssl-warnings\n",
      "  warnings.warn(\n",
      "/Users/teague/opt/miniconda3/envs/superEnv/lib/python3.8/site-packages/urllib3/connectionpool.py:1013: InsecureRequestWarning: Unverified HTTPS request is being made to host '127.0.0.1'. Adding certificate verification is strongly advised. See: https://urllib3.readthedocs.io/en/1.26.x/advanced-usage.html#ssl-warnings\n",
      "  warnings.warn(\n"
     ]
    },
    {
     "name": "stdout",
     "output_type": "stream",
     "text": [
      "Created IBM job: ['phasecode_5qubits3rounds_montreal', <supermarq.benchmarks.phase_code.PhaseCode object at 0x7f84f48bbb50>, <cirq_superstaq.job.Job object at 0x7f84f4871ee0>, 0]\n"
     ]
    },
    {
     "name": "stderr",
     "output_type": "stream",
     "text": [
      "/Users/teague/opt/miniconda3/envs/superEnv/lib/python3.8/site-packages/urllib3/connectionpool.py:1013: InsecureRequestWarning: Unverified HTTPS request is being made to host '127.0.0.1'. Adding certificate verification is strongly advised. See: https://urllib3.readthedocs.io/en/1.26.x/advanced-usage.html#ssl-warnings\n",
      "  warnings.warn(\n",
      "/Users/teague/opt/miniconda3/envs/superEnv/lib/python3.8/site-packages/urllib3/connectionpool.py:1013: InsecureRequestWarning: Unverified HTTPS request is being made to host '127.0.0.1'. Adding certificate verification is strongly advised. See: https://urllib3.readthedocs.io/en/1.26.x/advanced-usage.html#ssl-warnings\n",
      "  warnings.warn(\n"
     ]
    },
    {
     "name": "stdout",
     "output_type": "stream",
     "text": [
      "Created IBM job: ['phasecode_5qubits3rounds_mumbai', <supermarq.benchmarks.phase_code.PhaseCode object at 0x7f84f48bbb50>, <cirq_superstaq.job.Job object at 0x7f84f48a6a00>, 0]\n"
     ]
    },
    {
     "name": "stderr",
     "output_type": "stream",
     "text": [
      "/Users/teague/opt/miniconda3/envs/superEnv/lib/python3.8/site-packages/urllib3/connectionpool.py:1013: InsecureRequestWarning: Unverified HTTPS request is being made to host '127.0.0.1'. Adding certificate verification is strongly advised. See: https://urllib3.readthedocs.io/en/1.26.x/advanced-usage.html#ssl-warnings\n",
      "  warnings.warn(\n",
      "/Users/teague/opt/miniconda3/envs/superEnv/lib/python3.8/site-packages/urllib3/connectionpool.py:1013: InsecureRequestWarning: Unverified HTTPS request is being made to host '127.0.0.1'. Adding certificate verification is strongly advised. See: https://urllib3.readthedocs.io/en/1.26.x/advanced-usage.html#ssl-warnings\n",
      "  warnings.warn(\n"
     ]
    },
    {
     "name": "stdout",
     "output_type": "stream",
     "text": [
      "Created AWS job: ['phasecode_5qubits3rounds_aspen9', <supermarq.benchmarks.phase_code.PhaseCode object at 0x7f84f48bbb50>, <cirq_superstaq.job.Job object at 0x7f84f48a67c0>, 0]\n"
     ]
    },
    {
     "name": "stderr",
     "output_type": "stream",
     "text": [
      "/Users/teague/opt/miniconda3/envs/superEnv/lib/python3.8/site-packages/urllib3/connectionpool.py:1013: InsecureRequestWarning: Unverified HTTPS request is being made to host '127.0.0.1'. Adding certificate verification is strongly advised. See: https://urllib3.readthedocs.io/en/1.26.x/advanced-usage.html#ssl-warnings\n",
      "  warnings.warn(\n",
      "/Users/teague/opt/miniconda3/envs/superEnv/lib/python3.8/site-packages/urllib3/connectionpool.py:1013: InsecureRequestWarning: Unverified HTTPS request is being made to host '127.0.0.1'. Adding certificate verification is strongly advised. See: https://urllib3.readthedocs.io/en/1.26.x/advanced-usage.html#ssl-warnings\n",
      "  warnings.warn(\n"
     ]
    },
    {
     "name": "stdout",
     "output_type": "stream",
     "text": [
      "Created AWS job: ['phasecode_5qubits3rounds_ionq', <supermarq.benchmarks.phase_code.PhaseCode object at 0x7f84f48bbb50>, <cirq_superstaq.job.Job object at 0x7f84f49808e0>, 0]\n"
     ]
    }
   ],
   "source": [
    "# Run Phase Code benchmarks\n",
    "for nq in [3, 5]:\n",
    "    for num_rounds in [2, 3]:\n",
    "        phasecode = sm.phase_code.PhaseCode(nq, num_rounds, [1]*nq)\n",
    "        print(f'Created {nq}-qubit {num_rounds}-round phase code benchmark')\n",
    "        print(phasecode.circuit())\n",
    "\n",
    "        # ibmq_casablanca, 7 qubits\n",
    "        if len(phasecode.circuit().all_qubits()) <= 7:\n",
    "            phasecode_jobs.append([\n",
    "                f'phasecode_{nq}qubits{num_rounds}rounds_casablanca',\n",
    "                phasecode,\n",
    "                ornl_service.create_job(circuit=phasecode.circuit(), repetitions=ibm_shots, target=\"ibmq_casablanca\"),\n",
    "                0,\n",
    "                ]\n",
    "            )\n",
    "            print(\"Created IBM job:\", phasecode_jobs[-1])\n",
    "\n",
    "        # ibmq_guadalupe, 16 qubits\n",
    "        if len(phasecode.circuit().all_qubits()) <= 16:\n",
    "            phasecode_jobs.append([\n",
    "                f'phasecode_{nq}qubits{num_rounds}rounds_guadalupe',\n",
    "                phasecode,\n",
    "                ornl_service.create_job(circuit=phasecode.circuit(), repetitions=ibm_shots, target=\"ibmq_guadalupe\"),\n",
    "                0,\n",
    "                ]\n",
    "            )\n",
    "            print(\"Created IBM job:\", phasecode_jobs[-1])\n",
    "\n",
    "        # ibmq_montreal, 27 qubits\n",
    "        if len(phasecode.circuit().all_qubits()) <= 27:\n",
    "            phasecode_jobs.append([\n",
    "                f'phasecode_{nq}qubits{num_rounds}rounds_montreal',\n",
    "                phasecode,\n",
    "                ornl_service.create_job(circuit=phasecode.circuit(), repetitions=ibm_shots, target=\"ibmq_montreal\"),\n",
    "                0,\n",
    "                ]\n",
    "            )\n",
    "            print(\"Created IBM job:\", phasecode_jobs[-1])\n",
    "\n",
    "        # ibmq_mumbai, 27 qubits\n",
    "        if len(phasecode.circuit().all_qubits()) <= 27:\n",
    "            phasecode_jobs.append([\n",
    "                f'phasecode_{nq}qubits{num_rounds}rounds_mumbai',\n",
    "                phasecode,\n",
    "                ornl_service.create_job(circuit=phasecode.circuit(), repetitions=ibm_shots, target=\"ibmq_mumbai\"),\n",
    "                0,\n",
    "                ]\n",
    "            )\n",
    "            print(\"Created IBM job:\", phasecode_jobs[-1])\n",
    "        \n",
    "        # ibmq_toronto, 27 qubits\n",
    "        #if len(phasecode.circuit().all_qubits()) <= 27:\n",
    "        #    phasecode_jobs.append([\n",
    "        #        f'phasecode_{nq}qubits{num_rounds}rounds_toronto',\n",
    "        #        phasecode,\n",
    "        #        ornl_service.create_job(circuit=phasecode.circuit(), repetitions=ibm_shots, target=\"ibmq_toronto\"),\n",
    "        #        0,\n",
    "        #    ])\n",
    "        #    print(\"Created IBM job:\", phasecode_jobs[-1])\n",
    "\n",
    "        # ibmq_lagos, 7 qubits\n",
    "        if len(phasecode.circuit().all_qubits()) <= 7:\n",
    "            phasecode_jobs.append([\n",
    "                f'phasecode_{nq}qubits{num_rounds}rounds_lagos',\n",
    "                phasecode,\n",
    "                supertech_service.create_job(circuit=phasecode.circuit(), repetitions=ibm_shots, target=\"ibm_lagos\"),\n",
    "                0,\n",
    "            ])\n",
    "            print(\"Created IBM job:\", phasecode_jobs[-1])\n",
    "            \n",
    "        # ibmq_santiago, 5 qubits\n",
    "        if len(phasecode.circuit().all_qubits()) <= 5:\n",
    "            phasecode_jobs.append([\n",
    "                f'phasecode_{nq}qubits{num_rounds}rounds_santiago',\n",
    "                phasecode,\n",
    "                ornl_service.create_job(circuit=phasecode.circuit(), repetitions=ibm_shots, target=\"ibmq_santiago\"),\n",
    "                0,\n",
    "            ])\n",
    "            print(\"Created IBM job:\", phasecode_jobs[-1])\n",
    "\n",
    "        # rigetti_aspen9, 32 qubits\n",
    "        if len(phasecode.circuit().all_qubits()) <= 32:\n",
    "            phasecode_jobs.append([\n",
    "                f'phasecode_{nq}qubits{num_rounds}rounds_aspen9',\n",
    "                phasecode,\n",
    "                ornl_service.create_job(circuit=phasecode.circuit(), repetitions=rigetti_shots, target=\"rigetti_aspen\"),\n",
    "                0,\n",
    "            ])\n",
    "            print(\"Created AWS job:\", phasecode_jobs[-1])\n",
    "\n",
    "        # ionq, 11 qubits\n",
    "        if len(phasecode.circuit().all_qubits()) <= 11:\n",
    "            phasecode_jobs.append([\n",
    "                f'phasecode_{nq}qubits{num_rounds}rounds_ionq',\n",
    "                phasecode,\n",
    "                ornl_service.create_job(circuit=phasecode.circuit(), repetitions=ionq_shots, target=\"ionq_ion\"),\n",
    "                0,\n",
    "            ])\n",
    "            print(\"Created AWS job:\", phasecode_jobs[-1])"
   ]
  },
  {
   "cell_type": "markdown",
   "id": "4f0bfe49-7f1e-4a5a-b806-d32fb2412e1d",
   "metadata": {},
   "source": [
    "## Compute scores and store results"
   ]
  },
  {
   "cell_type": "code",
   "execution_count": 124,
   "id": "da9471e4-de8b-4236-949b-48cbe7fb769c",
   "metadata": {
    "scrolled": true,
    "tags": []
   },
   "outputs": [
    {
     "name": "stdout",
     "output_type": "stream",
     "text": [
      "Completed 134/158 jobs\n",
      "phasecode_3qubits2rounds_casablanca, status: Done\n",
      "phasecode_3qubits2rounds_guadalupe, status: Done\n",
      "phasecode_3qubits2rounds_montreal, status: Done\n"
     ]
    },
    {
     "name": "stderr",
     "output_type": "stream",
     "text": [
      "/Users/teague/opt/miniconda3/envs/superEnv/lib/python3.8/site-packages/urllib3/connectionpool.py:1013: InsecureRequestWarning: Unverified HTTPS request is being made to host '127.0.0.1'. Adding certificate verification is strongly advised. See: https://urllib3.readthedocs.io/en/1.26.x/advanced-usage.html#ssl-warnings\n",
      "  warnings.warn(\n"
     ]
    },
    {
     "name": "stdout",
     "output_type": "stream",
     "text": [
      "phasecode_3qubits2rounds_toronto, status: Done\n",
      "\tCounts: {'00000': 133, '00001': 112, '00010': 29, '00011': 25, '00100': 135, '00101': 144, '00110': 28, '00111': 28, '01000': 43, '01001': 38, '01010': 27, '01011': 20, '01100': 35, '01101': 32, '01110': 28, '01111': 23, '10000': 151, '10001': 157, '10010': 28, '10011': 39, '10100': 147, '10101': 128, '10110': 24, '10111': 31, '11000': 74, '11001': 74, '11010': 28, '11011': 39, '11100': 72, '11101': 60, '11110': 31, '11111': 37}\n",
      "\tScore: 0.5513826909654106\n",
      "phasecode_3qubits2rounds_lagos, status: Done\n",
      "phasecode_3qubits2rounds_santiago, status: Done\n",
      "phasecode_3qubits3rounds_casablanca, status: Done\n",
      "phasecode_3qubits3rounds_guadalupe, status: Done\n",
      "phasecode_3qubits3rounds_montreal, status: Done\n"
     ]
    },
    {
     "name": "stderr",
     "output_type": "stream",
     "text": [
      "/Users/teague/opt/miniconda3/envs/superEnv/lib/python3.8/site-packages/urllib3/connectionpool.py:1013: InsecureRequestWarning: Unverified HTTPS request is being made to host '127.0.0.1'. Adding certificate verification is strongly advised. See: https://urllib3.readthedocs.io/en/1.26.x/advanced-usage.html#ssl-warnings\n",
      "  warnings.warn(\n"
     ]
    },
    {
     "name": "stdout",
     "output_type": "stream",
     "text": [
      "phasecode_3qubits3rounds_toronto, status: Done\n",
      "\tCounts: {'00000': 56, '00001': 57, '00010': 73, '00011': 57, '00100': 54, '00101': 59, '00110': 71, '00111': 70, '01000': 54, '01001': 69, '01010': 54, '01011': 58, '01100': 67, '01101': 57, '01110': 72, '01111': 48, '10000': 52, '10001': 56, '10010': 70, '10011': 76, '10100': 68, '10101': 57, '10110': 70, '10111': 51, '11000': 72, '11001': 53, '11010': 72, '11011': 65, '11100': 64, '11101': 61, '11110': 73, '11111': 64}\n",
      "\tScore: 0.22910581397171603\n",
      "phasecode_3qubits3rounds_lagos, status: Done\n",
      "phasecode_3qubits3rounds_santiago, status: Done\n",
      "phasecode_5qubits2rounds_guadalupe, status: Done\n",
      "phasecode_5qubits2rounds_montreal, status: Done\n"
     ]
    },
    {
     "name": "stderr",
     "output_type": "stream",
     "text": [
      "/Users/teague/opt/miniconda3/envs/superEnv/lib/python3.8/site-packages/urllib3/connectionpool.py:1013: InsecureRequestWarning: Unverified HTTPS request is being made to host '127.0.0.1'. Adding certificate verification is strongly advised. See: https://urllib3.readthedocs.io/en/1.26.x/advanced-usage.html#ssl-warnings\n",
      "  warnings.warn(\n"
     ]
    },
    {
     "name": "stdout",
     "output_type": "stream",
     "text": [
      "phasecode_5qubits2rounds_toronto, status: Done\n",
      "\tCounts: {'000000000': 7, '000000010': 2, '000000011': 3, '000000100': 5, '000000101': 5, '000000110': 5, '000000111': 7, '000001000': 2, '000001001': 3, '000001010': 3, '000001011': 3, '000001100': 4, '000001101': 1, '000001110': 5, '000001111': 1, '000010000': 2, '000010001': 5, '000010010': 2, '000010011': 2, '000010100': 7, '000010101': 4, '000010110': 2, '000010111': 5, '000011000': 2, '000011001': 3, '000011010': 1, '000011011': 3, '000011100': 1, '000011101': 2, '000011110': 3, '000011111': 8, '000100000': 6, '000100001': 5, '000100010': 6, '000100011': 3, '000100100': 10, '000100101': 8, '000100110': 8, '000100111': 4, '000101000': 2, '000101001': 3, '000101010': 2, '000101011': 2, '000101100': 1, '000101101': 3, '000101110': 5, '000101111': 3, '000110000': 9, '000110001': 6, '000110010': 2, '000110011': 5, '000110100': 6, '000110101': 11, '000110110': 6, '000110111': 5, '000111001': 4, '000111010': 3, '000111011': 5, '000111100': 1, '000111101': 1, '000111110': 5, '000111111': 3, '001000000': 4, '001000001': 2, '001000010': 2, '001000011': 1, '001000100': 2, '001000101': 2, '001000110': 1, '001000111': 3, '001001001': 7, '001001010': 1, '001001011': 6, '001001100': 1, '001001101': 1, '001001110': 5, '001001111': 6, '001010000': 6, '001010001': 5, '001010010': 4, '001010011': 3, '001010100': 2, '001010101': 5, '001010110': 4, '001010111': 5, '001011000': 1, '001011001': 4, '001011010': 2, '001011011': 2, '001011101': 4, '001011110': 5, '001011111': 2, '001100000': 6, '001100001': 3, '001100010': 5, '001100011': 4, '001100100': 8, '001100101': 4, '001100110': 2, '001100111': 5, '001101000': 4, '001101001': 4, '001101010': 5, '001101011': 6, '001101100': 6, '001101101': 4, '001101110': 3, '001101111': 7, '001110000': 5, '001110001': 7, '001110010': 5, '001110011': 4, '001110100': 7, '001110101': 6, '001110110': 8, '001110111': 1, '001111000': 7, '001111001': 6, '001111010': 4, '001111011': 5, '001111101': 4, '001111111': 5, '010000000': 3, '010000001': 6, '010000010': 3, '010000011': 5, '010000100': 7, '010000101': 5, '010000110': 5, '010000111': 2, '010001000': 3, '010001001': 2, '010001010': 3, '010001011': 3, '010001100': 8, '010001101': 4, '010001110': 3, '010001111': 4, '010010000': 4, '010010001': 7, '010010010': 4, '010010011': 1, '010010100': 5, '010010101': 6, '010010110': 4, '010010111': 3, '010011000': 2, '010011001': 2, '010011010': 3, '010011011': 2, '010011100': 2, '010011101': 4, '010011110': 4, '010011111': 2, '010100000': 7, '010100001': 6, '010100010': 5, '010100011': 3, '010100100': 10, '010100101': 9, '010100110': 6, '010100111': 5, '010101000': 6, '010101001': 1, '010101010': 4, '010101011': 6, '010101100': 7, '010101101': 3, '010101110': 1, '010101111': 6, '010110000': 12, '010110001': 8, '010110010': 4, '010110011': 3, '010110100': 9, '010110101': 13, '010110110': 4, '010110111': 9, '010111000': 3, '010111001': 3, '010111010': 7, '010111011': 4, '010111100': 5, '010111101': 5, '010111110': 4, '010111111': 3, '011000000': 1, '011000001': 4, '011000010': 4, '011000011': 2, '011000100': 5, '011000101': 2, '011000110': 3, '011000111': 2, '011001000': 2, '011001001': 8, '011001010': 2, '011001011': 1, '011001100': 1, '011001101': 2, '011001110': 6, '011001111': 2, '011010000': 4, '011010001': 5, '011010010': 5, '011010011': 2, '011010100': 1, '011010101': 7, '011010110': 3, '011010111': 7, '011011000': 3, '011011001': 4, '011011010': 5, '011011011': 6, '011011100': 2, '011011101': 5, '011011110': 4, '011011111': 2, '011100000': 7, '011100001': 10, '011100010': 3, '011100011': 5, '011100100': 7, '011100101': 7, '011100110': 4, '011100111': 5, '011101000': 5, '011101001': 3, '011101010': 3, '011101011': 3, '011101100': 3, '011101101': 6, '011101110': 5, '011101111': 6, '011110000': 5, '011110001': 7, '011110010': 2, '011110011': 4, '011110100': 12, '011110101': 8, '011110110': 4, '011110111': 8, '011111000': 2, '011111001': 1, '011111010': 6, '011111011': 5, '011111100': 2, '011111101': 1, '011111110': 6, '011111111': 5, '100000000': 4, '100000001': 3, '100000100': 1, '100000101': 2, '100000110': 2, '100000111': 1, '100001001': 4, '100001010': 1, '100001011': 3, '100001100': 6, '100001101': 3, '100001111': 3, '100010000': 3, '100010001': 1, '100010010': 1, '100010011': 2, '100010100': 2, '100010101': 2, '100010111': 2, '100011000': 4, '100011001': 2, '100011010': 2, '100011011': 3, '100011100': 2, '100011101': 4, '100011110': 3, '100011111': 2, '100100000': 7, '100100001': 8, '100100010': 6, '100100011': 6, '100100100': 5, '100100101': 14, '100100110': 4, '100100111': 4, '100101000': 3, '100101001': 4, '100101010': 2, '100101011': 5, '100101100': 4, '100101101': 1, '100101110': 3, '100101111': 3, '100110000': 1, '100110001': 5, '100110010': 3, '100110011': 4, '100110100': 12, '100110101': 6, '100110110': 9, '100110111': 2, '100111000': 2, '100111001': 1, '100111010': 3, '100111011': 3, '100111100': 2, '100111101': 1, '100111110': 6, '100111111': 3, '101000000': 5, '101000001': 3, '101000010': 2, '101000011': 1, '101000100': 3, '101000101': 3, '101000110': 3, '101000111': 3, '101001000': 3, '101001001': 5, '101001010': 6, '101001011': 2, '101001100': 3, '101001101': 3, '101010000': 1, '101010001': 2, '101010010': 2, '101010011': 3, '101010100': 4, '101010101': 5, '101010110': 2, '101010111': 1, '101011000': 2, '101011001': 3, '101011010': 2, '101011011': 3, '101011100': 1, '101011101': 1, '101011110': 5, '101011111': 5, '101100000': 4, '101100001': 8, '101100010': 1, '101100011': 7, '101100100': 5, '101100101': 3, '101100110': 6, '101100111': 3, '101101000': 1, '101101010': 7, '101101011': 5, '101101100': 4, '101101101': 1, '101101110': 1, '101101111': 1, '101110000': 3, '101110001': 3, '101110010': 2, '101110011': 4, '101110100': 3, '101110101': 7, '101110110': 7, '101110111': 8, '101111000': 1, '101111001': 1, '101111010': 4, '101111100': 3, '101111101': 2, '101111110': 1, '101111111': 7, '110000000': 7, '110000001': 4, '110000010': 2, '110000011': 6, '110000100': 6, '110000101': 3, '110000110': 5, '110000111': 8, '110001000': 4, '110001001': 3, '110001010': 5, '110001011': 2, '110001101': 3, '110001110': 3, '110001111': 2, '110010000': 3, '110010001': 3, '110010010': 1, '110010011': 3, '110010100': 7, '110010101': 4, '110010110': 1, '110011000': 2, '110011001': 6, '110011010': 3, '110011011': 2, '110011101': 6, '110011110': 2, '110011111': 1, '110100000': 5, '110100001': 14, '110100010': 7, '110100011': 2, '110100100': 9, '110100101': 7, '110100110': 6, '110100111': 2, '110101000': 1, '110101001': 2, '110101010': 6, '110101011': 4, '110101100': 2, '110101101': 2, '110101110': 6, '110101111': 3, '110110000': 4, '110110001': 10, '110110010': 6, '110110011': 4, '110110100': 14, '110110101': 8, '110110110': 8, '110110111': 6, '110111000': 2, '110111001': 5, '110111010': 1, '110111011': 4, '110111100': 2, '110111101': 2, '110111110': 4, '110111111': 7, '111000000': 3, '111000001': 2, '111000010': 2, '111000011': 5, '111000100': 3, '111000101': 6, '111000110': 1, '111000111': 5, '111001000': 1, '111001001': 5, '111001010': 4, '111001011': 3, '111001100': 6, '111001101': 5, '111001110': 3, '111001111': 1, '111010000': 6, '111010001': 4, '111010010': 4, '111010011': 4, '111010100': 3, '111010101': 4, '111010110': 3, '111010111': 3, '111011000': 6, '111011001': 5, '111011010': 5, '111011011': 4, '111011100': 4, '111011101': 1, '111011110': 3, '111011111': 4, '111100000': 7, '111100001': 4, '111100010': 6, '111100011': 1, '111100100': 10, '111100101': 3, '111100110': 3, '111100111': 9, '111101000': 1, '111101001': 4, '111101010': 1, '111101011': 7, '111101100': 4, '111101101': 2, '111101111': 5, '111110000': 7, '111110001': 7, '111110011': 3, '111110100': 4, '111110101': 10, '111110110': 2, '111110111': 8, '111111000': 1, '111111001': 1, '111111010': 5, '111111011': 3, '111111100': 2, '111111101': 4, '111111111': 3}\n",
      "\tScore: 0.04867145775625655\n",
      "phasecode_5qubits3rounds_guadalupe, status: Done\n",
      "phasecode_5qubits3rounds_montreal, status: Done\n"
     ]
    },
    {
     "name": "stderr",
     "output_type": "stream",
     "text": [
      "/Users/teague/opt/miniconda3/envs/superEnv/lib/python3.8/site-packages/urllib3/connectionpool.py:1013: InsecureRequestWarning: Unverified HTTPS request is being made to host '127.0.0.1'. Adding certificate verification is strongly advised. See: https://urllib3.readthedocs.io/en/1.26.x/advanced-usage.html#ssl-warnings\n",
      "  warnings.warn(\n"
     ]
    },
    {
     "name": "stdout",
     "output_type": "stream",
     "text": [
      "phasecode_5qubits3rounds_toronto, status: Done\n",
      "\tCounts: {'000000000': 6, '000000001': 1, '000000010': 3, '000000011': 1, '000000100': 5, '000000101': 2, '000000111': 2, '000001000': 3, '000001001': 3, '000001010': 4, '000001100': 3, '000001101': 4, '000001111': 2, '000010000': 3, '000010010': 4, '000010011': 4, '000010100': 4, '000010101': 5, '000010110': 2, '000010111': 1, '000011000': 5, '000011001': 4, '000011010': 2, '000011011': 2, '000011100': 6, '000011101': 9, '000011110': 4, '000011111': 2, '000100000': 5, '000100001': 4, '000100010': 6, '000100011': 3, '000100100': 5, '000100101': 9, '000100110': 2, '000100111': 1, '000101000': 2, '000101001': 5, '000101011': 2, '000101100': 3, '000101101': 4, '000101110': 4, '000101111': 3, '000110000': 2, '000110001': 4, '000110010': 1, '000110011': 2, '000110100': 3, '000110101': 2, '000110110': 3, '000111000': 2, '000111001': 4, '000111010': 5, '000111011': 3, '000111100': 2, '000111101': 3, '000111110': 1, '000111111': 3, '001000000': 9, '001000001': 7, '001000010': 5, '001000011': 3, '001000100': 9, '001000101': 8, '001000110': 2, '001000111': 2, '001001000': 5, '001001001': 9, '001001010': 4, '001001011': 2, '001001100': 7, '001001101': 7, '001001110': 7, '001001111': 5, '001010000': 2, '001010001': 2, '001010010': 2, '001010011': 3, '001010100': 2, '001010101': 2, '001010110': 1, '001010111': 3, '001011000': 4, '001011001': 3, '001011010': 2, '001011100': 6, '001011101': 4, '001011110': 1, '001100000': 3, '001100001': 2, '001100010': 3, '001100100': 6, '001100101': 6, '001100110': 2, '001100111': 1, '001101000': 8, '001101001': 4, '001101010': 1, '001101011': 3, '001101100': 6, '001101101': 5, '001101110': 4, '001101111': 1, '001110000': 2, '001110001': 4, '001110010': 2, '001110011': 1, '001110100': 2, '001110101': 5, '001110110': 2, '001110111': 3, '001111000': 1, '001111001': 8, '001111010': 2, '001111011': 3, '001111100': 4, '001111101': 3, '001111110': 1, '001111111': 1, '010000000': 5, '010000001': 5, '010000011': 2, '010000100': 5, '010000101': 2, '010000110': 4, '010000111': 7, '010001000': 4, '010001001': 1, '010001010': 4, '010001100': 3, '010001101': 6, '010001110': 3, '010001111': 3, '010010000': 4, '010010001': 5, '010010010': 3, '010010011': 2, '010010100': 3, '010010101': 6, '010010110': 3, '010011000': 10, '010011001': 13, '010011010': 2, '010011011': 3, '010011100': 7, '010011101': 3, '010011110': 7, '010011111': 4, '010100000': 2, '010100001': 2, '010100010': 4, '010100011': 2, '010100100': 5, '010100101': 8, '010100110': 3, '010100111': 2, '010101000': 8, '010101001': 1, '010101010': 5, '010101011': 2, '010101100': 6, '010101101': 7, '010101110': 4, '010101111': 3, '010110000': 3, '010110001': 5, '010110010': 5, '010110011': 2, '010110100': 9, '010110101': 5, '010110111': 3, '010111000': 5, '010111001': 10, '010111010': 3, '010111011': 7, '010111100': 3, '010111101': 5, '010111110': 3, '010111111': 4, '011000000': 4, '011000001': 5, '011000010': 1, '011000100': 5, '011000101': 6, '011000110': 3, '011000111': 5, '011001000': 1, '011001001': 3, '011001010': 6, '011001011': 2, '011001100': 3, '011001101': 11, '011001110': 1, '011001111': 3, '011010000': 1, '011010001': 1, '011010011': 1, '011010100': 4, '011010101': 2, '011011000': 5, '011011001': 4, '011011010': 4, '011011011': 1, '011011100': 3, '011011101': 2, '011011110': 2, '011100000': 4, '011100001': 10, '011100010': 5, '011100011': 6, '011100100': 1, '011100101': 9, '011100110': 4, '011100111': 2, '011101000': 5, '011101001': 6, '011101010': 1, '011101011': 2, '011101100': 5, '011101101': 8, '011101110': 2, '011101111': 2, '011110000': 4, '011110001': 6, '011110010': 3, '011110011': 3, '011110100': 4, '011110101': 3, '011110110': 2, '011111000': 6, '011111001': 6, '011111010': 4, '011111011': 3, '011111100': 4, '011111101': 5, '011111110': 1, '011111111': 6, '100000000': 4, '100000001': 5, '100000010': 4, '100000011': 6, '100000100': 3, '100000101': 6, '100000110': 3, '100000111': 3, '100001000': 5, '100001001': 5, '100001010': 1, '100001011': 2, '100001100': 6, '100001101': 7, '100001111': 5, '100010000': 4, '100010001': 5, '100010010': 3, '100010011': 5, '100010100': 3, '100010101': 4, '100010110': 4, '100010111': 3, '100011000': 5, '100011001': 5, '100011010': 1, '100011011': 3, '100011100': 8, '100011101': 6, '100011110': 6, '100011111': 3, '100100000': 8, '100100001': 6, '100100010': 5, '100100011': 3, '100100100': 10, '100100101': 8, '100100110': 3, '100100111': 2, '100101000': 5, '100101001': 4, '100101010': 4, '100101011': 5, '100101100': 5, '100101101': 5, '100101111': 2, '100110000': 6, '100110001': 5, '100110010': 3, '100110011': 6, '100110100': 5, '100110101': 3, '100110110': 5, '100110111': 3, '100111000': 3, '100111001': 4, '100111010': 4, '100111011': 7, '100111100': 10, '100111101': 8, '100111110': 5, '100111111': 3, '101000000': 5, '101000001': 14, '101000010': 4, '101000011': 4, '101000100': 9, '101000101': 9, '101000110': 2, '101000111': 3, '101001000': 3, '101001001': 5, '101001010': 4, '101001011': 4, '101001100': 4, '101001101': 7, '101001111': 6, '101010000': 2, '101010001': 1, '101010010': 3, '101010011': 1, '101010100': 6, '101010101': 4, '101010111': 1, '101011000': 2, '101011001': 3, '101011010': 3, '101011011': 1, '101011100': 4, '101011101': 2, '101011110': 2, '101011111': 5, '101100000': 5, '101100001': 3, '101100010': 1, '101100011': 7, '101100100': 3, '101100101': 15, '101100111': 3, '101101000': 6, '101101001': 5, '101101010': 1, '101101011': 2, '101101100': 12, '101101101': 7, '101101110': 2, '101101111': 4, '101110000': 4, '101110001': 8, '101110010': 6, '101110011': 3, '101110100': 3, '101110101': 3, '101110110': 3, '101110111': 4, '101111000': 7, '101111001': 6, '101111010': 4, '101111011': 2, '101111100': 6, '101111101': 5, '101111110': 2, '101111111': 3, '110000000': 2, '110000001': 4, '110000010': 4, '110000100': 7, '110000101': 6, '110000110': 3, '110000111': 1, '110001000': 7, '110001001': 4, '110001010': 1, '110001011': 6, '110001100': 9, '110001101': 5, '110001110': 3, '110001111': 4, '110010000': 7, '110010001': 4, '110010010': 5, '110010011': 5, '110010100': 5, '110010101': 7, '110010110': 3, '110010111': 2, '110011000': 9, '110011001': 8, '110011010': 3, '110011011': 5, '110011100': 3, '110011101': 9, '110011110': 1, '110011111': 5, '110100000': 5, '110100001': 10, '110100010': 1, '110100011': 1, '110100100': 8, '110100101': 3, '110100110': 3, '110100111': 3, '110101000': 10, '110101001': 2, '110101010': 7, '110101011': 2, '110101100': 7, '110101101': 2, '110101110': 1, '110101111': 1, '110110000': 3, '110110001': 8, '110110010': 5, '110110011': 5, '110110100': 5, '110110101': 11, '110110110': 1, '110110111': 4, '110111000': 9, '110111001': 4, '110111010': 1, '110111011': 2, '110111100': 2, '110111101': 4, '110111110': 2, '110111111': 7, '111000000': 6, '111000001': 3, '111000010': 5, '111000011': 3, '111000100': 12, '111000101': 10, '111000110': 3, '111000111': 2, '111001000': 6, '111001010': 3, '111001100': 9, '111001101': 7, '111001110': 6, '111001111': 2, '111010000': 3, '111010001': 7, '111010010': 4, '111010011': 5, '111010100': 5, '111010101': 3, '111010111': 1, '111011000': 4, '111011001': 5, '111011010': 3, '111011011': 2, '111011100': 7, '111011101': 8, '111011110': 3, '111100000': 1, '111100001': 5, '111100010': 1, '111100011': 2, '111100100': 6, '111100101': 10, '111100110': 1, '111100111': 5, '111101000': 7, '111101001': 5, '111101010': 3, '111101011': 4, '111101100': 6, '111101101': 5, '111101110': 1, '111101111': 3, '111110000': 4, '111110001': 2, '111110010': 3, '111110011': 3, '111110100': 7, '111110101': 4, '111110110': 1, '111110111': 2, '111111000': 1, '111111001': 3, '111111010': 4, '111111011': 1, '111111100': 4, '111111101': 3, '111111110': 3, '111111111': 4}\n",
      "\tScore: 0.06646328307494649\n",
      "phasecode_3qubits2rounds_casablanca, status: Done\n",
      "phasecode_3qubits2rounds_guadalupe, status: Done\n",
      "phasecode_3qubits2rounds_montreal, status: Done\n"
     ]
    },
    {
     "name": "stderr",
     "output_type": "stream",
     "text": [
      "/Users/teague/opt/miniconda3/envs/superEnv/lib/python3.8/site-packages/urllib3/connectionpool.py:1013: InsecureRequestWarning: Unverified HTTPS request is being made to host '127.0.0.1'. Adding certificate verification is strongly advised. See: https://urllib3.readthedocs.io/en/1.26.x/advanced-usage.html#ssl-warnings\n",
      "  warnings.warn(\n"
     ]
    },
    {
     "name": "stdout",
     "output_type": "stream",
     "text": [
      "phasecode_3qubits2rounds_toronto, status: Done\n",
      "\tCounts: {'00000': 144, '00001': 109, '00010': 52, '00011': 57, '00100': 111, '00101': 100, '00110': 53, '00111': 56, '01000': 47, '01001': 48, '01010': 41, '01011': 41, '01100': 61, '01101': 44, '01110': 39, '01111': 39, '10000': 128, '10001': 116, '10010': 39, '10011': 53, '10100': 120, '10101': 92, '10110': 37, '10111': 58, '11000': 57, '11001': 39, '11010': 38, '11011': 37, '11100': 52, '11101': 35, '11110': 29, '11111': 28}\n",
      "\tScore: 0.45841112059711747\n",
      "phasecode_3qubits2rounds_lagos, status: Done\n",
      "phasecode_3qubits2rounds_santiago, status: Done\n",
      "phasecode_3qubits3rounds_casablanca, status: Done\n",
      "phasecode_3qubits3rounds_guadalupe, status: Done\n",
      "phasecode_3qubits3rounds_montreal, status: Done\n"
     ]
    },
    {
     "name": "stderr",
     "output_type": "stream",
     "text": [
      "/Users/teague/opt/miniconda3/envs/superEnv/lib/python3.8/site-packages/urllib3/connectionpool.py:1013: InsecureRequestWarning: Unverified HTTPS request is being made to host '127.0.0.1'. Adding certificate verification is strongly advised. See: https://urllib3.readthedocs.io/en/1.26.x/advanced-usage.html#ssl-warnings\n",
      "  warnings.warn(\n"
     ]
    },
    {
     "name": "stdout",
     "output_type": "stream",
     "text": [
      "phasecode_3qubits3rounds_toronto, status: Done\n",
      "\tCounts: {'00000': 57, '00001': 52, '00010': 94, '00011': 68, '00100': 54, '00101': 41, '00110': 81, '00111': 55, '01000': 63, '01001': 40, '01010': 81, '01011': 59, '01100': 74, '01101': 43, '01110': 86, '01111': 65, '10000': 44, '10001': 39, '10010': 92, '10011': 78, '10100': 40, '10101': 49, '10110': 79, '10111': 66, '11000': 56, '11001': 48, '11010': 86, '11011': 70, '11100': 52, '11101': 41, '11110': 95, '11111': 52}\n",
      "\tScore: 0.18709882306814213\n",
      "phasecode_3qubits3rounds_lagos, status: Done\n",
      "phasecode_3qubits3rounds_santiago, status: Done\n",
      "phasecode_5qubits2rounds_guadalupe, status: Done\n",
      "phasecode_5qubits2rounds_montreal, status: Done\n"
     ]
    },
    {
     "name": "stderr",
     "output_type": "stream",
     "text": [
      "/Users/teague/opt/miniconda3/envs/superEnv/lib/python3.8/site-packages/urllib3/connectionpool.py:1013: InsecureRequestWarning: Unverified HTTPS request is being made to host '127.0.0.1'. Adding certificate verification is strongly advised. See: https://urllib3.readthedocs.io/en/1.26.x/advanced-usage.html#ssl-warnings\n",
      "  warnings.warn(\n"
     ]
    },
    {
     "name": "stdout",
     "output_type": "stream",
     "text": [
      "phasecode_5qubits2rounds_toronto, status: Done\n",
      "\tCounts: {'000000000': 3, '000000001': 1, '000000010': 1, '000000011': 1, '000000100': 4, '000000101': 1, '000001000': 2, '000001001': 1, '000001010': 2, '000001011': 2, '000001100': 1, '000001101': 1, '000001110': 2, '000001111': 2, '000010000': 2, '000010001': 1, '000010100': 3, '000010101': 1, '000010110': 3, '000011000': 1, '000011001': 1, '000011010': 1, '000011011': 1, '000011101': 2, '000011110': 3, '000100000': 1, '000100001': 5, '000100010': 3, '000100011': 1, '000100100': 6, '000100101': 5, '000100110': 4, '000100111': 1, '000101000': 1, '000101001': 3, '000101010': 3, '000101011': 2, '000101100': 3, '000101101': 2, '000101110': 3, '000101111': 4, '000110000': 6, '000110001': 1, '000110010': 1, '000110011': 1, '000110100': 5, '000110101': 1, '000111001': 5, '000111010': 1, '000111100': 4, '000111101': 4, '000111110': 2, '000111111': 1, '001000000': 25, '001000001': 24, '001000010': 12, '001000011': 7, '001000100': 30, '001000101': 22, '001000110': 13, '001000111': 6, '001001000': 11, '001001001': 7, '001001010': 13, '001001011': 18, '001001100': 7, '001001101': 5, '001001110': 11, '001001111': 6, '001010000': 28, '001010001': 12, '001010010': 5, '001010011': 5, '001010100': 38, '001010101': 11, '001010110': 9, '001010111': 5, '001011000': 11, '001011001': 10, '001011010': 15, '001011011': 7, '001011100': 8, '001011101': 7, '001011110': 14, '001011111': 5, '001100000': 2, '001100001': 3, '001100010': 2, '001100011': 1, '001100100': 5, '001100101': 7, '001100110': 1, '001100111': 2, '001101000': 2, '001101001': 1, '001101010': 6, '001101011': 2, '001101101': 1, '001101111': 1, '001110000': 6, '001110001': 3, '001110100': 4, '001110101': 6, '001110111': 5, '001111000': 1, '001111001': 2, '001111010': 3, '001111011': 3, '001111100': 1, '001111101': 2, '001111110': 5, '001111111': 2, '010000000': 4, '010000001': 3, '010000010': 2, '010000011': 2, '010000100': 12, '010000101': 4, '010000110': 2, '010000111': 3, '010001000': 3, '010001010': 2, '010001011': 4, '010001100': 2, '010001101': 3, '010001110': 6, '010001111': 2, '010010000': 4, '010010001': 9, '010010010': 3, '010010011': 1, '010010100': 8, '010010101': 2, '010010110': 1, '010010111': 2, '010011000': 3, '010011001': 3, '010011010': 3, '010011011': 4, '010011100': 2, '010011101': 3, '010011110': 4, '010011111': 3, '010100000': 10, '010100001': 6, '010100010': 2, '010100011': 2, '010100100': 8, '010100101': 4, '010100110': 2, '010100111': 1, '010101000': 1, '010101001': 5, '010101010': 6, '010101011': 1, '010101100': 4, '010101101': 3, '010101110': 4, '010101111': 2, '010110000': 6, '010110001': 3, '010110010': 2, '010110011': 2, '010110100': 9, '010110101': 10, '010110110': 5, '010110111': 1, '010111000': 1, '010111001': 2, '010111010': 5, '010111011': 4, '010111100': 3, '010111101': 1, '010111110': 4, '010111111': 4, '011000000': 16, '011000001': 18, '011000010': 6, '011000011': 6, '011000100': 13, '011000101': 11, '011000110': 4, '011000111': 1, '011001000': 16, '011001001': 5, '011001010': 16, '011001011': 10, '011001100': 4, '011001101': 13, '011001110': 6, '011001111': 14, '011010000': 18, '011010001': 11, '011010010': 6, '011010011': 6, '011010100': 13, '011010101': 14, '011010110': 10, '011010111': 3, '011011000': 9, '011011001': 4, '011011010': 14, '011011011': 7, '011011100': 10, '011011101': 10, '011011110': 9, '011011111': 6, '011100000': 6, '011100001': 5, '011100010': 4, '011100011': 3, '011100100': 5, '011100101': 8, '011100110': 1, '011100111': 1, '011101000': 4, '011101001': 5, '011101010': 6, '011101011': 2, '011101100': 3, '011101101': 4, '011101110': 6, '011101111': 5, '011110000': 10, '011110001': 9, '011110010': 1, '011110011': 1, '011110100': 4, '011110101': 7, '011110111': 3, '011111000': 3, '011111001': 4, '011111010': 2, '011111011': 6, '011111100': 2, '011111101': 2, '011111110': 5, '011111111': 1, '100000000': 4, '100000001': 1, '100000100': 5, '100000101': 2, '100000110': 2, '100001000': 4, '100001001': 3, '100001100': 1, '100001101': 1, '100001111': 1, '100010011': 1, '100010100': 5, '100010101': 2, '100011000': 1, '100011010': 2, '100011011': 2, '100011100': 1, '100011110': 2, '100100000': 2, '100100001': 9, '100100010': 1, '100100011': 2, '100100100': 13, '100100101': 11, '100100110': 3, '100100111': 4, '100101000': 4, '100101001': 4, '100101010': 5, '100101011': 4, '100101101': 3, '100101110': 5, '100101111': 6, '100110000': 11, '100110001': 6, '100110010': 1, '100110011': 6, '100110100': 13, '100110101': 12, '100110111': 5, '100111000': 2, '100111001': 4, '100111010': 7, '100111011': 5, '100111100': 3, '100111101': 5, '100111110': 3, '100111111': 4, '101000000': 4, '101000001': 5, '101000011': 1, '101000100': 4, '101000101': 5, '101001000': 2, '101001001': 2, '101001010': 4, '101001011': 2, '101001100': 1, '101001101': 1, '101001111': 2, '101010000': 4, '101010001': 1, '101010011': 1, '101010100': 5, '101010101': 3, '101010111': 1, '101011000': 2, '101011001': 1, '101011010': 2, '101011011': 5, '101011100': 1, '101011110': 2, '101100000': 1, '101100001': 2, '101100010': 1, '101100100': 4, '101100101': 1, '101100111': 1, '101101000': 1, '101101010': 1, '101101011': 2, '101101100': 1, '101101101': 1, '101101110': 2, '101101111': 1, '101110000': 1, '101110001': 2, '101110010': 1, '101110011': 1, '101110100': 1, '101111000': 4, '101111001': 1, '101111010': 3, '101111100': 1, '101111110': 1, '101111111': 2, '110000000': 2, '110000001': 11, '110000010': 2, '110000011': 2, '110000100': 9, '110000101': 1, '110000110': 1, '110000111': 2, '110001000': 2, '110001001': 2, '110001010': 1, '110001100': 4, '110001101': 2, '110001110': 2, '110010000': 5, '110010001': 1, '110010100': 4, '110010101': 4, '110010110': 1, '110011000': 2, '110011001': 2, '110011010': 1, '110011011': 1, '110011101': 2, '110011110': 3, '110011111': 1, '110100000': 7, '110100001': 2, '110100010': 1, '110100011': 2, '110100100': 6, '110100101': 9, '110100110': 3, '110100111': 1, '110101001': 1, '110101011': 5, '110101100': 1, '110101101': 2, '110101110': 5, '110110000': 1, '110110001': 4, '110110100': 7, '110110101': 5, '110110110': 1, '110110111': 1, '110111000': 1, '110111001': 2, '110111010': 2, '110111011': 1, '110111101': 2, '110111111': 3, '111000000': 12, '111000001': 19, '111000010': 3, '111000011': 2, '111000100': 13, '111000101': 6, '111000110': 5, '111000111': 3, '111001000': 3, '111001001': 1, '111001010': 7, '111001011': 5, '111001100': 5, '111001101': 2, '111001110': 12, '111001111': 6, '111010000': 18, '111010001': 14, '111010010': 3, '111010011': 4, '111010100': 11, '111010101': 6, '111010110': 4, '111010111': 3, '111011000': 8, '111011001': 4, '111011010': 3, '111011011': 6, '111011100': 6, '111011101': 2, '111011110': 3, '111011111': 4, '111100000': 2, '111100001': 3, '111100100': 5, '111100101': 3, '111100110': 1, '111100111': 1, '111101000': 3, '111101001': 1, '111101010': 5, '111101011': 2, '111101100': 4, '111101101': 2, '111101110': 2, '111110000': 5, '111110001': 4, '111110100': 3, '111110101': 3, '111110110': 2, '111110111': 2, '111111001': 3, '111111011': 5, '111111100': 2, '111111101': 2, '111111110': 3, '111111111': 6}\n",
      "\tScore: 0.08866782462919966\n",
      "phasecode_5qubits3rounds_guadalupe, status: Done\n",
      "phasecode_5qubits3rounds_montreal, status: Done\n"
     ]
    },
    {
     "name": "stderr",
     "output_type": "stream",
     "text": [
      "/Users/teague/opt/miniconda3/envs/superEnv/lib/python3.8/site-packages/urllib3/connectionpool.py:1013: InsecureRequestWarning: Unverified HTTPS request is being made to host '127.0.0.1'. Adding certificate verification is strongly advised. See: https://urllib3.readthedocs.io/en/1.26.x/advanced-usage.html#ssl-warnings\n",
      "  warnings.warn(\n",
      "INTERNAL SERVER ERROR\n",
      "/Users/teague/opt/miniconda3/envs/superEnv/lib/python3.8/site-packages/urllib3/connectionpool.py:1013: InsecureRequestWarning: Unverified HTTPS request is being made to host '127.0.0.1'. Adding certificate verification is strongly advised. See: https://urllib3.readthedocs.io/en/1.26.x/advanced-usage.html#ssl-warnings\n",
      "  warnings.warn(\n",
      "INTERNAL SERVER ERROR\n"
     ]
    },
    {
     "name": "stdout",
     "output_type": "stream",
     "text": [
      "Waiting 0.1 seconds before retrying.\n",
      "Waiting 0.2 seconds before retrying.\n"
     ]
    },
    {
     "name": "stderr",
     "output_type": "stream",
     "text": [
      "/Users/teague/opt/miniconda3/envs/superEnv/lib/python3.8/site-packages/urllib3/connectionpool.py:1013: InsecureRequestWarning: Unverified HTTPS request is being made to host '127.0.0.1'. Adding certificate verification is strongly advised. See: https://urllib3.readthedocs.io/en/1.26.x/advanced-usage.html#ssl-warnings\n",
      "  warnings.warn(\n",
      "INTERNAL SERVER ERROR\n"
     ]
    },
    {
     "name": "stdout",
     "output_type": "stream",
     "text": [
      "Waiting 0.4 seconds before retrying.\n"
     ]
    },
    {
     "name": "stderr",
     "output_type": "stream",
     "text": [
      "/Users/teague/opt/miniconda3/envs/superEnv/lib/python3.8/site-packages/urllib3/connectionpool.py:1013: InsecureRequestWarning: Unverified HTTPS request is being made to host '127.0.0.1'. Adding certificate verification is strongly advised. See: https://urllib3.readthedocs.io/en/1.26.x/advanced-usage.html#ssl-warnings\n",
      "  warnings.warn(\n",
      "INTERNAL SERVER ERROR\n"
     ]
    },
    {
     "name": "stdout",
     "output_type": "stream",
     "text": [
      "Waiting 0.8 seconds before retrying.\n"
     ]
    },
    {
     "name": "stderr",
     "output_type": "stream",
     "text": [
      "/Users/teague/opt/miniconda3/envs/superEnv/lib/python3.8/site-packages/urllib3/connectionpool.py:1013: InsecureRequestWarning: Unverified HTTPS request is being made to host '127.0.0.1'. Adding certificate verification is strongly advised. See: https://urllib3.readthedocs.io/en/1.26.x/advanced-usage.html#ssl-warnings\n",
      "  warnings.warn(\n"
     ]
    },
    {
     "name": "stdout",
     "output_type": "stream",
     "text": [
      "phasecode_5qubits3rounds_toronto, status: Done\n",
      "\tCounts: {'000000000': 1, '000000001': 3, '000000010': 1, '000000011': 6, '000000101': 3, '000000110': 4, '000000111': 4, '000001000': 5, '000001001': 2, '000001010': 5, '000001011': 7, '000001100': 3, '000001101': 10, '000001110': 7, '000001111': 4, '000010000': 4, '000010010': 2, '000010011': 4, '000010100': 1, '000010110': 2, '000010111': 3, '000011000': 3, '000011001': 3, '000011010': 3, '000011011': 7, '000011100': 5, '000011101': 2, '000011110': 4, '000011111': 3, '000100000': 7, '000100001': 3, '000100010': 3, '000100011': 5, '000100100': 3, '000100101': 2, '000100110': 4, '000100111': 3, '000101000': 2, '000101001': 4, '000101010': 4, '000101011': 2, '000101100': 2, '000101110': 2, '000110000': 2, '000110001': 4, '000110010': 8, '000110011': 4, '000110100': 4, '000110101': 7, '000110110': 6, '000110111': 8, '000111000': 2, '000111001': 7, '000111010': 4, '000111011': 7, '000111100': 2, '000111101': 3, '000111110': 2, '000111111': 2, '001000000': 1, '001000001': 2, '001000010': 2, '001000011': 1, '001000100': 3, '001000101': 2, '001000110': 1, '001000111': 2, '001001001': 3, '001001010': 3, '001001011': 1, '001001101': 2, '001001110': 3, '001010001': 1, '001010010': 5, '001010011': 2, '001010100': 3, '001010101': 4, '001010111': 2, '001011000': 3, '001011001': 1, '001011010': 2, '001011011': 2, '001011100': 2, '001011101': 1, '001011110': 2, '001011111': 5, '001100000': 1, '001100001': 1, '001100010': 1, '001100011': 1, '001100101': 1, '001100110': 1, '001100111': 2, '001101000': 2, '001101001': 2, '001101010': 3, '001101011': 5, '001101100': 3, '001101101': 1, '001101111': 5, '001110000': 1, '001110001': 2, '001110010': 1, '001110011': 1, '001110101': 2, '001110110': 1, '001110111': 3, '001111000': 2, '001111001': 3, '001111010': 2, '001111011': 1, '001111100': 1, '001111101': 2, '001111110': 2, '001111111': 5, '010000000': 3, '010000001': 6, '010000010': 6, '010000011': 8, '010000100': 4, '010000101': 6, '010000110': 8, '010000111': 7, '010001000': 3, '010001001': 6, '010001010': 9, '010001011': 7, '010001100': 4, '010001101': 7, '010001110': 5, '010001111': 2, '010010000': 5, '010010001': 1, '010010010': 10, '010010011': 3, '010010101': 3, '010010110': 3, '010010111': 3, '010011000': 5, '010011001': 4, '010011010': 7, '010011011': 9, '010011100': 3, '010011101': 4, '010011110': 9, '010011111': 4, '010100000': 4, '010100001': 5, '010100010': 4, '010100011': 6, '010100100': 2, '010100101': 3, '010100110': 6, '010100111': 7, '010101000': 6, '010101001': 2, '010101010': 4, '010101011': 9, '010101100': 5, '010101101': 2, '010101110': 2, '010101111': 2, '010110000': 7, '010110001': 3, '010110010': 8, '010110011': 10, '010110100': 4, '010110101': 5, '010110110': 4, '010110111': 3, '010111000': 2, '010111001': 8, '010111010': 4, '010111011': 9, '010111100': 3, '010111110': 6, '010111111': 8, '011000000': 4, '011000001': 2, '011000010': 1, '011000011': 4, '011000100': 5, '011000110': 4, '011000111': 4, '011001000': 4, '011001001': 4, '011001010': 8, '011001011': 7, '011001100': 3, '011001101': 3, '011001110': 4, '011001111': 5, '011010000': 9, '011010001': 7, '011010010': 7, '011010011': 2, '011010100': 3, '011010101': 3, '011010110': 8, '011010111': 7, '011011000': 2, '011011001': 3, '011011010': 6, '011011011': 7, '011011100': 1, '011011101': 8, '011011110': 6, '011011111': 4, '011100000': 3, '011100001': 7, '011100010': 3, '011100011': 11, '011100100': 4, '011100101': 4, '011100110': 6, '011101000': 1, '011101001': 2, '011101010': 2, '011101011': 5, '011101100': 6, '011101101': 6, '011101110': 5, '011101111': 7, '011110000': 3, '011110001': 2, '011110010': 6, '011110011': 3, '011110100': 4, '011110101': 3, '011110110': 3, '011110111': 7, '011111000': 11, '011111001': 2, '011111010': 8, '011111011': 5, '011111100': 5, '011111101': 3, '011111110': 7, '011111111': 10, '100000010': 4, '100000011': 1, '100000100': 4, '100000101': 1, '100000110': 1, '100000111': 1, '100001000': 2, '100001001': 1, '100001010': 4, '100001011': 3, '100001101': 3, '100001111': 4, '100010000': 1, '100010001': 2, '100010010': 5, '100010011': 2, '100010100': 1, '100010101': 1, '100010110': 3, '100010111': 3, '100011000': 3, '100011001': 2, '100011010': 2, '100011100': 2, '100011101': 1, '100011110': 3, '100011111': 1, '100100000': 1, '100100001': 3, '100100010': 2, '100100011': 1, '100100100': 2, '100101000': 2, '100101001': 1, '100101010': 3, '100101011': 1, '100101100': 1, '100101110': 4, '100101111': 1, '100110000': 2, '100110001': 3, '100110010': 2, '100110011': 4, '100110100': 2, '100110101': 2, '100110111': 1, '100111000': 3, '100111001': 3, '100111010': 4, '100111011': 2, '100111100': 3, '100111110': 3, '100111111': 4, '101000000': 4, '101000001': 2, '101000010': 5, '101000011': 4, '101000100': 4, '101000101': 4, '101000110': 1, '101000111': 3, '101001000': 3, '101001010': 2, '101001011': 4, '101001100': 3, '101001101': 4, '101001110': 2, '101001111': 2, '101010000': 2, '101010001': 4, '101010010': 7, '101010011': 4, '101010100': 5, '101010101': 4, '101010110': 7, '101010111': 2, '101011000': 5, '101011001': 4, '101011010': 5, '101011011': 7, '101011100': 2, '101011101': 4, '101011110': 5, '101011111': 2, '101100000': 4, '101100001': 3, '101100010': 1, '101100011': 4, '101100100': 1, '101100101': 2, '101100110': 3, '101101000': 4, '101101001': 8, '101101010': 8, '101101011': 3, '101101100': 3, '101101101': 1, '101101110': 5, '101101111': 9, '101110000': 6, '101110001': 2, '101110010': 2, '101110011': 5, '101110100': 3, '101110101': 3, '101110110': 4, '101110111': 2, '101111000': 5, '101111001': 4, '101111010': 9, '101111011': 2, '101111100': 4, '101111101': 1, '101111110': 4, '101111111': 2, '110000000': 4, '110000001': 3, '110000010': 6, '110000011': 3, '110000100': 3, '110000101': 4, '110000110': 6, '110000111': 5, '110001000': 2, '110001001': 5, '110001010': 6, '110001011': 8, '110001100': 5, '110001101': 2, '110001110': 7, '110001111': 5, '110010000': 8, '110010001': 9, '110010010': 8, '110010011': 4, '110010100': 6, '110010101': 2, '110010110': 4, '110010111': 7, '110011000': 7, '110011001': 5, '110011010': 9, '110011011': 6, '110011100': 7, '110011101': 1, '110011110': 4, '110011111': 7, '110100000': 3, '110100001': 3, '110100010': 3, '110100011': 2, '110100100': 1, '110100101': 1, '110100110': 1, '110100111': 5, '110101000': 4, '110101001': 3, '110101010': 4, '110101011': 6, '110101100': 8, '110101101': 6, '110101110': 7, '110101111': 4, '110110000': 6, '110110001': 4, '110110010': 9, '110110011': 9, '110110100': 5, '110110101': 2, '110110110': 3, '110110111': 6, '110111000': 6, '110111001': 5, '110111010': 9, '110111011': 5, '110111100': 6, '110111101': 6, '110111110': 6, '110111111': 6, '111000000': 4, '111000001': 4, '111000010': 3, '111000011': 7, '111000100': 3, '111000110': 8, '111000111': 3, '111001000': 3, '111001001': 7, '111001010': 7, '111001011': 4, '111001100': 5, '111001101': 5, '111001110': 2, '111001111': 5, '111010000': 3, '111010001': 11, '111010010': 9, '111010011': 8, '111010100': 5, '111010101': 6, '111010110': 6, '111010111': 11, '111011000': 6, '111011001': 8, '111011010': 10, '111011011': 1, '111011100': 5, '111011101': 6, '111011110': 9, '111011111': 7, '111100000': 3, '111100001': 5, '111100010': 3, '111100011': 10, '111100100': 7, '111100101': 2, '111100110': 5, '111100111': 3, '111101000': 6, '111101001': 4, '111101010': 5, '111101011': 4, '111101100': 3, '111101101': 7, '111101110': 5, '111101111': 6, '111110000': 7, '111110001': 8, '111110010': 8, '111110011': 12, '111110100': 4, '111110101': 8, '111110110': 5, '111110111': 5, '111111000': 8, '111111001': 2, '111111010': 6, '111111011': 7, '111111100': 2, '111111101': 5, '111111110': 7, '111111111': 7}\n",
      "\tScore: 0.025309713231431448\n",
      "phasecode_3qubits2rounds_casablanca, status: Done\n",
      "phasecode_3qubits2rounds_guadalupe, status: Done\n",
      "phasecode_3qubits2rounds_montreal, status: Done\n"
     ]
    },
    {
     "name": "stderr",
     "output_type": "stream",
     "text": [
      "/Users/teague/opt/miniconda3/envs/superEnv/lib/python3.8/site-packages/urllib3/connectionpool.py:1013: InsecureRequestWarning: Unverified HTTPS request is being made to host '127.0.0.1'. Adding certificate verification is strongly advised. See: https://urllib3.readthedocs.io/en/1.26.x/advanced-usage.html#ssl-warnings\n",
      "  warnings.warn(\n"
     ]
    },
    {
     "name": "stdout",
     "output_type": "stream",
     "text": [
      "phasecode_3qubits2rounds_toronto, status: Done\n",
      "\tCounts: {'00000': 68, '00001': 41, '00010': 114, '00011': 105, '00100': 54, '00101': 60, '00110': 145, '00111': 116, '01000': 32, '01001': 48, '01010': 40, '01011': 39, '01100': 41, '01101': 50, '01110': 38, '01111': 35, '10000': 54, '10001': 52, '10010': 130, '10011': 127, '10100': 48, '10101': 55, '10110': 118, '10111': 120, '11000': 37, '11001': 34, '11010': 38, '11011': 32, '11100': 39, '11101': 30, '11110': 34, '11111': 26}\n",
      "\tScore: 0.21519975229763733\n",
      "phasecode_3qubits2rounds_lagos, status: Done\n",
      "phasecode_3qubits2rounds_santiago, status: Done\n",
      "phasecode_3qubits2rounds_aspen9, status: Done\n",
      "phasecode_3qubits2rounds_ionq, status: Done\n",
      "phasecode_3qubits3rounds_casablanca, status: Done\n",
      "phasecode_3qubits3rounds_guadalupe, status: Done\n",
      "phasecode_3qubits3rounds_montreal, status: Done\n"
     ]
    },
    {
     "name": "stderr",
     "output_type": "stream",
     "text": [
      "/Users/teague/opt/miniconda3/envs/superEnv/lib/python3.8/site-packages/urllib3/connectionpool.py:1013: InsecureRequestWarning: Unverified HTTPS request is being made to host '127.0.0.1'. Adding certificate verification is strongly advised. See: https://urllib3.readthedocs.io/en/1.26.x/advanced-usage.html#ssl-warnings\n",
      "  warnings.warn(\n"
     ]
    },
    {
     "name": "stdout",
     "output_type": "stream",
     "text": [
      "phasecode_3qubits3rounds_toronto, status: Done\n",
      "\tCounts: {'00000': 77, '00001': 68, '00010': 57, '00011': 57, '00100': 63, '00101': 58, '00110': 47, '00111': 38, '01000': 78, '01001': 99, '01010': 47, '01011': 42, '01100': 84, '01101': 75, '01110': 53, '01111': 68, '10000': 63, '10001': 68, '10010': 61, '10011': 57, '10100': 45, '10101': 47, '10110': 49, '10111': 45, '11000': 81, '11001': 75, '11010': 56, '11011': 51, '11100': 85, '11101': 98, '11110': 61, '11111': 47}\n",
      "\tScore: 0.24273165767071092\n",
      "phasecode_3qubits3rounds_lagos, status: Done\n",
      "phasecode_3qubits3rounds_santiago, status: Done\n",
      "phasecode_3qubits3rounds_aspen9, status: Done\n",
      "phasecode_3qubits3rounds_ionq, status: Done\n",
      "phasecode_5qubits2rounds_guadalupe, status: Done\n",
      "phasecode_5qubits2rounds_montreal, status: Done\n"
     ]
    },
    {
     "name": "stderr",
     "output_type": "stream",
     "text": [
      "/Users/teague/opt/miniconda3/envs/superEnv/lib/python3.8/site-packages/urllib3/connectionpool.py:1013: InsecureRequestWarning: Unverified HTTPS request is being made to host '127.0.0.1'. Adding certificate verification is strongly advised. See: https://urllib3.readthedocs.io/en/1.26.x/advanced-usage.html#ssl-warnings\n",
      "  warnings.warn(\n"
     ]
    },
    {
     "name": "stdout",
     "output_type": "stream",
     "text": [
      "phasecode_5qubits2rounds_toronto, status: Done\n",
      "\tCounts: {'000000000': 2, '000000001': 2, '000000010': 2, '000000011': 6, '000000100': 4, '000000101': 1, '000000110': 1, '000000111': 1, '000001000': 13, '000001001': 7, '000001010': 5, '000001011': 1, '000001100': 4, '000001101': 8, '000001110': 1, '000001111': 3, '000010000': 4, '000010001': 2, '000010011': 2, '000010100': 2, '000010101': 2, '000010110': 3, '000010111': 1, '000011000': 2, '000011001': 1, '000011010': 1, '000011100': 2, '000011101': 3, '000011111': 1, '000100000': 4, '000100001': 11, '000100010': 2, '000100100': 12, '000100101': 14, '000100110': 3, '000100111': 6, '000101000': 5, '000101001': 2, '000101010': 3, '000101011': 2, '000101100': 2, '000101101': 3, '000101111': 1, '000110000': 18, '000110001': 7, '000110010': 1, '000110011': 2, '000110100': 9, '000110101': 5, '000110111': 2, '000111000': 3, '000111001': 5, '000111010': 1, '000111011': 3, '000111100': 9, '000111101': 6, '000111110': 1, '000111111': 2, '001000000': 5, '001000001': 7, '001000011': 1, '001000100': 8, '001000101': 8, '001000110': 2, '001001000': 1, '001001001': 4, '001001010': 1, '001001100': 4, '001001101': 4, '001001111': 2, '001010000': 10, '001010001': 8, '001010011': 1, '001010100': 9, '001010101': 11, '001010110': 4, '001010111': 1, '001011000': 3, '001011001': 5, '001011010': 2, '001011011': 3, '001011100': 6, '001011101': 3, '001011110': 3, '001011111': 1, '001100000': 5, '001100001': 4, '001100010': 3, '001100100': 5, '001100101': 4, '001100110': 2, '001100111': 2, '001101000': 1, '001101001': 2, '001101010': 1, '001101011': 2, '001101100': 3, '001101101': 5, '001101110': 2, '001101111': 1, '001110000': 4, '001110001': 9, '001110010': 6, '001110011': 1, '001110100': 12, '001110101': 6, '001111000': 5, '001111001': 6, '001111010': 2, '001111011': 3, '001111100': 2, '001111101': 1, '001111110': 2, '001111111': 3, '010000000': 5, '010000001': 9, '010000010': 1, '010000011': 3, '010000100': 5, '010000101': 7, '010000110': 2, '010001000': 1, '010001001': 5, '010001010': 4, '010001011': 4, '010001100': 5, '010001101': 7, '010001110': 1, '010001111': 2, '010010000': 4, '010010001': 5, '010010010': 1, '010010100': 5, '010010101': 7, '010010111': 1, '010011000': 5, '010011001': 2, '010011010': 1, '010011100': 3, '010011101': 2, '010011110': 1, '010011111': 2, '010100000': 5, '010100001': 6, '010100010': 4, '010100011': 2, '010100100': 7, '010100101': 6, '010100111': 1, '010101000': 2, '010101001': 3, '010101010': 1, '010101100': 5, '010101101': 6, '010101110': 1, '010101111': 2, '010110000': 4, '010110001': 7, '010110100': 4, '010110101': 4, '010110110': 1, '010110111': 2, '010111001': 4, '010111010': 1, '010111011': 1, '010111100': 5, '010111101': 5, '010111110': 5, '011000000': 5, '011000001': 6, '011000010': 1, '011000011': 5, '011000100': 7, '011000101': 4, '011000111': 2, '011001000': 4, '011001001': 2, '011001010': 1, '011001011': 3, '011001100': 4, '011001101': 7, '011001110': 1, '011001111': 5, '011010000': 13, '011010001': 11, '011010010': 9, '011010011': 1, '011010100': 16, '011010101': 18, '011010110': 1, '011010111': 5, '011011000': 9, '011011001': 4, '011011010': 2, '011011011': 2, '011011100': 7, '011011101': 6, '011011111': 2, '011100000': 7, '011100001': 8, '011100010': 1, '011100100': 4, '011100101': 6, '011100110': 4, '011100111': 2, '011101000': 3, '011101001': 8, '011101010': 1, '011101011': 5, '011101100': 4, '011101101': 2, '011101110': 1, '011110000': 14, '011110001': 4, '011110010': 1, '011110011': 2, '011110100': 10, '011110101': 8, '011110110': 2, '011111000': 4, '011111001': 4, '011111010': 4, '011111011': 1, '011111100': 9, '011111101': 8, '011111110': 2, '011111111': 2, '100000000': 3, '100000001': 3, '100000011': 2, '100000100': 2, '100000101': 7, '100000110': 1, '100000111': 2, '100001000': 3, '100001001': 2, '100001010': 1, '100001011': 4, '100001101': 4, '100001110': 2, '100001111': 3, '100010000': 2, '100010001': 4, '100010010': 1, '100010100': 8, '100010101': 7, '100011000': 5, '100011001': 1, '100011010': 1, '100011011': 1, '100011100': 3, '100011101': 1, '100011110': 2, '100011111': 2, '100100000': 5, '100100001': 9, '100100010': 1, '100100100': 4, '100100101': 8, '100101000': 5, '100101001': 4, '100101010': 2, '100101011': 1, '100101100': 5, '100101101': 3, '100110000': 7, '100110001': 8, '100110011': 1, '100110100': 8, '100110101': 9, '100110110': 4, '100110111': 3, '100111000': 1, '100111001': 5, '100111010': 1, '100111100': 2, '100111101': 6, '100111110': 1, '100111111': 5, '101000000': 4, '101000001': 15, '101000010': 2, '101000011': 3, '101000100': 10, '101000101': 12, '101000110': 3, '101000111': 2, '101001000': 7, '101001001': 4, '101001010': 2, '101001011': 4, '101001100': 1, '101001101': 5, '101001110': 2, '101001111': 1, '101010000': 25, '101010001': 23, '101010010': 5, '101010011': 4, '101010100': 16, '101010101': 20, '101010110': 6, '101010111': 6, '101011000': 6, '101011001': 11, '101011010': 3, '101011011': 3, '101011100': 8, '101011101': 6, '101011110': 2, '101011111': 2, '101100000': 2, '101100001': 5, '101100010': 3, '101100011': 1, '101100100': 7, '101100101': 4, '101100110': 3, '101100111': 1, '101101000': 8, '101101001': 3, '101101010': 1, '101101011': 1, '101101100': 9, '101101101': 6, '101101110': 4, '101101111': 2, '101110000': 5, '101110001': 5, '101110010': 2, '101110100': 6, '101110101': 4, '101110110': 3, '101110111': 1, '101111000': 2, '101111001': 5, '101111011': 2, '101111100': 7, '101111101': 10, '101111110': 2, '101111111': 1, '110000000': 1, '110000001': 7, '110000010': 2, '110000100': 10, '110000101': 5, '110000110': 1, '110000111': 3, '110001000': 8, '110001001': 9, '110001010': 3, '110001011': 2, '110001100': 6, '110001101': 7, '110001110': 1, '110001111': 5, '110010000': 4, '110010001': 3, '110010010': 2, '110010100': 4, '110010101': 9, '110010110': 3, '110010111': 1, '110011000': 5, '110011001': 1, '110011011': 2, '110011100': 5, '110011101': 3, '110011110': 3, '110100000': 10, '110100001': 4, '110100010': 3, '110100011': 2, '110100100': 8, '110100101': 6, '110100110': 3, '110100111': 3, '110101000': 3, '110101001': 4, '110101010': 2, '110101011': 4, '110101101': 6, '110101110': 3, '110101111': 1, '110110000': 10, '110110001': 6, '110110010': 1, '110110011': 3, '110110100': 10, '110110101': 10, '110110110': 2, '110110111': 3, '110111000': 2, '110111001': 7, '110111010': 2, '110111011': 2, '110111100': 4, '110111101': 8, '110111110': 2, '111000000': 7, '111000001': 3, '111000010': 1, '111000011': 1, '111000100': 8, '111000101': 2, '111000110': 1, '111000111': 1, '111001000': 7, '111001001': 2, '111001010': 2, '111001011': 3, '111001100': 2, '111001101': 1, '111001110': 1, '111001111': 2, '111010000': 13, '111010001': 13, '111010010': 5, '111010011': 3, '111010100': 13, '111010101': 14, '111010110': 4, '111010111': 1, '111011000': 5, '111011001': 11, '111011010': 2, '111011011': 4, '111011100': 2, '111011101': 7, '111011110': 4, '111011111': 1, '111100000': 2, '111100001': 5, '111100010': 4, '111100100': 9, '111100101': 5, '111100110': 5, '111100111': 2, '111101000': 8, '111101001': 9, '111101010': 3, '111101100': 9, '111101101': 5, '111101111': 2, '111110000': 10, '111110001': 9, '111110010': 5, '111110011': 3, '111110100': 11, '111110101': 9, '111110111': 3, '111111000': 3, '111111001': 5, '111111010': 1, '111111011': 2, '111111100': 3, '111111101': 8, '111111110': 2}\n",
      "\tScore: 0.10571449047941031\n",
      "phasecode_5qubits2rounds_aspen9, status: Done\n",
      "phasecode_5qubits2rounds_ionq, status: Done\n",
      "phasecode_5qubits3rounds_guadalupe, status: Done\n",
      "phasecode_5qubits3rounds_montreal, status: Done\n"
     ]
    },
    {
     "name": "stderr",
     "output_type": "stream",
     "text": [
      "/Users/teague/opt/miniconda3/envs/superEnv/lib/python3.8/site-packages/urllib3/connectionpool.py:1013: InsecureRequestWarning: Unverified HTTPS request is being made to host '127.0.0.1'. Adding certificate verification is strongly advised. See: https://urllib3.readthedocs.io/en/1.26.x/advanced-usage.html#ssl-warnings\n",
      "  warnings.warn(\n"
     ]
    },
    {
     "name": "stdout",
     "output_type": "stream",
     "text": [
      "phasecode_5qubits3rounds_toronto, status: Done\n",
      "\tCounts: {'000000000': 3, '000000001': 2, '000000010': 2, '000000011': 1, '000000100': 5, '000000101': 4, '000000110': 3, '000000111': 5, '000001000': 4, '000001001': 2, '000001010': 5, '000001011': 8, '000001100': 1, '000001101': 3, '000001110': 6, '000001111': 3, '000010000': 5, '000010001': 4, '000010010': 2, '000010011': 1, '000010100': 2, '000010101': 5, '000010110': 2, '000010111': 2, '000011000': 1, '000011001': 5, '000011010': 6, '000011011': 5, '000011100': 3, '000011110': 7, '000011111': 3, '000100000': 1, '000100001': 2, '000100010': 5, '000100011': 1, '000100100': 4, '000100101': 1, '000100110': 1, '000100111': 3, '000101000': 7, '000101001': 2, '000101010': 6, '000101011': 2, '000101100': 4, '000101101': 3, '000101110': 5, '000101111': 3, '000110000': 5, '000110001': 10, '000110010': 2, '000110011': 8, '000110100': 7, '000110101': 2, '000110110': 3, '000110111': 6, '000111000': 5, '000111001': 3, '000111010': 9, '000111011': 3, '000111100': 4, '000111101': 5, '000111110': 2, '000111111': 2, '001000000': 3, '001000001': 1, '001000011': 1, '001000100': 1, '001000101': 1, '001000110': 1, '001001000': 9, '001001001': 4, '001001010': 4, '001001011': 2, '001001100': 4, '001001101': 4, '001001110': 1, '001001111': 1, '001010000': 6, '001010001': 6, '001010010': 13, '001010011': 4, '001010100': 2, '001010101': 2, '001010110': 4, '001010111': 5, '001011000': 5, '001011001': 6, '001011010': 4, '001011011': 3, '001011100': 11, '001011101': 6, '001011110': 5, '001011111': 6, '001100000': 2, '001100001': 2, '001100010': 7, '001100011': 1, '001100100': 5, '001100101': 7, '001100110': 1, '001100111': 3, '001101000': 4, '001101001': 4, '001101010': 1, '001101011': 3, '001101101': 4, '001101110': 2, '001101111': 4, '001110000': 3, '001110001': 6, '001110010': 6, '001110011': 6, '001110100': 3, '001110101': 2, '001110110': 3, '001110111': 2, '001111000': 4, '001111001': 5, '001111010': 8, '001111011': 5, '001111100': 7, '001111101': 1, '001111110': 6, '001111111': 3, '010000000': 5, '010000001': 3, '010000010': 7, '010000011': 6, '010000100': 4, '010000101': 4, '010000110': 3, '010000111': 1, '010001000': 7, '010001001': 3, '010001010': 1, '010001011': 8, '010001100': 4, '010001101': 3, '010001110': 4, '010001111': 5, '010010000': 3, '010010001': 5, '010010010': 6, '010010011': 9, '010010100': 4, '010010101': 2, '010010110': 4, '010010111': 5, '010011000': 2, '010011001': 4, '010011010': 4, '010011011': 7, '010011100': 1, '010011101': 5, '010011110': 3, '010011111': 3, '010100000': 6, '010100001': 6, '010100010': 8, '010100011': 7, '010100100': 11, '010100101': 4, '010100110': 1, '010100111': 3, '010101000': 8, '010101001': 3, '010101010': 7, '010101011': 2, '010101100': 5, '010101101': 4, '010101110': 2, '010101111': 1, '010110000': 5, '010110001': 3, '010110010': 6, '010110011': 9, '010110100': 3, '010110101': 4, '010110110': 5, '010110111': 5, '010111000': 6, '010111001': 4, '010111010': 8, '010111011': 1, '010111100': 3, '010111101': 4, '010111110': 5, '010111111': 6, '011000000': 1, '011000001': 3, '011000010': 5, '011000011': 4, '011000100': 3, '011000101': 3, '011000110': 3, '011000111': 1, '011001000': 5, '011001001': 3, '011001010': 5, '011001011': 7, '011001100': 5, '011001101': 10, '011001110': 3, '011001111': 3, '011010000': 5, '011010001': 3, '011010010': 11, '011010011': 6, '011010100': 5, '011010101': 2, '011010110': 6, '011010111': 3, '011011000': 7, '011011001': 6, '011011010': 3, '011011011': 7, '011011100': 8, '011011101': 8, '011011110': 2, '011011111': 1, '011100000': 4, '011100001': 6, '011100010': 6, '011100011': 6, '011100100': 6, '011100101': 2, '011100110': 5, '011100111': 3, '011101000': 4, '011101001': 8, '011101010': 8, '011101011': 4, '011101100': 3, '011101101': 3, '011101110': 4, '011101111': 2, '011110000': 4, '011110001': 2, '011110010': 6, '011110011': 10, '011110100': 1, '011110101': 3, '011110110': 5, '011110111': 3, '011111000': 2, '011111001': 4, '011111010': 7, '011111011': 5, '011111100': 3, '011111101': 5, '011111110': 6, '011111111': 3, '100000000': 6, '100000001': 7, '100000010': 3, '100000011': 7, '100000100': 10, '100000101': 8, '100000110': 2, '100000111': 5, '100001001': 3, '100001010': 13, '100001011': 8, '100001100': 1, '100001101': 2, '100001110': 4, '100001111': 8, '100010000': 1, '100010001': 3, '100010011': 4, '100010100': 4, '100010101': 1, '100010110': 3, '100010111': 1, '100011000': 4, '100011001': 3, '100011010': 8, '100011011': 3, '100011100': 3, '100011101': 3, '100011110': 3, '100011111': 4, '100100000': 1, '100100001': 3, '100100010': 4, '100100011': 6, '100100100': 3, '100100101': 3, '100100110': 2, '100100111': 5, '100101000': 6, '100101001': 6, '100101010': 8, '100101011': 5, '100101100': 6, '100101101': 4, '100101110': 2, '100101111': 5, '100110000': 2, '100110001': 4, '100110010': 10, '100110011': 6, '100110100': 4, '100110101': 1, '100110110': 5, '100110111': 6, '100111000': 7, '100111001': 7, '100111010': 7, '100111011': 2, '100111100': 8, '100111101': 4, '100111110': 4, '100111111': 4, '101000000': 4, '101000001': 3, '101000010': 3, '101000011': 2, '101000100': 1, '101000101': 3, '101000110': 1, '101000111': 4, '101001000': 5, '101001010': 1, '101001011': 3, '101001100': 2, '101001101': 2, '101001110': 3, '101001111': 1, '101010000': 5, '101010001': 4, '101010010': 3, '101010011': 2, '101010100': 3, '101010101': 1, '101010110': 3, '101010111': 2, '101011000': 1, '101011001': 4, '101011010': 2, '101011011': 1, '101011100': 2, '101011101': 4, '101011110': 3, '101011111': 3, '101100000': 4, '101100001': 5, '101100010': 3, '101100011': 3, '101100100': 3, '101100101': 2, '101100111': 2, '101101000': 4, '101101001': 2, '101101010': 6, '101101011': 4, '101101100': 4, '101101101': 6, '101101110': 3, '101101111': 2, '101110000': 2, '101110001': 1, '101110010': 6, '101110011': 6, '101110100': 3, '101110101': 2, '101110110': 3, '101110111': 2, '101111001': 2, '101111010': 2, '101111011': 5, '101111100': 4, '101111101': 2, '101111110': 3, '101111111': 2, '110000000': 6, '110000001': 3, '110000010': 3, '110000011': 1, '110000100': 6, '110000101': 7, '110000110': 4, '110000111': 2, '110001000': 3, '110001001': 6, '110001010': 7, '110001011': 5, '110001100': 1, '110001101': 1, '110001110': 5, '110001111': 4, '110010000': 5, '110010001': 2, '110010010': 7, '110010011': 1, '110010100': 5, '110010101': 1, '110010110': 3, '110011000': 5, '110011001': 2, '110011010': 7, '110011011': 5, '110011100': 3, '110011101': 1, '110011110': 4, '110011111': 1, '110100000': 3, '110100001': 5, '110100010': 4, '110100011': 3, '110100100': 4, '110100101': 3, '110100110': 2, '110100111': 3, '110101000': 3, '110101001': 7, '110101010': 3, '110101011': 4, '110101100': 6, '110101101': 3, '110101110': 3, '110110000': 4, '110110001': 1, '110110010': 6, '110110011': 3, '110110100': 2, '110110101': 3, '110110110': 3, '110110111': 3, '110111000': 4, '110111001': 4, '110111010': 3, '110111011': 3, '110111100': 6, '110111101': 3, '110111110': 3, '110111111': 2, '111000000': 2, '111000001': 7, '111000010': 3, '111000011': 3, '111000100': 3, '111000101': 2, '111000110': 2, '111001000': 2, '111001001': 4, '111001010': 8, '111001011': 3, '111001100': 2, '111001101': 2, '111001110': 2, '111001111': 2, '111010000': 4, '111010001': 3, '111010010': 9, '111010011': 10, '111010100': 1, '111010101': 2, '111010110': 4, '111010111': 3, '111011000': 4, '111011001': 9, '111011010': 2, '111011011': 5, '111011100': 5, '111011101': 3, '111011110': 5, '111011111': 3, '111100000': 3, '111100001': 2, '111100010': 4, '111100011': 4, '111100100': 4, '111100110': 5, '111100111': 2, '111101000': 6, '111101001': 4, '111101010': 6, '111101011': 9, '111101100': 3, '111101101': 7, '111101110': 3, '111101111': 4, '111110000': 7, '111110001': 4, '111110010': 5, '111110011': 4, '111110100': 4, '111110101': 2, '111110110': 6, '111110111': 3, '111111000': 5, '111111001': 6, '111111010': 6, '111111011': 3, '111111100': 3, '111111101': 4, '111111110': 2, '111111111': 1}\n",
      "\tScore: 0.05277712519724972\n",
      "phasecode_5qubits3rounds_aspen9, status: Done\n",
      "phasecode_5qubits3rounds_ionq, status: Done\n",
      "phasecode_3qubits2rounds_casablanca, status: Done\n",
      "phasecode_3qubits2rounds_guadalupe, status: Done\n",
      "phasecode_3qubits2rounds_montreal, status: Done\n"
     ]
    },
    {
     "name": "stderr",
     "output_type": "stream",
     "text": [
      "/Users/teague/opt/miniconda3/envs/superEnv/lib/python3.8/site-packages/urllib3/connectionpool.py:1013: InsecureRequestWarning: Unverified HTTPS request is being made to host '127.0.0.1'. Adding certificate verification is strongly advised. See: https://urllib3.readthedocs.io/en/1.26.x/advanced-usage.html#ssl-warnings\n",
      "  warnings.warn(\n"
     ]
    },
    {
     "name": "stdout",
     "output_type": "stream",
     "text": [
      "phasecode_3qubits2rounds_toronto, status: Queued\n",
      "phasecode_3qubits2rounds_lagos, status: Done\n",
      "phasecode_3qubits2rounds_santiago, status: Done\n",
      "phasecode_3qubits2rounds_aspen9, status: Done\n",
      "phasecode_3qubits2rounds_ionq, status: Done\n",
      "phasecode_3qubits3rounds_casablanca, status: Done\n",
      "phasecode_3qubits3rounds_guadalupe, status: Done\n",
      "phasecode_3qubits3rounds_montreal, status: Done\n"
     ]
    },
    {
     "name": "stderr",
     "output_type": "stream",
     "text": [
      "/Users/teague/opt/miniconda3/envs/superEnv/lib/python3.8/site-packages/urllib3/connectionpool.py:1013: InsecureRequestWarning: Unverified HTTPS request is being made to host '127.0.0.1'. Adding certificate verification is strongly advised. See: https://urllib3.readthedocs.io/en/1.26.x/advanced-usage.html#ssl-warnings\n",
      "  warnings.warn(\n"
     ]
    },
    {
     "name": "stdout",
     "output_type": "stream",
     "text": [
      "phasecode_3qubits3rounds_toronto, status: Queued\n",
      "phasecode_3qubits3rounds_lagos, status: Done\n",
      "phasecode_3qubits3rounds_santiago, status: Done\n",
      "phasecode_3qubits3rounds_aspen9, status: Done\n",
      "phasecode_3qubits3rounds_ionq, status: Done\n",
      "phasecode_5qubits2rounds_guadalupe, status: Done\n",
      "phasecode_5qubits2rounds_montreal, status: Done\n"
     ]
    },
    {
     "name": "stderr",
     "output_type": "stream",
     "text": [
      "/Users/teague/opt/miniconda3/envs/superEnv/lib/python3.8/site-packages/urllib3/connectionpool.py:1013: InsecureRequestWarning: Unverified HTTPS request is being made to host '127.0.0.1'. Adding certificate verification is strongly advised. See: https://urllib3.readthedocs.io/en/1.26.x/advanced-usage.html#ssl-warnings\n",
      "  warnings.warn(\n"
     ]
    },
    {
     "name": "stdout",
     "output_type": "stream",
     "text": [
      "phasecode_5qubits2rounds_toronto, status: Queued\n",
      "phasecode_5qubits2rounds_aspen9, status: Done\n",
      "phasecode_5qubits2rounds_ionq, status: Done\n",
      "phasecode_5qubits3rounds_guadalupe, status: Done\n",
      "phasecode_5qubits3rounds_montreal, status: Done\n"
     ]
    },
    {
     "name": "stderr",
     "output_type": "stream",
     "text": [
      "/Users/teague/opt/miniconda3/envs/superEnv/lib/python3.8/site-packages/urllib3/connectionpool.py:1013: InsecureRequestWarning: Unverified HTTPS request is being made to host '127.0.0.1'. Adding certificate verification is strongly advised. See: https://urllib3.readthedocs.io/en/1.26.x/advanced-usage.html#ssl-warnings\n",
      "  warnings.warn(\n"
     ]
    },
    {
     "name": "stdout",
     "output_type": "stream",
     "text": [
      "phasecode_5qubits3rounds_toronto, status: Queued\n",
      "phasecode_5qubits3rounds_aspen9, status: Done\n",
      "phasecode_5qubits3rounds_ionq, status: Done\n",
      "phasecode_3qubits2rounds_casablanca, status: Done\n",
      "phasecode_3qubits2rounds_guadalupe, status: Done\n",
      "phasecode_3qubits2rounds_montreal, status: Done\n",
      "phasecode_3qubits2rounds_lagos, status: Done\n",
      "phasecode_3qubits2rounds_santiago, status: Done\n",
      "phasecode_3qubits2rounds_aspen9, status: Done\n",
      "phasecode_3qubits2rounds_ionq, status: Done\n",
      "phasecode_3qubits3rounds_casablanca, status: Done\n",
      "phasecode_3qubits3rounds_guadalupe, status: Done\n",
      "phasecode_3qubits3rounds_montreal, status: Done\n",
      "phasecode_3qubits3rounds_lagos, status: Done\n",
      "phasecode_3qubits3rounds_santiago, status: Done\n",
      "phasecode_3qubits3rounds_aspen9, status: Done\n",
      "phasecode_3qubits3rounds_ionq, status: Done\n",
      "phasecode_5qubits2rounds_guadalupe, status: Done\n",
      "phasecode_5qubits2rounds_montreal, status: Done\n",
      "phasecode_5qubits2rounds_aspen9, status: Done\n",
      "phasecode_5qubits2rounds_ionq, status: Done\n",
      "phasecode_5qubits3rounds_guadalupe, status: Done\n",
      "phasecode_5qubits3rounds_montreal, status: Done\n",
      "phasecode_5qubits3rounds_aspen9, status: Done\n",
      "phasecode_5qubits3rounds_ionq, status: Done\n",
      "phasecode_3qubits2rounds_casablanca, status: Done\n",
      "phasecode_3qubits2rounds_guadalupe, status: Done\n",
      "phasecode_3qubits2rounds_montreal, status: Done\n",
      "phasecode_3qubits2rounds_lagos, status: Done\n",
      "phasecode_3qubits2rounds_santiago, status: Done\n",
      "phasecode_3qubits2rounds_aspen9, status: Done\n",
      "phasecode_3qubits2rounds_ionq, status: Done\n",
      "phasecode_3qubits3rounds_casablanca, status: Done\n",
      "phasecode_3qubits3rounds_guadalupe, status: Done\n",
      "phasecode_3qubits3rounds_montreal, status: Done\n",
      "phasecode_3qubits3rounds_lagos, status: Done\n",
      "phasecode_3qubits3rounds_santiago, status: Done\n",
      "phasecode_3qubits3rounds_aspen9, status: Done\n",
      "phasecode_3qubits3rounds_ionq, status: Done\n",
      "phasecode_5qubits2rounds_guadalupe, status: Done\n",
      "phasecode_5qubits2rounds_montreal, status: Done\n",
      "phasecode_5qubits2rounds_aspen9, status: Done\n",
      "phasecode_5qubits2rounds_ionq, status: Done\n",
      "phasecode_5qubits3rounds_guadalupe, status: Done\n",
      "phasecode_5qubits3rounds_montreal, status: Done\n",
      "phasecode_5qubits3rounds_aspen9, status: Done\n",
      "phasecode_5qubits3rounds_ionq, status: Done\n",
      "phasecode_3qubits2rounds_casablanca, status: Done\n",
      "phasecode_3qubits2rounds_guadalupe, status: Done\n",
      "phasecode_3qubits2rounds_montreal, status: Done\n"
     ]
    },
    {
     "name": "stderr",
     "output_type": "stream",
     "text": [
      "/Users/teague/opt/miniconda3/envs/superEnv/lib/python3.8/site-packages/urllib3/connectionpool.py:1013: InsecureRequestWarning: Unverified HTTPS request is being made to host '127.0.0.1'. Adding certificate verification is strongly advised. See: https://urllib3.readthedocs.io/en/1.26.x/advanced-usage.html#ssl-warnings\n",
      "  warnings.warn(\n"
     ]
    },
    {
     "name": "stdout",
     "output_type": "stream",
     "text": [
      "phasecode_3qubits2rounds_mumbai, status: Queued\n",
      "phasecode_3qubits2rounds_lagos, status: Done\n",
      "phasecode_3qubits2rounds_santiago, status: Done\n",
      "phasecode_3qubits2rounds_aspen9, status: Done\n"
     ]
    },
    {
     "name": "stderr",
     "output_type": "stream",
     "text": [
      "/Users/teague/opt/miniconda3/envs/superEnv/lib/python3.8/site-packages/urllib3/connectionpool.py:1013: InsecureRequestWarning: Unverified HTTPS request is being made to host '127.0.0.1'. Adding certificate verification is strongly advised. See: https://urllib3.readthedocs.io/en/1.26.x/advanced-usage.html#ssl-warnings\n",
      "  warnings.warn(\n"
     ]
    },
    {
     "name": "stdout",
     "output_type": "stream",
     "text": [
      "phasecode_3qubits2rounds_ionq, status: Done\n",
      "\tCounts: {'00000': 3, '00001': 1, '00100': 5, '00101': 4, '10000': 7, '10001': 5, '10100': 2, '10101': 8}\n",
      "\tScore: 0.9226034368831796\n",
      "phasecode_3qubits3rounds_casablanca, status: Done\n",
      "phasecode_3qubits3rounds_guadalupe, status: Done\n",
      "phasecode_3qubits3rounds_montreal, status: Done\n"
     ]
    },
    {
     "name": "stderr",
     "output_type": "stream",
     "text": [
      "/Users/teague/opt/miniconda3/envs/superEnv/lib/python3.8/site-packages/urllib3/connectionpool.py:1013: InsecureRequestWarning: Unverified HTTPS request is being made to host '127.0.0.1'. Adding certificate verification is strongly advised. See: https://urllib3.readthedocs.io/en/1.26.x/advanced-usage.html#ssl-warnings\n",
      "  warnings.warn(\n"
     ]
    },
    {
     "name": "stdout",
     "output_type": "stream",
     "text": [
      "phasecode_3qubits3rounds_mumbai, status: Queued\n",
      "phasecode_3qubits3rounds_lagos, status: Done\n",
      "phasecode_3qubits3rounds_santiago, status: Done\n",
      "phasecode_3qubits3rounds_aspen9, status: Done\n"
     ]
    },
    {
     "name": "stderr",
     "output_type": "stream",
     "text": [
      "/Users/teague/opt/miniconda3/envs/superEnv/lib/python3.8/site-packages/urllib3/connectionpool.py:1013: InsecureRequestWarning: Unverified HTTPS request is being made to host '127.0.0.1'. Adding certificate verification is strongly advised. See: https://urllib3.readthedocs.io/en/1.26.x/advanced-usage.html#ssl-warnings\n",
      "  warnings.warn(\n"
     ]
    },
    {
     "name": "stdout",
     "output_type": "stream",
     "text": [
      "phasecode_3qubits3rounds_ionq, status: Done\n",
      "\tCounts: {'00000': 4, '00001': 6, '00100': 3, '00101': 1, '00110': 1, '00111': 1, '10000': 8, '10001': 6, '10100': 1, '10101': 1, '10110': 1, '11100': 1, '11110': 1}\n",
      "\tScore: 0.7462143868230997\n",
      "phasecode_5qubits2rounds_guadalupe, status: Done\n",
      "phasecode_5qubits2rounds_montreal, status: Done\n"
     ]
    },
    {
     "name": "stderr",
     "output_type": "stream",
     "text": [
      "/Users/teague/opt/miniconda3/envs/superEnv/lib/python3.8/site-packages/urllib3/connectionpool.py:1013: InsecureRequestWarning: Unverified HTTPS request is being made to host '127.0.0.1'. Adding certificate verification is strongly advised. See: https://urllib3.readthedocs.io/en/1.26.x/advanced-usage.html#ssl-warnings\n",
      "  warnings.warn(\n"
     ]
    },
    {
     "name": "stdout",
     "output_type": "stream",
     "text": [
      "phasecode_5qubits2rounds_mumbai, status: Queued\n",
      "phasecode_5qubits2rounds_aspen9, status: Done\n"
     ]
    },
    {
     "name": "stderr",
     "output_type": "stream",
     "text": [
      "/Users/teague/opt/miniconda3/envs/superEnv/lib/python3.8/site-packages/urllib3/connectionpool.py:1013: InsecureRequestWarning: Unverified HTTPS request is being made to host '127.0.0.1'. Adding certificate verification is strongly advised. See: https://urllib3.readthedocs.io/en/1.26.x/advanced-usage.html#ssl-warnings\n",
      "  warnings.warn(\n"
     ]
    },
    {
     "name": "stdout",
     "output_type": "stream",
     "text": [
      "phasecode_5qubits2rounds_ionq, status: Done\n",
      "\tCounts: {'000000000': 3, '000010100': 1, '000010101': 1, '001000000': 1, '001000001': 1, '001000101': 1, '001010000': 2, '001010001': 1, '001010100': 3, '100000000': 2, '100000100': 1, '100010000': 2, '100010001': 1, '100010101': 3, '101000001': 1, '101000100': 1, '101000101': 1, '101010000': 4, '101010001': 1, '101010100': 2, '101010101': 2}\n",
      "\tScore: 0.6134917805953511\n",
      "phasecode_5qubits3rounds_guadalupe, status: Done\n",
      "phasecode_5qubits3rounds_montreal, status: Done\n"
     ]
    },
    {
     "name": "stderr",
     "output_type": "stream",
     "text": [
      "/Users/teague/opt/miniconda3/envs/superEnv/lib/python3.8/site-packages/urllib3/connectionpool.py:1013: InsecureRequestWarning: Unverified HTTPS request is being made to host '127.0.0.1'. Adding certificate verification is strongly advised. See: https://urllib3.readthedocs.io/en/1.26.x/advanced-usage.html#ssl-warnings\n",
      "  warnings.warn(\n"
     ]
    },
    {
     "name": "stdout",
     "output_type": "stream",
     "text": [
      "phasecode_5qubits3rounds_mumbai, status: Queued\n",
      "phasecode_5qubits3rounds_aspen9, status: Done\n"
     ]
    },
    {
     "name": "stderr",
     "output_type": "stream",
     "text": [
      "/Users/teague/opt/miniconda3/envs/superEnv/lib/python3.8/site-packages/urllib3/connectionpool.py:1013: InsecureRequestWarning: Unverified HTTPS request is being made to host '127.0.0.1'. Adding certificate verification is strongly advised. See: https://urllib3.readthedocs.io/en/1.26.x/advanced-usage.html#ssl-warnings\n",
      "  warnings.warn(\n"
     ]
    },
    {
     "name": "stdout",
     "output_type": "stream",
     "text": [
      "phasecode_5qubits3rounds_ionq, status: Done\n",
      "\tCounts: {'000000000': 2, '000000001': 1, '000000100': 2, '000010000': 1, '000010001': 1, '001000000': 1, '001000001': 2, '001000101': 1, '001010001': 1, '001100000': 1, '100000000': 2, '100000001': 2, '100000101': 1, '100010000': 3, '100010001': 3, '100010101': 1, '101000001': 1, '101000101': 2, '101010000': 2, '101010001': 1, '101010100': 1, '110010001': 1, '111000001': 1, '111010100': 1}\n",
      "\tScore: 0.5258942903843589\n"
     ]
    }
   ],
   "source": [
    "job_sum = sum([experiment[3] for experiment in phasecode_jobs])\n",
    "if job_sum < len(phasecode_jobs):\n",
    "    print(f'Completed {job_sum}/{len(phasecode_jobs)} jobs')\n",
    "    for experiment in phasecode_jobs:\n",
    "        name, benchmark, job, checked = experiment\n",
    "        status = job.status()\n",
    "        print(f'{name}, status: {status}')\n",
    "        if status == 'Done' and checked == 0:\n",
    "            try:\n",
    "                counts = job.counts()\n",
    "            except:\n",
    "                continue\n",
    "            score = benchmark.score(counts)\n",
    "            print('\\tCounts:', counts)\n",
    "            print('\\tScore:', score)\n",
    "            date = time.ctime().replace(' ', '-').replace(':', '-')\n",
    "            with open(f'benchmark_results/{name}_{date}.pickle', 'wb') as pklfile:\n",
    "                pickle.dump(\n",
    "                        {'name':name,\n",
    "                         'benchmark':benchmark,\n",
    "                         'job':job,\n",
    "                         'counts':counts,\n",
    "                         'score':score},\n",
    "                        pklfile)\n",
    "            experiment[3] = 1\n",
    "        elif status == 'Failed' and checked == 0:\n",
    "            experiment[3] = 1\n",
    "else:\n",
    "    print('All jobs completed')"
   ]
  },
  {
   "cell_type": "code",
   "execution_count": null,
   "id": "9d99f363-83c2-43bc-b10e-3e0e16acd6bb",
   "metadata": {},
   "outputs": [],
   "source": []
  }
 ],
 "metadata": {
  "kernelspec": {
   "display_name": "Python 3 (ipykernel)",
   "language": "python",
   "name": "python3"
  },
  "language_info": {
   "codemirror_mode": {
    "name": "ipython",
    "version": 3
   },
   "file_extension": ".py",
   "mimetype": "text/x-python",
   "name": "python",
   "nbconvert_exporter": "python",
   "pygments_lexer": "ipython3",
   "version": "3.8.10"
  }
 },
 "nbformat": 4,
 "nbformat_minor": 5
}
